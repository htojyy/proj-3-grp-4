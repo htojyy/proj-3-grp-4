{
 "cells": [
  {
   "cell_type": "markdown",
   "id": "1d94735c-8be1-4e42-8e11-e47241ea64c1",
   "metadata": {
    "tags": []
   },
   "source": [
    "### Run the following lines in terminal to create MongoDB database and collections\n",
    "```\n",
    "mongoimport --db='influencers' --collection='instagram' --file=instagram_data_all-countries.csv  --drop --type=csv --headerline  \n",
    "mongoimport --db='influencers' --collection='threads' --file=threads_data_all-countries.csv  --drop --type=csv --headerline  \n",
    "mongoimport --db='influencers' --collection='tiktok' --file=tiktok_data_all-countries.csv  --drop --type=csv --headerline  \n",
    "mongoimport --db='influencers' --collection='youtube' --file=youtube_data_all-countries.csv  --drop --type=csv --headerline\n",
    "```"
   ]
  },
  {
   "cell_type": "code",
   "execution_count": 3,
   "id": "99f4dabb",
   "metadata": {},
   "outputs": [],
   "source": [
    "# Dependencies\n",
    "import matplotlib.pyplot as plt\n",
    "import pandas as pd\n",
    "from pathlib import Path\n",
    "import numpy as np\n",
    "import seaborn as sns\n",
    "import plotly.express as px\n",
    "from pymongo import MongoClient\n",
    "import matplotlib.pyplot as plt\n",
    "import matplotlib.ticker as ticker"
   ]
  },
  {
   "cell_type": "code",
   "execution_count": 4,
   "id": "f1176cb6-8368-4be5-a86c-c14f5e774125",
   "metadata": {
    "tags": []
   },
   "outputs": [
    {
     "data": {
      "text/html": [
       "<div>\n",
       "<style scoped>\n",
       "    .dataframe tbody tr th:only-of-type {\n",
       "        vertical-align: middle;\n",
       "    }\n",
       "\n",
       "    .dataframe tbody tr th {\n",
       "        vertical-align: top;\n",
       "    }\n",
       "\n",
       "    .dataframe thead th {\n",
       "        text-align: right;\n",
       "    }\n",
       "</style>\n",
       "<table border=\"1\" class=\"dataframe\">\n",
       "  <thead>\n",
       "    <tr style=\"text-align: right;\">\n",
       "      <th></th>\n",
       "      <th>#</th>\n",
       "      <th>NAME</th>\n",
       "      <th>FOLLOWERS</th>\n",
       "      <th>ER</th>\n",
       "      <th>COUNTRY</th>\n",
       "      <th>TOPIC OF INFLUENCE</th>\n",
       "      <th>POTENTIAL REACH</th>\n",
       "    </tr>\n",
       "  </thead>\n",
       "  <tbody>\n",
       "    <tr>\n",
       "      <th>0</th>\n",
       "      <td>1</td>\n",
       "      <td>Cristiano Ronaldo @cristiano</td>\n",
       "      <td>625.1M</td>\n",
       "      <td>0.01%</td>\n",
       "      <td>Portugal</td>\n",
       "      <td>Finance Soccer</td>\n",
       "      <td>187.5M</td>\n",
       "    </tr>\n",
       "    <tr>\n",
       "      <th>1</th>\n",
       "      <td>2</td>\n",
       "      <td>Leo Messi @leomessi</td>\n",
       "      <td>501.1M</td>\n",
       "      <td>0.01%</td>\n",
       "      <td>Argentina</td>\n",
       "      <td>Sports Soccer Activity General General Interest</td>\n",
       "      <td>150.3M</td>\n",
       "    </tr>\n",
       "    <tr>\n",
       "      <th>2</th>\n",
       "      <td>3</td>\n",
       "      <td>Selena Gomez @selenagomez</td>\n",
       "      <td>429.7M</td>\n",
       "      <td>1.09%</td>\n",
       "      <td>United States</td>\n",
       "      <td>Beauty and Self Care Entertainment and Music M...</td>\n",
       "      <td>128.9M</td>\n",
       "    </tr>\n",
       "    <tr>\n",
       "      <th>3</th>\n",
       "      <td>4</td>\n",
       "      <td>Kylie @kyliejenner</td>\n",
       "      <td>400.5M</td>\n",
       "      <td>-</td>\n",
       "      <td>United States</td>\n",
       "      <td>Beauty and Self Care Product Showcase Modeling...</td>\n",
       "      <td>120.1M</td>\n",
       "    </tr>\n",
       "    <tr>\n",
       "      <th>4</th>\n",
       "      <td>5</td>\n",
       "      <td>Dwayne Johnson @therock</td>\n",
       "      <td>397.8M</td>\n",
       "      <td>0.13%</td>\n",
       "      <td>United States</td>\n",
       "      <td>Entertainment and Music Actors Public Figure</td>\n",
       "      <td>119.3M</td>\n",
       "    </tr>\n",
       "    <tr>\n",
       "      <th>...</th>\n",
       "      <td>...</td>\n",
       "      <td>...</td>\n",
       "      <td>...</td>\n",
       "      <td>...</td>\n",
       "      <td>...</td>\n",
       "      <td>...</td>\n",
       "      <td>...</td>\n",
       "    </tr>\n",
       "    <tr>\n",
       "      <th>95</th>\n",
       "      <td>96</td>\n",
       "      <td>Sunny Leone @sunnyleone</td>\n",
       "      <td>55.3M</td>\n",
       "      <td>0.27%</td>\n",
       "      <td>India</td>\n",
       "      <td>Beauty and Self Care Modeling Actors Actor</td>\n",
       "      <td>16.6M</td>\n",
       "    </tr>\n",
       "    <tr>\n",
       "      <th>96</th>\n",
       "      <td>97</td>\n",
       "      <td>Burak Özdemir @cznburak</td>\n",
       "      <td>54.6M</td>\n",
       "      <td>0.03%</td>\n",
       "      <td>Turkey</td>\n",
       "      <td>Food Music Chef</td>\n",
       "      <td>16.4M</td>\n",
       "    </tr>\n",
       "    <tr>\n",
       "      <th>97</th>\n",
       "      <td>98</td>\n",
       "      <td>Larissa Manoela @larissamanoela</td>\n",
       "      <td>54.3M</td>\n",
       "      <td>0.21%</td>\n",
       "      <td>Brazil</td>\n",
       "      <td>Art Acting and Drama Fashion and Accessories E...</td>\n",
       "      <td>16.3M</td>\n",
       "    </tr>\n",
       "    <tr>\n",
       "      <th>98</th>\n",
       "      <td>99</td>\n",
       "      <td>HUDA BEAUTY @hudabeauty</td>\n",
       "      <td>54.1M</td>\n",
       "      <td>0.05%</td>\n",
       "      <td>United Arab Emirates</td>\n",
       "      <td>Beauty and Self Care Blogger Creators &amp; Celebr...</td>\n",
       "      <td>16.2M</td>\n",
       "    </tr>\n",
       "    <tr>\n",
       "      <th>99</th>\n",
       "      <td>100</td>\n",
       "      <td>Nusr_et#Saltbae @nusr_et</td>\n",
       "      <td>54M</td>\n",
       "      <td>0.16%</td>\n",
       "      <td>United States</td>\n",
       "      <td>Food Business and Finance Chef</td>\n",
       "      <td>16.2M</td>\n",
       "    </tr>\n",
       "  </tbody>\n",
       "</table>\n",
       "<p>100 rows × 7 columns</p>\n",
       "</div>"
      ],
      "text/plain": [
       "      #                             NAME FOLLOWERS     ER  \\\n",
       "0     1     Cristiano Ronaldo @cristiano    625.1M  0.01%   \n",
       "1     2              Leo Messi @leomessi    501.1M  0.01%   \n",
       "2     3        Selena Gomez @selenagomez    429.7M  1.09%   \n",
       "3     4               Kylie @kyliejenner    400.5M      -   \n",
       "4     5          Dwayne Johnson @therock    397.8M  0.13%   \n",
       "..  ...                              ...       ...    ...   \n",
       "95   96          Sunny Leone @sunnyleone     55.3M  0.27%   \n",
       "96   97         Burak Özdemir @cznburak     54.6M  0.03%   \n",
       "97   98  Larissa Manoela @larissamanoela     54.3M  0.21%   \n",
       "98   99          HUDA BEAUTY @hudabeauty     54.1M  0.05%   \n",
       "99  100         Nusr_et#Saltbae @nusr_et       54M  0.16%   \n",
       "\n",
       "                 COUNTRY                                 TOPIC OF INFLUENCE  \\\n",
       "0               Portugal                                     Finance Soccer   \n",
       "1              Argentina    Sports Soccer Activity General General Interest   \n",
       "2          United States  Beauty and Self Care Entertainment and Music M...   \n",
       "3          United States  Beauty and Self Care Product Showcase Modeling...   \n",
       "4          United States       Entertainment and Music Actors Public Figure   \n",
       "..                   ...                                                ...   \n",
       "95                 India         Beauty and Self Care Modeling Actors Actor   \n",
       "96                Turkey                                    Food Music Chef   \n",
       "97                Brazil  Art Acting and Drama Fashion and Accessories E...   \n",
       "98  United Arab Emirates  Beauty and Self Care Blogger Creators & Celebr...   \n",
       "99         United States                     Food Business and Finance Chef   \n",
       "\n",
       "   POTENTIAL REACH  \n",
       "0           187.5M  \n",
       "1           150.3M  \n",
       "2           128.9M  \n",
       "3           120.1M  \n",
       "4           119.3M  \n",
       "..             ...  \n",
       "95           16.6M  \n",
       "96           16.4M  \n",
       "97           16.3M  \n",
       "98           16.2M  \n",
       "99           16.2M  \n",
       "\n",
       "[100 rows x 7 columns]"
      ]
     },
     "execution_count": 4,
     "metadata": {},
     "output_type": "execute_result"
    }
   ],
   "source": [
    "#Instgram data for top 100 influvencers\n",
    "IG_all_countries = Path(\"Data/instagram_data_all-countries.csv\")\n",
    "IG_all_countries = pd.read_csv(IG_all_countries)\n",
    "pd.set_option('display.max_columns', None)\n",
    "IG_all_countries"
   ]
  },
  {
   "cell_type": "code",
   "execution_count": 5,
   "id": "bd16f86a-7506-4607-b71c-f001420cb19d",
   "metadata": {
    "tags": []
   },
   "outputs": [
    {
     "data": {
      "text/html": [
       "<div>\n",
       "<style scoped>\n",
       "    .dataframe tbody tr th:only-of-type {\n",
       "        vertical-align: middle;\n",
       "    }\n",
       "\n",
       "    .dataframe tbody tr th {\n",
       "        vertical-align: top;\n",
       "    }\n",
       "\n",
       "    .dataframe thead th {\n",
       "        text-align: right;\n",
       "    }\n",
       "</style>\n",
       "<table border=\"1\" class=\"dataframe\">\n",
       "  <thead>\n",
       "    <tr style=\"text-align: right;\">\n",
       "      <th></th>\n",
       "      <th>#</th>\n",
       "      <th>NAME</th>\n",
       "      <th>FOLLOWERS</th>\n",
       "      <th>ER</th>\n",
       "      <th>COUNTRY</th>\n",
       "      <th>TOPIC OF INFLUENCE</th>\n",
       "      <th>POTENTIAL REACH</th>\n",
       "    </tr>\n",
       "  </thead>\n",
       "  <tbody>\n",
       "    <tr>\n",
       "      <th>0</th>\n",
       "      <td>1</td>\n",
       "      <td>National Geographic @natgeo</td>\n",
       "      <td>4.9M</td>\n",
       "      <td>0.37%</td>\n",
       "      <td>NaN</td>\n",
       "      <td>Nature</td>\n",
       "      <td>1.5M</td>\n",
       "    </tr>\n",
       "    <tr>\n",
       "      <th>1</th>\n",
       "      <td>2</td>\n",
       "      <td>Jennifer Lopez @jlo</td>\n",
       "      <td>3.9M</td>\n",
       "      <td>0.33%</td>\n",
       "      <td>NaN</td>\n",
       "      <td>Entertainment &amp; Music</td>\n",
       "      <td>1.2M</td>\n",
       "    </tr>\n",
       "    <tr>\n",
       "      <th>2</th>\n",
       "      <td>3</td>\n",
       "      <td>433 @433</td>\n",
       "      <td>3.8M</td>\n",
       "      <td>0.3%</td>\n",
       "      <td>NaN</td>\n",
       "      <td>Sports</td>\n",
       "      <td>1.1M</td>\n",
       "    </tr>\n",
       "    <tr>\n",
       "      <th>3</th>\n",
       "      <td>4</td>\n",
       "      <td>Ronaldo de Assis Moreira @ronaldinho</td>\n",
       "      <td>3M</td>\n",
       "      <td>0.6%</td>\n",
       "      <td>Brazil</td>\n",
       "      <td>Sports</td>\n",
       "      <td>898.1K</td>\n",
       "    </tr>\n",
       "    <tr>\n",
       "      <th>4</th>\n",
       "      <td>5</td>\n",
       "      <td>Pubity @pubity</td>\n",
       "      <td>2.8M</td>\n",
       "      <td>0.24%</td>\n",
       "      <td>NaN</td>\n",
       "      <td>Entertainment &amp; Music</td>\n",
       "      <td>830.9K</td>\n",
       "    </tr>\n",
       "    <tr>\n",
       "      <th>...</th>\n",
       "      <td>...</td>\n",
       "      <td>...</td>\n",
       "      <td>...</td>\n",
       "      <td>...</td>\n",
       "      <td>...</td>\n",
       "      <td>...</td>\n",
       "      <td>...</td>\n",
       "    </tr>\n",
       "    <tr>\n",
       "      <th>95</th>\n",
       "      <td>96</td>\n",
       "      <td>Eliana Michaelichen @eliana</td>\n",
       "      <td>882.6K</td>\n",
       "      <td>0.36%</td>\n",
       "      <td>Brazil</td>\n",
       "      <td>Entertainment &amp; Music</td>\n",
       "      <td>264.8K</td>\n",
       "    </tr>\n",
       "    <tr>\n",
       "      <th>96</th>\n",
       "      <td>97</td>\n",
       "      <td>Resiliência Humana @resiliencia_humana</td>\n",
       "      <td>871.9K</td>\n",
       "      <td>0.14%</td>\n",
       "      <td>NaN</td>\n",
       "      <td>Life &amp; Society</td>\n",
       "      <td>261.6K</td>\n",
       "    </tr>\n",
       "    <tr>\n",
       "      <th>97</th>\n",
       "      <td>98</td>\n",
       "      <td>Juliana Paes @julianapaes</td>\n",
       "      <td>870.8K</td>\n",
       "      <td>0.09%</td>\n",
       "      <td>NaN</td>\n",
       "      <td>Education Romance &amp; Wedding Entertainment &amp; Music</td>\n",
       "      <td>261.2K</td>\n",
       "    </tr>\n",
       "    <tr>\n",
       "      <th>98</th>\n",
       "      <td>99</td>\n",
       "      <td>NATTI NATASHA @nattinatasha</td>\n",
       "      <td>867.4K</td>\n",
       "      <td>0.37%</td>\n",
       "      <td>NaN</td>\n",
       "      <td>Music</td>\n",
       "      <td>260.2K</td>\n",
       "    </tr>\n",
       "    <tr>\n",
       "      <th>99</th>\n",
       "      <td>100</td>\n",
       "      <td>Leo Dias @leodias</td>\n",
       "      <td>866.3K</td>\n",
       "      <td>0.14%</td>\n",
       "      <td>NaN</td>\n",
       "      <td>Entertainment &amp; Music Journalism</td>\n",
       "      <td>259.9K</td>\n",
       "    </tr>\n",
       "  </tbody>\n",
       "</table>\n",
       "<p>100 rows × 7 columns</p>\n",
       "</div>"
      ],
      "text/plain": [
       "      #                                     NAME FOLLOWERS     ER COUNTRY  \\\n",
       "0     1              National Geographic @natgeo      4.9M  0.37%     NaN   \n",
       "1     2                      Jennifer Lopez @jlo      3.9M  0.33%     NaN   \n",
       "2     3                                 433 @433      3.8M   0.3%     NaN   \n",
       "3     4     Ronaldo de Assis Moreira @ronaldinho        3M   0.6%  Brazil   \n",
       "4     5                           Pubity @pubity      2.8M  0.24%     NaN   \n",
       "..  ...                                      ...       ...    ...     ...   \n",
       "95   96              Eliana Michaelichen @eliana    882.6K  0.36%  Brazil   \n",
       "96   97  Resiliência Humana @resiliencia_humana    871.9K  0.14%     NaN   \n",
       "97   98                Juliana Paes @julianapaes    870.8K  0.09%     NaN   \n",
       "98   99              NATTI NATASHA @nattinatasha    867.4K  0.37%     NaN   \n",
       "99  100                        Leo Dias @leodias    866.3K  0.14%     NaN   \n",
       "\n",
       "                                   TOPIC OF INFLUENCE POTENTIAL REACH  \n",
       "0                                              Nature            1.5M  \n",
       "1                               Entertainment & Music            1.2M  \n",
       "2                                              Sports            1.1M  \n",
       "3                                              Sports          898.1K  \n",
       "4                               Entertainment & Music          830.9K  \n",
       "..                                                ...             ...  \n",
       "95                              Entertainment & Music          264.8K  \n",
       "96                                     Life & Society          261.6K  \n",
       "97  Education Romance & Wedding Entertainment & Music          261.2K  \n",
       "98                                              Music          260.2K  \n",
       "99                   Entertainment & Music Journalism          259.9K  \n",
       "\n",
       "[100 rows x 7 columns]"
      ]
     },
     "execution_count": 5,
     "metadata": {},
     "output_type": "execute_result"
    }
   ],
   "source": [
    "# Threads data for top 100 influvencers\n",
    "threads_all_countries = Path(\"Data/threads_data_all-countries.csv\")\n",
    "threads_all_countries = pd.read_csv(threads_all_countries)\n",
    "pd.set_option('display.max_columns', None)\n",
    "threads_all_countries"
   ]
  },
  {
   "cell_type": "code",
   "execution_count": 6,
   "id": "0d09ead4-d726-41ef-8a21-f5b9e74d85a9",
   "metadata": {
    "tags": []
   },
   "outputs": [
    {
     "data": {
      "text/html": [
       "<div>\n",
       "<style scoped>\n",
       "    .dataframe tbody tr th:only-of-type {\n",
       "        vertical-align: middle;\n",
       "    }\n",
       "\n",
       "    .dataframe tbody tr th {\n",
       "        vertical-align: top;\n",
       "    }\n",
       "\n",
       "    .dataframe thead th {\n",
       "        text-align: right;\n",
       "    }\n",
       "</style>\n",
       "<table border=\"1\" class=\"dataframe\">\n",
       "  <thead>\n",
       "    <tr style=\"text-align: right;\">\n",
       "      <th></th>\n",
       "      <th>#</th>\n",
       "      <th>NAME</th>\n",
       "      <th>FOLLOWERS</th>\n",
       "      <th>ER</th>\n",
       "      <th>COUNTRY</th>\n",
       "      <th>TOPIC OF INFLUENCE</th>\n",
       "      <th>POTENTIAL REACH</th>\n",
       "    </tr>\n",
       "  </thead>\n",
       "  <tbody>\n",
       "    <tr>\n",
       "      <th>0</th>\n",
       "      <td>1</td>\n",
       "      <td>Khabane lame @khaby.lame</td>\n",
       "      <td>161.9M</td>\n",
       "      <td>0.2%</td>\n",
       "      <td>Italy</td>\n",
       "      <td>Funny Entertainment and Music</td>\n",
       "      <td>48.6M</td>\n",
       "    </tr>\n",
       "    <tr>\n",
       "      <th>1</th>\n",
       "      <td>2</td>\n",
       "      <td>Bella Poarch @bellapoarch</td>\n",
       "      <td>92.6M</td>\n",
       "      <td>0.8%</td>\n",
       "      <td>United States</td>\n",
       "      <td>NaN</td>\n",
       "      <td>27.8M</td>\n",
       "    </tr>\n",
       "    <tr>\n",
       "      <th>2</th>\n",
       "      <td>3</td>\n",
       "      <td>Addison Rae @addisonre</td>\n",
       "      <td>88.5M</td>\n",
       "      <td>1%</td>\n",
       "      <td>United States</td>\n",
       "      <td>Beauty and Self Care</td>\n",
       "      <td>26.6M</td>\n",
       "    </tr>\n",
       "    <tr>\n",
       "      <th>3</th>\n",
       "      <td>4</td>\n",
       "      <td>MrBeast @mrbeast</td>\n",
       "      <td>85.4M</td>\n",
       "      <td>4%</td>\n",
       "      <td>NaN</td>\n",
       "      <td>Entertainment and Music</td>\n",
       "      <td>25.6M</td>\n",
       "    </tr>\n",
       "    <tr>\n",
       "      <th>4</th>\n",
       "      <td>5</td>\n",
       "      <td>Zach King @zachking</td>\n",
       "      <td>78.1M</td>\n",
       "      <td>2.9%</td>\n",
       "      <td>United States</td>\n",
       "      <td>Entertainment and Music</td>\n",
       "      <td>23.4M</td>\n",
       "    </tr>\n",
       "    <tr>\n",
       "      <th>...</th>\n",
       "      <td>...</td>\n",
       "      <td>...</td>\n",
       "      <td>...</td>\n",
       "      <td>...</td>\n",
       "      <td>...</td>\n",
       "      <td>...</td>\n",
       "      <td>...</td>\n",
       "    </tr>\n",
       "    <tr>\n",
       "      <th>95</th>\n",
       "      <td>96</td>\n",
       "      <td>Bryce Hall @brycehall</td>\n",
       "      <td>21.5M</td>\n",
       "      <td>-</td>\n",
       "      <td>United States</td>\n",
       "      <td>Entertainment and Music</td>\n",
       "      <td>6.5M</td>\n",
       "    </tr>\n",
       "    <tr>\n",
       "      <th>96</th>\n",
       "      <td>97</td>\n",
       "      <td>온오빠 On Oppa @korea.on</td>\n",
       "      <td>21.5M</td>\n",
       "      <td>-</td>\n",
       "      <td>NaN</td>\n",
       "      <td>Entertainment and Music</td>\n",
       "      <td>6.5M</td>\n",
       "    </tr>\n",
       "    <tr>\n",
       "      <th>97</th>\n",
       "      <td>98</td>\n",
       "      <td>Seany @seandoesmagic</td>\n",
       "      <td>21.3M</td>\n",
       "      <td>-</td>\n",
       "      <td>NaN</td>\n",
       "      <td>NaN</td>\n",
       "      <td>6.4M</td>\n",
       "    </tr>\n",
       "    <tr>\n",
       "      <th>98</th>\n",
       "      <td>99</td>\n",
       "      <td>Pk @pkllipe</td>\n",
       "      <td>21.3M</td>\n",
       "      <td>2.6%</td>\n",
       "      <td>NaN</td>\n",
       "      <td>NaN</td>\n",
       "      <td>6.4M</td>\n",
       "    </tr>\n",
       "    <tr>\n",
       "      <th>99</th>\n",
       "      <td>100</td>\n",
       "      <td>The Hype House @thehypehouse</td>\n",
       "      <td>21.1M</td>\n",
       "      <td>-</td>\n",
       "      <td>NaN</td>\n",
       "      <td>Entertainment and Music</td>\n",
       "      <td>6.3M</td>\n",
       "    </tr>\n",
       "  </tbody>\n",
       "</table>\n",
       "<p>100 rows × 7 columns</p>\n",
       "</div>"
      ],
      "text/plain": [
       "      #                          NAME FOLLOWERS    ER        COUNTRY  \\\n",
       "0     1      Khabane lame @khaby.lame    161.9M  0.2%          Italy   \n",
       "1     2     Bella Poarch @bellapoarch     92.6M  0.8%  United States   \n",
       "2     3        Addison Rae @addisonre     88.5M    1%  United States   \n",
       "3     4              MrBeast @mrbeast     85.4M    4%            NaN   \n",
       "4     5           Zach King @zachking     78.1M  2.9%  United States   \n",
       "..  ...                           ...       ...   ...            ...   \n",
       "95   96         Bryce Hall @brycehall     21.5M     -  United States   \n",
       "96   97         온오빠 On Oppa @korea.on     21.5M     -            NaN   \n",
       "97   98          Seany @seandoesmagic     21.3M     -            NaN   \n",
       "98   99                   Pk @pkllipe     21.3M  2.6%            NaN   \n",
       "99  100  The Hype House @thehypehouse     21.1M     -            NaN   \n",
       "\n",
       "               TOPIC OF INFLUENCE POTENTIAL REACH  \n",
       "0   Funny Entertainment and Music           48.6M  \n",
       "1                             NaN           27.8M  \n",
       "2            Beauty and Self Care           26.6M  \n",
       "3         Entertainment and Music           25.6M  \n",
       "4         Entertainment and Music           23.4M  \n",
       "..                            ...             ...  \n",
       "95        Entertainment and Music            6.5M  \n",
       "96        Entertainment and Music            6.5M  \n",
       "97                            NaN            6.4M  \n",
       "98                            NaN            6.4M  \n",
       "99        Entertainment and Music            6.3M  \n",
       "\n",
       "[100 rows x 7 columns]"
      ]
     },
     "execution_count": 6,
     "metadata": {},
     "output_type": "execute_result"
    }
   ],
   "source": [
    "# TikTok data for top 100 influvencers\n",
    "tiktok_all_countries = Path(\"Data/tiktok_data_all-countries.csv\")\n",
    "tiktok_all_countries = pd.read_csv(tiktok_all_countries)\n",
    "pd.set_option('display.max_columns', None)\n",
    "tiktok_all_countries"
   ]
  },
  {
   "cell_type": "code",
   "execution_count": 7,
   "id": "d4361029-96e7-464d-a782-5ce26901e3ec",
   "metadata": {
    "tags": []
   },
   "outputs": [
    {
     "data": {
      "text/html": [
       "<div>\n",
       "<style scoped>\n",
       "    .dataframe tbody tr th:only-of-type {\n",
       "        vertical-align: middle;\n",
       "    }\n",
       "\n",
       "    .dataframe tbody tr th {\n",
       "        vertical-align: top;\n",
       "    }\n",
       "\n",
       "    .dataframe thead th {\n",
       "        text-align: right;\n",
       "    }\n",
       "</style>\n",
       "<table border=\"1\" class=\"dataframe\">\n",
       "  <thead>\n",
       "    <tr style=\"text-align: right;\">\n",
       "      <th></th>\n",
       "      <th>#</th>\n",
       "      <th>NAME</th>\n",
       "      <th>FOLLOWERS</th>\n",
       "      <th>ER</th>\n",
       "      <th>COUNTRY</th>\n",
       "      <th>TOPIC OF INFLUENCE</th>\n",
       "      <th>POTENTIAL REACH</th>\n",
       "    </tr>\n",
       "  </thead>\n",
       "  <tbody>\n",
       "    <tr>\n",
       "      <th>0</th>\n",
       "      <td>1</td>\n",
       "      <td>Khabane lame @khaby.lame</td>\n",
       "      <td>161.9M</td>\n",
       "      <td>0.2%</td>\n",
       "      <td>Italy</td>\n",
       "      <td>Funny Entertainment and Music</td>\n",
       "      <td>48.6M</td>\n",
       "    </tr>\n",
       "    <tr>\n",
       "      <th>1</th>\n",
       "      <td>2</td>\n",
       "      <td>Bella Poarch @bellapoarch</td>\n",
       "      <td>92.6M</td>\n",
       "      <td>0.8%</td>\n",
       "      <td>United States</td>\n",
       "      <td>NaN</td>\n",
       "      <td>27.8M</td>\n",
       "    </tr>\n",
       "    <tr>\n",
       "      <th>2</th>\n",
       "      <td>3</td>\n",
       "      <td>Addison Rae @addisonre</td>\n",
       "      <td>88.5M</td>\n",
       "      <td>1%</td>\n",
       "      <td>United States</td>\n",
       "      <td>Beauty and Self Care</td>\n",
       "      <td>26.6M</td>\n",
       "    </tr>\n",
       "    <tr>\n",
       "      <th>3</th>\n",
       "      <td>4</td>\n",
       "      <td>MrBeast @mrbeast</td>\n",
       "      <td>85.4M</td>\n",
       "      <td>4%</td>\n",
       "      <td>NaN</td>\n",
       "      <td>Entertainment and Music</td>\n",
       "      <td>25.6M</td>\n",
       "    </tr>\n",
       "    <tr>\n",
       "      <th>4</th>\n",
       "      <td>5</td>\n",
       "      <td>Zach King @zachking</td>\n",
       "      <td>78.1M</td>\n",
       "      <td>2.9%</td>\n",
       "      <td>United States</td>\n",
       "      <td>Entertainment and Music</td>\n",
       "      <td>23.4M</td>\n",
       "    </tr>\n",
       "    <tr>\n",
       "      <th>...</th>\n",
       "      <td>...</td>\n",
       "      <td>...</td>\n",
       "      <td>...</td>\n",
       "      <td>...</td>\n",
       "      <td>...</td>\n",
       "      <td>...</td>\n",
       "      <td>...</td>\n",
       "    </tr>\n",
       "    <tr>\n",
       "      <th>95</th>\n",
       "      <td>96</td>\n",
       "      <td>Bryce Hall @brycehall</td>\n",
       "      <td>21.5M</td>\n",
       "      <td>-</td>\n",
       "      <td>United States</td>\n",
       "      <td>Entertainment and Music</td>\n",
       "      <td>6.5M</td>\n",
       "    </tr>\n",
       "    <tr>\n",
       "      <th>96</th>\n",
       "      <td>97</td>\n",
       "      <td>온오빠 On Oppa @korea.on</td>\n",
       "      <td>21.5M</td>\n",
       "      <td>-</td>\n",
       "      <td>NaN</td>\n",
       "      <td>Entertainment and Music</td>\n",
       "      <td>6.5M</td>\n",
       "    </tr>\n",
       "    <tr>\n",
       "      <th>97</th>\n",
       "      <td>98</td>\n",
       "      <td>Seany @seandoesmagic</td>\n",
       "      <td>21.3M</td>\n",
       "      <td>-</td>\n",
       "      <td>NaN</td>\n",
       "      <td>NaN</td>\n",
       "      <td>6.4M</td>\n",
       "    </tr>\n",
       "    <tr>\n",
       "      <th>98</th>\n",
       "      <td>99</td>\n",
       "      <td>Pk @pkllipe</td>\n",
       "      <td>21.3M</td>\n",
       "      <td>2.6%</td>\n",
       "      <td>NaN</td>\n",
       "      <td>NaN</td>\n",
       "      <td>6.4M</td>\n",
       "    </tr>\n",
       "    <tr>\n",
       "      <th>99</th>\n",
       "      <td>100</td>\n",
       "      <td>The Hype House @thehypehouse</td>\n",
       "      <td>21.1M</td>\n",
       "      <td>-</td>\n",
       "      <td>NaN</td>\n",
       "      <td>Entertainment and Music</td>\n",
       "      <td>6.3M</td>\n",
       "    </tr>\n",
       "  </tbody>\n",
       "</table>\n",
       "<p>100 rows × 7 columns</p>\n",
       "</div>"
      ],
      "text/plain": [
       "      #                          NAME FOLLOWERS    ER        COUNTRY  \\\n",
       "0     1      Khabane lame @khaby.lame    161.9M  0.2%          Italy   \n",
       "1     2     Bella Poarch @bellapoarch     92.6M  0.8%  United States   \n",
       "2     3        Addison Rae @addisonre     88.5M    1%  United States   \n",
       "3     4              MrBeast @mrbeast     85.4M    4%            NaN   \n",
       "4     5           Zach King @zachking     78.1M  2.9%  United States   \n",
       "..  ...                           ...       ...   ...            ...   \n",
       "95   96         Bryce Hall @brycehall     21.5M     -  United States   \n",
       "96   97         온오빠 On Oppa @korea.on     21.5M     -            NaN   \n",
       "97   98          Seany @seandoesmagic     21.3M     -            NaN   \n",
       "98   99                   Pk @pkllipe     21.3M  2.6%            NaN   \n",
       "99  100  The Hype House @thehypehouse     21.1M     -            NaN   \n",
       "\n",
       "               TOPIC OF INFLUENCE POTENTIAL REACH  \n",
       "0   Funny Entertainment and Music           48.6M  \n",
       "1                             NaN           27.8M  \n",
       "2            Beauty and Self Care           26.6M  \n",
       "3         Entertainment and Music           25.6M  \n",
       "4         Entertainment and Music           23.4M  \n",
       "..                            ...             ...  \n",
       "95        Entertainment and Music            6.5M  \n",
       "96        Entertainment and Music            6.5M  \n",
       "97                            NaN            6.4M  \n",
       "98                            NaN            6.4M  \n",
       "99        Entertainment and Music            6.3M  \n",
       "\n",
       "[100 rows x 7 columns]"
      ]
     },
     "execution_count": 7,
     "metadata": {},
     "output_type": "execute_result"
    }
   ],
   "source": [
    "# Youtube data for top 100 influvencers\n",
    "youtube_all_countries = Path(\"Data/tiktok_data_all-countries.csv\")\n",
    "youtube_all_countries = pd.read_csv(youtube_all_countries)\n",
    "pd.set_option('display.max_columns', None)\n",
    "youtube_all_countries"
   ]
  },
  {
   "cell_type": "code",
   "execution_count": 8,
   "id": "97dead53-0088-40cf-a016-14f50da9a942",
   "metadata": {
    "tags": []
   },
   "outputs": [],
   "source": [
    "# Add a new column indicating the source\n",
    "IG_all_countries['Social Media Platform'] = 'Instagram'\n",
    "threads_all_countries['Social Media Platform'] = 'Threads'\n",
    "tiktok_all_countries['Social Media Platform'] = 'TikTok'\n",
    "youtube_all_countries['Social Media Platform'] = 'YouTube'"
   ]
  },
  {
   "cell_type": "code",
   "execution_count": 9,
   "id": "b23b80d2-b66d-4423-87b9-ee478e9fa87f",
   "metadata": {
    "tags": []
   },
   "outputs": [
    {
     "data": {
      "text/html": [
       "<div>\n",
       "<style scoped>\n",
       "    .dataframe tbody tr th:only-of-type {\n",
       "        vertical-align: middle;\n",
       "    }\n",
       "\n",
       "    .dataframe tbody tr th {\n",
       "        vertical-align: top;\n",
       "    }\n",
       "\n",
       "    .dataframe thead th {\n",
       "        text-align: right;\n",
       "    }\n",
       "</style>\n",
       "<table border=\"1\" class=\"dataframe\">\n",
       "  <thead>\n",
       "    <tr style=\"text-align: right;\">\n",
       "      <th></th>\n",
       "      <th>#</th>\n",
       "      <th>NAME</th>\n",
       "      <th>FOLLOWERS</th>\n",
       "      <th>ER</th>\n",
       "      <th>COUNTRY</th>\n",
       "      <th>TOPIC OF INFLUENCE</th>\n",
       "      <th>POTENTIAL REACH</th>\n",
       "      <th>Social Media Platform</th>\n",
       "    </tr>\n",
       "  </thead>\n",
       "  <tbody>\n",
       "    <tr>\n",
       "      <th>0</th>\n",
       "      <td>1</td>\n",
       "      <td>Cristiano Ronaldo @cristiano</td>\n",
       "      <td>625.1M</td>\n",
       "      <td>0.01%</td>\n",
       "      <td>Portugal</td>\n",
       "      <td>Finance Soccer</td>\n",
       "      <td>187.5M</td>\n",
       "      <td>Instagram</td>\n",
       "    </tr>\n",
       "    <tr>\n",
       "      <th>1</th>\n",
       "      <td>2</td>\n",
       "      <td>Leo Messi @leomessi</td>\n",
       "      <td>501.1M</td>\n",
       "      <td>0.01%</td>\n",
       "      <td>Argentina</td>\n",
       "      <td>Sports Soccer Activity General General Interest</td>\n",
       "      <td>150.3M</td>\n",
       "      <td>Instagram</td>\n",
       "    </tr>\n",
       "    <tr>\n",
       "      <th>2</th>\n",
       "      <td>3</td>\n",
       "      <td>Selena Gomez @selenagomez</td>\n",
       "      <td>429.7M</td>\n",
       "      <td>1.09%</td>\n",
       "      <td>United States</td>\n",
       "      <td>Beauty and Self Care Entertainment and Music M...</td>\n",
       "      <td>128.9M</td>\n",
       "      <td>Instagram</td>\n",
       "    </tr>\n",
       "    <tr>\n",
       "      <th>3</th>\n",
       "      <td>4</td>\n",
       "      <td>Kylie @kyliejenner</td>\n",
       "      <td>400.5M</td>\n",
       "      <td>-</td>\n",
       "      <td>United States</td>\n",
       "      <td>Beauty and Self Care Product Showcase Modeling...</td>\n",
       "      <td>120.1M</td>\n",
       "      <td>Instagram</td>\n",
       "    </tr>\n",
       "    <tr>\n",
       "      <th>4</th>\n",
       "      <td>5</td>\n",
       "      <td>Dwayne Johnson @therock</td>\n",
       "      <td>397.8M</td>\n",
       "      <td>0.13%</td>\n",
       "      <td>United States</td>\n",
       "      <td>Entertainment and Music Actors Public Figure</td>\n",
       "      <td>119.3M</td>\n",
       "      <td>Instagram</td>\n",
       "    </tr>\n",
       "    <tr>\n",
       "      <th>...</th>\n",
       "      <td>...</td>\n",
       "      <td>...</td>\n",
       "      <td>...</td>\n",
       "      <td>...</td>\n",
       "      <td>...</td>\n",
       "      <td>...</td>\n",
       "      <td>...</td>\n",
       "      <td>...</td>\n",
       "    </tr>\n",
       "    <tr>\n",
       "      <th>395</th>\n",
       "      <td>96</td>\n",
       "      <td>Bryce Hall @brycehall</td>\n",
       "      <td>21.5M</td>\n",
       "      <td>-</td>\n",
       "      <td>United States</td>\n",
       "      <td>Entertainment and Music</td>\n",
       "      <td>6.5M</td>\n",
       "      <td>YouTube</td>\n",
       "    </tr>\n",
       "    <tr>\n",
       "      <th>396</th>\n",
       "      <td>97</td>\n",
       "      <td>온오빠 On Oppa @korea.on</td>\n",
       "      <td>21.5M</td>\n",
       "      <td>-</td>\n",
       "      <td>NaN</td>\n",
       "      <td>Entertainment and Music</td>\n",
       "      <td>6.5M</td>\n",
       "      <td>YouTube</td>\n",
       "    </tr>\n",
       "    <tr>\n",
       "      <th>397</th>\n",
       "      <td>98</td>\n",
       "      <td>Seany @seandoesmagic</td>\n",
       "      <td>21.3M</td>\n",
       "      <td>-</td>\n",
       "      <td>NaN</td>\n",
       "      <td>NaN</td>\n",
       "      <td>6.4M</td>\n",
       "      <td>YouTube</td>\n",
       "    </tr>\n",
       "    <tr>\n",
       "      <th>398</th>\n",
       "      <td>99</td>\n",
       "      <td>Pk @pkllipe</td>\n",
       "      <td>21.3M</td>\n",
       "      <td>2.6%</td>\n",
       "      <td>NaN</td>\n",
       "      <td>NaN</td>\n",
       "      <td>6.4M</td>\n",
       "      <td>YouTube</td>\n",
       "    </tr>\n",
       "    <tr>\n",
       "      <th>399</th>\n",
       "      <td>100</td>\n",
       "      <td>The Hype House @thehypehouse</td>\n",
       "      <td>21.1M</td>\n",
       "      <td>-</td>\n",
       "      <td>NaN</td>\n",
       "      <td>Entertainment and Music</td>\n",
       "      <td>6.3M</td>\n",
       "      <td>YouTube</td>\n",
       "    </tr>\n",
       "  </tbody>\n",
       "</table>\n",
       "<p>400 rows × 8 columns</p>\n",
       "</div>"
      ],
      "text/plain": [
       "       #                          NAME FOLLOWERS     ER        COUNTRY  \\\n",
       "0      1  Cristiano Ronaldo @cristiano    625.1M  0.01%       Portugal   \n",
       "1      2           Leo Messi @leomessi    501.1M  0.01%      Argentina   \n",
       "2      3     Selena Gomez @selenagomez    429.7M  1.09%  United States   \n",
       "3      4            Kylie @kyliejenner    400.5M      -  United States   \n",
       "4      5       Dwayne Johnson @therock    397.8M  0.13%  United States   \n",
       "..   ...                           ...       ...    ...            ...   \n",
       "395   96         Bryce Hall @brycehall     21.5M      -  United States   \n",
       "396   97         온오빠 On Oppa @korea.on     21.5M      -            NaN   \n",
       "397   98          Seany @seandoesmagic     21.3M      -            NaN   \n",
       "398   99                   Pk @pkllipe     21.3M   2.6%            NaN   \n",
       "399  100  The Hype House @thehypehouse     21.1M      -            NaN   \n",
       "\n",
       "                                    TOPIC OF INFLUENCE POTENTIAL REACH  \\\n",
       "0                                       Finance Soccer          187.5M   \n",
       "1      Sports Soccer Activity General General Interest          150.3M   \n",
       "2    Beauty and Self Care Entertainment and Music M...          128.9M   \n",
       "3    Beauty and Self Care Product Showcase Modeling...          120.1M   \n",
       "4         Entertainment and Music Actors Public Figure          119.3M   \n",
       "..                                                 ...             ...   \n",
       "395                            Entertainment and Music            6.5M   \n",
       "396                            Entertainment and Music            6.5M   \n",
       "397                                                NaN            6.4M   \n",
       "398                                                NaN            6.4M   \n",
       "399                            Entertainment and Music            6.3M   \n",
       "\n",
       "    Social Media Platform  \n",
       "0               Instagram  \n",
       "1               Instagram  \n",
       "2               Instagram  \n",
       "3               Instagram  \n",
       "4               Instagram  \n",
       "..                    ...  \n",
       "395               YouTube  \n",
       "396               YouTube  \n",
       "397               YouTube  \n",
       "398               YouTube  \n",
       "399               YouTube  \n",
       "\n",
       "[400 rows x 8 columns]"
      ]
     },
     "execution_count": 9,
     "metadata": {},
     "output_type": "execute_result"
    }
   ],
   "source": [
    "# Concatenate DataFrames vertically\n",
    "merged_df = pd.concat([IG_all_countries, threads_all_countries, tiktok_all_countries, youtube_all_countries], ignore_index=True)\n",
    "merged_df"
   ]
  },
  {
   "cell_type": "code",
   "execution_count": 10,
   "id": "8b7ebce1-20c0-4759-822e-a6651666d28e",
   "metadata": {
    "tags": []
   },
   "outputs": [
    {
     "data": {
      "text/plain": [
       "#                         int64\n",
       "NAME                     object\n",
       "FOLLOWERS                object\n",
       "ER                       object\n",
       "COUNTRY                  object\n",
       "TOPIC OF INFLUENCE       object\n",
       "POTENTIAL REACH          object\n",
       "Social Media Platform    object\n",
       "dtype: object"
      ]
     },
     "execution_count": 10,
     "metadata": {},
     "output_type": "execute_result"
    }
   ],
   "source": [
    "# Checking data types \n",
    "merged_df.dtypes"
   ]
  },
  {
   "cell_type": "code",
   "execution_count": 11,
   "id": "6843ab3c-4afd-4f39-a171-4c43005ad40c",
   "metadata": {
    "tags": []
   },
   "outputs": [
    {
     "data": {
      "text/html": [
       "<div>\n",
       "<style scoped>\n",
       "    .dataframe tbody tr th:only-of-type {\n",
       "        vertical-align: middle;\n",
       "    }\n",
       "\n",
       "    .dataframe tbody tr th {\n",
       "        vertical-align: top;\n",
       "    }\n",
       "\n",
       "    .dataframe thead th {\n",
       "        text-align: right;\n",
       "    }\n",
       "</style>\n",
       "<table border=\"1\" class=\"dataframe\">\n",
       "  <thead>\n",
       "    <tr style=\"text-align: right;\">\n",
       "      <th></th>\n",
       "      <th>#</th>\n",
       "      <th>NAME</th>\n",
       "      <th>FOLLOWERS</th>\n",
       "      <th>ER</th>\n",
       "      <th>COUNTRY</th>\n",
       "      <th>TOPIC OF INFLUENCE</th>\n",
       "      <th>POTENTIAL REACH</th>\n",
       "      <th>Social Media Platform</th>\n",
       "    </tr>\n",
       "  </thead>\n",
       "  <tbody>\n",
       "    <tr>\n",
       "      <th>0</th>\n",
       "      <td>1</td>\n",
       "      <td>Cristiano Ronaldo @cristiano</td>\n",
       "      <td>625100000.0</td>\n",
       "      <td>0.01%</td>\n",
       "      <td>Portugal</td>\n",
       "      <td>Finance Soccer</td>\n",
       "      <td>187.5M</td>\n",
       "      <td>Instagram</td>\n",
       "    </tr>\n",
       "    <tr>\n",
       "      <th>1</th>\n",
       "      <td>2</td>\n",
       "      <td>Leo Messi @leomessi</td>\n",
       "      <td>501100000.0</td>\n",
       "      <td>0.01%</td>\n",
       "      <td>Argentina</td>\n",
       "      <td>Sports Soccer Activity General General Interest</td>\n",
       "      <td>150.3M</td>\n",
       "      <td>Instagram</td>\n",
       "    </tr>\n",
       "    <tr>\n",
       "      <th>2</th>\n",
       "      <td>3</td>\n",
       "      <td>Selena Gomez @selenagomez</td>\n",
       "      <td>429700000.0</td>\n",
       "      <td>1.09%</td>\n",
       "      <td>United States</td>\n",
       "      <td>Beauty and Self Care Entertainment and Music M...</td>\n",
       "      <td>128.9M</td>\n",
       "      <td>Instagram</td>\n",
       "    </tr>\n",
       "    <tr>\n",
       "      <th>3</th>\n",
       "      <td>4</td>\n",
       "      <td>Kylie @kyliejenner</td>\n",
       "      <td>400500000.0</td>\n",
       "      <td>-</td>\n",
       "      <td>United States</td>\n",
       "      <td>Beauty and Self Care Product Showcase Modeling...</td>\n",
       "      <td>120.1M</td>\n",
       "      <td>Instagram</td>\n",
       "    </tr>\n",
       "    <tr>\n",
       "      <th>4</th>\n",
       "      <td>5</td>\n",
       "      <td>Dwayne Johnson @therock</td>\n",
       "      <td>397800000.0</td>\n",
       "      <td>0.13%</td>\n",
       "      <td>United States</td>\n",
       "      <td>Entertainment and Music Actors Public Figure</td>\n",
       "      <td>119.3M</td>\n",
       "      <td>Instagram</td>\n",
       "    </tr>\n",
       "    <tr>\n",
       "      <th>...</th>\n",
       "      <td>...</td>\n",
       "      <td>...</td>\n",
       "      <td>...</td>\n",
       "      <td>...</td>\n",
       "      <td>...</td>\n",
       "      <td>...</td>\n",
       "      <td>...</td>\n",
       "      <td>...</td>\n",
       "    </tr>\n",
       "    <tr>\n",
       "      <th>395</th>\n",
       "      <td>96</td>\n",
       "      <td>Bryce Hall @brycehall</td>\n",
       "      <td>21500000.0</td>\n",
       "      <td>-</td>\n",
       "      <td>United States</td>\n",
       "      <td>Entertainment and Music</td>\n",
       "      <td>6.5M</td>\n",
       "      <td>YouTube</td>\n",
       "    </tr>\n",
       "    <tr>\n",
       "      <th>396</th>\n",
       "      <td>97</td>\n",
       "      <td>온오빠 On Oppa @korea.on</td>\n",
       "      <td>21500000.0</td>\n",
       "      <td>-</td>\n",
       "      <td>NaN</td>\n",
       "      <td>Entertainment and Music</td>\n",
       "      <td>6.5M</td>\n",
       "      <td>YouTube</td>\n",
       "    </tr>\n",
       "    <tr>\n",
       "      <th>397</th>\n",
       "      <td>98</td>\n",
       "      <td>Seany @seandoesmagic</td>\n",
       "      <td>21300000.0</td>\n",
       "      <td>-</td>\n",
       "      <td>NaN</td>\n",
       "      <td>NaN</td>\n",
       "      <td>6.4M</td>\n",
       "      <td>YouTube</td>\n",
       "    </tr>\n",
       "    <tr>\n",
       "      <th>398</th>\n",
       "      <td>99</td>\n",
       "      <td>Pk @pkllipe</td>\n",
       "      <td>21300000.0</td>\n",
       "      <td>2.6%</td>\n",
       "      <td>NaN</td>\n",
       "      <td>NaN</td>\n",
       "      <td>6.4M</td>\n",
       "      <td>YouTube</td>\n",
       "    </tr>\n",
       "    <tr>\n",
       "      <th>399</th>\n",
       "      <td>100</td>\n",
       "      <td>The Hype House @thehypehouse</td>\n",
       "      <td>21100000.0</td>\n",
       "      <td>-</td>\n",
       "      <td>NaN</td>\n",
       "      <td>Entertainment and Music</td>\n",
       "      <td>6.3M</td>\n",
       "      <td>YouTube</td>\n",
       "    </tr>\n",
       "  </tbody>\n",
       "</table>\n",
       "<p>400 rows × 8 columns</p>\n",
       "</div>"
      ],
      "text/plain": [
       "       #                          NAME    FOLLOWERS     ER        COUNTRY  \\\n",
       "0      1  Cristiano Ronaldo @cristiano  625100000.0  0.01%       Portugal   \n",
       "1      2           Leo Messi @leomessi  501100000.0  0.01%      Argentina   \n",
       "2      3     Selena Gomez @selenagomez  429700000.0  1.09%  United States   \n",
       "3      4            Kylie @kyliejenner  400500000.0      -  United States   \n",
       "4      5       Dwayne Johnson @therock  397800000.0  0.13%  United States   \n",
       "..   ...                           ...          ...    ...            ...   \n",
       "395   96         Bryce Hall @brycehall   21500000.0      -  United States   \n",
       "396   97         온오빠 On Oppa @korea.on   21500000.0      -            NaN   \n",
       "397   98          Seany @seandoesmagic   21300000.0      -            NaN   \n",
       "398   99                   Pk @pkllipe   21300000.0   2.6%            NaN   \n",
       "399  100  The Hype House @thehypehouse   21100000.0      -            NaN   \n",
       "\n",
       "                                    TOPIC OF INFLUENCE POTENTIAL REACH  \\\n",
       "0                                       Finance Soccer          187.5M   \n",
       "1      Sports Soccer Activity General General Interest          150.3M   \n",
       "2    Beauty and Self Care Entertainment and Music M...          128.9M   \n",
       "3    Beauty and Self Care Product Showcase Modeling...          120.1M   \n",
       "4         Entertainment and Music Actors Public Figure          119.3M   \n",
       "..                                                 ...             ...   \n",
       "395                            Entertainment and Music            6.5M   \n",
       "396                            Entertainment and Music            6.5M   \n",
       "397                                                NaN            6.4M   \n",
       "398                                                NaN            6.4M   \n",
       "399                            Entertainment and Music            6.3M   \n",
       "\n",
       "    Social Media Platform  \n",
       "0               Instagram  \n",
       "1               Instagram  \n",
       "2               Instagram  \n",
       "3               Instagram  \n",
       "4               Instagram  \n",
       "..                    ...  \n",
       "395               YouTube  \n",
       "396               YouTube  \n",
       "397               YouTube  \n",
       "398               YouTube  \n",
       "399               YouTube  \n",
       "\n",
       "[400 rows x 8 columns]"
      ]
     },
     "execution_count": 11,
     "metadata": {},
     "output_type": "execute_result"
    }
   ],
   "source": [
    "# Function to convert followers to numeric format\n",
    "def convert_followers(followers):\n",
    "    if 'M' in followers:\n",
    "        return float(followers.replace('M', '')) * 1e6\n",
    "    elif 'K' in followers:\n",
    "        return float(followers.replace('K', '')) * 1e3\n",
    "    else:\n",
    "        return float(followers)\n",
    "\n",
    "# Convert \"FOLLOWERS\" column to numeric values\n",
    "merged_df[\"FOLLOWERS\"] = merged_df[\"FOLLOWERS\"].apply(convert_followers)\n",
    "merged_df"
   ]
  },
  {
   "cell_type": "code",
   "execution_count": 12,
   "id": "126c5a71-ff6c-4510-8c1a-5beee0fb5a73",
   "metadata": {
    "tags": []
   },
   "outputs": [
    {
     "data": {
      "text/html": [
       "<div>\n",
       "<style scoped>\n",
       "    .dataframe tbody tr th:only-of-type {\n",
       "        vertical-align: middle;\n",
       "    }\n",
       "\n",
       "    .dataframe tbody tr th {\n",
       "        vertical-align: top;\n",
       "    }\n",
       "\n",
       "    .dataframe thead th {\n",
       "        text-align: right;\n",
       "    }\n",
       "</style>\n",
       "<table border=\"1\" class=\"dataframe\">\n",
       "  <thead>\n",
       "    <tr style=\"text-align: right;\">\n",
       "      <th></th>\n",
       "      <th>#</th>\n",
       "      <th>NAME</th>\n",
       "      <th>FOLLOWERS</th>\n",
       "      <th>ER</th>\n",
       "      <th>COUNTRY</th>\n",
       "      <th>TOPIC OF INFLUENCE</th>\n",
       "      <th>POTENTIAL REACH</th>\n",
       "      <th>Social Media Platform</th>\n",
       "    </tr>\n",
       "  </thead>\n",
       "  <tbody>\n",
       "    <tr>\n",
       "      <th>0</th>\n",
       "      <td>1</td>\n",
       "      <td>Cristiano Ronaldo @cristiano</td>\n",
       "      <td>625100000.0</td>\n",
       "      <td>0.01%</td>\n",
       "      <td>Portugal</td>\n",
       "      <td>Finance Soccer</td>\n",
       "      <td>187500000.0</td>\n",
       "      <td>Instagram</td>\n",
       "    </tr>\n",
       "    <tr>\n",
       "      <th>1</th>\n",
       "      <td>2</td>\n",
       "      <td>Leo Messi @leomessi</td>\n",
       "      <td>501100000.0</td>\n",
       "      <td>0.01%</td>\n",
       "      <td>Argentina</td>\n",
       "      <td>Sports Soccer Activity General General Interest</td>\n",
       "      <td>150300000.0</td>\n",
       "      <td>Instagram</td>\n",
       "    </tr>\n",
       "    <tr>\n",
       "      <th>2</th>\n",
       "      <td>3</td>\n",
       "      <td>Selena Gomez @selenagomez</td>\n",
       "      <td>429700000.0</td>\n",
       "      <td>1.09%</td>\n",
       "      <td>United States</td>\n",
       "      <td>Beauty and Self Care Entertainment and Music M...</td>\n",
       "      <td>128900000.0</td>\n",
       "      <td>Instagram</td>\n",
       "    </tr>\n",
       "    <tr>\n",
       "      <th>3</th>\n",
       "      <td>4</td>\n",
       "      <td>Kylie @kyliejenner</td>\n",
       "      <td>400500000.0</td>\n",
       "      <td>-</td>\n",
       "      <td>United States</td>\n",
       "      <td>Beauty and Self Care Product Showcase Modeling...</td>\n",
       "      <td>120100000.0</td>\n",
       "      <td>Instagram</td>\n",
       "    </tr>\n",
       "    <tr>\n",
       "      <th>4</th>\n",
       "      <td>5</td>\n",
       "      <td>Dwayne Johnson @therock</td>\n",
       "      <td>397800000.0</td>\n",
       "      <td>0.13%</td>\n",
       "      <td>United States</td>\n",
       "      <td>Entertainment and Music Actors Public Figure</td>\n",
       "      <td>119300000.0</td>\n",
       "      <td>Instagram</td>\n",
       "    </tr>\n",
       "    <tr>\n",
       "      <th>...</th>\n",
       "      <td>...</td>\n",
       "      <td>...</td>\n",
       "      <td>...</td>\n",
       "      <td>...</td>\n",
       "      <td>...</td>\n",
       "      <td>...</td>\n",
       "      <td>...</td>\n",
       "      <td>...</td>\n",
       "    </tr>\n",
       "    <tr>\n",
       "      <th>395</th>\n",
       "      <td>96</td>\n",
       "      <td>Bryce Hall @brycehall</td>\n",
       "      <td>21500000.0</td>\n",
       "      <td>-</td>\n",
       "      <td>United States</td>\n",
       "      <td>Entertainment and Music</td>\n",
       "      <td>6500000.0</td>\n",
       "      <td>YouTube</td>\n",
       "    </tr>\n",
       "    <tr>\n",
       "      <th>396</th>\n",
       "      <td>97</td>\n",
       "      <td>온오빠 On Oppa @korea.on</td>\n",
       "      <td>21500000.0</td>\n",
       "      <td>-</td>\n",
       "      <td>NaN</td>\n",
       "      <td>Entertainment and Music</td>\n",
       "      <td>6500000.0</td>\n",
       "      <td>YouTube</td>\n",
       "    </tr>\n",
       "    <tr>\n",
       "      <th>397</th>\n",
       "      <td>98</td>\n",
       "      <td>Seany @seandoesmagic</td>\n",
       "      <td>21300000.0</td>\n",
       "      <td>-</td>\n",
       "      <td>NaN</td>\n",
       "      <td>NaN</td>\n",
       "      <td>6400000.0</td>\n",
       "      <td>YouTube</td>\n",
       "    </tr>\n",
       "    <tr>\n",
       "      <th>398</th>\n",
       "      <td>99</td>\n",
       "      <td>Pk @pkllipe</td>\n",
       "      <td>21300000.0</td>\n",
       "      <td>2.6%</td>\n",
       "      <td>NaN</td>\n",
       "      <td>NaN</td>\n",
       "      <td>6400000.0</td>\n",
       "      <td>YouTube</td>\n",
       "    </tr>\n",
       "    <tr>\n",
       "      <th>399</th>\n",
       "      <td>100</td>\n",
       "      <td>The Hype House @thehypehouse</td>\n",
       "      <td>21100000.0</td>\n",
       "      <td>-</td>\n",
       "      <td>NaN</td>\n",
       "      <td>Entertainment and Music</td>\n",
       "      <td>6300000.0</td>\n",
       "      <td>YouTube</td>\n",
       "    </tr>\n",
       "  </tbody>\n",
       "</table>\n",
       "<p>400 rows × 8 columns</p>\n",
       "</div>"
      ],
      "text/plain": [
       "       #                          NAME    FOLLOWERS     ER        COUNTRY  \\\n",
       "0      1  Cristiano Ronaldo @cristiano  625100000.0  0.01%       Portugal   \n",
       "1      2           Leo Messi @leomessi  501100000.0  0.01%      Argentina   \n",
       "2      3     Selena Gomez @selenagomez  429700000.0  1.09%  United States   \n",
       "3      4            Kylie @kyliejenner  400500000.0      -  United States   \n",
       "4      5       Dwayne Johnson @therock  397800000.0  0.13%  United States   \n",
       "..   ...                           ...          ...    ...            ...   \n",
       "395   96         Bryce Hall @brycehall   21500000.0      -  United States   \n",
       "396   97         온오빠 On Oppa @korea.on   21500000.0      -            NaN   \n",
       "397   98          Seany @seandoesmagic   21300000.0      -            NaN   \n",
       "398   99                   Pk @pkllipe   21300000.0   2.6%            NaN   \n",
       "399  100  The Hype House @thehypehouse   21100000.0      -            NaN   \n",
       "\n",
       "                                    TOPIC OF INFLUENCE  POTENTIAL REACH  \\\n",
       "0                                       Finance Soccer      187500000.0   \n",
       "1      Sports Soccer Activity General General Interest      150300000.0   \n",
       "2    Beauty and Self Care Entertainment and Music M...      128900000.0   \n",
       "3    Beauty and Self Care Product Showcase Modeling...      120100000.0   \n",
       "4         Entertainment and Music Actors Public Figure      119300000.0   \n",
       "..                                                 ...              ...   \n",
       "395                            Entertainment and Music        6500000.0   \n",
       "396                            Entertainment and Music        6500000.0   \n",
       "397                                                NaN        6400000.0   \n",
       "398                                                NaN        6400000.0   \n",
       "399                            Entertainment and Music        6300000.0   \n",
       "\n",
       "    Social Media Platform  \n",
       "0               Instagram  \n",
       "1               Instagram  \n",
       "2               Instagram  \n",
       "3               Instagram  \n",
       "4               Instagram  \n",
       "..                    ...  \n",
       "395               YouTube  \n",
       "396               YouTube  \n",
       "397               YouTube  \n",
       "398               YouTube  \n",
       "399               YouTube  \n",
       "\n",
       "[400 rows x 8 columns]"
      ]
     },
     "execution_count": 12,
     "metadata": {},
     "output_type": "execute_result"
    }
   ],
   "source": [
    "# Function to convert potential reach to numeric format\n",
    "def convert_potential_reach(reach):\n",
    "    if 'M' in reach:\n",
    "        return float(reach.replace('M', '')) * 1e6\n",
    "    elif 'K' in reach:\n",
    "        return float(reach.replace('K', '')) * 1e3\n",
    "    else:\n",
    "        return float(reach)\n",
    "\n",
    "# Convert \"POTENTIAL REACH\" column to numeric values\n",
    "merged_df[\"POTENTIAL REACH\"] = merged_df[\"POTENTIAL REACH\"].apply(convert_potential_reach)\n",
    "merged_df"
   ]
  },
  {
   "cell_type": "code",
   "execution_count": 13,
   "id": "7efee2c9-358e-44b3-bb35-1a870e5005e6",
   "metadata": {
    "tags": []
   },
   "outputs": [
    {
     "data": {
      "text/plain": [
       "#                          int64\n",
       "NAME                      object\n",
       "FOLLOWERS                float64\n",
       "ER                        object\n",
       "COUNTRY                   object\n",
       "TOPIC OF INFLUENCE        object\n",
       "POTENTIAL REACH          float64\n",
       "Social Media Platform     object\n",
       "dtype: object"
      ]
     },
     "execution_count": 13,
     "metadata": {},
     "output_type": "execute_result"
    }
   ],
   "source": [
    "#Checking data types again \n",
    "merged_df.dtypes"
   ]
  },
  {
   "cell_type": "code",
   "execution_count": 14,
   "id": "a069805e-4c42-4d95-baf2-6bbcae149254",
   "metadata": {
    "tags": []
   },
   "outputs": [
    {
     "data": {
      "text/plain": [
       "array(['Finance Soccer',\n",
       "       'Sports Soccer Activity General General Interest',\n",
       "       'Beauty and Self Care Entertainment and Music Music Actors',\n",
       "       'Beauty and Self Care Product Showcase Modeling Public Figure',\n",
       "       'Entertainment and Music Actors Public Figure',\n",
       "       'Entertainment and Music Music Singer Actors',\n",
       "       'Fashion and Accessories Beauty and Self Care Actors Public Figure',\n",
       "       'Music Singer', 'Fashion and Accessories Modeling Public Figure',\n",
       "       'Food Fashion and Accessories Modeling Fashion Model',\n",
       "       'Entertainment and Music Music Singer Musician',\n",
       "       'Entertainment and Music Music Singer Songwriting',\n",
       "       'Sports Cricket Athlete',\n",
       "       'Art Food and Drink Entertainment and Music Celebrity',\n",
       "       'Fashion and Accessories Singer Artist',\n",
       "       'Entertainment and Music Business and Finance Modeling Actors',\n",
       "       'Sports Soccer Athlete', 'Music',\n",
       "       'Entertainment and Music Music Singer Bands Musicians',\n",
       "       'Entertainment and Music Acting and Drama Celebrity Actors',\n",
       "       'Entertainment and Music Comedian Creators & Celebrities',\n",
       "       'Entertainment and Music Singer Hair & Beauty Celebrities',\n",
       "       'Sports Basketball',\n",
       "       'Entertainment and Music Singer Songwriting Music',\n",
       "       'Entertainment and Music Sports Soccer', 'Art Singer Artist',\n",
       "       'Entertainment and Music Singer Rap',\n",
       "       'Celebrity TV Shows Comedy Actors',\n",
       "       'Sports Business and Finance Home and Garden Soccer', 'Art Singer',\n",
       "       'Entertainment and Music Food Actors Artist',\n",
       "       'Producers Director Actors', 'Singer',\n",
       "       'Actors Artist Creators & Celebrities',\n",
       "       'Music Singer Musician Band',\n",
       "       'Entertainment and Music Singer Artist', 'Politics',\n",
       "       'Sports Soccer Public Figure',\n",
       "       'Entertainment and Music Music Food Chef',\n",
       "       'Beauty and Self Care Celebrity Actors Actor',\n",
       "       'Acting and Drama Celebrity Actors Actor',\n",
       "       'Entertainment and Music Funny Education Life and Society',\n",
       "       'Entertainment and Music Actors',\n",
       "       'Fashion and Accessories Business and Finance Modeling TV Host',\n",
       "       'Entertainment and Music Singer Musician',\n",
       "       'Sports Entertainment and Music Soccer',\n",
       "       'Sports Automotive Soccer',\n",
       "       'Entertainment and Music Fashion and Accessories Education Celebrity',\n",
       "       'Entertainment and Music family Celebrity Marketing and Advertising',\n",
       "       'Entertainment and Music Music Band Singer',\n",
       "       'Music Singer Songwriting Musician',\n",
       "       'Art Actors Entertainment Songwriting',\n",
       "       'Art Beauty Acting and Drama Beauty and Self Care',\n",
       "       'Entertainment and Music Celebrity Actor',\n",
       "       'Entertainment and Music Celebrity Actors Actor',\n",
       "       'Entertainment and Music Humor Film, Music & Books Celebrities',\n",
       "       'Sports Soccer', 'Entertainment and Music Celebrity Singer Music',\n",
       "       'Entertainment and Music Acting and Drama Actors',\n",
       "       'Entertainment and Music Actors Artist',\n",
       "       'Art Entertainment and Music Music Singer',\n",
       "       'Entertainment and Music Producers Hip hop music Artist',\n",
       "       'Art Artist', 'Fashion and Accessories Auto and Vehicles Soccer',\n",
       "       'Entertainment and Music Music Singer', 'Sports',\n",
       "       'Celebrity Actors', 'Sports Fashion and Accessories Soccer',\n",
       "       'Entertainment and Music Celebrity Actors Producers', 'Actors',\n",
       "       'Technology Modeling Scientist',\n",
       "       'Sports Soccer Sports Team Creators & Celebrities',\n",
       "       'Entertainment and Music Funny Celebrity Comedy',\n",
       "       'Books Lifestyle Modeling',\n",
       "       'Entertainment and Music Music Band Musician Band',\n",
       "       'Books Pets Author Creators & Celebrities',\n",
       "       'Beauty and Self Care Celebrity Music Lifestyle',\n",
       "       'Shopping Music Singer Songwriting',\n",
       "       'Sports Basketball Athlete Creators & Celebrities', 'Singer Music',\n",
       "       'Entertainment and Music Fashion and Accessories Celebrity Actors',\n",
       "       'Art Modeling Artist',\n",
       "       'Beauty and Self Care Modeling Actors Actor', 'Food Music Chef',\n",
       "       'Art Acting and Drama Fashion and Accessories Entertainment and Music',\n",
       "       'Beauty and Self Care Blogger Creators & Celebrities',\n",
       "       'Food Business and Finance Chef', 'Nature',\n",
       "       'Entertainment & Music', 'Photography', 'Romance & Wedding',\n",
       "       'Fashion & Accessories Arts & Crafts', 'Funny',\n",
       "       'Entertainment & Music Funny Romance & Wedding Life & Society',\n",
       "       'Entertainment & Music Funny', 'News',\n",
       "       'Entertainment & Music Arts & Crafts Animation & Cosplay',\n",
       "       'Travel', 'Food', 'Entertainment & Music Romance & Wedding', nan,\n",
       "       'Fitness & Health', 'Acting & Drama Business & Entrepreneurship',\n",
       "       'Animation & Cosplay', 'Nature Travel Photography',\n",
       "       'Fashion & Accessories Entertainment & Music', 'Games',\n",
       "       'Education Upskilling',\n",
       "       'Acting & Drama Fashion & Accessories Entertainment & Music Motherhood',\n",
       "       'Auto and Vehicles', 'Entertainment & Music Comedy',\n",
       "       'Entertainment & Music family',\n",
       "       'Nature Animals Entertainment & Music Life & Society',\n",
       "       'Beauty & Self Care', 'Entertainment & Music Acting & Drama',\n",
       "       'Finance Upskilling Entertainment & Music',\n",
       "       'Entertainment & Music Education',\n",
       "       'Entertainment & Music Fashion & Accessories Product Showcase',\n",
       "       'Finance Education', 'Finance', 'Games Entertainment & Music',\n",
       "       'Product Showcase', 'Life & Society',\n",
       "       'Education Romance & Wedding Entertainment & Music',\n",
       "       'Entertainment & Music Journalism',\n",
       "       'Funny Entertainment and Music', 'Beauty and Self Care',\n",
       "       'Entertainment and Music',\n",
       "       'Entertainment and Music Fitness and Health Business and Finance',\n",
       "       'Beauty and Self Care Fashion and Accessories',\n",
       "       'Fashion and Accessories', 'family Entertainment and Music',\n",
       "       'Entertainment and Music Sports',\n",
       "       'Beauty and Self Care Arts and Crafts',\n",
       "       'Entertainment and Music Funny', 'Pets',\n",
       "       'Arts and Crafts Education Upskilling',\n",
       "       'Entertainment and Music Celebrity', 'family Romance and Wedding',\n",
       "       'Beauty and Self Care Funny', 'Animals',\n",
       "       'Food Beauty and Self Care', 'Entertainment and Music family'],\n",
       "      dtype=object)"
      ]
     },
     "execution_count": 14,
     "metadata": {},
     "output_type": "execute_result"
    }
   ],
   "source": [
    "# List unique values of \"TOPIC OF INFLUENCE\" \n",
    "merged_df[\"TOPIC OF INFLUENCE\"].unique()"
   ]
  },
  {
   "cell_type": "code",
   "execution_count": 15,
   "id": "bf03d14e-b8d2-4b55-af2c-90a0f62988a6",
   "metadata": {
    "tags": []
   },
   "outputs": [
    {
     "data": {
      "text/html": [
       "<div>\n",
       "<style scoped>\n",
       "    .dataframe tbody tr th:only-of-type {\n",
       "        vertical-align: middle;\n",
       "    }\n",
       "\n",
       "    .dataframe tbody tr th {\n",
       "        vertical-align: top;\n",
       "    }\n",
       "\n",
       "    .dataframe thead th {\n",
       "        text-align: right;\n",
       "    }\n",
       "</style>\n",
       "<table border=\"1\" class=\"dataframe\">\n",
       "  <thead>\n",
       "    <tr style=\"text-align: right;\">\n",
       "      <th></th>\n",
       "      <th>#</th>\n",
       "      <th>NAME</th>\n",
       "      <th>FOLLOWERS</th>\n",
       "      <th>ER</th>\n",
       "      <th>COUNTRY</th>\n",
       "      <th>TOPIC OF INFLUENCE</th>\n",
       "      <th>POTENTIAL REACH</th>\n",
       "      <th>Social Media Platform</th>\n",
       "      <th>CATEGORY</th>\n",
       "      <th>SUB-CATEGORY</th>\n",
       "    </tr>\n",
       "  </thead>\n",
       "  <tbody>\n",
       "    <tr>\n",
       "      <th>0</th>\n",
       "      <td>1</td>\n",
       "      <td>Cristiano Ronaldo @cristiano</td>\n",
       "      <td>625100000.0</td>\n",
       "      <td>0.01%</td>\n",
       "      <td>Portugal</td>\n",
       "      <td>Finance Soccer</td>\n",
       "      <td>187500000.0</td>\n",
       "      <td>Instagram</td>\n",
       "      <td>Sports</td>\n",
       "      <td>Soccer</td>\n",
       "    </tr>\n",
       "    <tr>\n",
       "      <th>1</th>\n",
       "      <td>2</td>\n",
       "      <td>Leo Messi @leomessi</td>\n",
       "      <td>501100000.0</td>\n",
       "      <td>0.01%</td>\n",
       "      <td>Argentina</td>\n",
       "      <td>Sports Soccer Activity General General Interest</td>\n",
       "      <td>150300000.0</td>\n",
       "      <td>Instagram</td>\n",
       "      <td>Sports</td>\n",
       "      <td>Soccer</td>\n",
       "    </tr>\n",
       "    <tr>\n",
       "      <th>2</th>\n",
       "      <td>3</td>\n",
       "      <td>Selena Gomez @selenagomez</td>\n",
       "      <td>429700000.0</td>\n",
       "      <td>1.09%</td>\n",
       "      <td>United States</td>\n",
       "      <td>Beauty and Self Care Entertainment and Music M...</td>\n",
       "      <td>128900000.0</td>\n",
       "      <td>Instagram</td>\n",
       "      <td>Entertainment</td>\n",
       "      <td>Music</td>\n",
       "    </tr>\n",
       "    <tr>\n",
       "      <th>3</th>\n",
       "      <td>4</td>\n",
       "      <td>Kylie @kyliejenner</td>\n",
       "      <td>400500000.0</td>\n",
       "      <td>-</td>\n",
       "      <td>United States</td>\n",
       "      <td>Beauty and Self Care Product Showcase Modeling...</td>\n",
       "      <td>120100000.0</td>\n",
       "      <td>Instagram</td>\n",
       "      <td>Fashion and Accessories</td>\n",
       "      <td>Modeling</td>\n",
       "    </tr>\n",
       "    <tr>\n",
       "      <th>4</th>\n",
       "      <td>5</td>\n",
       "      <td>Dwayne Johnson @therock</td>\n",
       "      <td>397800000.0</td>\n",
       "      <td>0.13%</td>\n",
       "      <td>United States</td>\n",
       "      <td>Entertainment and Music Actors Public Figure</td>\n",
       "      <td>119300000.0</td>\n",
       "      <td>Instagram</td>\n",
       "      <td>Entertainment</td>\n",
       "      <td>Music</td>\n",
       "    </tr>\n",
       "    <tr>\n",
       "      <th>...</th>\n",
       "      <td>...</td>\n",
       "      <td>...</td>\n",
       "      <td>...</td>\n",
       "      <td>...</td>\n",
       "      <td>...</td>\n",
       "      <td>...</td>\n",
       "      <td>...</td>\n",
       "      <td>...</td>\n",
       "      <td>...</td>\n",
       "      <td>...</td>\n",
       "    </tr>\n",
       "    <tr>\n",
       "      <th>395</th>\n",
       "      <td>96</td>\n",
       "      <td>Bryce Hall @brycehall</td>\n",
       "      <td>21500000.0</td>\n",
       "      <td>-</td>\n",
       "      <td>United States</td>\n",
       "      <td>Entertainment and Music</td>\n",
       "      <td>6500000.0</td>\n",
       "      <td>YouTube</td>\n",
       "      <td>Entertainment</td>\n",
       "      <td>Music</td>\n",
       "    </tr>\n",
       "    <tr>\n",
       "      <th>396</th>\n",
       "      <td>97</td>\n",
       "      <td>온오빠 On Oppa @korea.on</td>\n",
       "      <td>21500000.0</td>\n",
       "      <td>-</td>\n",
       "      <td>NaN</td>\n",
       "      <td>Entertainment and Music</td>\n",
       "      <td>6500000.0</td>\n",
       "      <td>YouTube</td>\n",
       "      <td>Entertainment</td>\n",
       "      <td>Music</td>\n",
       "    </tr>\n",
       "    <tr>\n",
       "      <th>397</th>\n",
       "      <td>98</td>\n",
       "      <td>Seany @seandoesmagic</td>\n",
       "      <td>21300000.0</td>\n",
       "      <td>-</td>\n",
       "      <td>NaN</td>\n",
       "      <td>NaN</td>\n",
       "      <td>6400000.0</td>\n",
       "      <td>YouTube</td>\n",
       "      <td>NaN</td>\n",
       "      <td>NaN</td>\n",
       "    </tr>\n",
       "    <tr>\n",
       "      <th>398</th>\n",
       "      <td>99</td>\n",
       "      <td>Pk @pkllipe</td>\n",
       "      <td>21300000.0</td>\n",
       "      <td>2.6%</td>\n",
       "      <td>NaN</td>\n",
       "      <td>NaN</td>\n",
       "      <td>6400000.0</td>\n",
       "      <td>YouTube</td>\n",
       "      <td>NaN</td>\n",
       "      <td>NaN</td>\n",
       "    </tr>\n",
       "    <tr>\n",
       "      <th>399</th>\n",
       "      <td>100</td>\n",
       "      <td>The Hype House @thehypehouse</td>\n",
       "      <td>21100000.0</td>\n",
       "      <td>-</td>\n",
       "      <td>NaN</td>\n",
       "      <td>Entertainment and Music</td>\n",
       "      <td>6300000.0</td>\n",
       "      <td>YouTube</td>\n",
       "      <td>Entertainment</td>\n",
       "      <td>Music</td>\n",
       "    </tr>\n",
       "  </tbody>\n",
       "</table>\n",
       "<p>400 rows × 10 columns</p>\n",
       "</div>"
      ],
      "text/plain": [
       "       #                          NAME    FOLLOWERS     ER        COUNTRY  \\\n",
       "0      1  Cristiano Ronaldo @cristiano  625100000.0  0.01%       Portugal   \n",
       "1      2           Leo Messi @leomessi  501100000.0  0.01%      Argentina   \n",
       "2      3     Selena Gomez @selenagomez  429700000.0  1.09%  United States   \n",
       "3      4            Kylie @kyliejenner  400500000.0      -  United States   \n",
       "4      5       Dwayne Johnson @therock  397800000.0  0.13%  United States   \n",
       "..   ...                           ...          ...    ...            ...   \n",
       "395   96         Bryce Hall @brycehall   21500000.0      -  United States   \n",
       "396   97         온오빠 On Oppa @korea.on   21500000.0      -            NaN   \n",
       "397   98          Seany @seandoesmagic   21300000.0      -            NaN   \n",
       "398   99                   Pk @pkllipe   21300000.0   2.6%            NaN   \n",
       "399  100  The Hype House @thehypehouse   21100000.0      -            NaN   \n",
       "\n",
       "                                    TOPIC OF INFLUENCE  POTENTIAL REACH  \\\n",
       "0                                       Finance Soccer      187500000.0   \n",
       "1      Sports Soccer Activity General General Interest      150300000.0   \n",
       "2    Beauty and Self Care Entertainment and Music M...      128900000.0   \n",
       "3    Beauty and Self Care Product Showcase Modeling...      120100000.0   \n",
       "4         Entertainment and Music Actors Public Figure      119300000.0   \n",
       "..                                                 ...              ...   \n",
       "395                            Entertainment and Music        6500000.0   \n",
       "396                            Entertainment and Music        6500000.0   \n",
       "397                                                NaN        6400000.0   \n",
       "398                                                NaN        6400000.0   \n",
       "399                            Entertainment and Music        6300000.0   \n",
       "\n",
       "    Social Media Platform                 CATEGORY SUB-CATEGORY  \n",
       "0               Instagram                   Sports       Soccer  \n",
       "1               Instagram                   Sports       Soccer  \n",
       "2               Instagram            Entertainment        Music  \n",
       "3               Instagram  Fashion and Accessories     Modeling  \n",
       "4               Instagram            Entertainment        Music  \n",
       "..                    ...                      ...          ...  \n",
       "395               YouTube            Entertainment        Music  \n",
       "396               YouTube            Entertainment        Music  \n",
       "397               YouTube                      NaN          NaN  \n",
       "398               YouTube                      NaN          NaN  \n",
       "399               YouTube            Entertainment        Music  \n",
       "\n",
       "[400 rows x 10 columns]"
      ]
     },
     "execution_count": 15,
     "metadata": {},
     "output_type": "execute_result"
    }
   ],
   "source": [
    "# Mapping dictionary for categories and subcategories\n",
    "category_mapping = {\n",
    "    'Sports': ['Soccer', 'Basketball', 'Cricket', 'Athlete'],\n",
    "    'Entertainment': ['Music', 'Actors', 'Celebrity', 'Comedian', 'TV Shows', 'Film'],\n",
    "    'Fashion and Accessories': ['Fashion', 'Modeling', 'Singer', 'Artist', 'TV Host'],\n",
    "    'Beauty and Self Care': ['Beauty', 'Modeling', 'Hair & Beauty', 'Blogger'],\n",
    "    'Food and Drink': ['Food', 'Chef'],\n",
    "    'Art': ['Art', 'Modeling', 'Artist', 'Entertainment'],\n",
    "    'Politics': ['Politics'],\n",
    "    'Technology': ['Modeling', 'Scientist'],\n",
    "    'Books': ['Lifestyle', 'Author'],\n",
    "    'Shopping': ['Shopping'],\n",
    "    'Pets': ['Pets']\n",
    "}\n",
    "\n",
    "# Function to map \"TOPIC OF INFLUENCE\" to category and subcategory\n",
    "def map_to_category(topic):\n",
    "    if pd.isna(topic):  # Check if Nan\n",
    "        return np.nan, np.nan\n",
    "    for category, subcategories in category_mapping.items():\n",
    "        for subcategory in subcategories:\n",
    "            if subcategory in topic:\n",
    "                return category, subcategory\n",
    "    return np.nan, np.nan\n",
    "# Apply mapping function to create new columns\n",
    "merged_df[['CATEGORY', 'SUB-CATEGORY']] = merged_df['TOPIC OF INFLUENCE'].apply(lambda x: pd.Series(map_to_category(x)))\n",
    "merged_df"
   ]
  },
  {
   "cell_type": "code",
   "execution_count": 16,
   "id": "9c65730b-f1ef-4347-ad4f-31a1c049e328",
   "metadata": {
    "tags": []
   },
   "outputs": [
    {
     "data": {
      "text/html": [
       "<div>\n",
       "<style scoped>\n",
       "    .dataframe tbody tr th:only-of-type {\n",
       "        vertical-align: middle;\n",
       "    }\n",
       "\n",
       "    .dataframe tbody tr th {\n",
       "        vertical-align: top;\n",
       "    }\n",
       "\n",
       "    .dataframe thead th {\n",
       "        text-align: right;\n",
       "    }\n",
       "</style>\n",
       "<table border=\"1\" class=\"dataframe\">\n",
       "  <thead>\n",
       "    <tr style=\"text-align: right;\">\n",
       "      <th></th>\n",
       "      <th>#</th>\n",
       "      <th>NAME</th>\n",
       "      <th>FOLLOWERS</th>\n",
       "      <th>ENGAGEMENT RATE</th>\n",
       "      <th>COUNTRY</th>\n",
       "      <th>TOPIC OF INFLUENCE</th>\n",
       "      <th>POTENTIAL REACH</th>\n",
       "      <th>Social Media Platform</th>\n",
       "      <th>CATEGORY</th>\n",
       "      <th>SUB-CATEGORY</th>\n",
       "    </tr>\n",
       "  </thead>\n",
       "  <tbody>\n",
       "    <tr>\n",
       "      <th>0</th>\n",
       "      <td>1</td>\n",
       "      <td>Cristiano Ronaldo @cristiano</td>\n",
       "      <td>625100000.0</td>\n",
       "      <td>0.01%</td>\n",
       "      <td>Portugal</td>\n",
       "      <td>Finance Soccer</td>\n",
       "      <td>187500000.0</td>\n",
       "      <td>Instagram</td>\n",
       "      <td>Sports</td>\n",
       "      <td>Soccer</td>\n",
       "    </tr>\n",
       "    <tr>\n",
       "      <th>1</th>\n",
       "      <td>2</td>\n",
       "      <td>Leo Messi @leomessi</td>\n",
       "      <td>501100000.0</td>\n",
       "      <td>0.01%</td>\n",
       "      <td>Argentina</td>\n",
       "      <td>Sports Soccer Activity General General Interest</td>\n",
       "      <td>150300000.0</td>\n",
       "      <td>Instagram</td>\n",
       "      <td>Sports</td>\n",
       "      <td>Soccer</td>\n",
       "    </tr>\n",
       "    <tr>\n",
       "      <th>2</th>\n",
       "      <td>3</td>\n",
       "      <td>Selena Gomez @selenagomez</td>\n",
       "      <td>429700000.0</td>\n",
       "      <td>1.09%</td>\n",
       "      <td>United States</td>\n",
       "      <td>Beauty and Self Care Entertainment and Music M...</td>\n",
       "      <td>128900000.0</td>\n",
       "      <td>Instagram</td>\n",
       "      <td>Entertainment</td>\n",
       "      <td>Music</td>\n",
       "    </tr>\n",
       "    <tr>\n",
       "      <th>3</th>\n",
       "      <td>4</td>\n",
       "      <td>Kylie @kyliejenner</td>\n",
       "      <td>400500000.0</td>\n",
       "      <td>-</td>\n",
       "      <td>United States</td>\n",
       "      <td>Beauty and Self Care Product Showcase Modeling...</td>\n",
       "      <td>120100000.0</td>\n",
       "      <td>Instagram</td>\n",
       "      <td>Fashion and Accessories</td>\n",
       "      <td>Modeling</td>\n",
       "    </tr>\n",
       "    <tr>\n",
       "      <th>4</th>\n",
       "      <td>5</td>\n",
       "      <td>Dwayne Johnson @therock</td>\n",
       "      <td>397800000.0</td>\n",
       "      <td>0.13%</td>\n",
       "      <td>United States</td>\n",
       "      <td>Entertainment and Music Actors Public Figure</td>\n",
       "      <td>119300000.0</td>\n",
       "      <td>Instagram</td>\n",
       "      <td>Entertainment</td>\n",
       "      <td>Music</td>\n",
       "    </tr>\n",
       "    <tr>\n",
       "      <th>...</th>\n",
       "      <td>...</td>\n",
       "      <td>...</td>\n",
       "      <td>...</td>\n",
       "      <td>...</td>\n",
       "      <td>...</td>\n",
       "      <td>...</td>\n",
       "      <td>...</td>\n",
       "      <td>...</td>\n",
       "      <td>...</td>\n",
       "      <td>...</td>\n",
       "    </tr>\n",
       "    <tr>\n",
       "      <th>395</th>\n",
       "      <td>96</td>\n",
       "      <td>Bryce Hall @brycehall</td>\n",
       "      <td>21500000.0</td>\n",
       "      <td>-</td>\n",
       "      <td>United States</td>\n",
       "      <td>Entertainment and Music</td>\n",
       "      <td>6500000.0</td>\n",
       "      <td>YouTube</td>\n",
       "      <td>Entertainment</td>\n",
       "      <td>Music</td>\n",
       "    </tr>\n",
       "    <tr>\n",
       "      <th>396</th>\n",
       "      <td>97</td>\n",
       "      <td>온오빠 On Oppa @korea.on</td>\n",
       "      <td>21500000.0</td>\n",
       "      <td>-</td>\n",
       "      <td>NaN</td>\n",
       "      <td>Entertainment and Music</td>\n",
       "      <td>6500000.0</td>\n",
       "      <td>YouTube</td>\n",
       "      <td>Entertainment</td>\n",
       "      <td>Music</td>\n",
       "    </tr>\n",
       "    <tr>\n",
       "      <th>397</th>\n",
       "      <td>98</td>\n",
       "      <td>Seany @seandoesmagic</td>\n",
       "      <td>21300000.0</td>\n",
       "      <td>-</td>\n",
       "      <td>NaN</td>\n",
       "      <td>NaN</td>\n",
       "      <td>6400000.0</td>\n",
       "      <td>YouTube</td>\n",
       "      <td>NaN</td>\n",
       "      <td>NaN</td>\n",
       "    </tr>\n",
       "    <tr>\n",
       "      <th>398</th>\n",
       "      <td>99</td>\n",
       "      <td>Pk @pkllipe</td>\n",
       "      <td>21300000.0</td>\n",
       "      <td>2.6%</td>\n",
       "      <td>NaN</td>\n",
       "      <td>NaN</td>\n",
       "      <td>6400000.0</td>\n",
       "      <td>YouTube</td>\n",
       "      <td>NaN</td>\n",
       "      <td>NaN</td>\n",
       "    </tr>\n",
       "    <tr>\n",
       "      <th>399</th>\n",
       "      <td>100</td>\n",
       "      <td>The Hype House @thehypehouse</td>\n",
       "      <td>21100000.0</td>\n",
       "      <td>-</td>\n",
       "      <td>NaN</td>\n",
       "      <td>Entertainment and Music</td>\n",
       "      <td>6300000.0</td>\n",
       "      <td>YouTube</td>\n",
       "      <td>Entertainment</td>\n",
       "      <td>Music</td>\n",
       "    </tr>\n",
       "  </tbody>\n",
       "</table>\n",
       "<p>400 rows × 10 columns</p>\n",
       "</div>"
      ],
      "text/plain": [
       "       #                          NAME    FOLLOWERS ENGAGEMENT RATE  \\\n",
       "0      1  Cristiano Ronaldo @cristiano  625100000.0           0.01%   \n",
       "1      2           Leo Messi @leomessi  501100000.0           0.01%   \n",
       "2      3     Selena Gomez @selenagomez  429700000.0           1.09%   \n",
       "3      4            Kylie @kyliejenner  400500000.0               -   \n",
       "4      5       Dwayne Johnson @therock  397800000.0           0.13%   \n",
       "..   ...                           ...          ...             ...   \n",
       "395   96         Bryce Hall @brycehall   21500000.0               -   \n",
       "396   97         온오빠 On Oppa @korea.on   21500000.0               -   \n",
       "397   98          Seany @seandoesmagic   21300000.0               -   \n",
       "398   99                   Pk @pkllipe   21300000.0            2.6%   \n",
       "399  100  The Hype House @thehypehouse   21100000.0               -   \n",
       "\n",
       "           COUNTRY                                 TOPIC OF INFLUENCE  \\\n",
       "0         Portugal                                     Finance Soccer   \n",
       "1        Argentina    Sports Soccer Activity General General Interest   \n",
       "2    United States  Beauty and Self Care Entertainment and Music M...   \n",
       "3    United States  Beauty and Self Care Product Showcase Modeling...   \n",
       "4    United States       Entertainment and Music Actors Public Figure   \n",
       "..             ...                                                ...   \n",
       "395  United States                            Entertainment and Music   \n",
       "396            NaN                            Entertainment and Music   \n",
       "397            NaN                                                NaN   \n",
       "398            NaN                                                NaN   \n",
       "399            NaN                            Entertainment and Music   \n",
       "\n",
       "     POTENTIAL REACH Social Media Platform                 CATEGORY  \\\n",
       "0        187500000.0             Instagram                   Sports   \n",
       "1        150300000.0             Instagram                   Sports   \n",
       "2        128900000.0             Instagram            Entertainment   \n",
       "3        120100000.0             Instagram  Fashion and Accessories   \n",
       "4        119300000.0             Instagram            Entertainment   \n",
       "..               ...                   ...                      ...   \n",
       "395        6500000.0               YouTube            Entertainment   \n",
       "396        6500000.0               YouTube            Entertainment   \n",
       "397        6400000.0               YouTube                      NaN   \n",
       "398        6400000.0               YouTube                      NaN   \n",
       "399        6300000.0               YouTube            Entertainment   \n",
       "\n",
       "    SUB-CATEGORY  \n",
       "0         Soccer  \n",
       "1         Soccer  \n",
       "2          Music  \n",
       "3       Modeling  \n",
       "4          Music  \n",
       "..           ...  \n",
       "395        Music  \n",
       "396        Music  \n",
       "397          NaN  \n",
       "398          NaN  \n",
       "399        Music  \n",
       "\n",
       "[400 rows x 10 columns]"
      ]
     },
     "execution_count": 16,
     "metadata": {},
     "output_type": "execute_result"
    }
   ],
   "source": [
    "# Rename the \"ER\" column to \"Engagement Rate\"\n",
    "merged_df = merged_df.rename(columns={\"ER\": \"ENGAGEMENT RATE\"})\n",
    "merged_df"
   ]
  },
  {
   "cell_type": "code",
   "execution_count": 17,
   "id": "0ed27d20-d384-42c0-8fac-cce9bfa9b27b",
   "metadata": {
    "tags": []
   },
   "outputs": [
    {
     "name": "stderr",
     "output_type": "stream",
     "text": [
      "c:\\Users\\olivi\\anaconda3\\envs\\myfirstpythonenv\\lib\\site-packages\\ipykernel_launcher.py:35: UserWarning: Glyph 127908 (\\N{MICROPHONE}) missing from current font.\n",
      "c:\\Users\\olivi\\anaconda3\\envs\\myfirstpythonenv\\lib\\site-packages\\IPython\\core\\pylabtools.py:151: UserWarning: Glyph 127908 (\\N{MICROPHONE}) missing from current font.\n",
      "  fig.canvas.print_figure(bytes_io, **kw)\n"
     ]
    },
    {
     "data": {
      "image/png": "[encoded data removed]",
      "text/plain": [
       "<Figure size 1500x1000 with 4 Axes>"
      ]
     },
     "metadata": {},
     "output_type": "display_data"
    }
   ],
   "source": [
    "# Get top 10 influencers for each social media platform\n",
    "top_10_instagram = merged_df[merged_df['Social Media Platform'] == 'Instagram'].nlargest(10, 'FOLLOWERS')\n",
    "top_10_youtube = merged_df[merged_df['Social Media Platform'] == 'YouTube'].nlargest(10, 'FOLLOWERS')\n",
    "top_10_tiktok = merged_df[merged_df['Social Media Platform'] == 'TikTok'].nlargest(10, 'FOLLOWERS')\n",
    "top_10_threads = merged_df[merged_df['Social Media Platform'] == 'Threads'].nlargest(10, 'FOLLOWERS')\n",
    "\n",
    "# Plotting top 10 influencers for each platform\n",
    "sns.set(style=\"whitegrid\")\n",
    "fig, axs = plt.subplots(2, 2, figsize=(15, 10))\n",
    "\n",
    "# Instagram\n",
    "sns.barplot(x='FOLLOWERS', y='NAME', data=top_10_instagram, ax=axs[0, 0], palette='Blues_d')\n",
    "axs[0, 0].set_title('Top 10 Instagram Influencers')\n",
    "axs[0, 0].set_xlabel('Followers in Millions')\n",
    "axs[0, 0].set_ylabel('Influencer')\n",
    "\n",
    "# YouTube\n",
    "sns.barplot(x='FOLLOWERS', y='NAME', data=top_10_youtube, ax=axs[0, 1], palette='Greens_d')\n",
    "axs[0, 1].set_title('Top 10 YouTube Influencers')\n",
    "axs[0, 1].set_xlabel('Followers in Millions')\n",
    "axs[0, 1].set_ylabel('Influencer')\n",
    "\n",
    "# TikTok\n",
    "sns.barplot(x='FOLLOWERS', y='NAME', data=top_10_tiktok, ax=axs[1, 0], palette='Reds_d')\n",
    "axs[1, 0].set_title('Top 10 TikTok Influencers')\n",
    "axs[1, 0].set_xlabel('Followers in Millions')\n",
    "axs[1, 0].set_ylabel('Influencer')\n",
    "\n",
    "# Threads\n",
    "sns.barplot(x='FOLLOWERS', y='NAME', data=top_10_threads, ax=axs[1, 1], palette='Purples_d')\n",
    "axs[1, 1].set_title('Top 10 Threads Influencers')\n",
    "axs[1, 1].set_xlabel('Followers in Millions')\n",
    "axs[1, 1].set_ylabel('Influencer')\n",
    "\n",
    "plt.tight_layout()\n",
    "plt.show()"
   ]
  },
  {
   "cell_type": "code",
   "execution_count": 18,
   "id": "91922b01-d4de-4b9a-9098-d178a8653df5",
   "metadata": {
    "tags": []
   },
   "outputs": [],
   "source": [
    "# Filter out rows with NaN values in relevant columns\n",
    "merged_df_clean = merged_df.dropna(subset=['COUNTRY', 'CATEGORY', 'SUB-CATEGORY', 'ENGAGEMENT RATE', 'POTENTIAL REACH', 'FOLLOWERS'])"
   ]
  },
  {
   "cell_type": "code",
   "execution_count": 19,
   "id": "660ca94f-e933-489c-9d43-cc347db7bbac",
   "metadata": {
    "tags": []
   },
   "outputs": [
    {
     "data": {
      "image/png": "[encoded data removed]",
      "text/plain": [
       "<Figure size 1200x600 with 1 Axes>"
      ]
     },
     "metadata": {},
     "output_type": "display_data"
    }
   ],
   "source": [
    "# Group by 'CATEGORY' and 'Social Media Platform', calculate mean potential reach\n",
    "avg_potential_reach = merged_df_clean.groupby(['CATEGORY', 'Social Media Platform'])['POTENTIAL REACH'].mean().reset_index()\n",
    "\n",
    "# Create the bar plot\n",
    "plt.figure(figsize=(12, 6))\n",
    "sns.barplot(x='Social Media Platform', y='POTENTIAL REACH', hue='CATEGORY', data=avg_potential_reach)\n",
    "\n",
    "# Set labels and title\n",
    "plt.xlabel('Social Media Platform')\n",
    "plt.ylabel('Average Potential Reach')\n",
    "plt.title('Average Potential Reach by Category and Social Media Platform')\n",
    "\n",
    "# Show the plot\n",
    "plt.tight_layout()\n",
    "plt.show()"
   ]
  },
  {
   "cell_type": "code",
   "execution_count": 20,
   "id": "d766e396-c8dc-420a-80c4-21a3e9788cc8",
   "metadata": {
    "tags": []
   },
   "outputs": [
    {
     "data": {
      "image/png": "[encoded data removed]",
      "text/plain": [
       "<Figure size 1200x600 with 2 Axes>"
      ]
     },
     "metadata": {},
     "output_type": "display_data"
    }
   ],
   "source": [
    "# Count the occurrences of each category\n",
    "category_counts = merged_df_clean['CATEGORY'].value_counts()\n",
    "\n",
    "# Count the occurrences of each sub-category\n",
    "sub_category_counts = merged_df_clean['SUB-CATEGORY'].value_counts()\n",
    "\n",
    "# Plot the bar chart for categories\n",
    "plt.figure(figsize=(12, 6))\n",
    "plt.subplot(1, 2, 1)\n",
    "sns.barplot(x=category_counts.values, y=category_counts.index, palette='viridis')\n",
    "plt.xlabel('Count')\n",
    "plt.ylabel('Category')\n",
    "plt.title('Distribution of Categories')\n",
    "\n",
    "# Plot the bar chart for sub-categories\n",
    "plt.subplot(1, 2, 2)\n",
    "sns.barplot(x=sub_category_counts.values, y=sub_category_counts.index, palette='viridis')\n",
    "plt.xlabel('Count')\n",
    "plt.ylabel('Sub-Category')\n",
    "plt.title('Distribution of Sub-Categories')\n",
    "\n",
    "plt.tight_layout()\n",
    "plt.show()"
   ]
  },
  {
   "cell_type": "code",
   "execution_count": 21,
   "id": "e099a431-c97f-4050-bed1-a659a0228440",
   "metadata": {
    "tags": []
   },
   "outputs": [
    {
     "name": "stdout",
     "output_type": "stream",
     "text": [
      "#                          int64\n",
      "NAME                      object\n",
      "FOLLOWERS                float64\n",
      "ENGAGEMENT RATE          float64\n",
      "COUNTRY                   object\n",
      "TOPIC OF INFLUENCE        object\n",
      "POTENTIAL REACH          float64\n",
      "Social Media Platform     object\n",
      "CATEGORY                  object\n",
      "SUB-CATEGORY              object\n",
      "dtype: object\n"
     ]
    }
   ],
   "source": [
    "# Replace '-' with NaN in the 'Engagement Rate' column\n",
    "merged_df['ENGAGEMENT RATE'].replace('-', np.nan, inplace=True)\n",
    "\n",
    "# Convert 'Engagement Rate' column to float\n",
    "merged_df['ENGAGEMENT RATE'] = merged_df['ENGAGEMENT RATE'].str.replace('%', '').astype(float)\n",
    "\n",
    "# Check the data types after conversion\n",
    "print(merged_df.dtypes)"
   ]
  },
  {
   "cell_type": "code",
   "execution_count": 44,
   "id": "26916371-9afb-4a71-b0e4-5f29516603cc",
   "metadata": {
    "tags": []
   },
   "outputs": [
    {
     "data": {
      "image/png": "[encoded data removed]",
      "text/plain": [
       "<Figure size 1000x600 with 1 Axes>"
      ]
     },
     "metadata": {},
     "output_type": "display_data"
    }
   ],
   "source": [
    "# Set the figure size\n",
    "plt.figure(figsize=(10, 6))\n",
    "\n",
    "# Create the box plot\n",
    "sns.boxplot(x='Social Media Platform', y='POTENTIAL REACH', data=merged_df_clean)\n",
    "\n",
    "# Set labels and title\n",
    "plt.xlabel('Social Media Platform')\n",
    "plt.ylabel('Potential reach (millions)')\n",
    "plt.title('Distribution of Potential Reach Across Social Media Platforms')\n",
    "\n",
    "# Show the plot\n",
    "plt.tight_layout()\n",
    "plt.show()"
   ]
  },
  {
   "cell_type": "code",
   "execution_count": 23,
   "id": "434bb09a-ebfd-4636-9338-a88d11e34376",
   "metadata": {
    "tags": []
   },
   "outputs": [
    {
     "data": {
      "image/png": "[encoded data removed]",
      "text/plain": [
       "<Figure size 1000x600 with 1 Axes>"
      ]
     },
     "metadata": {},
     "output_type": "display_data"
    }
   ],
   "source": [
    "# Calculate average number of followers for each social media platform\n",
    "average_followers = merged_df_clean.groupby('Social Media Platform')['FOLLOWERS'].mean().reset_index()\n",
    "\n",
    "# Set the figure size\n",
    "plt.figure(figsize=(10, 6))\n",
    "\n",
    "# Create the bar plot\n",
    "sns.barplot(x='Social Media Platform', y='FOLLOWERS', data=average_followers)\n",
    "\n",
    "# Set labels and title\n",
    "plt.xlabel('Social Media Platform')\n",
    "plt.ylabel('Average Followers')\n",
    "plt.title('Average Number of Followers Across Social Media Platforms in millions')\n",
    "\n",
    "# Show the plot\n",
    "plt.tight_layout()\n",
    "plt.show()"
   ]
  },
  {
   "cell_type": "code",
   "execution_count": 24,
   "id": "bd526830-40de-4990-86a6-7d1bb0c80622",
   "metadata": {
    "tags": []
   },
   "outputs": [
    {
     "data": {
      "application/vnd.plotly.v1+json": {
       "config": {
        "plotlyServerURL": "https://plot.ly"
       },
       "data": [
        {
         "coloraxis": "coloraxis",
         "geo": "geo",
         "hovertemplate": "<b>%{hovertext}</b><br><br>COUNTRY=%{location}<br>ENGAGEMENT RATE=%{z}<extra></extra>",
         "hovertext": [
          "Portugal",
          "Argentina",
          "United States",
          "United States",
          "United States",
          "United States",
          "United States",
          "United States",
          "United States",
          null,
          "Canada",
          "United States",
          "India",
          "United States",
          null,
          "United States",
          "Brazil",
          "United States",
          "United States",
          "United States",
          "United States",
          "United States",
          null,
          "United States",
          null,
          null,
          null,
          null,
          "United States",
          "France",
          "United States",
          "Israel",
          "United States",
          "South Korea",
          null,
          null,
          "United States",
          "India",
          "United Kingdom",
          null,
          null,
          null,
          "India",
          "Italy",
          "India",
          "India",
          "United States",
          null,
          "India",
          null,
          "France",
          "Brazil",
          "United Kingdom",
          "Indonesia",
          "South Korea",
          "Brazil",
          "United States",
          "United States",
          "France",
          "India",
          "India",
          "Colombia",
          "Brazil",
          "United States",
          "United Kingdom",
          null,
          "Brazil",
          "United States",
          null,
          "Sweden",
          "Colombia",
          "Egypt",
          "United Kingdom",
          null,
          "Spain",
          "United States",
          "United States",
          "France",
          "India",
          "United States",
          "Italy",
          "Brazil",
          "Australia",
          "Spain",
          null,
          "Argentina",
          "Brazil",
          "United States",
          null,
          "Indonesia",
          "United States",
          "United States",
          "United Kingdom",
          "Indonesia",
          null,
          "India",
          "Turkey",
          "Brazil",
          "United Arab Emirates",
          "United States",
          null,
          null,
          null,
          "Brazil",
          null,
          "Brazil",
          null,
          null,
          null,
          null,
          null,
          "Brazil",
          "Chile",
          null,
          "Brazil",
          "United States",
          "United States",
          null,
          null,
          "Brazil",
          null,
          "Brazil",
          null,
          "Mexico",
          "Brazil",
          null,
          null,
          null,
          null,
          null,
          "Venezuela",
          "Brazil",
          null,
          "Brazil",
          null,
          "Brazil",
          "Brazil",
          "Colombia",
          null,
          null,
          "Brazil",
          null,
          "United States",
          null,
          null,
          null,
          "United States",
          null,
          "Colombia",
          null,
          "Brazil",
          "Brazil",
          "Brazil",
          null,
          "Brazil",
          null,
          "Brazil",
          "Brazil",
          "Brazil",
          null,
          "United States",
          null,
          null,
          null,
          "Brazil",
          null,
          null,
          null,
          "Brazil",
          "Brazil",
          "United Kingdom",
          "United Kingdom",
          null,
          null,
          "United Kingdom",
          "United Kingdom",
          "Greece",
          null,
          null,
          "Brazil",
          null,
          "Brazil",
          "Brazil",
          "United States",
          null,
          null,
          null,
          "Nigeria",
          null,
          "Brazil",
          null,
          null,
          null,
          null,
          "Brazil",
          "Brazil",
          null,
          null,
          null,
          null,
          "Italy",
          "United States",
          "United States",
          null,
          "United States",
          "Mexico",
          "United States",
          "United States",
          null,
          "United States",
          "United States",
          "Colombia",
          "Vietnam",
          null,
          null,
          "United States",
          null,
          null,
          null,
          null,
          null,
          null,
          "United Kingdom",
          null,
          null,
          null,
          null,
          "United States",
          "United States",
          null,
          null,
          null,
          "United States",
          null,
          null,
          null,
          null,
          null,
          "United States",
          "Puerto Rico",
          "United States",
          null,
          "United States",
          "United States",
          null,
          "Spain",
          "Colombia",
          "Mexico",
          "United States",
          "Brazil",
          "United States",
          "Chile",
          null,
          null,
          "South Korea",
          null,
          null,
          null,
          null,
          null,
          null,
          "United States",
          "Kuwait",
          "United States",
          null,
          null,
          null,
          null,
          null,
          null,
          null,
          null,
          null,
          null,
          null,
          null,
          null,
          null,
          "United States",
          "United States",
          null,
          null,
          "Canada",
          "United States",
          null,
          null,
          null,
          null,
          "United States",
          null,
          null,
          "United States",
          null,
          null,
          null,
          "United States",
          null,
          null,
          null,
          null,
          "Italy",
          "United States",
          "United States",
          null,
          "United States",
          "Mexico",
          "United States",
          "United States",
          null,
          "United States",
          "United States",
          "Colombia",
          "Vietnam",
          null,
          null,
          "United States",
          null,
          null,
          null,
          null,
          null,
          null,
          "United Kingdom",
          null,
          null,
          null,
          null,
          "United States",
          "United States",
          null,
          null,
          null,
          "United States",
          null,
          null,
          null,
          null,
          null,
          "United States",
          "Puerto Rico",
          "United States",
          null,
          "United States",
          "United States",
          null,
          "Spain",
          "Colombia",
          "Mexico",
          "United States",
          "Brazil",
          "United States",
          "Chile",
          null,
          null,
          "South Korea",
          null,
          null,
          null,
          null,
          null,
          null,
          "United States",
          "Kuwait",
          "United States",
          null,
          null,
          null,
          null,
          null,
          null,
          null,
          null,
          null,
          null,
          null,
          null,
          null,
          null,
          "United States",
          "United States",
          null,
          null,
          "Canada",
          "United States",
          null,
          null,
          null,
          null,
          "United States",
          null,
          null,
          "United States",
          null,
          null,
          null,
          "United States",
          null,
          null,
          null,
          null
         ],
         "locationmode": "country names",
         "locations": [
          "Portugal",
          "Argentina",
          "United States",
          "United States",
          "United States",
          "United States",
          "United States",
          "United States",
          "United States",
          null,
          "Canada",
          "United States",
          "India",
          "United States",
          null,
          "United States",
          "Brazil",
          "United States",
          "United States",
          "United States",
          "United States",
          "United States",
          null,
          "United States",
          null,
          null,
          null,
          null,
          "United States",
          "France",
          "United States",
          "Israel",
          "United States",
          "South Korea",
          null,
          null,
          "United States",
          "India",
          "United Kingdom",
          null,
          null,
          null,
          "India",
          "Italy",
          "India",
          "India",
          "United States",
          null,
          "India",
          null,
          "France",
          "Brazil",
          "United Kingdom",
          "Indonesia",
          "South Korea",
          "Brazil",
          "United States",
          "United States",
          "France",
          "India",
          "India",
          "Colombia",
          "Brazil",
          "United States",
          "United Kingdom",
          null,
          "Brazil",
          "United States",
          null,
          "Sweden",
          "Colombia",
          "Egypt",
          "United Kingdom",
          null,
          "Spain",
          "United States",
          "United States",
          "France",
          "India",
          "United States",
          "Italy",
          "Brazil",
          "Australia",
          "Spain",
          null,
          "Argentina",
          "Brazil",
          "United States",
          null,
          "Indonesia",
          "United States",
          "United States",
          "United Kingdom",
          "Indonesia",
          null,
          "India",
          "Turkey",
          "Brazil",
          "United Arab Emirates",
          "United States",
          null,
          null,
          null,
          "Brazil",
          null,
          "Brazil",
          null,
          null,
          null,
          null,
          null,
          "Brazil",
          "Chile",
          null,
          "Brazil",
          "United States",
          "United States",
          null,
          null,
          "Brazil",
          null,
          "Brazil",
          null,
          "Mexico",
          "Brazil",
          null,
          null,
          null,
          null,
          null,
          "Venezuela",
          "Brazil",
          null,
          "Brazil",
          null,
          "Brazil",
          "Brazil",
          "Colombia",
          null,
          null,
          "Brazil",
          null,
          "United States",
          null,
          null,
          null,
          "United States",
          null,
          "Colombia",
          null,
          "Brazil",
          "Brazil",
          "Brazil",
          null,
          "Brazil",
          null,
          "Brazil",
          "Brazil",
          "Brazil",
          null,
          "United States",
          null,
          null,
          null,
          "Brazil",
          null,
          null,
          null,
          "Brazil",
          "Brazil",
          "United Kingdom",
          "United Kingdom",
          null,
          null,
          "United Kingdom",
          "United Kingdom",
          "Greece",
          null,
          null,
          "Brazil",
          null,
          "Brazil",
          "Brazil",
          "United States",
          null,
          null,
          null,
          "Nigeria",
          null,
          "Brazil",
          null,
          null,
          null,
          null,
          "Brazil",
          "Brazil",
          null,
          null,
          null,
          null,
          "Italy",
          "United States",
          "United States",
          null,
          "United States",
          "Mexico",
          "United States",
          "United States",
          null,
          "United States",
          "United States",
          "Colombia",
          "Vietnam",
          null,
          null,
          "United States",
          null,
          null,
          null,
          null,
          null,
          null,
          "United Kingdom",
          null,
          null,
          null,
          null,
          "United States",
          "United States",
          null,
          null,
          null,
          "United States",
          null,
          null,
          null,
          null,
          null,
          "United States",
          "Puerto Rico",
          "United States",
          null,
          "United States",
          "United States",
          null,
          "Spain",
          "Colombia",
          "Mexico",
          "United States",
          "Brazil",
          "United States",
          "Chile",
          null,
          null,
          "South Korea",
          null,
          null,
          null,
          null,
          null,
          null,
          "United States",
          "Kuwait",
          "United States",
          null,
          null,
          null,
          null,
          null,
          null,
          null,
          null,
          null,
          null,
          null,
          null,
          null,
          null,
          "United States",
          "United States",
          null,
          null,
          "Canada",
          "United States",
          null,
          null,
          null,
          null,
          "United States",
          null,
          null,
          "United States",
          null,
          null,
          null,
          "United States",
          null,
          null,
          null,
          null,
          "Italy",
          "United States",
          "United States",
          null,
          "United States",
          "Mexico",
          "United States",
          "United States",
          null,
          "United States",
          "United States",
          "Colombia",
          "Vietnam",
          null,
          null,
          "United States",
          null,
          null,
          null,
          null,
          null,
          null,
          "United Kingdom",
          null,
          null,
          null,
          null,
          "United States",
          "United States",
          null,
          null,
          null,
          "United States",
          null,
          null,
          null,
          null,
          null,
          "United States",
          "Puerto Rico",
          "United States",
          null,
          "United States",
          "United States",
          null,
          "Spain",
          "Colombia",
          "Mexico",
          "United States",
          "Brazil",
          "United States",
          "Chile",
          null,
          null,
          "South Korea",
          null,
          null,
          null,
          null,
          null,
          null,
          "United States",
          "Kuwait",
          "United States",
          null,
          null,
          null,
          null,
          null,
          null,
          null,
          null,
          null,
          null,
          null,
          null,
          null,
          null,
          "United States",
          "United States",
          null,
          null,
          "Canada",
          "United States",
          null,
          null,
          null,
          null,
          "United States",
          null,
          null,
          "United States",
          null,
          null,
          null,
          "United States",
          null,
          null,
          null,
          null
         ],
         "name": "",
         "type": "choropleth",
         "z": [
          0.01,
          0.01,
          1.09,
          null,
          0.13,
          0.58,
          0.32,
          0.48,
          0.19,
          1.12,
          0.37,
          null,
          0.02,
          0.01,
          0.18,
          0.5,
          null,
          0.01,
          0.01,
          2.92,
          0.06,
          1.05,
          0.96,
          0.01,
          0.01,
          0.2,
          0.23,
          0.92,
          0.02,
          2.54,
          0.03,
          0.16,
          0.64,
          7.02,
          0.72,
          0.02,
          1.05,
          2.23,
          0.64,
          0.06,
          1.99,
          5.14,
          0.02,
          1.17,
          0.87,
          2.18,
          1.74,
          4.57,
          0.77,
          5.26,
          1.42,
          0.35,
          1.41,
          0.21,
          2.32,
          0.03,
          0.08,
          1.95,
          0.34,
          1.59,
          0.02,
          5.59,
          0.49,
          1.42,
          4.52,
          2.27,
          0.6,
          0.28,
          18.09,
          0.46,
          1.27,
          1.37,
          0.02,
          0.37,
          1.14,
          0.2,
          0.02,
          0.89,
          0.61,
          1.83,
          0.2,
          1.02,
          1.6,
          0.03,
          0.02,
          2.07,
          0.02,
          0.62,
          0.25,
          0.02,
          0.96,
          0.9,
          4.14,
          0.02,
          0.87,
          0.27,
          0.03,
          0.21,
          0.05,
          0.16,
          0.37,
          0.33,
          0.3,
          0.6,
          0.24,
          0.8,
          0.15,
          0.52,
          0.11,
          0.14,
          null,
          0.54,
          0.21,
          0.15,
          0.3,
          0.22,
          null,
          0.62,
          3.26,
          0.57,
          0.15,
          0.08,
          0.15,
          3.79,
          0.49,
          0.3,
          0.11,
          0.3,
          0.32,
          0.37,
          0.38,
          0.28,
          0.53,
          0.2,
          0.05,
          0.69,
          0.33,
          0.43,
          null,
          0.17,
          0.59,
          2.71,
          0.15,
          null,
          0.54,
          0.1,
          0.14,
          0.31,
          0.48,
          0.1,
          0.03,
          null,
          0.49,
          0.23,
          0.18,
          0.5,
          0.08,
          0.46,
          0.51,
          1.01,
          0.77,
          0.09,
          0.29,
          0.28,
          0.49,
          0.19,
          1.08,
          0.59,
          0.19,
          0.39,
          null,
          0.18,
          0.54,
          0.33,
          0.46,
          0.2,
          0.49,
          0.18,
          0.11,
          0.08,
          0.31,
          0.46,
          0.28,
          0.3,
          0.2,
          0.23,
          1.98,
          0.84,
          0.16,
          0.13,
          0.27,
          3.26,
          0.26,
          0.23,
          0.42,
          0.36,
          0.14,
          0.09,
          0.37,
          0.14,
          0.2,
          0.8,
          1,
          4,
          2.9,
          1.6,
          0.9,
          0.7,
          0.2,
          0.4,
          3.2,
          3.8,
          null,
          1,
          null,
          0.3,
          null,
          null,
          null,
          null,
          null,
          null,
          1.1,
          null,
          null,
          0.2,
          2,
          0.1,
          null,
          0.1,
          null,
          null,
          1.7,
          null,
          null,
          null,
          0.6,
          null,
          0.2,
          18.4,
          2.1,
          0.4,
          0.9,
          null,
          0.7,
          null,
          null,
          null,
          null,
          1,
          null,
          null,
          null,
          null,
          0.2,
          4.5,
          null,
          null,
          null,
          null,
          1.2,
          0.1,
          null,
          null,
          null,
          null,
          0.1,
          4.6,
          null,
          null,
          null,
          1,
          0.6,
          null,
          null,
          null,
          null,
          0.8,
          0.4,
          null,
          0.6,
          5.1,
          8.5,
          0.3,
          null,
          8,
          null,
          null,
          null,
          0.8,
          null,
          0.2,
          null,
          null,
          null,
          null,
          null,
          null,
          2.6,
          null,
          0.2,
          0.8,
          1,
          4,
          2.9,
          1.6,
          0.9,
          0.7,
          0.2,
          0.4,
          3.2,
          3.8,
          null,
          1,
          null,
          0.3,
          null,
          null,
          null,
          null,
          null,
          null,
          1.1,
          null,
          null,
          0.2,
          2,
          0.1,
          null,
          0.1,
          null,
          null,
          1.7,
          null,
          null,
          null,
          0.6,
          null,
          0.2,
          18.4,
          2.1,
          0.4,
          0.9,
          null,
          0.7,
          null,
          null,
          null,
          null,
          1,
          null,
          null,
          null,
          null,
          0.2,
          4.5,
          null,
          null,
          null,
          null,
          1.2,
          0.1,
          null,
          null,
          null,
          null,
          0.1,
          4.6,
          null,
          null,
          null,
          1,
          0.6,
          null,
          null,
          null,
          null,
          0.8,
          0.4,
          null,
          0.6,
          5.1,
          8.5,
          0.3,
          null,
          8,
          null,
          null,
          null,
          0.8,
          null,
          0.2,
          null,
          null,
          null,
          null,
          null,
          null,
          2.6,
          null
         ]
        }
       ],
       "layout": {
        "coloraxis": {
         "cmax": 18.4,
         "cmin": 0.01,
         "colorbar": {
          "title": {
           "text": "ENGAGEMENT RATE"
          }
         },
         "colorscale": [
          [
           0,
           "rgb(253, 237, 176)"
          ],
          [
           0.09090909090909091,
           "rgb(250, 205, 145)"
          ],
          [
           0.18181818181818182,
           "rgb(246, 173, 119)"
          ],
          [
           0.2727272727272727,
           "rgb(240, 142, 98)"
          ],
          [
           0.36363636363636365,
           "rgb(231, 109, 84)"
          ],
          [
           0.45454545454545453,
           "rgb(216, 80, 83)"
          ],
          [
           0.5454545454545454,
           "rgb(195, 56, 90)"
          ],
          [
           0.6363636363636364,
           "rgb(168, 40, 96)"
          ],
          [
           0.7272727272727273,
           "rgb(138, 29, 99)"
          ],
          [
           0.8181818181818182,
           "rgb(107, 24, 93)"
          ],
          [
           0.9090909090909091,
           "rgb(76, 21, 80)"
          ],
          [
           1,
           "rgb(47, 15, 61)"
          ]
         ]
        },
        "geo": {
         "center": {},
         "domain": {
          "x": [
           0,
           1
          ],
          "y": [
           0,
           1
          ]
         },
         "projection": {
          "type": "natural earth"
         }
        },
        "height": 600,
        "legend": {
         "tracegroupgap": 0
        },
        "margin": {
         "b": 0,
         "l": 0,
         "r": 0,
         "t": 0
        },
        "template": {
         "data": {
          "bar": [
           {
            "error_x": {
             "color": "#2a3f5f"
            },
            "error_y": {
             "color": "#2a3f5f"
            },
            "marker": {
             "line": {
              "color": "#E5ECF6",
              "width": 0.5
             },
             "pattern": {
              "fillmode": "overlay",
              "size": 10,
              "solidity": 0.2
             }
            },
            "type": "bar"
           }
          ],
          "barpolar": [
           {
            "marker": {
             "line": {
              "color": "#E5ECF6",
              "width": 0.5
             },
             "pattern": {
              "fillmode": "overlay",
              "size": 10,
              "solidity": 0.2
             }
            },
            "type": "barpolar"
           }
          ],
          "carpet": [
           {
            "aaxis": {
             "endlinecolor": "#2a3f5f",
             "gridcolor": "white",
             "linecolor": "white",
             "minorgridcolor": "white",
             "startlinecolor": "#2a3f5f"
            },
            "baxis": {
             "endlinecolor": "#2a3f5f",
             "gridcolor": "white",
             "linecolor": "white",
             "minorgridcolor": "white",
             "startlinecolor": "#2a3f5f"
            },
            "type": "carpet"
           }
          ],
          "choropleth": [
           {
            "colorbar": {
             "outlinewidth": 0,
             "ticks": ""
            },
            "type": "choropleth"
           }
          ],
          "contour": [
           {
            "colorbar": {
             "outlinewidth": 0,
             "ticks": ""
            },
            "colorscale": [
             [
              0,
              "#0d0887"
             ],
             [
              0.1111111111111111,
              "#46039f"
             ],
             [
              0.2222222222222222,
              "#7201a8"
             ],
             [
              0.3333333333333333,
              "#9c179e"
             ],
             [
              0.4444444444444444,
              "#bd3786"
             ],
             [
              0.5555555555555556,
              "#d8576b"
             ],
             [
              0.6666666666666666,
              "#ed7953"
             ],
             [
              0.7777777777777778,
              "#fb9f3a"
             ],
             [
              0.8888888888888888,
              "#fdca26"
             ],
             [
              1,
              "#f0f921"
             ]
            ],
            "type": "contour"
           }
          ],
          "contourcarpet": [
           {
            "colorbar": {
             "outlinewidth": 0,
             "ticks": ""
            },
            "type": "contourcarpet"
           }
          ],
          "heatmap": [
           {
            "colorbar": {
             "outlinewidth": 0,
             "ticks": ""
            },
            "colorscale": [
             [
              0,
              "#0d0887"
             ],
             [
              0.1111111111111111,
              "#46039f"
             ],
             [
              0.2222222222222222,
              "#7201a8"
             ],
             [
              0.3333333333333333,
              "#9c179e"
             ],
             [
              0.4444444444444444,
              "#bd3786"
             ],
             [
              0.5555555555555556,
              "#d8576b"
             ],
             [
              0.6666666666666666,
              "#ed7953"
             ],
             [
              0.7777777777777778,
              "#fb9f3a"
             ],
             [
              0.8888888888888888,
              "#fdca26"
             ],
             [
              1,
              "#f0f921"
             ]
            ],
            "type": "heatmap"
           }
          ],
          "heatmapgl": [
           {
            "colorbar": {
             "outlinewidth": 0,
             "ticks": ""
            },
            "colorscale": [
             [
              0,
              "#0d0887"
             ],
             [
              0.1111111111111111,
              "#46039f"
             ],
             [
              0.2222222222222222,
              "#7201a8"
             ],
             [
              0.3333333333333333,
              "#9c179e"
             ],
             [
              0.4444444444444444,
              "#bd3786"
             ],
             [
              0.5555555555555556,
              "#d8576b"
             ],
             [
              0.6666666666666666,
              "#ed7953"
             ],
             [
              0.7777777777777778,
              "#fb9f3a"
             ],
             [
              0.8888888888888888,
              "#fdca26"
             ],
             [
              1,
              "#f0f921"
             ]
            ],
            "type": "heatmapgl"
           }
          ],
          "histogram": [
           {
            "marker": {
             "pattern": {
              "fillmode": "overlay",
              "size": 10,
              "solidity": 0.2
             }
            },
            "type": "histogram"
           }
          ],
          "histogram2d": [
           {
            "colorbar": {
             "outlinewidth": 0,
             "ticks": ""
            },
            "colorscale": [
             [
              0,
              "#0d0887"
             ],
             [
              0.1111111111111111,
              "#46039f"
             ],
             [
              0.2222222222222222,
              "#7201a8"
             ],
             [
              0.3333333333333333,
              "#9c179e"
             ],
             [
              0.4444444444444444,
              "#bd3786"
             ],
             [
              0.5555555555555556,
              "#d8576b"
             ],
             [
              0.6666666666666666,
              "#ed7953"
             ],
             [
              0.7777777777777778,
              "#fb9f3a"
             ],
             [
              0.8888888888888888,
              "#fdca26"
             ],
             [
              1,
              "#f0f921"
             ]
            ],
            "type": "histogram2d"
           }
          ],
          "histogram2dcontour": [
           {
            "colorbar": {
             "outlinewidth": 0,
             "ticks": ""
            },
            "colorscale": [
             [
              0,
              "#0d0887"
             ],
             [
              0.1111111111111111,
              "#46039f"
             ],
             [
              0.2222222222222222,
              "#7201a8"
             ],
             [
              0.3333333333333333,
              "#9c179e"
             ],
             [
              0.4444444444444444,
              "#bd3786"
             ],
             [
              0.5555555555555556,
              "#d8576b"
             ],
             [
              0.6666666666666666,
              "#ed7953"
             ],
             [
              0.7777777777777778,
              "#fb9f3a"
             ],
             [
              0.8888888888888888,
              "#fdca26"
             ],
             [
              1,
              "#f0f921"
             ]
            ],
            "type": "histogram2dcontour"
           }
          ],
          "mesh3d": [
           {
            "colorbar": {
             "outlinewidth": 0,
             "ticks": ""
            },
            "type": "mesh3d"
           }
          ],
          "parcoords": [
           {
            "line": {
             "colorbar": {
              "outlinewidth": 0,
              "ticks": ""
             }
            },
            "type": "parcoords"
           }
          ],
          "pie": [
           {
            "automargin": true,
            "type": "pie"
           }
          ],
          "scatter": [
           {
            "fillpattern": {
             "fillmode": "overlay",
             "size": 10,
             "solidity": 0.2
            },
            "type": "scatter"
           }
          ],
          "scatter3d": [
           {
            "line": {
             "colorbar": {
              "outlinewidth": 0,
              "ticks": ""
             }
            },
            "marker": {
             "colorbar": {
              "outlinewidth": 0,
              "ticks": ""
             }
            },
            "type": "scatter3d"
           }
          ],
          "scattercarpet": [
           {
            "marker": {
             "colorbar": {
              "outlinewidth": 0,
              "ticks": ""
             }
            },
            "type": "scattercarpet"
           }
          ],
          "scattergeo": [
           {
            "marker": {
             "colorbar": {
              "outlinewidth": 0,
              "ticks": ""
             }
            },
            "type": "scattergeo"
           }
          ],
          "scattergl": [
           {
            "marker": {
             "colorbar": {
              "outlinewidth": 0,
              "ticks": ""
             }
            },
            "type": "scattergl"
           }
          ],
          "scattermapbox": [
           {
            "marker": {
             "colorbar": {
              "outlinewidth": 0,
              "ticks": ""
             }
            },
            "type": "scattermapbox"
           }
          ],
          "scatterpolar": [
           {
            "marker": {
             "colorbar": {
              "outlinewidth": 0,
              "ticks": ""
             }
            },
            "type": "scatterpolar"
           }
          ],
          "scatterpolargl": [
           {
            "marker": {
             "colorbar": {
              "outlinewidth": 0,
              "ticks": ""
             }
            },
            "type": "scatterpolargl"
           }
          ],
          "scatterternary": [
           {
            "marker": {
             "colorbar": {
              "outlinewidth": 0,
              "ticks": ""
             }
            },
            "type": "scatterternary"
           }
          ],
          "surface": [
           {
            "colorbar": {
             "outlinewidth": 0,
             "ticks": ""
            },
            "colorscale": [
             [
              0,
              "#0d0887"
             ],
             [
              0.1111111111111111,
              "#46039f"
             ],
             [
              0.2222222222222222,
              "#7201a8"
             ],
             [
              0.3333333333333333,
              "#9c179e"
             ],
             [
              0.4444444444444444,
              "#bd3786"
             ],
             [
              0.5555555555555556,
              "#d8576b"
             ],
             [
              0.6666666666666666,
              "#ed7953"
             ],
             [
              0.7777777777777778,
              "#fb9f3a"
             ],
             [
              0.8888888888888888,
              "#fdca26"
             ],
             [
              1,
              "#f0f921"
             ]
            ],
            "type": "surface"
           }
          ],
          "table": [
           {
            "cells": {
             "fill": {
              "color": "#EBF0F8"
             },
             "line": {
              "color": "white"
             }
            },
            "header": {
             "fill": {
              "color": "#C8D4E3"
             },
             "line": {
              "color": "white"
             }
            },
            "type": "table"
           }
          ]
         },
         "layout": {
          "annotationdefaults": {
           "arrowcolor": "#2a3f5f",
           "arrowhead": 0,
           "arrowwidth": 1
          },
          "autotypenumbers": "strict",
          "coloraxis": {
           "colorbar": {
            "outlinewidth": 0,
            "ticks": ""
           }
          },
          "colorscale": {
           "diverging": [
            [
             0,
             "#8e0152"
            ],
            [
             0.1,
             "#c51b7d"
            ],
            [
             0.2,
             "#de77ae"
            ],
            [
             0.3,
             "#f1b6da"
            ],
            [
             0.4,
             "#fde0ef"
            ],
            [
             0.5,
             "#f7f7f7"
            ],
            [
             0.6,
             "#e6f5d0"
            ],
            [
             0.7,
             "#b8e186"
            ],
            [
             0.8,
             "#7fbc41"
            ],
            [
             0.9,
             "#4d9221"
            ],
            [
             1,
             "#276419"
            ]
           ],
           "sequential": [
            [
             0,
             "#0d0887"
            ],
            [
             0.1111111111111111,
             "#46039f"
            ],
            [
             0.2222222222222222,
             "#7201a8"
            ],
            [
             0.3333333333333333,
             "#9c179e"
            ],
            [
             0.4444444444444444,
             "#bd3786"
            ],
            [
             0.5555555555555556,
             "#d8576b"
            ],
            [
             0.6666666666666666,
             "#ed7953"
            ],
            [
             0.7777777777777778,
             "#fb9f3a"
            ],
            [
             0.8888888888888888,
             "#fdca26"
            ],
            [
             1,
             "#f0f921"
            ]
           ],
           "sequentialminus": [
            [
             0,
             "#0d0887"
            ],
            [
             0.1111111111111111,
             "#46039f"
            ],
            [
             0.2222222222222222,
             "#7201a8"
            ],
            [
             0.3333333333333333,
             "#9c179e"
            ],
            [
             0.4444444444444444,
             "#bd3786"
            ],
            [
             0.5555555555555556,
             "#d8576b"
            ],
            [
             0.6666666666666666,
             "#ed7953"
            ],
            [
             0.7777777777777778,
             "#fb9f3a"
            ],
            [
             0.8888888888888888,
             "#fdca26"
            ],
            [
             1,
             "#f0f921"
            ]
           ]
          },
          "colorway": [
           "#636efa",
           "#EF553B",
           "#00cc96",
           "#ab63fa",
           "#FFA15A",
           "#19d3f3",
           "#FF6692",
           "#B6E880",
           "#FF97FF",
           "#FECB52"
          ],
          "font": {
           "color": "#2a3f5f"
          },
          "geo": {
           "bgcolor": "white",
           "lakecolor": "white",
           "landcolor": "#E5ECF6",
           "showlakes": true,
           "showland": true,
           "subunitcolor": "white"
          },
          "hoverlabel": {
           "align": "left"
          },
          "hovermode": "closest",
          "mapbox": {
           "style": "light"
          },
          "paper_bgcolor": "white",
          "plot_bgcolor": "#E5ECF6",
          "polar": {
           "angularaxis": {
            "gridcolor": "white",
            "linecolor": "white",
            "ticks": ""
           },
           "bgcolor": "#E5ECF6",
           "radialaxis": {
            "gridcolor": "white",
            "linecolor": "white",
            "ticks": ""
           }
          },
          "scene": {
           "xaxis": {
            "backgroundcolor": "#E5ECF6",
            "gridcolor": "white",
            "gridwidth": 2,
            "linecolor": "white",
            "showbackground": true,
            "ticks": "",
            "zerolinecolor": "white"
           },
           "yaxis": {
            "backgroundcolor": "#E5ECF6",
            "gridcolor": "white",
            "gridwidth": 2,
            "linecolor": "white",
            "showbackground": true,
            "ticks": "",
            "zerolinecolor": "white"
           },
           "zaxis": {
            "backgroundcolor": "#E5ECF6",
            "gridcolor": "white",
            "gridwidth": 2,
            "linecolor": "white",
            "showbackground": true,
            "ticks": "",
            "zerolinecolor": "white"
           }
          },
          "shapedefaults": {
           "line": {
            "color": "#2a3f5f"
           }
          },
          "ternary": {
           "aaxis": {
            "gridcolor": "white",
            "linecolor": "white",
            "ticks": ""
           },
           "baxis": {
            "gridcolor": "white",
            "linecolor": "white",
            "ticks": ""
           },
           "bgcolor": "#E5ECF6",
           "caxis": {
            "gridcolor": "white",
            "linecolor": "white",
            "ticks": ""
           }
          },
          "title": {
           "x": 0.05
          },
          "xaxis": {
           "automargin": true,
           "gridcolor": "white",
           "linecolor": "white",
           "ticks": "",
           "title": {
            "standoff": 15
           },
           "zerolinecolor": "white",
           "zerolinewidth": 2
          },
          "yaxis": {
           "automargin": true,
           "gridcolor": "white",
           "linecolor": "white",
           "ticks": "",
           "title": {
            "standoff": 15
           },
           "zerolinecolor": "white",
           "zerolinewidth": 2
          }
         }
        },
        "width": 1200
       }
      }
     },
     "metadata": {},
     "output_type": "display_data"
    }
   ],
   "source": [
    "\n",
    "# Create a world map with engagement rate as the color scale\n",
    "fig = px.choropleth(merged_df, \n",
    "                    locations = 'COUNTRY',\n",
    "                    locationmode='country names', \n",
    "                    color='ENGAGEMENT RATE', \n",
    "                    hover_name='COUNTRY', \n",
    "                    color_continuous_scale=px.colors.sequential.matter,\n",
    "                    range_color=(merged_df['ENGAGEMENT RATE'].min(), merged_df['ENGAGEMENT RATE'].max()),\n",
    "                    projection='natural earth')\n",
    "\n",
    "\n",
    "# Update layout parameters to increase the size of the map\n",
    "fig.update_layout(margin=dict(l=0, r=0, b=0, t=0),\n",
    "                  width=1200, \n",
    "                  height=600)\n",
    "\n",
    "# Show the plot\n",
    "fig.show()"
   ]
  },
  {
   "cell_type": "code",
   "execution_count": 25,
   "id": "e8ae0709-0475-472f-acc4-27fdf5f25f3d",
   "metadata": {
    "tags": []
   },
   "outputs": [],
   "source": [
    "# Define the minimum and maximum values manually\n",
    "min_value = 259899.99999999997\n",
    "max_value = 187500000.0"
   ]
  },
  {
   "cell_type": "code",
   "execution_count": 26,
   "id": "7dbc63e2-b5e4-4c6c-aef8-467abe7ea871",
   "metadata": {
    "tags": []
   },
   "outputs": [
    {
     "data": {
      "application/vnd.plotly.v1+json": {
       "config": {
        "plotlyServerURL": "https://plot.ly"
       },
       "data": [
        {
         "coloraxis": "coloraxis",
         "geo": "geo",
         "hovertemplate": "<b>%{hovertext}</b><br><br>COUNTRY=%{location}<br>POTENTIAL REACH=%{z}<extra></extra>",
         "hovertext": [
          "Portugal",
          "Argentina",
          "United States",
          "United States",
          "United States",
          "United States",
          "United States",
          "United States",
          "United States",
          "Canada",
          "United States",
          "India",
          "United States",
          "United States",
          "Brazil",
          "United States",
          "United States",
          "United States",
          "United States",
          "United States",
          "United States",
          "United States",
          "France",
          "United States",
          "Israel",
          "United States",
          "South Korea",
          "United States",
          "India",
          "United Kingdom",
          "India",
          "Italy",
          "India",
          "India",
          "United States",
          "India",
          "France",
          "Brazil",
          "United Kingdom",
          "Indonesia",
          "South Korea",
          "Brazil",
          "United States",
          "United States",
          "France",
          "India",
          "India",
          "Colombia",
          "Brazil",
          "United States",
          "United Kingdom",
          "Brazil",
          "United States",
          "Sweden",
          "Colombia",
          "United Kingdom",
          "Spain",
          "United States",
          "United States",
          "India",
          "United States",
          "Italy",
          "Brazil",
          "Australia",
          "Spain",
          "Argentina",
          "Brazil",
          "United States",
          "Indonesia",
          "United States",
          "United States",
          "United Kingdom",
          "Indonesia",
          "India",
          "Turkey",
          "Brazil",
          "United Arab Emirates",
          "United States",
          "Brazil",
          "Chile",
          "United States",
          "Brazil",
          "Brazil",
          "Mexico",
          "Brazil",
          "Venezuela",
          "Brazil",
          "Brazil",
          "Brazil",
          "United States",
          "United States",
          "Colombia",
          "Brazil",
          "Brazil",
          "Brazil",
          "Brazil",
          "United States",
          "Brazil",
          "Brazil",
          "United Kingdom",
          "United Kingdom",
          "Brazil",
          "Brazil",
          "United States",
          "Nigeria",
          "Brazil",
          "Italy",
          "United States",
          "United States",
          "United States",
          "United States",
          "United States",
          "Colombia",
          "United States",
          "United Kingdom",
          "United States",
          "United States",
          "United States",
          "United States",
          "United States",
          "United States",
          "United States",
          "Chile",
          "United States",
          "Kuwait",
          "United States",
          "United States",
          "United States",
          "United States",
          "United States",
          "United States",
          "United States",
          "Italy",
          "United States",
          "United States",
          "United States",
          "United States",
          "United States",
          "Colombia",
          "United States",
          "United Kingdom",
          "United States",
          "United States",
          "United States",
          "United States",
          "United States",
          "United States",
          "United States",
          "Chile",
          "United States",
          "Kuwait",
          "United States",
          "United States",
          "United States",
          "United States",
          "United States",
          "United States",
          "United States"
         ],
         "locationmode": "country names",
         "locations": [
          "Portugal",
          "Argentina",
          "United States",
          "United States",
          "United States",
          "United States",
          "United States",
          "United States",
          "United States",
          "Canada",
          "United States",
          "India",
          "United States",
          "United States",
          "Brazil",
          "United States",
          "United States",
          "United States",
          "United States",
          "United States",
          "United States",
          "United States",
          "France",
          "United States",
          "Israel",
          "United States",
          "South Korea",
          "United States",
          "India",
          "United Kingdom",
          "India",
          "Italy",
          "India",
          "India",
          "United States",
          "India",
          "France",
          "Brazil",
          "United Kingdom",
          "Indonesia",
          "South Korea",
          "Brazil",
          "United States",
          "United States",
          "France",
          "India",
          "India",
          "Colombia",
          "Brazil",
          "United States",
          "United Kingdom",
          "Brazil",
          "United States",
          "Sweden",
          "Colombia",
          "United Kingdom",
          "Spain",
          "United States",
          "United States",
          "India",
          "United States",
          "Italy",
          "Brazil",
          "Australia",
          "Spain",
          "Argentina",
          "Brazil",
          "United States",
          "Indonesia",
          "United States",
          "United States",
          "United Kingdom",
          "Indonesia",
          "India",
          "Turkey",
          "Brazil",
          "United Arab Emirates",
          "United States",
          "Brazil",
          "Chile",
          "United States",
          "Brazil",
          "Brazil",
          "Mexico",
          "Brazil",
          "Venezuela",
          "Brazil",
          "Brazil",
          "Brazil",
          "United States",
          "United States",
          "Colombia",
          "Brazil",
          "Brazil",
          "Brazil",
          "Brazil",
          "United States",
          "Brazil",
          "Brazil",
          "United Kingdom",
          "United Kingdom",
          "Brazil",
          "Brazil",
          "United States",
          "Nigeria",
          "Brazil",
          "Italy",
          "United States",
          "United States",
          "United States",
          "United States",
          "United States",
          "Colombia",
          "United States",
          "United Kingdom",
          "United States",
          "United States",
          "United States",
          "United States",
          "United States",
          "United States",
          "United States",
          "Chile",
          "United States",
          "Kuwait",
          "United States",
          "United States",
          "United States",
          "United States",
          "United States",
          "United States",
          "United States",
          "Italy",
          "United States",
          "United States",
          "United States",
          "United States",
          "United States",
          "Colombia",
          "United States",
          "United Kingdom",
          "United States",
          "United States",
          "United States",
          "United States",
          "United States",
          "United States",
          "United States",
          "Chile",
          "United States",
          "Kuwait",
          "United States",
          "United States",
          "United States",
          "United States",
          "United States",
          "United States",
          "United States"
         ],
         "name": "",
         "type": "choropleth",
         "z": [
          187500000,
          150300000,
          128900000,
          120100000,
          119300000,
          114100000,
          109300000,
          96000000,
          93200000,
          87900000,
          85000000,
          80100000,
          76100000,
          67300000,
          66000000,
          65099999.99999999,
          62100000,
          55500000,
          54100000,
          50700000,
          47200000,
          41900000,
          33500000,
          33100000,
          32700000.000000004,
          30800000,
          30700000,
          26600000,
          26200000,
          26100000,
          25100000,
          23900000,
          23900000,
          23700000,
          23600000,
          23300000,
          22800000,
          22700000,
          22600000,
          22600000,
          22300000,
          21900000,
          21800000,
          21500000,
          21100000,
          20800000,
          20500000,
          20500000,
          20300000,
          20000000,
          19900000,
          19500000,
          19400000,
          19300000,
          19200000,
          19000000,
          18800000,
          18600000,
          18600000,
          18300000,
          18300000,
          18100000,
          17900000,
          17500000,
          17400000,
          17300000,
          17200000,
          17100000,
          17000000,
          16900000,
          16900000,
          16800000,
          16700000,
          16600000.000000002,
          16399999.999999998,
          16300000,
          16200000,
          16200000,
          764900,
          543200,
          509100,
          487500,
          475700,
          459100,
          449900,
          433300,
          432400,
          431300,
          404100,
          393900,
          359400,
          357800,
          353700,
          344500,
          338200,
          334100,
          327100,
          305300,
          303700,
          292700,
          291200,
          284800,
          282100,
          274300,
          271000,
          264800,
          48600000,
          26600000,
          23400000,
          22300000,
          17700000,
          16800000,
          15600000,
          13700000,
          12000000,
          11100000,
          10900000,
          10400000,
          9600000,
          9500000,
          9400000,
          8700000,
          8500000,
          7800000,
          7800000,
          7800000,
          7200000,
          7100000,
          6800000,
          6600000,
          6600000,
          6500000,
          48600000,
          26600000,
          23400000,
          22300000,
          17700000,
          16800000,
          15600000,
          13700000,
          12000000,
          11100000,
          10900000,
          10400000,
          9600000,
          9500000,
          9400000,
          8700000,
          8500000,
          7800000,
          7800000,
          7800000,
          7200000,
          7100000,
          6800000,
          6600000,
          6600000,
          6500000
         ]
        }
       ],
       "layout": {
        "coloraxis": {
         "colorbar": {
          "title": {
           "text": "POTENTIAL REACH"
          }
         },
         "colorscale": [
          [
           0,
           "rgb(253, 237, 176)"
          ],
          [
           0.09090909090909091,
           "rgb(250, 205, 145)"
          ],
          [
           0.18181818181818182,
           "rgb(246, 173, 119)"
          ],
          [
           0.2727272727272727,
           "rgb(240, 142, 98)"
          ],
          [
           0.36363636363636365,
           "rgb(231, 109, 84)"
          ],
          [
           0.45454545454545453,
           "rgb(216, 80, 83)"
          ],
          [
           0.5454545454545454,
           "rgb(195, 56, 90)"
          ],
          [
           0.6363636363636364,
           "rgb(168, 40, 96)"
          ],
          [
           0.7272727272727273,
           "rgb(138, 29, 99)"
          ],
          [
           0.8181818181818182,
           "rgb(107, 24, 93)"
          ],
          [
           0.9090909090909091,
           "rgb(76, 21, 80)"
          ],
          [
           1,
           "rgb(47, 15, 61)"
          ]
         ]
        },
        "geo": {
         "center": {},
         "domain": {
          "x": [
           0,
           1
          ],
          "y": [
           0,
           1
          ]
         },
         "projection": {
          "type": "natural earth"
         }
        },
        "height": 600,
        "legend": {
         "tracegroupgap": 0
        },
        "margin": {
         "b": 0,
         "l": 0,
         "r": 0,
         "t": 0
        },
        "template": {
         "data": {
          "bar": [
           {
            "error_x": {
             "color": "#2a3f5f"
            },
            "error_y": {
             "color": "#2a3f5f"
            },
            "marker": {
             "line": {
              "color": "#E5ECF6",
              "width": 0.5
             },
             "pattern": {
              "fillmode": "overlay",
              "size": 10,
              "solidity": 0.2
             }
            },
            "type": "bar"
           }
          ],
          "barpolar": [
           {
            "marker": {
             "line": {
              "color": "#E5ECF6",
              "width": 0.5
             },
             "pattern": {
              "fillmode": "overlay",
              "size": 10,
              "solidity": 0.2
             }
            },
            "type": "barpolar"
           }
          ],
          "carpet": [
           {
            "aaxis": {
             "endlinecolor": "#2a3f5f",
             "gridcolor": "white",
             "linecolor": "white",
             "minorgridcolor": "white",
             "startlinecolor": "#2a3f5f"
            },
            "baxis": {
             "endlinecolor": "#2a3f5f",
             "gridcolor": "white",
             "linecolor": "white",
             "minorgridcolor": "white",
             "startlinecolor": "#2a3f5f"
            },
            "type": "carpet"
           }
          ],
          "choropleth": [
           {
            "colorbar": {
             "outlinewidth": 0,
             "ticks": ""
            },
            "type": "choropleth"
           }
          ],
          "contour": [
           {
            "colorbar": {
             "outlinewidth": 0,
             "ticks": ""
            },
            "colorscale": [
             [
              0,
              "#0d0887"
             ],
             [
              0.1111111111111111,
              "#46039f"
             ],
             [
              0.2222222222222222,
              "#7201a8"
             ],
             [
              0.3333333333333333,
              "#9c179e"
             ],
             [
              0.4444444444444444,
              "#bd3786"
             ],
             [
              0.5555555555555556,
              "#d8576b"
             ],
             [
              0.6666666666666666,
              "#ed7953"
             ],
             [
              0.7777777777777778,
              "#fb9f3a"
             ],
             [
              0.8888888888888888,
              "#fdca26"
             ],
             [
              1,
              "#f0f921"
             ]
            ],
            "type": "contour"
           }
          ],
          "contourcarpet": [
           {
            "colorbar": {
             "outlinewidth": 0,
             "ticks": ""
            },
            "type": "contourcarpet"
           }
          ],
          "heatmap": [
           {
            "colorbar": {
             "outlinewidth": 0,
             "ticks": ""
            },
            "colorscale": [
             [
              0,
              "#0d0887"
             ],
             [
              0.1111111111111111,
              "#46039f"
             ],
             [
              0.2222222222222222,
              "#7201a8"
             ],
             [
              0.3333333333333333,
              "#9c179e"
             ],
             [
              0.4444444444444444,
              "#bd3786"
             ],
             [
              0.5555555555555556,
              "#d8576b"
             ],
             [
              0.6666666666666666,
              "#ed7953"
             ],
             [
              0.7777777777777778,
              "#fb9f3a"
             ],
             [
              0.8888888888888888,
              "#fdca26"
             ],
             [
              1,
              "#f0f921"
             ]
            ],
            "type": "heatmap"
           }
          ],
          "heatmapgl": [
           {
            "colorbar": {
             "outlinewidth": 0,
             "ticks": ""
            },
            "colorscale": [
             [
              0,
              "#0d0887"
             ],
             [
              0.1111111111111111,
              "#46039f"
             ],
             [
              0.2222222222222222,
              "#7201a8"
             ],
             [
              0.3333333333333333,
              "#9c179e"
             ],
             [
              0.4444444444444444,
              "#bd3786"
             ],
             [
              0.5555555555555556,
              "#d8576b"
             ],
             [
              0.6666666666666666,
              "#ed7953"
             ],
             [
              0.7777777777777778,
              "#fb9f3a"
             ],
             [
              0.8888888888888888,
              "#fdca26"
             ],
             [
              1,
              "#f0f921"
             ]
            ],
            "type": "heatmapgl"
           }
          ],
          "histogram": [
           {
            "marker": {
             "pattern": {
              "fillmode": "overlay",
              "size": 10,
              "solidity": 0.2
             }
            },
            "type": "histogram"
           }
          ],
          "histogram2d": [
           {
            "colorbar": {
             "outlinewidth": 0,
             "ticks": ""
            },
            "colorscale": [
             [
              0,
              "#0d0887"
             ],
             [
              0.1111111111111111,
              "#46039f"
             ],
             [
              0.2222222222222222,
              "#7201a8"
             ],
             [
              0.3333333333333333,
              "#9c179e"
             ],
             [
              0.4444444444444444,
              "#bd3786"
             ],
             [
              0.5555555555555556,
              "#d8576b"
             ],
             [
              0.6666666666666666,
              "#ed7953"
             ],
             [
              0.7777777777777778,
              "#fb9f3a"
             ],
             [
              0.8888888888888888,
              "#fdca26"
             ],
             [
              1,
              "#f0f921"
             ]
            ],
            "type": "histogram2d"
           }
          ],
          "histogram2dcontour": [
           {
            "colorbar": {
             "outlinewidth": 0,
             "ticks": ""
            },
            "colorscale": [
             [
              0,
              "#0d0887"
             ],
             [
              0.1111111111111111,
              "#46039f"
             ],
             [
              0.2222222222222222,
              "#7201a8"
             ],
             [
              0.3333333333333333,
              "#9c179e"
             ],
             [
              0.4444444444444444,
              "#bd3786"
             ],
             [
              0.5555555555555556,
              "#d8576b"
             ],
             [
              0.6666666666666666,
              "#ed7953"
             ],
             [
              0.7777777777777778,
              "#fb9f3a"
             ],
             [
              0.8888888888888888,
              "#fdca26"
             ],
             [
              1,
              "#f0f921"
             ]
            ],
            "type": "histogram2dcontour"
           }
          ],
          "mesh3d": [
           {
            "colorbar": {
             "outlinewidth": 0,
             "ticks": ""
            },
            "type": "mesh3d"
           }
          ],
          "parcoords": [
           {
            "line": {
             "colorbar": {
              "outlinewidth": 0,
              "ticks": ""
             }
            },
            "type": "parcoords"
           }
          ],
          "pie": [
           {
            "automargin": true,
            "type": "pie"
           }
          ],
          "scatter": [
           {
            "fillpattern": {
             "fillmode": "overlay",
             "size": 10,
             "solidity": 0.2
            },
            "type": "scatter"
           }
          ],
          "scatter3d": [
           {
            "line": {
             "colorbar": {
              "outlinewidth": 0,
              "ticks": ""
             }
            },
            "marker": {
             "colorbar": {
              "outlinewidth": 0,
              "ticks": ""
             }
            },
            "type": "scatter3d"
           }
          ],
          "scattercarpet": [
           {
            "marker": {
             "colorbar": {
              "outlinewidth": 0,
              "ticks": ""
             }
            },
            "type": "scattercarpet"
           }
          ],
          "scattergeo": [
           {
            "marker": {
             "colorbar": {
              "outlinewidth": 0,
              "ticks": ""
             }
            },
            "type": "scattergeo"
           }
          ],
          "scattergl": [
           {
            "marker": {
             "colorbar": {
              "outlinewidth": 0,
              "ticks": ""
             }
            },
            "type": "scattergl"
           }
          ],
          "scattermapbox": [
           {
            "marker": {
             "colorbar": {
              "outlinewidth": 0,
              "ticks": ""
             }
            },
            "type": "scattermapbox"
           }
          ],
          "scatterpolar": [
           {
            "marker": {
             "colorbar": {
              "outlinewidth": 0,
              "ticks": ""
             }
            },
            "type": "scatterpolar"
           }
          ],
          "scatterpolargl": [
           {
            "marker": {
             "colorbar": {
              "outlinewidth": 0,
              "ticks": ""
             }
            },
            "type": "scatterpolargl"
           }
          ],
          "scatterternary": [
           {
            "marker": {
             "colorbar": {
              "outlinewidth": 0,
              "ticks": ""
             }
            },
            "type": "scatterternary"
           }
          ],
          "surface": [
           {
            "colorbar": {
             "outlinewidth": 0,
             "ticks": ""
            },
            "colorscale": [
             [
              0,
              "#0d0887"
             ],
             [
              0.1111111111111111,
              "#46039f"
             ],
             [
              0.2222222222222222,
              "#7201a8"
             ],
             [
              0.3333333333333333,
              "#9c179e"
             ],
             [
              0.4444444444444444,
              "#bd3786"
             ],
             [
              0.5555555555555556,
              "#d8576b"
             ],
             [
              0.6666666666666666,
              "#ed7953"
             ],
             [
              0.7777777777777778,
              "#fb9f3a"
             ],
             [
              0.8888888888888888,
              "#fdca26"
             ],
             [
              1,
              "#f0f921"
             ]
            ],
            "type": "surface"
           }
          ],
          "table": [
           {
            "cells": {
             "fill": {
              "color": "#EBF0F8"
             },
             "line": {
              "color": "white"
             }
            },
            "header": {
             "fill": {
              "color": "#C8D4E3"
             },
             "line": {
              "color": "white"
             }
            },
            "type": "table"
           }
          ]
         },
         "layout": {
          "annotationdefaults": {
           "arrowcolor": "#2a3f5f",
           "arrowhead": 0,
           "arrowwidth": 1
          },
          "autotypenumbers": "strict",
          "coloraxis": {
           "colorbar": {
            "outlinewidth": 0,
            "ticks": ""
           }
          },
          "colorscale": {
           "diverging": [
            [
             0,
             "#8e0152"
            ],
            [
             0.1,
             "#c51b7d"
            ],
            [
             0.2,
             "#de77ae"
            ],
            [
             0.3,
             "#f1b6da"
            ],
            [
             0.4,
             "#fde0ef"
            ],
            [
             0.5,
             "#f7f7f7"
            ],
            [
             0.6,
             "#e6f5d0"
            ],
            [
             0.7,
             "#b8e186"
            ],
            [
             0.8,
             "#7fbc41"
            ],
            [
             0.9,
             "#4d9221"
            ],
            [
             1,
             "#276419"
            ]
           ],
           "sequential": [
            [
             0,
             "#0d0887"
            ],
            [
             0.1111111111111111,
             "#46039f"
            ],
            [
             0.2222222222222222,
             "#7201a8"
            ],
            [
             0.3333333333333333,
             "#9c179e"
            ],
            [
             0.4444444444444444,
             "#bd3786"
            ],
            [
             0.5555555555555556,
             "#d8576b"
            ],
            [
             0.6666666666666666,
             "#ed7953"
            ],
            [
             0.7777777777777778,
             "#fb9f3a"
            ],
            [
             0.8888888888888888,
             "#fdca26"
            ],
            [
             1,
             "#f0f921"
            ]
           ],
           "sequentialminus": [
            [
             0,
             "#0d0887"
            ],
            [
             0.1111111111111111,
             "#46039f"
            ],
            [
             0.2222222222222222,
             "#7201a8"
            ],
            [
             0.3333333333333333,
             "#9c179e"
            ],
            [
             0.4444444444444444,
             "#bd3786"
            ],
            [
             0.5555555555555556,
             "#d8576b"
            ],
            [
             0.6666666666666666,
             "#ed7953"
            ],
            [
             0.7777777777777778,
             "#fb9f3a"
            ],
            [
             0.8888888888888888,
             "#fdca26"
            ],
            [
             1,
             "#f0f921"
            ]
           ]
          },
          "colorway": [
           "#636efa",
           "#EF553B",
           "#00cc96",
           "#ab63fa",
           "#FFA15A",
           "#19d3f3",
           "#FF6692",
           "#B6E880",
           "#FF97FF",
           "#FECB52"
          ],
          "font": {
           "color": "#2a3f5f"
          },
          "geo": {
           "bgcolor": "white",
           "lakecolor": "white",
           "landcolor": "#E5ECF6",
           "showlakes": true,
           "showland": true,
           "subunitcolor": "white"
          },
          "hoverlabel": {
           "align": "left"
          },
          "hovermode": "closest",
          "mapbox": {
           "style": "light"
          },
          "paper_bgcolor": "white",
          "plot_bgcolor": "#E5ECF6",
          "polar": {
           "angularaxis": {
            "gridcolor": "white",
            "linecolor": "white",
            "ticks": ""
           },
           "bgcolor": "#E5ECF6",
           "radialaxis": {
            "gridcolor": "white",
            "linecolor": "white",
            "ticks": ""
           }
          },
          "scene": {
           "xaxis": {
            "backgroundcolor": "#E5ECF6",
            "gridcolor": "white",
            "gridwidth": 2,
            "linecolor": "white",
            "showbackground": true,
            "ticks": "",
            "zerolinecolor": "white"
           },
           "yaxis": {
            "backgroundcolor": "#E5ECF6",
            "gridcolor": "white",
            "gridwidth": 2,
            "linecolor": "white",
            "showbackground": true,
            "ticks": "",
            "zerolinecolor": "white"
           },
           "zaxis": {
            "backgroundcolor": "#E5ECF6",
            "gridcolor": "white",
            "gridwidth": 2,
            "linecolor": "white",
            "showbackground": true,
            "ticks": "",
            "zerolinecolor": "white"
           }
          },
          "shapedefaults": {
           "line": {
            "color": "#2a3f5f"
           }
          },
          "ternary": {
           "aaxis": {
            "gridcolor": "white",
            "linecolor": "white",
            "ticks": ""
           },
           "baxis": {
            "gridcolor": "white",
            "linecolor": "white",
            "ticks": ""
           },
           "bgcolor": "#E5ECF6",
           "caxis": {
            "gridcolor": "white",
            "linecolor": "white",
            "ticks": ""
           }
          },
          "title": {
           "x": 0.05
          },
          "xaxis": {
           "automargin": true,
           "gridcolor": "white",
           "linecolor": "white",
           "ticks": "",
           "title": {
            "standoff": 15
           },
           "zerolinecolor": "white",
           "zerolinewidth": 2
          },
          "yaxis": {
           "automargin": true,
           "gridcolor": "white",
           "linecolor": "white",
           "ticks": "",
           "title": {
            "standoff": 15
           },
           "zerolinecolor": "white",
           "zerolinewidth": 2
          }
         }
        },
        "width": 1200
       }
      }
     },
     "metadata": {},
     "output_type": "display_data"
    }
   ],
   "source": [
    "# Create a world map with potential reach as the color scale\n",
    "fig = px.choropleth(merged_df_clean, \n",
    "                    locations='COUNTRY',\n",
    "                    locationmode='country names', \n",
    "                    color='POTENTIAL REACH', \n",
    "                    hover_name='COUNTRY', \n",
    "                    color_continuous_scale=px.colors.sequential.matter,\n",
    "                    #range_color=(min_value, max_value),\n",
    "                    projection='natural earth')\n",
    "\n",
    "\n",
    "# Update layout parameters to increase the size of the map\n",
    "fig.update_layout(margin=dict(l=0, r=0, b=0, t=0),\n",
    "                  width=1200, \n",
    "                  height=600)\n",
    "\n",
    "# Show the plot\n",
    "fig.show()"
   ]
  },
  {
   "cell_type": "code",
   "execution_count": 27,
   "id": "9282c3e9-5af3-448c-973a-adb36158ba6f",
   "metadata": {
    "tags": []
   },
   "outputs": [
    {
     "data": {
      "application/vnd.plotly.v1+json": {
       "config": {
        "plotlyServerURL": "https://plot.ly"
       },
       "data": [
        {
         "geo": "geo",
         "hovertemplate": "<b>%{hovertext}</b><br><br>FOLLOWERS=%{marker.color}<br>COUNTRY=%{location}<extra></extra>",
         "hovertext": [
          "Cristiano Ronaldo @cristiano",
          "Leo Messi @leomessi",
          "Selena Gomez @selenagomez",
          "Kylie @kyliejenner",
          "Dwayne Johnson @therock",
          "Ariana Grande @arianagrande",
          "Kim Kardashian @kimkardashian",
          "Beyoncé @beyonce",
          "Khloé Kardashian @khloekardashian",
          "Justin Bieber @justinbieber",
          "Taylor Swift @taylorswift",
          "Virat Kohli @virat.kohli",
          "Jennifer Lopez @jlo",
          "Kourtney Kardashian Barker @kourtneykardash",
          "Neymar Jr @neymarjr",
          "Miley Cyrus @mileycyrus",
          "KATY PERRY @katyperry",
          "Zendaya @zendaya",
          "Kevin Hart @kevinhart4real",
          "Cardi B @iamcardib",
          "Demi Lovato @ddlovato",
          "Ellen DeGeneres @ellendegeneres",
          "Kylian Mbappé @k.mbappe",
          "BILLIE EILISH @billieeilish",
          "Gal Gadot @gal_gadot",
          "Vin Diesel @vindiesel",
          "LISA @lalalalisa_m",
          "DUA LIPA @dualipa",
          "Narendra Modi @narendramodi",
          "David Beckham @davidbeckham",
          "Alia Bhatt 💛 @aliaabhatt",
          "Khabane Lame @khaby00",
          "Katrina Kaif @katrinakaif",
          "दीपिका पादुकोण @deepikapadukone",
          "Gigi Hadid @gigihadid",
          "Neha Kakkar @nehakakkar",
          "Karim Benzema @karimbenzema",
          "Ronaldo de Assis Moreira @ronaldinho",
          "Emma Watson @emmawatson",
          "Raffi Ahmad and Nagita Slavina @raffinagita1717",
          "BTS official @bts.bighitofficial",
          "Shawn Mendes @shawnmendes",
          "Justin Timberlake @justintimberlake",
          "Abel Tesfaye @theweeknd",
          "Urvashi Rautela @urvashirautela",
          "Salman Khan @beingsalmankhan",
          "Akshay Kumar @akshaykumar",
          "KAROL G @karolg",
          "Marcelo Vieira @marcelotwelve",
          "camila @camila_cabello",
          "Tom Holland @tomholland2013",
          "Anitta 🎤 @anitta",
          "Will Smith @willsmith",
          "Zlatan Ibrahimović @iamzlatanibrahimovic",
          "MALUMA @maluma",
          "Millie Bobby Brown @milliebobbybrown",
          "Sergio Ramos @sergioramos",
          "Leonardo DiCaprio @leonardodicaprio",
          "Zac Efron @zacefron",
          "disha patani (paatni) 🦋 @dishapatani",
          "Bella 🦋 @bellahadid",
          "Juventus @juventus",
          "Whindersson Nunes @whinderssonnunes",
          "Chris Hemsworth @chrishemsworth",
          "Georgina Rodríguez @georginagio",
          "Paulo Dybala @paulodybala",
          "Tata Werneck @tatawerneck",
          "Robert Downey Jr. @robertdowneyjr",
          "Ayu Tingting @ayutingting92",
          "Lady Gaga @ladygaga",
          "Wardell Curry @stephencurry30",
          "Adele @adele",
          "Prilly Latuconsina @prillylatuconsina96",
          "Sunny Leone @sunnyleone",
          "Burak Özdemir @cznburak",
          "Larissa Manoela @larissamanoela",
          "HUDA BEAUTY @hudabeauty",
          "Nusr_et#Saltbae @nusr_et",
          "Anitta 🎤 @anitta",
          "Netflix Latinoamérica @netflixlat",
          "KATY PERRY @katyperry",
          "MEL MAIA 🍯 @melissamelmaia",
          "The Shade Room @theshaderoom",
          "Luisillo El Pillo @luisitocomunica",
          "JoJo @jojotodynho",
          "Lele Pons @lelepons",
          "🏛 Gusttavo Lima 🏛 @gusttavolima",
          "Wiz Khalifa @wizkhalifa",
          "LUÍSA SONZA @luisasonza",
          "Mia K. @miakhalifa",
          "Alfinetadas Dos Famosos 📌 @alfinetei",
          "MALUMA @maluma",
          "Hugo Gloss @hugogloss",
          "Larissa Manoela @larissamanoela",
          "LUDMILLA @ludmilla",
          "Júlio Cocielo Estaniecki @cocielo",
          "FUCKJERRY @fuckjerry",
          "IZA @iza",
          "Sabrina Sato @sabrinasato",
          "Nazaré Amarga @nazareamarga",
          "Gina Indelicada @ginaindelicada",
          "isis valverde @isisvalverde",
          "LUCAS RANGEL @lucasranngel",
          "billboard @billboard",
          "Davido @davido",
          "Eliana Michaelichen @eliana",
          "Khabane lame @khaby.lame",
          "Addison Rae @addisonre",
          "Zach King @zachking",
          "The Rock @therock",
          "Jason Derulo @jasonderulo",
          "Kylie Jenner @kyliejenner",
          "Karol G @karolg",
          "JoJo Siwa @itsjojosiwa",
          "Gordon Ramsay @gordonramsayofficial",
          "Barstool Sports @barstoolsports",
          "James Charles @jamescharles",
          "Kevin Hart @imkevinhart",
          "Devon Rodriguez @devonrodriguezart",
          "Brooke Monk @brookemonk_",
          "Stokes Twins @stokestwins",
          "Topper Guild @topperguild",
          "Ignacia Antonia👑 @ignaciaa_antonia",
          "Doja Cat @dojacat",
          "Bader Al Safar @baderalsafar",
          "DAVID DOBRIK @daviddobrik",
          "Terry Crews @terrycrews",
          "Jacob Sartorius @jacobsartorius",
          "Lauren Godwin @laurengodwin",
          "Lance Stewart @lance210",
          "ROMINA @rominagafur",
          "Bryce Hall @brycehall",
          "Khabane lame @khaby.lame",
          "Addison Rae @addisonre",
          "Zach King @zachking",
          "The Rock @therock",
          "Jason Derulo @jasonderulo",
          "Kylie Jenner @kyliejenner",
          "Karol G @karolg",
          "JoJo Siwa @itsjojosiwa",
          "Gordon Ramsay @gordonramsayofficial",
          "Barstool Sports @barstoolsports",
          "James Charles @jamescharles",
          "Kevin Hart @imkevinhart",
          "Devon Rodriguez @devonrodriguezart",
          "Brooke Monk @brookemonk_",
          "Stokes Twins @stokestwins",
          "Topper Guild @topperguild",
          "Ignacia Antonia👑 @ignaciaa_antonia",
          "Doja Cat @dojacat",
          "Bader Al Safar @baderalsafar",
          "DAVID DOBRIK @daviddobrik",
          "Terry Crews @terrycrews",
          "Jacob Sartorius @jacobsartorius",
          "Lauren Godwin @laurengodwin",
          "Lance Stewart @lance210",
          "ROMINA @rominagafur",
          "Bryce Hall @brycehall"
         ],
         "legendgroup": "",
         "locationmode": "country names",
         "locations": [
          "Portugal",
          "Argentina",
          "United States",
          "United States",
          "United States",
          "United States",
          "United States",
          "United States",
          "United States",
          "Canada",
          "United States",
          "India",
          "United States",
          "United States",
          "Brazil",
          "United States",
          "United States",
          "United States",
          "United States",
          "United States",
          "United States",
          "United States",
          "France",
          "United States",
          "Israel",
          "United States",
          "South Korea",
          "United States",
          "India",
          "United Kingdom",
          "India",
          "Italy",
          "India",
          "India",
          "United States",
          "India",
          "France",
          "Brazil",
          "United Kingdom",
          "Indonesia",
          "South Korea",
          "Brazil",
          "United States",
          "United States",
          "France",
          "India",
          "India",
          "Colombia",
          "Brazil",
          "United States",
          "United Kingdom",
          "Brazil",
          "United States",
          "Sweden",
          "Colombia",
          "United Kingdom",
          "Spain",
          "United States",
          "United States",
          "India",
          "United States",
          "Italy",
          "Brazil",
          "Australia",
          "Spain",
          "Argentina",
          "Brazil",
          "United States",
          "Indonesia",
          "United States",
          "United States",
          "United Kingdom",
          "Indonesia",
          "India",
          "Turkey",
          "Brazil",
          "United Arab Emirates",
          "United States",
          "Brazil",
          "Chile",
          "United States",
          "Brazil",
          "Brazil",
          "Mexico",
          "Brazil",
          "Venezuela",
          "Brazil",
          "Brazil",
          "Brazil",
          "United States",
          "United States",
          "Colombia",
          "Brazil",
          "Brazil",
          "Brazil",
          "Brazil",
          "United States",
          "Brazil",
          "Brazil",
          "United Kingdom",
          "United Kingdom",
          "Brazil",
          "Brazil",
          "United States",
          "Nigeria",
          "Brazil",
          "Italy",
          "United States",
          "United States",
          "United States",
          "United States",
          "United States",
          "Colombia",
          "United States",
          "United Kingdom",
          "United States",
          "United States",
          "United States",
          "United States",
          "United States",
          "United States",
          "United States",
          "Chile",
          "United States",
          "Kuwait",
          "United States",
          "United States",
          "United States",
          "United States",
          "United States",
          "United States",
          "United States",
          "Italy",
          "United States",
          "United States",
          "United States",
          "United States",
          "United States",
          "Colombia",
          "United States",
          "United Kingdom",
          "United States",
          "United States",
          "United States",
          "United States",
          "United States",
          "United States",
          "United States",
          "Chile",
          "United States",
          "Kuwait",
          "United States",
          "United States",
          "United States",
          "United States",
          "United States",
          "United States",
          "United States"
         ],
         "marker": {
          "color": [
           625100000,
           501100000,
           429700000,
           400500000,
           397800000,
           380300000,
           364300000,
           319900000,
           310600000,
           293000000,
           283400000,
           267100000.00000003,
           253600000,
           224300000,
           220100000,
           217200000,
           207100000,
           184800000,
           180200000,
           169000000,
           157300000,
           139600000,
           111700000,
           110200000,
           109200000,
           102800000,
           102200000,
           88700000,
           87300000,
           87000000,
           83700000,
           79700000,
           79700000,
           78900000,
           78600000,
           77700000,
           76100000,
           75800000,
           75400000,
           75300000,
           74400000,
           73000000,
           72500000,
           71800000,
           70300000,
           69200000,
           68300000,
           68300000,
           67600000,
           66500000,
           66500000,
           65099999.99999999,
           64700000,
           64300000,
           63900000,
           63300000,
           62800000,
           62100000,
           62000000,
           61000000,
           60900000,
           60400000,
           59700000,
           58500000,
           58100000,
           57600000,
           57200000,
           57200000,
           56800000,
           56400000,
           56400000,
           55900000,
           55700000,
           55300000,
           54600000,
           54300000,
           54100000,
           54000000,
           2500000,
           1800000,
           1700000,
           1600000,
           1600000,
           1500000,
           1500000,
           1400000,
           1400000,
           1400000,
           1300000,
           1300000,
           1200000,
           1200000,
           1200000,
           1100000,
           1100000,
           1100000,
           1100000,
           1000000,
           1000000,
           975700,
           970700,
           949300,
           940400,
           914200,
           903200,
           882600,
           161900000,
           88500000,
           78100000,
           74200000,
           58900000,
           56000000,
           51900000,
           45600000,
           40000000,
           36900000,
           36200000,
           34800000,
           32100000,
           31700000,
           31200000,
           29000000,
           28200000,
           26000000,
           26000000,
           26000000,
           23900000,
           23700000,
           22600000,
           22100000,
           22000000,
           21500000,
           161900000,
           88500000,
           78100000,
           74200000,
           58900000,
           56000000,
           51900000,
           45600000,
           40000000,
           36900000,
           36200000,
           34800000,
           32100000,
           31700000,
           31200000,
           29000000,
           28200000,
           26000000,
           26000000,
           26000000,
           23900000,
           23700000,
           22600000,
           22100000,
           22000000,
           21500000
          ],
          "coloraxis": "coloraxis",
          "size": [
           625100000,
           501100000,
           429700000,
           400500000,
           397800000,
           380300000,
           364300000,
           319900000,
           310600000,
           293000000,
           283400000,
           267100000.00000003,
           253600000,
           224300000,
           220100000,
           217200000,
           207100000,
           184800000,
           180200000,
           169000000,
           157300000,
           139600000,
           111700000,
           110200000,
           109200000,
           102800000,
           102200000,
           88700000,
           87300000,
           87000000,
           83700000,
           79700000,
           79700000,
           78900000,
           78600000,
           77700000,
           76100000,
           75800000,
           75400000,
           75300000,
           74400000,
           73000000,
           72500000,
           71800000,
           70300000,
           69200000,
           68300000,
           68300000,
           67600000,
           66500000,
           66500000,
           65099999.99999999,
           64700000,
           64300000,
           63900000,
           63300000,
           62800000,
           62100000,
           62000000,
           61000000,
           60900000,
           60400000,
           59700000,
           58500000,
           58100000,
           57600000,
           57200000,
           57200000,
           56800000,
           56400000,
           56400000,
           55900000,
           55700000,
           55300000,
           54600000,
           54300000,
           54100000,
           54000000,
           2500000,
           1800000,
           1700000,
           1600000,
           1600000,
           1500000,
           1500000,
           1400000,
           1400000,
           1400000,
           1300000,
           1300000,
           1200000,
           1200000,
           1200000,
           1100000,
           1100000,
           1100000,
           1100000,
           1000000,
           1000000,
           975700,
           970700,
           949300,
           940400,
           914200,
           903200,
           882600,
           161900000,
           88500000,
           78100000,
           74200000,
           58900000,
           56000000,
           51900000,
           45600000,
           40000000,
           36900000,
           36200000,
           34800000,
           32100000,
           31700000,
           31200000,
           29000000,
           28200000,
           26000000,
           26000000,
           26000000,
           23900000,
           23700000,
           22600000,
           22100000,
           22000000,
           21500000,
           161900000,
           88500000,
           78100000,
           74200000,
           58900000,
           56000000,
           51900000,
           45600000,
           40000000,
           36900000,
           36200000,
           34800000,
           32100000,
           31700000,
           31200000,
           29000000,
           28200000,
           26000000,
           26000000,
           26000000,
           23900000,
           23700000,
           22600000,
           22100000,
           22000000,
           21500000
          ],
          "sizemode": "area",
          "sizeref": 1562750,
          "symbol": "circle"
         },
         "mode": "markers",
         "name": "",
         "showlegend": false,
         "type": "scattergeo"
        }
       ],
       "layout": {
        "coloraxis": {
         "colorbar": {
          "title": {
           "text": "FOLLOWERS"
          }
         },
         "colorscale": [
          [
           0,
           "#0d0887"
          ],
          [
           0.1111111111111111,
           "#46039f"
          ],
          [
           0.2222222222222222,
           "#7201a8"
          ],
          [
           0.3333333333333333,
           "#9c179e"
          ],
          [
           0.4444444444444444,
           "#bd3786"
          ],
          [
           0.5555555555555556,
           "#d8576b"
          ],
          [
           0.6666666666666666,
           "#ed7953"
          ],
          [
           0.7777777777777778,
           "#fb9f3a"
          ],
          [
           0.8888888888888888,
           "#fdca26"
          ],
          [
           1,
           "#f0f921"
          ]
         ]
        },
        "geo": {
         "center": {},
         "domain": {
          "x": [
           0,
           1
          ],
          "y": [
           0,
           1
          ]
         },
         "projection": {
          "type": "natural earth"
         }
        },
        "height": 600,
        "legend": {
         "itemsizing": "constant",
         "tracegroupgap": 0
        },
        "margin": {
         "b": 0,
         "l": 0,
         "r": 0,
         "t": 0
        },
        "template": {
         "data": {
          "bar": [
           {
            "error_x": {
             "color": "#2a3f5f"
            },
            "error_y": {
             "color": "#2a3f5f"
            },
            "marker": {
             "line": {
              "color": "#E5ECF6",
              "width": 0.5
             },
             "pattern": {
              "fillmode": "overlay",
              "size": 10,
              "solidity": 0.2
             }
            },
            "type": "bar"
           }
          ],
          "barpolar": [
           {
            "marker": {
             "line": {
              "color": "#E5ECF6",
              "width": 0.5
             },
             "pattern": {
              "fillmode": "overlay",
              "size": 10,
              "solidity": 0.2
             }
            },
            "type": "barpolar"
           }
          ],
          "carpet": [
           {
            "aaxis": {
             "endlinecolor": "#2a3f5f",
             "gridcolor": "white",
             "linecolor": "white",
             "minorgridcolor": "white",
             "startlinecolor": "#2a3f5f"
            },
            "baxis": {
             "endlinecolor": "#2a3f5f",
             "gridcolor": "white",
             "linecolor": "white",
             "minorgridcolor": "white",
             "startlinecolor": "#2a3f5f"
            },
            "type": "carpet"
           }
          ],
          "choropleth": [
           {
            "colorbar": {
             "outlinewidth": 0,
             "ticks": ""
            },
            "type": "choropleth"
           }
          ],
          "contour": [
           {
            "colorbar": {
             "outlinewidth": 0,
             "ticks": ""
            },
            "colorscale": [
             [
              0,
              "#0d0887"
             ],
             [
              0.1111111111111111,
              "#46039f"
             ],
             [
              0.2222222222222222,
              "#7201a8"
             ],
             [
              0.3333333333333333,
              "#9c179e"
             ],
             [
              0.4444444444444444,
              "#bd3786"
             ],
             [
              0.5555555555555556,
              "#d8576b"
             ],
             [
              0.6666666666666666,
              "#ed7953"
             ],
             [
              0.7777777777777778,
              "#fb9f3a"
             ],
             [
              0.8888888888888888,
              "#fdca26"
             ],
             [
              1,
              "#f0f921"
             ]
            ],
            "type": "contour"
           }
          ],
          "contourcarpet": [
           {
            "colorbar": {
             "outlinewidth": 0,
             "ticks": ""
            },
            "type": "contourcarpet"
           }
          ],
          "heatmap": [
           {
            "colorbar": {
             "outlinewidth": 0,
             "ticks": ""
            },
            "colorscale": [
             [
              0,
              "#0d0887"
             ],
             [
              0.1111111111111111,
              "#46039f"
             ],
             [
              0.2222222222222222,
              "#7201a8"
             ],
             [
              0.3333333333333333,
              "#9c179e"
             ],
             [
              0.4444444444444444,
              "#bd3786"
             ],
             [
              0.5555555555555556,
              "#d8576b"
             ],
             [
              0.6666666666666666,
              "#ed7953"
             ],
             [
              0.7777777777777778,
              "#fb9f3a"
             ],
             [
              0.8888888888888888,
              "#fdca26"
             ],
             [
              1,
              "#f0f921"
             ]
            ],
            "type": "heatmap"
           }
          ],
          "heatmapgl": [
           {
            "colorbar": {
             "outlinewidth": 0,
             "ticks": ""
            },
            "colorscale": [
             [
              0,
              "#0d0887"
             ],
             [
              0.1111111111111111,
              "#46039f"
             ],
             [
              0.2222222222222222,
              "#7201a8"
             ],
             [
              0.3333333333333333,
              "#9c179e"
             ],
             [
              0.4444444444444444,
              "#bd3786"
             ],
             [
              0.5555555555555556,
              "#d8576b"
             ],
             [
              0.6666666666666666,
              "#ed7953"
             ],
             [
              0.7777777777777778,
              "#fb9f3a"
             ],
             [
              0.8888888888888888,
              "#fdca26"
             ],
             [
              1,
              "#f0f921"
             ]
            ],
            "type": "heatmapgl"
           }
          ],
          "histogram": [
           {
            "marker": {
             "pattern": {
              "fillmode": "overlay",
              "size": 10,
              "solidity": 0.2
             }
            },
            "type": "histogram"
           }
          ],
          "histogram2d": [
           {
            "colorbar": {
             "outlinewidth": 0,
             "ticks": ""
            },
            "colorscale": [
             [
              0,
              "#0d0887"
             ],
             [
              0.1111111111111111,
              "#46039f"
             ],
             [
              0.2222222222222222,
              "#7201a8"
             ],
             [
              0.3333333333333333,
              "#9c179e"
             ],
             [
              0.4444444444444444,
              "#bd3786"
             ],
             [
              0.5555555555555556,
              "#d8576b"
             ],
             [
              0.6666666666666666,
              "#ed7953"
             ],
             [
              0.7777777777777778,
              "#fb9f3a"
             ],
             [
              0.8888888888888888,
              "#fdca26"
             ],
             [
              1,
              "#f0f921"
             ]
            ],
            "type": "histogram2d"
           }
          ],
          "histogram2dcontour": [
           {
            "colorbar": {
             "outlinewidth": 0,
             "ticks": ""
            },
            "colorscale": [
             [
              0,
              "#0d0887"
             ],
             [
              0.1111111111111111,
              "#46039f"
             ],
             [
              0.2222222222222222,
              "#7201a8"
             ],
             [
              0.3333333333333333,
              "#9c179e"
             ],
             [
              0.4444444444444444,
              "#bd3786"
             ],
             [
              0.5555555555555556,
              "#d8576b"
             ],
             [
              0.6666666666666666,
              "#ed7953"
             ],
             [
              0.7777777777777778,
              "#fb9f3a"
             ],
             [
              0.8888888888888888,
              "#fdca26"
             ],
             [
              1,
              "#f0f921"
             ]
            ],
            "type": "histogram2dcontour"
           }
          ],
          "mesh3d": [
           {
            "colorbar": {
             "outlinewidth": 0,
             "ticks": ""
            },
            "type": "mesh3d"
           }
          ],
          "parcoords": [
           {
            "line": {
             "colorbar": {
              "outlinewidth": 0,
              "ticks": ""
             }
            },
            "type": "parcoords"
           }
          ],
          "pie": [
           {
            "automargin": true,
            "type": "pie"
           }
          ],
          "scatter": [
           {
            "fillpattern": {
             "fillmode": "overlay",
             "size": 10,
             "solidity": 0.2
            },
            "type": "scatter"
           }
          ],
          "scatter3d": [
           {
            "line": {
             "colorbar": {
              "outlinewidth": 0,
              "ticks": ""
             }
            },
            "marker": {
             "colorbar": {
              "outlinewidth": 0,
              "ticks": ""
             }
            },
            "type": "scatter3d"
           }
          ],
          "scattercarpet": [
           {
            "marker": {
             "colorbar": {
              "outlinewidth": 0,
              "ticks": ""
             }
            },
            "type": "scattercarpet"
           }
          ],
          "scattergeo": [
           {
            "marker": {
             "colorbar": {
              "outlinewidth": 0,
              "ticks": ""
             }
            },
            "type": "scattergeo"
           }
          ],
          "scattergl": [
           {
            "marker": {
             "colorbar": {
              "outlinewidth": 0,
              "ticks": ""
             }
            },
            "type": "scattergl"
           }
          ],
          "scattermapbox": [
           {
            "marker": {
             "colorbar": {
              "outlinewidth": 0,
              "ticks": ""
             }
            },
            "type": "scattermapbox"
           }
          ],
          "scatterpolar": [
           {
            "marker": {
             "colorbar": {
              "outlinewidth": 0,
              "ticks": ""
             }
            },
            "type": "scatterpolar"
           }
          ],
          "scatterpolargl": [
           {
            "marker": {
             "colorbar": {
              "outlinewidth": 0,
              "ticks": ""
             }
            },
            "type": "scatterpolargl"
           }
          ],
          "scatterternary": [
           {
            "marker": {
             "colorbar": {
              "outlinewidth": 0,
              "ticks": ""
             }
            },
            "type": "scatterternary"
           }
          ],
          "surface": [
           {
            "colorbar": {
             "outlinewidth": 0,
             "ticks": ""
            },
            "colorscale": [
             [
              0,
              "#0d0887"
             ],
             [
              0.1111111111111111,
              "#46039f"
             ],
             [
              0.2222222222222222,
              "#7201a8"
             ],
             [
              0.3333333333333333,
              "#9c179e"
             ],
             [
              0.4444444444444444,
              "#bd3786"
             ],
             [
              0.5555555555555556,
              "#d8576b"
             ],
             [
              0.6666666666666666,
              "#ed7953"
             ],
             [
              0.7777777777777778,
              "#fb9f3a"
             ],
             [
              0.8888888888888888,
              "#fdca26"
             ],
             [
              1,
              "#f0f921"
             ]
            ],
            "type": "surface"
           }
          ],
          "table": [
           {
            "cells": {
             "fill": {
              "color": "#EBF0F8"
             },
             "line": {
              "color": "white"
             }
            },
            "header": {
             "fill": {
              "color": "#C8D4E3"
             },
             "line": {
              "color": "white"
             }
            },
            "type": "table"
           }
          ]
         },
         "layout": {
          "annotationdefaults": {
           "arrowcolor": "#2a3f5f",
           "arrowhead": 0,
           "arrowwidth": 1
          },
          "autotypenumbers": "strict",
          "coloraxis": {
           "colorbar": {
            "outlinewidth": 0,
            "ticks": ""
           }
          },
          "colorscale": {
           "diverging": [
            [
             0,
             "#8e0152"
            ],
            [
             0.1,
             "#c51b7d"
            ],
            [
             0.2,
             "#de77ae"
            ],
            [
             0.3,
             "#f1b6da"
            ],
            [
             0.4,
             "#fde0ef"
            ],
            [
             0.5,
             "#f7f7f7"
            ],
            [
             0.6,
             "#e6f5d0"
            ],
            [
             0.7,
             "#b8e186"
            ],
            [
             0.8,
             "#7fbc41"
            ],
            [
             0.9,
             "#4d9221"
            ],
            [
             1,
             "#276419"
            ]
           ],
           "sequential": [
            [
             0,
             "#0d0887"
            ],
            [
             0.1111111111111111,
             "#46039f"
            ],
            [
             0.2222222222222222,
             "#7201a8"
            ],
            [
             0.3333333333333333,
             "#9c179e"
            ],
            [
             0.4444444444444444,
             "#bd3786"
            ],
            [
             0.5555555555555556,
             "#d8576b"
            ],
            [
             0.6666666666666666,
             "#ed7953"
            ],
            [
             0.7777777777777778,
             "#fb9f3a"
            ],
            [
             0.8888888888888888,
             "#fdca26"
            ],
            [
             1,
             "#f0f921"
            ]
           ],
           "sequentialminus": [
            [
             0,
             "#0d0887"
            ],
            [
             0.1111111111111111,
             "#46039f"
            ],
            [
             0.2222222222222222,
             "#7201a8"
            ],
            [
             0.3333333333333333,
             "#9c179e"
            ],
            [
             0.4444444444444444,
             "#bd3786"
            ],
            [
             0.5555555555555556,
             "#d8576b"
            ],
            [
             0.6666666666666666,
             "#ed7953"
            ],
            [
             0.7777777777777778,
             "#fb9f3a"
            ],
            [
             0.8888888888888888,
             "#fdca26"
            ],
            [
             1,
             "#f0f921"
            ]
           ]
          },
          "colorway": [
           "#636efa",
           "#EF553B",
           "#00cc96",
           "#ab63fa",
           "#FFA15A",
           "#19d3f3",
           "#FF6692",
           "#B6E880",
           "#FF97FF",
           "#FECB52"
          ],
          "font": {
           "color": "#2a3f5f"
          },
          "geo": {
           "bgcolor": "white",
           "lakecolor": "white",
           "landcolor": "#E5ECF6",
           "showlakes": true,
           "showland": true,
           "subunitcolor": "white"
          },
          "hoverlabel": {
           "align": "left"
          },
          "hovermode": "closest",
          "mapbox": {
           "style": "light"
          },
          "paper_bgcolor": "white",
          "plot_bgcolor": "#E5ECF6",
          "polar": {
           "angularaxis": {
            "gridcolor": "white",
            "linecolor": "white",
            "ticks": ""
           },
           "bgcolor": "#E5ECF6",
           "radialaxis": {
            "gridcolor": "white",
            "linecolor": "white",
            "ticks": ""
           }
          },
          "scene": {
           "xaxis": {
            "backgroundcolor": "#E5ECF6",
            "gridcolor": "white",
            "gridwidth": 2,
            "linecolor": "white",
            "showbackground": true,
            "ticks": "",
            "zerolinecolor": "white"
           },
           "yaxis": {
            "backgroundcolor": "#E5ECF6",
            "gridcolor": "white",
            "gridwidth": 2,
            "linecolor": "white",
            "showbackground": true,
            "ticks": "",
            "zerolinecolor": "white"
           },
           "zaxis": {
            "backgroundcolor": "#E5ECF6",
            "gridcolor": "white",
            "gridwidth": 2,
            "linecolor": "white",
            "showbackground": true,
            "ticks": "",
            "zerolinecolor": "white"
           }
          },
          "shapedefaults": {
           "line": {
            "color": "#2a3f5f"
           }
          },
          "ternary": {
           "aaxis": {
            "gridcolor": "white",
            "linecolor": "white",
            "ticks": ""
           },
           "baxis": {
            "gridcolor": "white",
            "linecolor": "white",
            "ticks": ""
           },
           "bgcolor": "#E5ECF6",
           "caxis": {
            "gridcolor": "white",
            "linecolor": "white",
            "ticks": ""
           }
          },
          "title": {
           "x": 0.05
          },
          "xaxis": {
           "automargin": true,
           "gridcolor": "white",
           "linecolor": "white",
           "ticks": "",
           "title": {
            "standoff": 15
           },
           "zerolinecolor": "white",
           "zerolinewidth": 2
          },
          "yaxis": {
           "automargin": true,
           "gridcolor": "white",
           "linecolor": "white",
           "ticks": "",
           "title": {
            "standoff": 15
           },
           "zerolinecolor": "white",
           "zerolinewidth": 2
          }
         }
        },
        "width": 1200
       }
      }
     },
     "metadata": {},
     "output_type": "display_data"
    }
   ],
   "source": [
    "# Create a scatter plot on the map\n",
    "fig = px.scatter_geo(merged_df_clean, \n",
    "                      locations=\"COUNTRY\", \n",
    "                      locationmode='country names',\n",
    "                      color=\"FOLLOWERS\",\n",
    "                      hover_name=\"NAME\",\n",
    "                      size=\"FOLLOWERS\",\n",
    "                      projection=\"natural earth\")\n",
    "\n",
    "# Set the title\n",
    "fig.update_layout(margin=dict(l=0, r=0, b=0, t=0),\n",
    "                  width=1200, \n",
    "                  height=600)\n",
    "\n",
    "\n",
    "# Show the plot\n",
    "fig.show()"
   ]
  },
  {
   "cell_type": "code",
   "execution_count": 28,
   "id": "7ba6b3e7-1b55-4e81-8c2c-4a54161a19c1",
   "metadata": {
    "tags": []
   },
   "outputs": [
    {
     "data": {
      "application/vnd.plotly.v1+json": {
       "config": {
        "plotlyServerURL": "https://plot.ly"
       },
       "data": [
        {
         "branchvalues": "total",
         "customdata": [
          [
           58500000
          ],
          [
           71994529.85341437
          ],
          [
           63300000
          ],
          [
           219366958.91783568
          ],
          [
           32100000
          ],
          [
           56400000
          ],
          [
           940400
          ],
          [
           28200000
          ],
          [
           70300000
          ],
          [
           54100000
          ],
          [
           73317481.95669606
          ],
          [
           267100000.00000003
          ],
          [
           26000000
          ],
          [
           217323064.64485234
          ],
          [
           40000000
          ],
          [
           54000000
          ],
          [
           58100000
          ],
          [
           355676332.89987
          ],
          [
           58916177.34020325
          ],
          [
           293000000
          ],
          [
           1800000
          ],
          [
           59598482.29342327
          ],
          [
           73838932.33594015
          ],
          [
           63891480.298189566
          ],
          [
           109200000
          ],
          [
           145663717.47211897
          ],
          [
           1500000
          ],
          [
           903200
          ],
          [
           74400000
          ],
          [
           54600000
          ],
          [
           66254582.05494567
          ],
          [
           215936503.03353006
          ],
          [
           1400000
          ],
          [
           87300000
          ],
          [
           102200000
          ],
          [
           95050989.01098901
          ],
          [
           455376713.7998926
          ],
          [
           161648995.87345254
          ],
          [
           97274227.90202343
          ],
          [
           60400000
          ],
          [
           625100000
          ],
          [
           62800000
          ],
          [
           64300000
          ],
          [
           87000000
          ],
          [
           32100000
          ],
          [
           940400
          ],
          [
           28200000
          ],
          [
           70300000
          ],
          [
           54100000
          ],
          [
           73317481.95669606
          ],
          [
           58500000
          ],
          [
           58916177.34020325
          ],
          [
           293000000
          ],
          [
           1800000
          ],
          [
           59598482.29342327
          ],
          [
           72939874.52073893
          ],
          [
           63891480.298189566
          ],
          [
           109200000
          ],
          [
           145663717.47211897
          ],
          [
           1500000
          ],
          [
           903200
          ],
          [
           74400000
          ],
          [
           54600000
          ],
          [
           65543585.652493246
          ],
          [
           216411671.1859662
          ],
          [
           1400000
          ],
          [
           26000000
          ],
          [
           102200000
          ],
          [
           58100000
          ],
          [
           253652507.4261751
          ],
          [
           40000000
          ],
          [
           54000000
          ],
          [
           87300000
          ],
          [
           455376713.7998926
          ],
          [
           161648995.87345254
          ],
          [
           97274227.90202343
          ],
          [
           267100000.00000003
          ],
          [
           60400000
          ],
          [
           625100000
          ],
          [
           62800000
          ],
          [
           64300000
          ],
          [
           87000000
          ],
          [
           56400000
          ],
          [
           455376713.7998926
          ],
          [
           58500000
          ],
          [
           112695163.1979097
          ],
          [
           293000000
          ],
          [
           27383505.154639177
          ],
          [
           59598482.29342327
          ],
          [
           89927121.27082527
          ],
          [
           130162249.5151907
          ],
          [
           63891480.298189566
          ],
          [
           109200000
          ],
          [
           134562341.02177194
          ],
          [
           26000000
          ],
          [
           1500000
          ],
          [
           903200
          ],
          [
           625100000
          ],
          [
           90488108.7202718
          ],
          [
           60541356.492969394
          ],
          [
           64300000
          ],
          [
           54600000
          ],
          [
           54100000
          ],
          [
           65132516.5121252
          ],
          [
           213317341.27804515
          ],
          [
           1400000
          ]
         ],
         "domain": {
          "x": [
           0,
           1
          ],
          "y": [
           0,
           1
          ]
         },
         "hovertemplate": "labels=%{label}<br>FOLLOWERS_sum=%{value}<br>parent=%{parent}<br>id=%{id}<br>FOLLOWERS=%{color}<extra></extra>",
         "ids": [
          "Australia/Entertainment/Actors",
          "India/Entertainment/Actors",
          "United Kingdom/Entertainment/Actors",
          "United States/Entertainment/Actors",
          "United States/Art/Art",
          "United States/Sports/Basketball",
          "Brazil/Beauty and Self Care/Beauty",
          "Chile/Beauty and Self Care/Beauty",
          "France/Beauty and Self Care/Beauty",
          "United Arab Emirates/Beauty and Self Care/Beauty",
          "United States/Beauty and Self Care/Beauty",
          "India/Sports/Cricket",
          "Kuwait/Fashion and Accessories/Fashion",
          "United States/Fashion and Accessories/Fashion",
          "United Kingdom/Food and Drink/Food",
          "United States/Food and Drink/Food",
          "Spain/Fashion and Accessories/Modeling",
          "United States/Fashion and Accessories/Modeling",
          "Brazil/Entertainment/Music",
          "Canada/Entertainment/Music",
          "Chile/Entertainment/Music",
          "Colombia/Entertainment/Music",
          "India/Entertainment/Music",
          "Indonesia/Entertainment/Music",
          "Israel/Entertainment/Music",
          "Italy/Entertainment/Music",
          "Mexico/Entertainment/Music",
          "Nigeria/Entertainment/Music",
          "South Korea/Entertainment/Music",
          "Turkey/Entertainment/Music",
          "United Kingdom/Entertainment/Music",
          "United States/Entertainment/Music",
          "Venezuela/Entertainment/Music",
          "India/Politics/Politics",
          "South Korea/Fashion and Accessories/Singer",
          "United States/Fashion and Accessories/Singer",
          "Argentina/Sports/Soccer",
          "Brazil/Sports/Soccer",
          "France/Sports/Soccer",
          "Italy/Sports/Soccer",
          "Portugal/Sports/Soccer",
          "Spain/Sports/Soccer",
          "Sweden/Sports/Soccer",
          "United Kingdom/Sports/Soccer",
          "United States/Art",
          "Brazil/Beauty and Self Care",
          "Chile/Beauty and Self Care",
          "France/Beauty and Self Care",
          "United Arab Emirates/Beauty and Self Care",
          "United States/Beauty and Self Care",
          "Australia/Entertainment",
          "Brazil/Entertainment",
          "Canada/Entertainment",
          "Chile/Entertainment",
          "Colombia/Entertainment",
          "India/Entertainment",
          "Indonesia/Entertainment",
          "Israel/Entertainment",
          "Italy/Entertainment",
          "Mexico/Entertainment",
          "Nigeria/Entertainment",
          "South Korea/Entertainment",
          "Turkey/Entertainment",
          "United Kingdom/Entertainment",
          "United States/Entertainment",
          "Venezuela/Entertainment",
          "Kuwait/Fashion and Accessories",
          "South Korea/Fashion and Accessories",
          "Spain/Fashion and Accessories",
          "United States/Fashion and Accessories",
          "United Kingdom/Food and Drink",
          "United States/Food and Drink",
          "India/Politics",
          "Argentina/Sports",
          "Brazil/Sports",
          "France/Sports",
          "India/Sports",
          "Italy/Sports",
          "Portugal/Sports",
          "Spain/Sports",
          "Sweden/Sports",
          "United Kingdom/Sports",
          "United States/Sports",
          "Argentina",
          "Australia",
          "Brazil",
          "Canada",
          "Chile",
          "Colombia",
          "France",
          "India",
          "Indonesia",
          "Israel",
          "Italy",
          "Kuwait",
          "Mexico",
          "Nigeria",
          "Portugal",
          "South Korea",
          "Spain",
          "Sweden",
          "Turkey",
          "United Arab Emirates",
          "United Kingdom",
          "United States",
          "Venezuela"
         ],
         "labels": [
          "Actors",
          "Actors",
          "Actors",
          "Actors",
          "Art",
          "Basketball",
          "Beauty",
          "Beauty",
          "Beauty",
          "Beauty",
          "Beauty",
          "Cricket",
          "Fashion",
          "Fashion",
          "Food",
          "Food",
          "Modeling",
          "Modeling",
          "Music",
          "Music",
          "Music",
          "Music",
          "Music",
          "Music",
          "Music",
          "Music",
          "Music",
          "Music",
          "Music",
          "Music",
          "Music",
          "Music",
          "Music",
          "Politics",
          "Singer",
          "Singer",
          "Soccer",
          "Soccer",
          "Soccer",
          "Soccer",
          "Soccer",
          "Soccer",
          "Soccer",
          "Soccer",
          "Art",
          "Beauty and Self Care",
          "Beauty and Self Care",
          "Beauty and Self Care",
          "Beauty and Self Care",
          "Beauty and Self Care",
          "Entertainment",
          "Entertainment",
          "Entertainment",
          "Entertainment",
          "Entertainment",
          "Entertainment",
          "Entertainment",
          "Entertainment",
          "Entertainment",
          "Entertainment",
          "Entertainment",
          "Entertainment",
          "Entertainment",
          "Entertainment",
          "Entertainment",
          "Entertainment",
          "Fashion and Accessories",
          "Fashion and Accessories",
          "Fashion and Accessories",
          "Fashion and Accessories",
          "Food and Drink",
          "Food and Drink",
          "Politics",
          "Sports",
          "Sports",
          "Sports",
          "Sports",
          "Sports",
          "Sports",
          "Sports",
          "Sports",
          "Sports",
          "Sports",
          "Argentina",
          "Australia",
          "Brazil",
          "Canada",
          "Chile",
          "Colombia",
          "France",
          "India",
          "Indonesia",
          "Israel",
          "Italy",
          "Kuwait",
          "Mexico",
          "Nigeria",
          "Portugal",
          "South Korea",
          "Spain",
          "Sweden",
          "Turkey",
          "United Arab Emirates",
          "United Kingdom",
          "United States",
          "Venezuela"
         ],
         "marker": {
          "coloraxis": "coloraxis",
          "colors": [
           58500000,
           71994529.85341437,
           63300000,
           219366958.91783568,
           32100000,
           56400000,
           940400,
           28200000,
           70300000,
           54100000,
           73317481.95669606,
           267100000.00000003,
           26000000,
           217323064.64485234,
           40000000,
           54000000,
           58100000,
           355676332.89987,
           58916177.34020325,
           293000000,
           1800000,
           59598482.29342327,
           73838932.33594015,
           63891480.298189566,
           109200000,
           145663717.47211897,
           1500000,
           903200,
           74400000,
           54600000,
           66254582.05494567,
           215936503.03353006,
           1400000,
           87300000,
           102200000,
           95050989.01098901,
           455376713.7998926,
           161648995.87345254,
           97274227.90202343,
           60400000,
           625100000,
           62800000,
           64300000,
           87000000,
           32100000,
           940400,
           28200000,
           70300000,
           54100000,
           73317481.95669606,
           58500000,
           58916177.34020325,
           293000000,
           1800000,
           59598482.29342327,
           72939874.52073893,
           63891480.298189566,
           109200000,
           145663717.47211897,
           1500000,
           903200,
           74400000,
           54600000,
           65543585.652493246,
           216411671.1859662,
           1400000,
           26000000,
           102200000,
           58100000,
           253652507.4261751,
           40000000,
           54000000,
           87300000,
           455376713.7998926,
           161648995.87345254,
           97274227.90202343,
           267100000.00000003,
           60400000,
           625100000,
           62800000,
           64300000,
           87000000,
           56400000,
           455376713.7998926,
           58500000,
           112695163.1979097,
           293000000,
           27383505.154639177,
           59598482.29342327,
           89927121.27082527,
           130162249.5151907,
           63891480.298189566,
           109200000,
           134562341.02177194,
           26000000,
           1500000,
           903200,
           625100000,
           90488108.7202718,
           60541356.492969394,
           64300000,
           54600000,
           54100000,
           65132516.5121252,
           213317341.27804515,
           1400000
          ]
         },
         "name": "",
         "parents": [
          "Australia/Entertainment",
          "India/Entertainment",
          "United Kingdom/Entertainment",
          "United States/Entertainment",
          "United States/Art",
          "United States/Sports",
          "Brazil/Beauty and Self Care",
          "Chile/Beauty and Self Care",
          "France/Beauty and Self Care",
          "United Arab Emirates/Beauty and Self Care",
          "United States/Beauty and Self Care",
          "India/Sports",
          "Kuwait/Fashion and Accessories",
          "United States/Fashion and Accessories",
          "United Kingdom/Food and Drink",
          "United States/Food and Drink",
          "Spain/Fashion and Accessories",
          "United States/Fashion and Accessories",
          "Brazil/Entertainment",
          "Canada/Entertainment",
          "Chile/Entertainment",
          "Colombia/Entertainment",
          "India/Entertainment",
          "Indonesia/Entertainment",
          "Israel/Entertainment",
          "Italy/Entertainment",
          "Mexico/Entertainment",
          "Nigeria/Entertainment",
          "South Korea/Entertainment",
          "Turkey/Entertainment",
          "United Kingdom/Entertainment",
          "United States/Entertainment",
          "Venezuela/Entertainment",
          "India/Politics",
          "South Korea/Fashion and Accessories",
          "United States/Fashion and Accessories",
          "Argentina/Sports",
          "Brazil/Sports",
          "France/Sports",
          "Italy/Sports",
          "Portugal/Sports",
          "Spain/Sports",
          "Sweden/Sports",
          "United Kingdom/Sports",
          "United States",
          "Brazil",
          "Chile",
          "France",
          "United Arab Emirates",
          "United States",
          "Australia",
          "Brazil",
          "Canada",
          "Chile",
          "Colombia",
          "India",
          "Indonesia",
          "Israel",
          "Italy",
          "Mexico",
          "Nigeria",
          "South Korea",
          "Turkey",
          "United Kingdom",
          "United States",
          "Venezuela",
          "Kuwait",
          "South Korea",
          "Spain",
          "United States",
          "United Kingdom",
          "United States",
          "India",
          "Argentina",
          "Brazil",
          "France",
          "India",
          "Italy",
          "Portugal",
          "Spain",
          "Sweden",
          "United Kingdom",
          "United States",
          "",
          "",
          "",
          "",
          "",
          "",
          "",
          "",
          "",
          "",
          "",
          "",
          "",
          "",
          "",
          "",
          "",
          "",
          "",
          "",
          "",
          "",
          ""
         ],
         "type": "treemap",
         "values": [
          58500000,
          279700000,
          63300000,
          798400000,
          64200000,
          56400000,
          940400,
          56400000,
          70300000,
          54100000,
          249400000,
          267100000.00000003,
          52000000,
          501200000,
          80000000,
          54000000,
          58100000,
          461400000,
          328931900,
          293000000,
          1800000,
          237200000,
          294100000,
          187800000,
          109200000,
          403500000,
          1500000,
          903200,
          74400000,
          54600000,
          199746400,
          4965614200,
          1400000,
          87300000,
          102200000,
          182000000,
          558700000,
          363500000,
          187800000,
          60400000,
          625100000,
          62800000,
          64300000,
          87000000,
          64200000,
          940400,
          56400000,
          70300000,
          54100000,
          249400000,
          58500000,
          328931900,
          293000000,
          1800000,
          237200000,
          573800000,
          187800000,
          109200000,
          403500000,
          1500000,
          903200,
          74400000,
          54600000,
          263046400,
          5764014200,
          1400000,
          52000000,
          102200000,
          58100000,
          1144600000,
          80000000,
          54000000,
          87300000,
          558700000,
          363500000,
          187800000,
          267100000.00000003,
          60400000,
          625100000,
          62800000,
          64300000,
          87000000,
          56400000,
          558700000,
          58500000,
          693372300,
          293000000,
          58200000,
          237200000,
          258100000,
          928200000,
          187800000,
          109200000,
          463900000,
          52000000,
          1500000,
          903200,
          625100000,
          176600000,
          120900000,
          64300000,
          54600000,
          54100000,
          430046400,
          7332614200,
          1400000
         ]
        }
       ],
       "layout": {
        "coloraxis": {
         "colorbar": {
          "title": {
           "text": "FOLLOWERS"
          }
         },
         "colorscale": [
          [
           0,
           "#440154"
          ],
          [
           0.1111111111111111,
           "#482878"
          ],
          [
           0.2222222222222222,
           "#3e4989"
          ],
          [
           0.3333333333333333,
           "#31688e"
          ],
          [
           0.4444444444444444,
           "#26828e"
          ],
          [
           0.5555555555555556,
           "#1f9e89"
          ],
          [
           0.6666666666666666,
           "#35b779"
          ],
          [
           0.7777777777777778,
           "#6ece58"
          ],
          [
           0.8888888888888888,
           "#b5de2b"
          ],
          [
           1,
           "#fde725"
          ]
         ]
        },
        "legend": {
         "tracegroupgap": 0
        },
        "template": {
         "data": {
          "bar": [
           {
            "error_x": {
             "color": "#2a3f5f"
            },
            "error_y": {
             "color": "#2a3f5f"
            },
            "marker": {
             "line": {
              "color": "#E5ECF6",
              "width": 0.5
             },
             "pattern": {
              "fillmode": "overlay",
              "size": 10,
              "solidity": 0.2
             }
            },
            "type": "bar"
           }
          ],
          "barpolar": [
           {
            "marker": {
             "line": {
              "color": "#E5ECF6",
              "width": 0.5
             },
             "pattern": {
              "fillmode": "overlay",
              "size": 10,
              "solidity": 0.2
             }
            },
            "type": "barpolar"
           }
          ],
          "carpet": [
           {
            "aaxis": {
             "endlinecolor": "#2a3f5f",
             "gridcolor": "white",
             "linecolor": "white",
             "minorgridcolor": "white",
             "startlinecolor": "#2a3f5f"
            },
            "baxis": {
             "endlinecolor": "#2a3f5f",
             "gridcolor": "white",
             "linecolor": "white",
             "minorgridcolor": "white",
             "startlinecolor": "#2a3f5f"
            },
            "type": "carpet"
           }
          ],
          "choropleth": [
           {
            "colorbar": {
             "outlinewidth": 0,
             "ticks": ""
            },
            "type": "choropleth"
           }
          ],
          "contour": [
           {
            "colorbar": {
             "outlinewidth": 0,
             "ticks": ""
            },
            "colorscale": [
             [
              0,
              "#0d0887"
             ],
             [
              0.1111111111111111,
              "#46039f"
             ],
             [
              0.2222222222222222,
              "#7201a8"
             ],
             [
              0.3333333333333333,
              "#9c179e"
             ],
             [
              0.4444444444444444,
              "#bd3786"
             ],
             [
              0.5555555555555556,
              "#d8576b"
             ],
             [
              0.6666666666666666,
              "#ed7953"
             ],
             [
              0.7777777777777778,
              "#fb9f3a"
             ],
             [
              0.8888888888888888,
              "#fdca26"
             ],
             [
              1,
              "#f0f921"
             ]
            ],
            "type": "contour"
           }
          ],
          "contourcarpet": [
           {
            "colorbar": {
             "outlinewidth": 0,
             "ticks": ""
            },
            "type": "contourcarpet"
           }
          ],
          "heatmap": [
           {
            "colorbar": {
             "outlinewidth": 0,
             "ticks": ""
            },
            "colorscale": [
             [
              0,
              "#0d0887"
             ],
             [
              0.1111111111111111,
              "#46039f"
             ],
             [
              0.2222222222222222,
              "#7201a8"
             ],
             [
              0.3333333333333333,
              "#9c179e"
             ],
             [
              0.4444444444444444,
              "#bd3786"
             ],
             [
              0.5555555555555556,
              "#d8576b"
             ],
             [
              0.6666666666666666,
              "#ed7953"
             ],
             [
              0.7777777777777778,
              "#fb9f3a"
             ],
             [
              0.8888888888888888,
              "#fdca26"
             ],
             [
              1,
              "#f0f921"
             ]
            ],
            "type": "heatmap"
           }
          ],
          "heatmapgl": [
           {
            "colorbar": {
             "outlinewidth": 0,
             "ticks": ""
            },
            "colorscale": [
             [
              0,
              "#0d0887"
             ],
             [
              0.1111111111111111,
              "#46039f"
             ],
             [
              0.2222222222222222,
              "#7201a8"
             ],
             [
              0.3333333333333333,
              "#9c179e"
             ],
             [
              0.4444444444444444,
              "#bd3786"
             ],
             [
              0.5555555555555556,
              "#d8576b"
             ],
             [
              0.6666666666666666,
              "#ed7953"
             ],
             [
              0.7777777777777778,
              "#fb9f3a"
             ],
             [
              0.8888888888888888,
              "#fdca26"
             ],
             [
              1,
              "#f0f921"
             ]
            ],
            "type": "heatmapgl"
           }
          ],
          "histogram": [
           {
            "marker": {
             "pattern": {
              "fillmode": "overlay",
              "size": 10,
              "solidity": 0.2
             }
            },
            "type": "histogram"
           }
          ],
          "histogram2d": [
           {
            "colorbar": {
             "outlinewidth": 0,
             "ticks": ""
            },
            "colorscale": [
             [
              0,
              "#0d0887"
             ],
             [
              0.1111111111111111,
              "#46039f"
             ],
             [
              0.2222222222222222,
              "#7201a8"
             ],
             [
              0.3333333333333333,
              "#9c179e"
             ],
             [
              0.4444444444444444,
              "#bd3786"
             ],
             [
              0.5555555555555556,
              "#d8576b"
             ],
             [
              0.6666666666666666,
              "#ed7953"
             ],
             [
              0.7777777777777778,
              "#fb9f3a"
             ],
             [
              0.8888888888888888,
              "#fdca26"
             ],
             [
              1,
              "#f0f921"
             ]
            ],
            "type": "histogram2d"
           }
          ],
          "histogram2dcontour": [
           {
            "colorbar": {
             "outlinewidth": 0,
             "ticks": ""
            },
            "colorscale": [
             [
              0,
              "#0d0887"
             ],
             [
              0.1111111111111111,
              "#46039f"
             ],
             [
              0.2222222222222222,
              "#7201a8"
             ],
             [
              0.3333333333333333,
              "#9c179e"
             ],
             [
              0.4444444444444444,
              "#bd3786"
             ],
             [
              0.5555555555555556,
              "#d8576b"
             ],
             [
              0.6666666666666666,
              "#ed7953"
             ],
             [
              0.7777777777777778,
              "#fb9f3a"
             ],
             [
              0.8888888888888888,
              "#fdca26"
             ],
             [
              1,
              "#f0f921"
             ]
            ],
            "type": "histogram2dcontour"
           }
          ],
          "mesh3d": [
           {
            "colorbar": {
             "outlinewidth": 0,
             "ticks": ""
            },
            "type": "mesh3d"
           }
          ],
          "parcoords": [
           {
            "line": {
             "colorbar": {
              "outlinewidth": 0,
              "ticks": ""
             }
            },
            "type": "parcoords"
           }
          ],
          "pie": [
           {
            "automargin": true,
            "type": "pie"
           }
          ],
          "scatter": [
           {
            "fillpattern": {
             "fillmode": "overlay",
             "size": 10,
             "solidity": 0.2
            },
            "type": "scatter"
           }
          ],
          "scatter3d": [
           {
            "line": {
             "colorbar": {
              "outlinewidth": 0,
              "ticks": ""
             }
            },
            "marker": {
             "colorbar": {
              "outlinewidth": 0,
              "ticks": ""
             }
            },
            "type": "scatter3d"
           }
          ],
          "scattercarpet": [
           {
            "marker": {
             "colorbar": {
              "outlinewidth": 0,
              "ticks": ""
             }
            },
            "type": "scattercarpet"
           }
          ],
          "scattergeo": [
           {
            "marker": {
             "colorbar": {
              "outlinewidth": 0,
              "ticks": ""
             }
            },
            "type": "scattergeo"
           }
          ],
          "scattergl": [
           {
            "marker": {
             "colorbar": {
              "outlinewidth": 0,
              "ticks": ""
             }
            },
            "type": "scattergl"
           }
          ],
          "scattermapbox": [
           {
            "marker": {
             "colorbar": {
              "outlinewidth": 0,
              "ticks": ""
             }
            },
            "type": "scattermapbox"
           }
          ],
          "scatterpolar": [
           {
            "marker": {
             "colorbar": {
              "outlinewidth": 0,
              "ticks": ""
             }
            },
            "type": "scatterpolar"
           }
          ],
          "scatterpolargl": [
           {
            "marker": {
             "colorbar": {
              "outlinewidth": 0,
              "ticks": ""
             }
            },
            "type": "scatterpolargl"
           }
          ],
          "scatterternary": [
           {
            "marker": {
             "colorbar": {
              "outlinewidth": 0,
              "ticks": ""
             }
            },
            "type": "scatterternary"
           }
          ],
          "surface": [
           {
            "colorbar": {
             "outlinewidth": 0,
             "ticks": ""
            },
            "colorscale": [
             [
              0,
              "#0d0887"
             ],
             [
              0.1111111111111111,
              "#46039f"
             ],
             [
              0.2222222222222222,
              "#7201a8"
             ],
             [
              0.3333333333333333,
              "#9c179e"
             ],
             [
              0.4444444444444444,
              "#bd3786"
             ],
             [
              0.5555555555555556,
              "#d8576b"
             ],
             [
              0.6666666666666666,
              "#ed7953"
             ],
             [
              0.7777777777777778,
              "#fb9f3a"
             ],
             [
              0.8888888888888888,
              "#fdca26"
             ],
             [
              1,
              "#f0f921"
             ]
            ],
            "type": "surface"
           }
          ],
          "table": [
           {
            "cells": {
             "fill": {
              "color": "#EBF0F8"
             },
             "line": {
              "color": "white"
             }
            },
            "header": {
             "fill": {
              "color": "#C8D4E3"
             },
             "line": {
              "color": "white"
             }
            },
            "type": "table"
           }
          ]
         },
         "layout": {
          "annotationdefaults": {
           "arrowcolor": "#2a3f5f",
           "arrowhead": 0,
           "arrowwidth": 1
          },
          "autotypenumbers": "strict",
          "coloraxis": {
           "colorbar": {
            "outlinewidth": 0,
            "ticks": ""
           }
          },
          "colorscale": {
           "diverging": [
            [
             0,
             "#8e0152"
            ],
            [
             0.1,
             "#c51b7d"
            ],
            [
             0.2,
             "#de77ae"
            ],
            [
             0.3,
             "#f1b6da"
            ],
            [
             0.4,
             "#fde0ef"
            ],
            [
             0.5,
             "#f7f7f7"
            ],
            [
             0.6,
             "#e6f5d0"
            ],
            [
             0.7,
             "#b8e186"
            ],
            [
             0.8,
             "#7fbc41"
            ],
            [
             0.9,
             "#4d9221"
            ],
            [
             1,
             "#276419"
            ]
           ],
           "sequential": [
            [
             0,
             "#0d0887"
            ],
            [
             0.1111111111111111,
             "#46039f"
            ],
            [
             0.2222222222222222,
             "#7201a8"
            ],
            [
             0.3333333333333333,
             "#9c179e"
            ],
            [
             0.4444444444444444,
             "#bd3786"
            ],
            [
             0.5555555555555556,
             "#d8576b"
            ],
            [
             0.6666666666666666,
             "#ed7953"
            ],
            [
             0.7777777777777778,
             "#fb9f3a"
            ],
            [
             0.8888888888888888,
             "#fdca26"
            ],
            [
             1,
             "#f0f921"
            ]
           ],
           "sequentialminus": [
            [
             0,
             "#0d0887"
            ],
            [
             0.1111111111111111,
             "#46039f"
            ],
            [
             0.2222222222222222,
             "#7201a8"
            ],
            [
             0.3333333333333333,
             "#9c179e"
            ],
            [
             0.4444444444444444,
             "#bd3786"
            ],
            [
             0.5555555555555556,
             "#d8576b"
            ],
            [
             0.6666666666666666,
             "#ed7953"
            ],
            [
             0.7777777777777778,
             "#fb9f3a"
            ],
            [
             0.8888888888888888,
             "#fdca26"
            ],
            [
             1,
             "#f0f921"
            ]
           ]
          },
          "colorway": [
           "#636efa",
           "#EF553B",
           "#00cc96",
           "#ab63fa",
           "#FFA15A",
           "#19d3f3",
           "#FF6692",
           "#B6E880",
           "#FF97FF",
           "#FECB52"
          ],
          "font": {
           "color": "#2a3f5f"
          },
          "geo": {
           "bgcolor": "white",
           "lakecolor": "white",
           "landcolor": "#E5ECF6",
           "showlakes": true,
           "showland": true,
           "subunitcolor": "white"
          },
          "hoverlabel": {
           "align": "left"
          },
          "hovermode": "closest",
          "mapbox": {
           "style": "light"
          },
          "paper_bgcolor": "white",
          "plot_bgcolor": "#E5ECF6",
          "polar": {
           "angularaxis": {
            "gridcolor": "white",
            "linecolor": "white",
            "ticks": ""
           },
           "bgcolor": "#E5ECF6",
           "radialaxis": {
            "gridcolor": "white",
            "linecolor": "white",
            "ticks": ""
           }
          },
          "scene": {
           "xaxis": {
            "backgroundcolor": "#E5ECF6",
            "gridcolor": "white",
            "gridwidth": 2,
            "linecolor": "white",
            "showbackground": true,
            "ticks": "",
            "zerolinecolor": "white"
           },
           "yaxis": {
            "backgroundcolor": "#E5ECF6",
            "gridcolor": "white",
            "gridwidth": 2,
            "linecolor": "white",
            "showbackground": true,
            "ticks": "",
            "zerolinecolor": "white"
           },
           "zaxis": {
            "backgroundcolor": "#E5ECF6",
            "gridcolor": "white",
            "gridwidth": 2,
            "linecolor": "white",
            "showbackground": true,
            "ticks": "",
            "zerolinecolor": "white"
           }
          },
          "shapedefaults": {
           "line": {
            "color": "#2a3f5f"
           }
          },
          "ternary": {
           "aaxis": {
            "gridcolor": "white",
            "linecolor": "white",
            "ticks": ""
           },
           "baxis": {
            "gridcolor": "white",
            "linecolor": "white",
            "ticks": ""
           },
           "bgcolor": "#E5ECF6",
           "caxis": {
            "gridcolor": "white",
            "linecolor": "white",
            "ticks": ""
           }
          },
          "title": {
           "x": 0.05
          },
          "xaxis": {
           "automargin": true,
           "gridcolor": "white",
           "linecolor": "white",
           "ticks": "",
           "title": {
            "standoff": 15
           },
           "zerolinecolor": "white",
           "zerolinewidth": 2
          },
          "yaxis": {
           "automargin": true,
           "gridcolor": "white",
           "linecolor": "white",
           "ticks": "",
           "title": {
            "standoff": 15
           },
           "zerolinecolor": "white",
           "zerolinewidth": 2
          }
         }
        },
        "title": {
         "text": "Influencers Hierarchical Structure"
        }
       }
      }
     },
     "metadata": {},
     "output_type": "display_data"
    }
   ],
   "source": [
    "# Filter out rows with NaN values in relevant columns\n",
    "merged_df_clean = merged_df.dropna(subset=['COUNTRY', 'CATEGORY', 'SUB-CATEGORY'])\n",
    "\n",
    "# Create a Treemap\n",
    "fig = px.treemap(merged_df_clean, \n",
    "                 path=['COUNTRY', 'CATEGORY', 'SUB-CATEGORY'], \n",
    "                 values='FOLLOWERS', \n",
    "                 color='FOLLOWERS',\n",
    "                 color_continuous_scale=px.colors.sequential.Viridis,\n",
    "                 title='Influencers Hierarchical Structure')\n",
    "\n",
    "# Show the plot\n",
    "fig.show()"
   ]
  },
  {
   "cell_type": "code",
   "execution_count": 29,
   "id": "e3811631-2709-4b5e-88c8-b420d3644125",
   "metadata": {
    "tags": []
   },
   "outputs": [
    {
     "data": {
      "text/html": [
       "<div>\n",
       "<style scoped>\n",
       "    .dataframe tbody tr th:only-of-type {\n",
       "        vertical-align: middle;\n",
       "    }\n",
       "\n",
       "    .dataframe tbody tr th {\n",
       "        vertical-align: top;\n",
       "    }\n",
       "\n",
       "    .dataframe thead th {\n",
       "        text-align: right;\n",
       "    }\n",
       "</style>\n",
       "<table border=\"1\" class=\"dataframe\">\n",
       "  <thead>\n",
       "    <tr style=\"text-align: right;\">\n",
       "      <th></th>\n",
       "      <th>#</th>\n",
       "      <th>NAME</th>\n",
       "      <th>FOLLOWERS</th>\n",
       "      <th>ENGAGEMENT RATE</th>\n",
       "      <th>COUNTRY</th>\n",
       "      <th>TOPIC OF INFLUENCE</th>\n",
       "      <th>POTENTIAL REACH</th>\n",
       "      <th>Social Media Platform</th>\n",
       "      <th>CATEGORY</th>\n",
       "      <th>SUB-CATEGORY</th>\n",
       "      <th>HANDLE</th>\n",
       "    </tr>\n",
       "  </thead>\n",
       "  <tbody>\n",
       "    <tr>\n",
       "      <th>0</th>\n",
       "      <td>1</td>\n",
       "      <td>Cristiano Ronaldo @cristiano</td>\n",
       "      <td>625100000.0</td>\n",
       "      <td>0.01</td>\n",
       "      <td>Portugal</td>\n",
       "      <td>Finance Soccer</td>\n",
       "      <td>187500000.0</td>\n",
       "      <td>Instagram</td>\n",
       "      <td>Sports</td>\n",
       "      <td>Soccer</td>\n",
       "      <td>@cristiano</td>\n",
       "    </tr>\n",
       "    <tr>\n",
       "      <th>1</th>\n",
       "      <td>2</td>\n",
       "      <td>Leo Messi @leomessi</td>\n",
       "      <td>501100000.0</td>\n",
       "      <td>0.01</td>\n",
       "      <td>Argentina</td>\n",
       "      <td>Sports Soccer Activity General General Interest</td>\n",
       "      <td>150300000.0</td>\n",
       "      <td>Instagram</td>\n",
       "      <td>Sports</td>\n",
       "      <td>Soccer</td>\n",
       "      <td>@leomessi</td>\n",
       "    </tr>\n",
       "    <tr>\n",
       "      <th>2</th>\n",
       "      <td>3</td>\n",
       "      <td>Selena Gomez @selenagomez</td>\n",
       "      <td>429700000.0</td>\n",
       "      <td>1.09</td>\n",
       "      <td>United States</td>\n",
       "      <td>Beauty and Self Care Entertainment and Music M...</td>\n",
       "      <td>128900000.0</td>\n",
       "      <td>Instagram</td>\n",
       "      <td>Entertainment</td>\n",
       "      <td>Music</td>\n",
       "      <td>@selenagomez</td>\n",
       "    </tr>\n",
       "    <tr>\n",
       "      <th>3</th>\n",
       "      <td>4</td>\n",
       "      <td>Kylie @kyliejenner</td>\n",
       "      <td>400500000.0</td>\n",
       "      <td>NaN</td>\n",
       "      <td>United States</td>\n",
       "      <td>Beauty and Self Care Product Showcase Modeling...</td>\n",
       "      <td>120100000.0</td>\n",
       "      <td>Instagram</td>\n",
       "      <td>Fashion and Accessories</td>\n",
       "      <td>Modeling</td>\n",
       "      <td>@kyliejenner</td>\n",
       "    </tr>\n",
       "    <tr>\n",
       "      <th>4</th>\n",
       "      <td>5</td>\n",
       "      <td>Dwayne Johnson @therock</td>\n",
       "      <td>397800000.0</td>\n",
       "      <td>0.13</td>\n",
       "      <td>United States</td>\n",
       "      <td>Entertainment and Music Actors Public Figure</td>\n",
       "      <td>119300000.0</td>\n",
       "      <td>Instagram</td>\n",
       "      <td>Entertainment</td>\n",
       "      <td>Music</td>\n",
       "      <td>@therock</td>\n",
       "    </tr>\n",
       "    <tr>\n",
       "      <th>...</th>\n",
       "      <td>...</td>\n",
       "      <td>...</td>\n",
       "      <td>...</td>\n",
       "      <td>...</td>\n",
       "      <td>...</td>\n",
       "      <td>...</td>\n",
       "      <td>...</td>\n",
       "      <td>...</td>\n",
       "      <td>...</td>\n",
       "      <td>...</td>\n",
       "      <td>...</td>\n",
       "    </tr>\n",
       "    <tr>\n",
       "      <th>395</th>\n",
       "      <td>96</td>\n",
       "      <td>Bryce Hall @brycehall</td>\n",
       "      <td>21500000.0</td>\n",
       "      <td>NaN</td>\n",
       "      <td>United States</td>\n",
       "      <td>Entertainment and Music</td>\n",
       "      <td>6500000.0</td>\n",
       "      <td>YouTube</td>\n",
       "      <td>Entertainment</td>\n",
       "      <td>Music</td>\n",
       "      <td>@brycehall</td>\n",
       "    </tr>\n",
       "    <tr>\n",
       "      <th>396</th>\n",
       "      <td>97</td>\n",
       "      <td>온오빠 On Oppa @korea.on</td>\n",
       "      <td>21500000.0</td>\n",
       "      <td>NaN</td>\n",
       "      <td>NaN</td>\n",
       "      <td>Entertainment and Music</td>\n",
       "      <td>6500000.0</td>\n",
       "      <td>YouTube</td>\n",
       "      <td>Entertainment</td>\n",
       "      <td>Music</td>\n",
       "      <td>@korea.on</td>\n",
       "    </tr>\n",
       "    <tr>\n",
       "      <th>397</th>\n",
       "      <td>98</td>\n",
       "      <td>Seany @seandoesmagic</td>\n",
       "      <td>21300000.0</td>\n",
       "      <td>NaN</td>\n",
       "      <td>NaN</td>\n",
       "      <td>NaN</td>\n",
       "      <td>6400000.0</td>\n",
       "      <td>YouTube</td>\n",
       "      <td>NaN</td>\n",
       "      <td>NaN</td>\n",
       "      <td>@seandoesmagic</td>\n",
       "    </tr>\n",
       "    <tr>\n",
       "      <th>398</th>\n",
       "      <td>99</td>\n",
       "      <td>Pk @pkllipe</td>\n",
       "      <td>21300000.0</td>\n",
       "      <td>2.60</td>\n",
       "      <td>NaN</td>\n",
       "      <td>NaN</td>\n",
       "      <td>6400000.0</td>\n",
       "      <td>YouTube</td>\n",
       "      <td>NaN</td>\n",
       "      <td>NaN</td>\n",
       "      <td>@pkllipe</td>\n",
       "    </tr>\n",
       "    <tr>\n",
       "      <th>399</th>\n",
       "      <td>100</td>\n",
       "      <td>The Hype House @thehypehouse</td>\n",
       "      <td>21100000.0</td>\n",
       "      <td>NaN</td>\n",
       "      <td>NaN</td>\n",
       "      <td>Entertainment and Music</td>\n",
       "      <td>6300000.0</td>\n",
       "      <td>YouTube</td>\n",
       "      <td>Entertainment</td>\n",
       "      <td>Music</td>\n",
       "      <td>@thehypehouse</td>\n",
       "    </tr>\n",
       "  </tbody>\n",
       "</table>\n",
       "<p>400 rows × 11 columns</p>\n",
       "</div>"
      ],
      "text/plain": [
       "       #                          NAME    FOLLOWERS  ENGAGEMENT RATE  \\\n",
       "0      1  Cristiano Ronaldo @cristiano  625100000.0             0.01   \n",
       "1      2           Leo Messi @leomessi  501100000.0             0.01   \n",
       "2      3     Selena Gomez @selenagomez  429700000.0             1.09   \n",
       "3      4            Kylie @kyliejenner  400500000.0              NaN   \n",
       "4      5       Dwayne Johnson @therock  397800000.0             0.13   \n",
       "..   ...                           ...          ...              ...   \n",
       "395   96         Bryce Hall @brycehall   21500000.0              NaN   \n",
       "396   97         온오빠 On Oppa @korea.on   21500000.0              NaN   \n",
       "397   98          Seany @seandoesmagic   21300000.0              NaN   \n",
       "398   99                   Pk @pkllipe   21300000.0             2.60   \n",
       "399  100  The Hype House @thehypehouse   21100000.0              NaN   \n",
       "\n",
       "           COUNTRY                                 TOPIC OF INFLUENCE  \\\n",
       "0         Portugal                                     Finance Soccer   \n",
       "1        Argentina    Sports Soccer Activity General General Interest   \n",
       "2    United States  Beauty and Self Care Entertainment and Music M...   \n",
       "3    United States  Beauty and Self Care Product Showcase Modeling...   \n",
       "4    United States       Entertainment and Music Actors Public Figure   \n",
       "..             ...                                                ...   \n",
       "395  United States                            Entertainment and Music   \n",
       "396            NaN                            Entertainment and Music   \n",
       "397            NaN                                                NaN   \n",
       "398            NaN                                                NaN   \n",
       "399            NaN                            Entertainment and Music   \n",
       "\n",
       "     POTENTIAL REACH Social Media Platform                 CATEGORY  \\\n",
       "0        187500000.0             Instagram                   Sports   \n",
       "1        150300000.0             Instagram                   Sports   \n",
       "2        128900000.0             Instagram            Entertainment   \n",
       "3        120100000.0             Instagram  Fashion and Accessories   \n",
       "4        119300000.0             Instagram            Entertainment   \n",
       "..               ...                   ...                      ...   \n",
       "395        6500000.0               YouTube            Entertainment   \n",
       "396        6500000.0               YouTube            Entertainment   \n",
       "397        6400000.0               YouTube                      NaN   \n",
       "398        6400000.0               YouTube                      NaN   \n",
       "399        6300000.0               YouTube            Entertainment   \n",
       "\n",
       "    SUB-CATEGORY          HANDLE  \n",
       "0         Soccer      @cristiano  \n",
       "1         Soccer       @leomessi  \n",
       "2          Music    @selenagomez  \n",
       "3       Modeling    @kyliejenner  \n",
       "4          Music        @therock  \n",
       "..           ...             ...  \n",
       "395        Music      @brycehall  \n",
       "396        Music       @korea.on  \n",
       "397          NaN  @seandoesmagic  \n",
       "398          NaN        @pkllipe  \n",
       "399        Music   @thehypehouse  \n",
       "\n",
       "[400 rows x 11 columns]"
      ]
     },
     "execution_count": 29,
     "metadata": {},
     "output_type": "execute_result"
    }
   ],
   "source": [
    "# Splitting the 'NAME' column at '@' symbol and creating a new column called 'Handle'\n",
    "merged_df['HANDLE'] = '@' + merged_df['NAME'].str.split('@').str[1]\n",
    "\n",
    "# Displaying the modified DataFrame\n",
    "merged_df"
   ]
  },
  {
   "cell_type": "code",
   "execution_count": 30,
   "id": "47407c28-da98-4a28-9197-dcc952c2ade5",
   "metadata": {
    "tags": []
   },
   "outputs": [
    {
     "data": {
      "text/html": [
       "<div>\n",
       "<style scoped>\n",
       "    .dataframe tbody tr th:only-of-type {\n",
       "        vertical-align: middle;\n",
       "    }\n",
       "\n",
       "    .dataframe tbody tr th {\n",
       "        vertical-align: top;\n",
       "    }\n",
       "\n",
       "    .dataframe thead th {\n",
       "        text-align: right;\n",
       "    }\n",
       "</style>\n",
       "<table border=\"1\" class=\"dataframe\">\n",
       "  <thead>\n",
       "    <tr style=\"text-align: right;\">\n",
       "      <th></th>\n",
       "      <th>#</th>\n",
       "      <th>NAME</th>\n",
       "      <th>FOLLOWERS</th>\n",
       "      <th>ENGAGEMENT RATE</th>\n",
       "      <th>COUNTRY</th>\n",
       "      <th>TOPIC OF INFLUENCE</th>\n",
       "      <th>POTENTIAL REACH</th>\n",
       "      <th>Social Media Platform</th>\n",
       "      <th>CATEGORY</th>\n",
       "      <th>SUB-CATEGORY</th>\n",
       "      <th>HANDLE</th>\n",
       "    </tr>\n",
       "  </thead>\n",
       "  <tbody>\n",
       "    <tr>\n",
       "      <th>0</th>\n",
       "      <td>1</td>\n",
       "      <td>Cristiano Ronaldo</td>\n",
       "      <td>625100000.0</td>\n",
       "      <td>0.01</td>\n",
       "      <td>Portugal</td>\n",
       "      <td>Finance Soccer</td>\n",
       "      <td>187500000.0</td>\n",
       "      <td>Instagram</td>\n",
       "      <td>Sports</td>\n",
       "      <td>Soccer</td>\n",
       "      <td>@cristiano</td>\n",
       "    </tr>\n",
       "    <tr>\n",
       "      <th>1</th>\n",
       "      <td>2</td>\n",
       "      <td>Leo Messi</td>\n",
       "      <td>501100000.0</td>\n",
       "      <td>0.01</td>\n",
       "      <td>Argentina</td>\n",
       "      <td>Sports Soccer Activity General General Interest</td>\n",
       "      <td>150300000.0</td>\n",
       "      <td>Instagram</td>\n",
       "      <td>Sports</td>\n",
       "      <td>Soccer</td>\n",
       "      <td>@leomessi</td>\n",
       "    </tr>\n",
       "    <tr>\n",
       "      <th>2</th>\n",
       "      <td>3</td>\n",
       "      <td>Selena Gomez</td>\n",
       "      <td>429700000.0</td>\n",
       "      <td>1.09</td>\n",
       "      <td>United States</td>\n",
       "      <td>Beauty and Self Care Entertainment and Music M...</td>\n",
       "      <td>128900000.0</td>\n",
       "      <td>Instagram</td>\n",
       "      <td>Entertainment</td>\n",
       "      <td>Music</td>\n",
       "      <td>@selenagomez</td>\n",
       "    </tr>\n",
       "    <tr>\n",
       "      <th>3</th>\n",
       "      <td>4</td>\n",
       "      <td>Kylie</td>\n",
       "      <td>400500000.0</td>\n",
       "      <td>NaN</td>\n",
       "      <td>United States</td>\n",
       "      <td>Beauty and Self Care Product Showcase Modeling...</td>\n",
       "      <td>120100000.0</td>\n",
       "      <td>Instagram</td>\n",
       "      <td>Fashion and Accessories</td>\n",
       "      <td>Modeling</td>\n",
       "      <td>@kyliejenner</td>\n",
       "    </tr>\n",
       "    <tr>\n",
       "      <th>4</th>\n",
       "      <td>5</td>\n",
       "      <td>Dwayne Johnson</td>\n",
       "      <td>397800000.0</td>\n",
       "      <td>0.13</td>\n",
       "      <td>United States</td>\n",
       "      <td>Entertainment and Music Actors Public Figure</td>\n",
       "      <td>119300000.0</td>\n",
       "      <td>Instagram</td>\n",
       "      <td>Entertainment</td>\n",
       "      <td>Music</td>\n",
       "      <td>@therock</td>\n",
       "    </tr>\n",
       "    <tr>\n",
       "      <th>...</th>\n",
       "      <td>...</td>\n",
       "      <td>...</td>\n",
       "      <td>...</td>\n",
       "      <td>...</td>\n",
       "      <td>...</td>\n",
       "      <td>...</td>\n",
       "      <td>...</td>\n",
       "      <td>...</td>\n",
       "      <td>...</td>\n",
       "      <td>...</td>\n",
       "      <td>...</td>\n",
       "    </tr>\n",
       "    <tr>\n",
       "      <th>395</th>\n",
       "      <td>96</td>\n",
       "      <td>Bryce Hall</td>\n",
       "      <td>21500000.0</td>\n",
       "      <td>NaN</td>\n",
       "      <td>United States</td>\n",
       "      <td>Entertainment and Music</td>\n",
       "      <td>6500000.0</td>\n",
       "      <td>YouTube</td>\n",
       "      <td>Entertainment</td>\n",
       "      <td>Music</td>\n",
       "      <td>@brycehall</td>\n",
       "    </tr>\n",
       "    <tr>\n",
       "      <th>396</th>\n",
       "      <td>97</td>\n",
       "      <td>온오빠 On Oppa</td>\n",
       "      <td>21500000.0</td>\n",
       "      <td>NaN</td>\n",
       "      <td>NaN</td>\n",
       "      <td>Entertainment and Music</td>\n",
       "      <td>6500000.0</td>\n",
       "      <td>YouTube</td>\n",
       "      <td>Entertainment</td>\n",
       "      <td>Music</td>\n",
       "      <td>@korea.on</td>\n",
       "    </tr>\n",
       "    <tr>\n",
       "      <th>397</th>\n",
       "      <td>98</td>\n",
       "      <td>Seany</td>\n",
       "      <td>21300000.0</td>\n",
       "      <td>NaN</td>\n",
       "      <td>NaN</td>\n",
       "      <td>NaN</td>\n",
       "      <td>6400000.0</td>\n",
       "      <td>YouTube</td>\n",
       "      <td>NaN</td>\n",
       "      <td>NaN</td>\n",
       "      <td>@seandoesmagic</td>\n",
       "    </tr>\n",
       "    <tr>\n",
       "      <th>398</th>\n",
       "      <td>99</td>\n",
       "      <td>Pk</td>\n",
       "      <td>21300000.0</td>\n",
       "      <td>2.60</td>\n",
       "      <td>NaN</td>\n",
       "      <td>NaN</td>\n",
       "      <td>6400000.0</td>\n",
       "      <td>YouTube</td>\n",
       "      <td>NaN</td>\n",
       "      <td>NaN</td>\n",
       "      <td>@pkllipe</td>\n",
       "    </tr>\n",
       "    <tr>\n",
       "      <th>399</th>\n",
       "      <td>100</td>\n",
       "      <td>The Hype House</td>\n",
       "      <td>21100000.0</td>\n",
       "      <td>NaN</td>\n",
       "      <td>NaN</td>\n",
       "      <td>Entertainment and Music</td>\n",
       "      <td>6300000.0</td>\n",
       "      <td>YouTube</td>\n",
       "      <td>Entertainment</td>\n",
       "      <td>Music</td>\n",
       "      <td>@thehypehouse</td>\n",
       "    </tr>\n",
       "  </tbody>\n",
       "</table>\n",
       "<p>400 rows × 11 columns</p>\n",
       "</div>"
      ],
      "text/plain": [
       "       #                NAME    FOLLOWERS  ENGAGEMENT RATE        COUNTRY  \\\n",
       "0      1  Cristiano Ronaldo   625100000.0             0.01       Portugal   \n",
       "1      2          Leo Messi   501100000.0             0.01      Argentina   \n",
       "2      3       Selena Gomez   429700000.0             1.09  United States   \n",
       "3      4              Kylie   400500000.0              NaN  United States   \n",
       "4      5     Dwayne Johnson   397800000.0             0.13  United States   \n",
       "..   ...                 ...          ...              ...            ...   \n",
       "395   96         Bryce Hall    21500000.0              NaN  United States   \n",
       "396   97        온오빠 On Oppa    21500000.0              NaN            NaN   \n",
       "397   98              Seany    21300000.0              NaN            NaN   \n",
       "398   99                 Pk    21300000.0             2.60            NaN   \n",
       "399  100     The Hype House    21100000.0              NaN            NaN   \n",
       "\n",
       "                                    TOPIC OF INFLUENCE  POTENTIAL REACH  \\\n",
       "0                                       Finance Soccer      187500000.0   \n",
       "1      Sports Soccer Activity General General Interest      150300000.0   \n",
       "2    Beauty and Self Care Entertainment and Music M...      128900000.0   \n",
       "3    Beauty and Self Care Product Showcase Modeling...      120100000.0   \n",
       "4         Entertainment and Music Actors Public Figure      119300000.0   \n",
       "..                                                 ...              ...   \n",
       "395                            Entertainment and Music        6500000.0   \n",
       "396                            Entertainment and Music        6500000.0   \n",
       "397                                                NaN        6400000.0   \n",
       "398                                                NaN        6400000.0   \n",
       "399                            Entertainment and Music        6300000.0   \n",
       "\n",
       "    Social Media Platform                 CATEGORY SUB-CATEGORY  \\\n",
       "0               Instagram                   Sports       Soccer   \n",
       "1               Instagram                   Sports       Soccer   \n",
       "2               Instagram            Entertainment        Music   \n",
       "3               Instagram  Fashion and Accessories     Modeling   \n",
       "4               Instagram            Entertainment        Music   \n",
       "..                    ...                      ...          ...   \n",
       "395               YouTube            Entertainment        Music   \n",
       "396               YouTube            Entertainment        Music   \n",
       "397               YouTube                      NaN          NaN   \n",
       "398               YouTube                      NaN          NaN   \n",
       "399               YouTube            Entertainment        Music   \n",
       "\n",
       "             HANDLE  \n",
       "0        @cristiano  \n",
       "1         @leomessi  \n",
       "2      @selenagomez  \n",
       "3      @kyliejenner  \n",
       "4          @therock  \n",
       "..              ...  \n",
       "395      @brycehall  \n",
       "396       @korea.on  \n",
       "397  @seandoesmagic  \n",
       "398        @pkllipe  \n",
       "399   @thehypehouse  \n",
       "\n",
       "[400 rows x 11 columns]"
      ]
     },
     "execution_count": 30,
     "metadata": {},
     "output_type": "execute_result"
    }
   ],
   "source": [
    "# Remove the handle from the 'NAME' column\n",
    "merged_df['NAME'] = merged_df['NAME'].str.split('@').str[0]\n",
    "merged_df"
   ]
  },
  {
   "cell_type": "code",
   "execution_count": 31,
   "id": "c8433184-6ab3-483b-84c3-5acce43bc3a8",
   "metadata": {
    "tags": []
   },
   "outputs": [
    {
     "data": {
      "text/html": [
       "<div>\n",
       "<style scoped>\n",
       "    .dataframe tbody tr th:only-of-type {\n",
       "        vertical-align: middle;\n",
       "    }\n",
       "\n",
       "    .dataframe tbody tr th {\n",
       "        vertical-align: top;\n",
       "    }\n",
       "\n",
       "    .dataframe thead th {\n",
       "        text-align: right;\n",
       "    }\n",
       "</style>\n",
       "<table border=\"1\" class=\"dataframe\">\n",
       "  <thead>\n",
       "    <tr style=\"text-align: right;\">\n",
       "      <th></th>\n",
       "      <th>NAME</th>\n",
       "      <th>HANDLE</th>\n",
       "      <th>FOLLOWERS</th>\n",
       "      <th>ENGAGEMENT RATE</th>\n",
       "      <th>COUNTRY</th>\n",
       "      <th>TOPIC OF INFLUENCE</th>\n",
       "      <th>POTENTIAL REACH</th>\n",
       "      <th>Social Media Platform</th>\n",
       "      <th>CATEGORY</th>\n",
       "      <th>SUB-CATEGORY</th>\n",
       "    </tr>\n",
       "  </thead>\n",
       "  <tbody>\n",
       "    <tr>\n",
       "      <th>0</th>\n",
       "      <td>Cristiano Ronaldo</td>\n",
       "      <td>@cristiano</td>\n",
       "      <td>625100000.0</td>\n",
       "      <td>0.01</td>\n",
       "      <td>Portugal</td>\n",
       "      <td>Finance Soccer</td>\n",
       "      <td>187500000.0</td>\n",
       "      <td>Instagram</td>\n",
       "      <td>Sports</td>\n",
       "      <td>Soccer</td>\n",
       "    </tr>\n",
       "    <tr>\n",
       "      <th>1</th>\n",
       "      <td>Leo Messi</td>\n",
       "      <td>@leomessi</td>\n",
       "      <td>501100000.0</td>\n",
       "      <td>0.01</td>\n",
       "      <td>Argentina</td>\n",
       "      <td>Sports Soccer Activity General General Interest</td>\n",
       "      <td>150300000.0</td>\n",
       "      <td>Instagram</td>\n",
       "      <td>Sports</td>\n",
       "      <td>Soccer</td>\n",
       "    </tr>\n",
       "    <tr>\n",
       "      <th>2</th>\n",
       "      <td>Selena Gomez</td>\n",
       "      <td>@selenagomez</td>\n",
       "      <td>429700000.0</td>\n",
       "      <td>1.09</td>\n",
       "      <td>United States</td>\n",
       "      <td>Beauty and Self Care Entertainment and Music M...</td>\n",
       "      <td>128900000.0</td>\n",
       "      <td>Instagram</td>\n",
       "      <td>Entertainment</td>\n",
       "      <td>Music</td>\n",
       "    </tr>\n",
       "    <tr>\n",
       "      <th>3</th>\n",
       "      <td>Kylie</td>\n",
       "      <td>@kyliejenner</td>\n",
       "      <td>400500000.0</td>\n",
       "      <td>NaN</td>\n",
       "      <td>United States</td>\n",
       "      <td>Beauty and Self Care Product Showcase Modeling...</td>\n",
       "      <td>120100000.0</td>\n",
       "      <td>Instagram</td>\n",
       "      <td>Fashion and Accessories</td>\n",
       "      <td>Modeling</td>\n",
       "    </tr>\n",
       "    <tr>\n",
       "      <th>4</th>\n",
       "      <td>Dwayne Johnson</td>\n",
       "      <td>@therock</td>\n",
       "      <td>397800000.0</td>\n",
       "      <td>0.13</td>\n",
       "      <td>United States</td>\n",
       "      <td>Entertainment and Music Actors Public Figure</td>\n",
       "      <td>119300000.0</td>\n",
       "      <td>Instagram</td>\n",
       "      <td>Entertainment</td>\n",
       "      <td>Music</td>\n",
       "    </tr>\n",
       "    <tr>\n",
       "      <th>...</th>\n",
       "      <td>...</td>\n",
       "      <td>...</td>\n",
       "      <td>...</td>\n",
       "      <td>...</td>\n",
       "      <td>...</td>\n",
       "      <td>...</td>\n",
       "      <td>...</td>\n",
       "      <td>...</td>\n",
       "      <td>...</td>\n",
       "      <td>...</td>\n",
       "    </tr>\n",
       "    <tr>\n",
       "      <th>395</th>\n",
       "      <td>Bryce Hall</td>\n",
       "      <td>@brycehall</td>\n",
       "      <td>21500000.0</td>\n",
       "      <td>NaN</td>\n",
       "      <td>United States</td>\n",
       "      <td>Entertainment and Music</td>\n",
       "      <td>6500000.0</td>\n",
       "      <td>YouTube</td>\n",
       "      <td>Entertainment</td>\n",
       "      <td>Music</td>\n",
       "    </tr>\n",
       "    <tr>\n",
       "      <th>396</th>\n",
       "      <td>온오빠 On Oppa</td>\n",
       "      <td>@korea.on</td>\n",
       "      <td>21500000.0</td>\n",
       "      <td>NaN</td>\n",
       "      <td>NaN</td>\n",
       "      <td>Entertainment and Music</td>\n",
       "      <td>6500000.0</td>\n",
       "      <td>YouTube</td>\n",
       "      <td>Entertainment</td>\n",
       "      <td>Music</td>\n",
       "    </tr>\n",
       "    <tr>\n",
       "      <th>397</th>\n",
       "      <td>Seany</td>\n",
       "      <td>@seandoesmagic</td>\n",
       "      <td>21300000.0</td>\n",
       "      <td>NaN</td>\n",
       "      <td>NaN</td>\n",
       "      <td>NaN</td>\n",
       "      <td>6400000.0</td>\n",
       "      <td>YouTube</td>\n",
       "      <td>NaN</td>\n",
       "      <td>NaN</td>\n",
       "    </tr>\n",
       "    <tr>\n",
       "      <th>398</th>\n",
       "      <td>Pk</td>\n",
       "      <td>@pkllipe</td>\n",
       "      <td>21300000.0</td>\n",
       "      <td>2.60</td>\n",
       "      <td>NaN</td>\n",
       "      <td>NaN</td>\n",
       "      <td>6400000.0</td>\n",
       "      <td>YouTube</td>\n",
       "      <td>NaN</td>\n",
       "      <td>NaN</td>\n",
       "    </tr>\n",
       "    <tr>\n",
       "      <th>399</th>\n",
       "      <td>The Hype House</td>\n",
       "      <td>@thehypehouse</td>\n",
       "      <td>21100000.0</td>\n",
       "      <td>NaN</td>\n",
       "      <td>NaN</td>\n",
       "      <td>Entertainment and Music</td>\n",
       "      <td>6300000.0</td>\n",
       "      <td>YouTube</td>\n",
       "      <td>Entertainment</td>\n",
       "      <td>Music</td>\n",
       "    </tr>\n",
       "  </tbody>\n",
       "</table>\n",
       "<p>400 rows × 10 columns</p>\n",
       "</div>"
      ],
      "text/plain": [
       "                   NAME          HANDLE    FOLLOWERS  ENGAGEMENT RATE  \\\n",
       "0    Cristiano Ronaldo       @cristiano  625100000.0             0.01   \n",
       "1            Leo Messi        @leomessi  501100000.0             0.01   \n",
       "2         Selena Gomez     @selenagomez  429700000.0             1.09   \n",
       "3                Kylie     @kyliejenner  400500000.0              NaN   \n",
       "4       Dwayne Johnson         @therock  397800000.0             0.13   \n",
       "..                  ...             ...          ...              ...   \n",
       "395         Bryce Hall       @brycehall   21500000.0              NaN   \n",
       "396        온오빠 On Oppa        @korea.on   21500000.0              NaN   \n",
       "397              Seany   @seandoesmagic   21300000.0              NaN   \n",
       "398                 Pk         @pkllipe   21300000.0             2.60   \n",
       "399     The Hype House    @thehypehouse   21100000.0              NaN   \n",
       "\n",
       "           COUNTRY                                 TOPIC OF INFLUENCE  \\\n",
       "0         Portugal                                     Finance Soccer   \n",
       "1        Argentina    Sports Soccer Activity General General Interest   \n",
       "2    United States  Beauty and Self Care Entertainment and Music M...   \n",
       "3    United States  Beauty and Self Care Product Showcase Modeling...   \n",
       "4    United States       Entertainment and Music Actors Public Figure   \n",
       "..             ...                                                ...   \n",
       "395  United States                            Entertainment and Music   \n",
       "396            NaN                            Entertainment and Music   \n",
       "397            NaN                                                NaN   \n",
       "398            NaN                                                NaN   \n",
       "399            NaN                            Entertainment and Music   \n",
       "\n",
       "     POTENTIAL REACH Social Media Platform                 CATEGORY  \\\n",
       "0        187500000.0             Instagram                   Sports   \n",
       "1        150300000.0             Instagram                   Sports   \n",
       "2        128900000.0             Instagram            Entertainment   \n",
       "3        120100000.0             Instagram  Fashion and Accessories   \n",
       "4        119300000.0             Instagram            Entertainment   \n",
       "..               ...                   ...                      ...   \n",
       "395        6500000.0               YouTube            Entertainment   \n",
       "396        6500000.0               YouTube            Entertainment   \n",
       "397        6400000.0               YouTube                      NaN   \n",
       "398        6400000.0               YouTube                      NaN   \n",
       "399        6300000.0               YouTube            Entertainment   \n",
       "\n",
       "    SUB-CATEGORY  \n",
       "0         Soccer  \n",
       "1         Soccer  \n",
       "2          Music  \n",
       "3       Modeling  \n",
       "4          Music  \n",
       "..           ...  \n",
       "395        Music  \n",
       "396        Music  \n",
       "397          NaN  \n",
       "398          NaN  \n",
       "399        Music  \n",
       "\n",
       "[400 rows x 10 columns]"
      ]
     },
     "execution_count": 31,
     "metadata": {},
     "output_type": "execute_result"
    }
   ],
   "source": [
    "# Reorganize the DataFrame\n",
    "merged_df = merged_df[['NAME', 'HANDLE', 'FOLLOWERS', 'ENGAGEMENT RATE', 'COUNTRY', 'TOPIC OF INFLUENCE', 'POTENTIAL REACH', 'Social Media Platform', 'CATEGORY', 'SUB-CATEGORY']]\n",
    "merged_df"
   ]
  },
  {
   "cell_type": "code",
   "execution_count": 25,
   "id": "31f557c4-bb57-490f-ae5a-55ad57df3c26",
   "metadata": {
    "tags": []
   },
   "outputs": [],
   "source": [
    "# Export the DataFrame to a CSV file\n",
    "merged_df.to_csv('Data/merged_df.csv', index=False)"
   ]
  },
  {
   "cell_type": "markdown",
   "id": "4b1d939c",
   "metadata": {},
   "source": [
    "# Create MongoDB database and collections"
   ]
  },
  {
   "cell_type": "code",
   "execution_count": 32,
   "id": "c51bb618-ed91-496a-9043-97f01c3b46ef",
   "metadata": {},
   "outputs": [],
   "source": [
    "# connect to Mongo\n",
    "client = MongoClient(port=27017)\n",
    "# Select the database \n",
    "db = client['influencers']"
   ]
  },
  {
   "cell_type": "code",
   "execution_count": 33,
   "id": "cfacbfd1",
   "metadata": {},
   "outputs": [],
   "source": [
    "collections = ['instagram', 'threads', 'youtube', 'tiktok']"
   ]
  },
  {
   "cell_type": "code",
   "execution_count": 34,
   "id": "ff643a1b",
   "metadata": {},
   "outputs": [
    {
     "data": {
      "text/plain": [
       "Collection(Database(MongoClient(host=['localhost:27017'], document_class=dict, tz_aware=False, connect=True), 'influencers'), 'tiktok')"
      ]
     },
     "execution_count": 34,
     "metadata": {},
     "output_type": "execute_result"
    }
   ],
   "source": [
    "# Access the Instagram collection\n",
    "instagram_collection = db['instagram']\n",
    "# Access the Threads collection\n",
    "threads_collection = db['threads']\n",
    "# Access the YouTube collection\n",
    "youtube_collection = db['youtube']\n",
    "# Access the TikTok collection\n",
    "tiktok_collection = db['tiktok']\n",
    "tiktok_collection"
   ]
  },
  {
   "cell_type": "code",
   "execution_count": 35,
   "id": "daaa344d",
   "metadata": {},
   "outputs": [
    {
     "name": "stdout",
     "output_type": "stream",
     "text": [
      "{'_id': ObjectId('6615258d2104659b995ce9ff'), '#': 1, 'NAME': 'Cristiano Ronaldo @cristiano', 'FOLLOWERS': '625.1M', 'ER': '0.01%', 'COUNTRY': 'Portugal', 'TOPIC OF INFLUENCE': 'Finance Soccer', 'POTENTIAL REACH': '187.5M'}\n",
      "{'_id': ObjectId('6615258d2104659b995cea00'), '#': 3, 'NAME': 'Selena Gomez @selenagomez', 'FOLLOWERS': '429.7M', 'ER': '1.09%', 'COUNTRY': 'United States', 'TOPIC OF INFLUENCE': 'Beauty and Self Care Entertainment and Music Music Actors', 'POTENTIAL REACH': '128.9M'}\n",
      "{'_id': ObjectId('6615258d2104659b995cea01'), '#': 4, 'NAME': 'Kylie @kyliejenner', 'FOLLOWERS': '400.5M', 'ER': '-', 'COUNTRY': 'United States', 'TOPIC OF INFLUENCE': 'Beauty and Self Care Product Showcase Modeling Public Figure', 'POTENTIAL REACH': '120.1M'}\n",
      "{'_id': ObjectId('6615258d2104659b995cea02'), '#': 5, 'NAME': 'Dwayne Johnson @therock', 'FOLLOWERS': '397.8M', 'ER': '0.13%', 'COUNTRY': 'United States', 'TOPIC OF INFLUENCE': 'Entertainment and Music Actors Public Figure', 'POTENTIAL REACH': '119.3M'}\n",
      "{'_id': ObjectId('6615258d2104659b995cea03'), '#': 2, 'NAME': 'Leo Messi @leomessi', 'FOLLOWERS': '501.1M', 'ER': '0.01%', 'COUNTRY': 'Argentina', 'TOPIC OF INFLUENCE': 'Sports Soccer Activity General General Interest', 'POTENTIAL REACH': '150.3M'}\n",
      "{'_id': ObjectId('6615258d2104659b995cea04'), '#': 6, 'NAME': 'Ariana Grande @arianagrande', 'FOLLOWERS': '380.3M', 'ER': '0.58%', 'COUNTRY': 'United States', 'TOPIC OF INFLUENCE': 'Entertainment and Music Music Singer Actors', 'POTENTIAL REACH': '114.1M'}\n",
      "{'_id': ObjectId('6615258d2104659b995cea05'), '#': 7, 'NAME': 'Kim Kardashian @kimkardashian', 'FOLLOWERS': '364.3M', 'ER': '0.32%', 'COUNTRY': 'United States', 'TOPIC OF INFLUENCE': 'Fashion and Accessories Beauty and Self Care Actors Public Figure', 'POTENTIAL REACH': '109.3M'}\n",
      "{'_id': ObjectId('6615258d2104659b995cea06'), '#': 8, 'NAME': 'Beyoncé @beyonce', 'FOLLOWERS': '319.9M', 'ER': '0.48%', 'COUNTRY': 'United States', 'TOPIC OF INFLUENCE': 'Music Singer', 'POTENTIAL REACH': '96M'}\n",
      "{'_id': ObjectId('6615258d2104659b995cea07'), '#': 9, 'NAME': 'Khloé Kardashian @khloekardashian', 'FOLLOWERS': '310.6M', 'ER': '0.19%', 'COUNTRY': 'United States', 'TOPIC OF INFLUENCE': 'Fashion and Accessories Modeling Public Figure', 'POTENTIAL REACH': '93.2M'}\n",
      "{'_id': ObjectId('6615258d2104659b995cea08'), '#': 10, 'NAME': 'Kendall @kendalljenner', 'FOLLOWERS': '294.7M', 'ER': '1.12%', 'COUNTRY': '', 'TOPIC OF INFLUENCE': 'Food Fashion and Accessories Modeling Fashion Model', 'POTENTIAL REACH': '88.4M'}\n",
      "{'_id': ObjectId('6615258d2104659b995cea09'), '#': 12, 'NAME': 'Taylor Swift @taylorswift', 'FOLLOWERS': '283.4M', 'ER': '-', 'COUNTRY': 'United States', 'TOPIC OF INFLUENCE': 'Entertainment and Music Music Singer Songwriting', 'POTENTIAL REACH': '85M'}\n",
      "{'_id': ObjectId('6615258d2104659b995cea0a'), '#': 11, 'NAME': 'Justin Bieber @justinbieber', 'FOLLOWERS': '293M', 'ER': '0.37%', 'COUNTRY': 'Canada', 'TOPIC OF INFLUENCE': 'Entertainment and Music Music Singer Musician', 'POTENTIAL REACH': '87.9M'}\n",
      "{'_id': ObjectId('6615258d2104659b995cea0b'), '#': 13, 'NAME': 'Virat Kohli @virat.kohli', 'FOLLOWERS': '267.1M', 'ER': '0.02%', 'COUNTRY': 'India', 'TOPIC OF INFLUENCE': 'Sports Cricket Athlete', 'POTENTIAL REACH': '80.1M'}\n",
      "{'_id': ObjectId('6615258d2104659b995cea0c'), '#': 14, 'NAME': 'Jennifer Lopez @jlo', 'FOLLOWERS': '253.6M', 'ER': '0.01%', 'COUNTRY': 'United States', 'TOPIC OF INFLUENCE': 'Art Food and Drink Entertainment and Music Celebrity', 'POTENTIAL REACH': '76.1M'}\n",
      "{'_id': ObjectId('6615258d2104659b995cea0d'), '#': 15, 'NAME': 'Barbie @nickiminaj', 'FOLLOWERS': '229.4M', 'ER': '0.18%', 'COUNTRY': '', 'TOPIC OF INFLUENCE': 'Fashion and Accessories Singer Artist', 'POTENTIAL REACH': '68.8M'}\n",
      "{'_id': ObjectId('6615258d2104659b995cea0e'), '#': 16, 'NAME': 'Kourtney Kardashian Barker @kourtneykardash', 'FOLLOWERS': '224.3M', 'ER': '0.5%', 'COUNTRY': 'United States', 'TOPIC OF INFLUENCE': 'Entertainment and Music Business and Finance Modeling Actors', 'POTENTIAL REACH': '67.3M'}\n",
      "{'_id': ObjectId('6615258d2104659b995cea0f'), '#': 17, 'NAME': 'Neymar Jr @neymarjr', 'FOLLOWERS': '220.1M', 'ER': '-', 'COUNTRY': 'Brazil', 'TOPIC OF INFLUENCE': 'Sports Soccer Athlete', 'POTENTIAL REACH': '66M'}\n",
      "{'_id': ObjectId('6615258d2104659b995cea10'), '#': 19, 'NAME': 'KATY PERRY @katyperry', 'FOLLOWERS': '207.1M', 'ER': '0.01%', 'COUNTRY': 'United States', 'TOPIC OF INFLUENCE': 'Entertainment and Music Music Singer Bands Musicians', 'POTENTIAL REACH': '62.1M'}\n",
      "{'_id': ObjectId('6615258d2104659b995cea11'), '#': 20, 'NAME': 'Zendaya @zendaya', 'FOLLOWERS': '184.8M', 'ER': '2.92%', 'COUNTRY': 'United States', 'TOPIC OF INFLUENCE': 'Entertainment and Music Acting and Drama Celebrity Actors', 'POTENTIAL REACH': '55.5M'}\n",
      "{'_id': ObjectId('6615258d2104659b995cea12'), '#': 21, 'NAME': 'Kevin Hart @kevinhart4real', 'FOLLOWERS': '180.2M', 'ER': '0.06%', 'COUNTRY': 'United States', 'TOPIC OF INFLUENCE': 'Entertainment and Music Comedian Creators & Celebrities', 'POTENTIAL REACH': '54.1M'}\n",
      "{'_id': ObjectId('6615258d2104659b995cea13'), '#': 22, 'NAME': 'Cardi B @iamcardib', 'FOLLOWERS': '169M', 'ER': '1.05%', 'COUNTRY': 'United States', 'TOPIC OF INFLUENCE': 'Entertainment and Music Singer Hair & Beauty Celebrities', 'POTENTIAL REACH': '50.7M'}\n",
      "{'_id': ObjectId('6615258d2104659b995cea14'), '#': 23, 'NAME': '👑 @kingjames', 'FOLLOWERS': '157.7M', 'ER': '0.96%', 'COUNTRY': '', 'TOPIC OF INFLUENCE': 'Sports Basketball', 'POTENTIAL REACH': '47.3M'}\n",
      "{'_id': ObjectId('6615258d2104659b995cea15'), '#': 24, 'NAME': 'Demi Lovato @ddlovato', 'FOLLOWERS': '157.3M', 'ER': '0.01%', 'COUNTRY': 'United States', 'TOPIC OF INFLUENCE': 'Entertainment and Music Singer Songwriting Music', 'POTENTIAL REACH': '47.2M'}\n",
      "{'_id': ObjectId('6615258d2104659b995cea16'), '#': 18, 'NAME': 'Miley Cyrus @mileycyrus', 'FOLLOWERS': '217.2M', 'ER': '0.01%', 'COUNTRY': 'United States', 'TOPIC OF INFLUENCE': 'Music', 'POTENTIAL REACH': '65.1M'}\n",
      "{'_id': ObjectId('6615258d2104659b995cea17'), '#': 25, 'NAME': 'badgalriri @badgalriri', 'FOLLOWERS': '152.6M', 'ER': '0.01%', 'COUNTRY': '', 'TOPIC OF INFLUENCE': 'Music Singer', 'POTENTIAL REACH': '45.8M'}\n",
      "{'_id': ObjectId('6615258d2104659b995cea18'), '#': 27, 'NAME': 'BROWN @chrisbrownofficial', 'FOLLOWERS': '144.2M', 'ER': '0.23%', 'COUNTRY': '', 'TOPIC OF INFLUENCE': 'Art Singer Artist', 'POTENTIAL REACH': '43.3M'}\n",
      "{'_id': ObjectId('6615258d2104659b995cea19'), '#': 26, 'NAME': 'Real Madrid C.F. @realmadrid', 'FOLLOWERS': '148.1M', 'ER': '0.2%', 'COUNTRY': '', 'TOPIC OF INFLUENCE': 'Entertainment and Music Sports Soccer', 'POTENTIAL REACH': '44.4M'}\n",
      "{'_id': ObjectId('6615258d2104659b995cea1a'), '#': 28, 'NAME': 'champagnepapi @champagnepapi', 'FOLLOWERS': '143.9M', 'ER': '0.92%', 'COUNTRY': '', 'TOPIC OF INFLUENCE': 'Entertainment and Music Singer Rap', 'POTENTIAL REACH': '43.2M'}\n",
      "{'_id': ObjectId('6615258d2104659b995cea1b'), '#': 29, 'NAME': 'Ellen DeGeneres @ellendegeneres', 'FOLLOWERS': '139.6M', 'ER': '0.02%', 'COUNTRY': 'United States', 'TOPIC OF INFLUENCE': 'Celebrity TV Shows Comedy Actors', 'POTENTIAL REACH': '41.9M'}\n",
      "{'_id': ObjectId('6615258d2104659b995cea1c'), '#': 31, 'NAME': 'BILLIE EILISH @billieeilish', 'FOLLOWERS': '110.2M', 'ER': '0.03%', 'COUNTRY': 'United States', 'TOPIC OF INFLUENCE': 'Art Singer', 'POTENTIAL REACH': '33.1M'}\n",
      "{'_id': ObjectId('6615258d2104659b995cea1d'), '#': 32, 'NAME': 'Gal Gadot @gal_gadot', 'FOLLOWERS': '109.2M', 'ER': '0.16%', 'COUNTRY': 'Israel', 'TOPIC OF INFLUENCE': 'Entertainment and Music Food Actors Artist', 'POTENTIAL REACH': '32.7M'}\n",
      "{'_id': ObjectId('6615258d2104659b995cea1e'), '#': 33, 'NAME': 'Vin Diesel @vindiesel', 'FOLLOWERS': '102.8M', 'ER': '0.64%', 'COUNTRY': 'United States', 'TOPIC OF INFLUENCE': 'Producers Director Actors', 'POTENTIAL REACH': '30.8M'}\n",
      "{'_id': ObjectId('6615258d2104659b995cea1f'), '#': 30, 'NAME': 'Kylian Mbappé @k.mbappe', 'FOLLOWERS': '111.7M', 'ER': '2.54%', 'COUNTRY': 'France', 'TOPIC OF INFLUENCE': 'Sports Business and Finance Home and Garden Soccer', 'POTENTIAL REACH': '33.5M'}\n",
      "{'_id': ObjectId('6615258d2104659b995cea20'), '#': 34, 'NAME': 'LISA @lalalalisa_m', 'FOLLOWERS': '102.2M', 'ER': '7.02%', 'COUNTRY': 'South Korea', 'TOPIC OF INFLUENCE': 'Singer', 'POTENTIAL REACH': '30.7M'}\n",
      "{'_id': ObjectId('6615258d2104659b995cea21'), '#': 35, 'NAME': 'Priyanka @priyankachopra', 'FOLLOWERS': '90.7M', 'ER': '0.72%', 'COUNTRY': '', 'TOPIC OF INFLUENCE': 'Actors Artist Creators & Celebrities', 'POTENTIAL REACH': '27.2M'}\n",
      "{'_id': ObjectId('6615258d2104659b995cea22'), '#': 36, 'NAME': 'Shakira @shakira', 'FOLLOWERS': '90.5M', 'ER': '0.02%', 'COUNTRY': '', 'TOPIC OF INFLUENCE': 'Music Singer Musician Band', 'POTENTIAL REACH': '27.2M'}\n",
      "{'_id': ObjectId('6615258d2104659b995cea23'), '#': 37, 'NAME': 'DUA LIPA @dualipa', 'FOLLOWERS': '88.7M', 'ER': '1.05%', 'COUNTRY': 'United States', 'TOPIC OF INFLUENCE': 'Entertainment and Music Singer Artist', 'POTENTIAL REACH': '26.6M'}\n",
      "{'_id': ObjectId('6615258d2104659b995cea24'), '#': 38, 'NAME': 'Narendra Modi @narendramodi', 'FOLLOWERS': '87.3M', 'ER': '2.23%', 'COUNTRY': 'India', 'TOPIC OF INFLUENCE': 'Politics', 'POTENTIAL REACH': '26.2M'}\n",
      "{'_id': ObjectId('6615258d2104659b995cea25'), '#': 39, 'NAME': 'David Beckham @davidbeckham', 'FOLLOWERS': '87M', 'ER': '0.64%', 'COUNTRY': 'United Kingdom', 'TOPIC OF INFLUENCE': 'Sports Soccer Public Figure', 'POTENTIAL REACH': '26.1M'}\n",
      "{'_id': ObjectId('6615258d2104659b995cea26'), '#': 40, 'NAME': 'snoopdogg @snoopdogg', 'FOLLOWERS': '84.7M', 'ER': '0.06%', 'COUNTRY': '', 'TOPIC OF INFLUENCE': 'Entertainment and Music Music Food Chef', 'POTENTIAL REACH': '25.4M'}\n",
      "{'_id': ObjectId('6615258d2104659b995cea27'), '#': 41, 'NAME': 'Shraddha ✶ @shraddhakapoor', 'FOLLOWERS': '84.2M', 'ER': '1.99%', 'COUNTRY': '', 'TOPIC OF INFLUENCE': 'Beauty and Self Care Celebrity Actors Actor', 'POTENTIAL REACH': '25.2M'}\n",
      "{'_id': ObjectId('6615258d2104659b995cea28'), '#': 42, 'NAME': 'J @jennierubyjane', 'FOLLOWERS': '84M', 'ER': '5.14%', 'COUNTRY': '', 'TOPIC OF INFLUENCE': 'Singer', 'POTENTIAL REACH': '25.2M'}\n",
      "{'_id': ObjectId('6615258d2104659b995cea29'), '#': 43, 'NAME': 'Alia Bhatt 💛 @aliaabhatt', 'FOLLOWERS': '83.7M', 'ER': '0.02%', 'COUNTRY': 'India', 'TOPIC OF INFLUENCE': 'Acting and Drama Celebrity Actors Actor', 'POTENTIAL REACH': '25.1M'}\n",
      "{'_id': ObjectId('6615258d2104659b995cea2a'), '#': 44, 'NAME': 'Khabane Lame @khaby00', 'FOLLOWERS': '79.7M', 'ER': '1.17%', 'COUNTRY': 'Italy', 'TOPIC OF INFLUENCE': 'Entertainment and Music Funny Education Life and Society', 'POTENTIAL REACH': '23.9M'}\n",
      "{'_id': ObjectId('6615258d2104659b995cea2b'), '#': 45, 'NAME': 'Katrina Kaif @katrinakaif', 'FOLLOWERS': '79.7M', 'ER': '0.87%', 'COUNTRY': 'India', 'TOPIC OF INFLUENCE': 'Beauty and Self Care Celebrity Actors Actor', 'POTENTIAL REACH': '23.9M'}\n",
      "{'_id': ObjectId('6615258d2104659b995cea2c'), '#': 46, 'NAME': 'दीपिका पादुकोण @deepikapadukone', 'FOLLOWERS': '78.9M', 'ER': '2.18%', 'COUNTRY': 'India', 'TOPIC OF INFLUENCE': 'Entertainment and Music Actors', 'POTENTIAL REACH': '23.7M'}\n",
      "{'_id': ObjectId('6615258d2104659b995cea2d'), '#': 47, 'NAME': 'Gigi Hadid @gigihadid', 'FOLLOWERS': '78.6M', 'ER': '1.74%', 'COUNTRY': 'United States', 'TOPIC OF INFLUENCE': 'Fashion and Accessories Business and Finance Modeling TV Host', 'POTENTIAL REACH': '23.6M'}\n",
      "{'_id': ObjectId('6615258d2104659b995cea2e'), '#': 48, 'NAME': 'JISOO\\U0001fa90 @sooyaaa__', 'FOLLOWERS': '77.7M', 'ER': '4.57%', 'COUNTRY': '', 'TOPIC OF INFLUENCE': 'Art Singer', 'POTENTIAL REACH': '23.3M'}\n",
      "{'_id': ObjectId('6615258d2104659b995cea2f'), '#': 49, 'NAME': 'Neha Kakkar @nehakakkar', 'FOLLOWERS': '77.7M', 'ER': '0.77%', 'COUNTRY': 'India', 'TOPIC OF INFLUENCE': 'Entertainment and Music Singer Musician', 'POTENTIAL REACH': '23.3M'}\n",
      "{'_id': ObjectId('6615258d2104659b995cea30'), '#': 50, 'NAME': 'ROSÉ @roses_are_rosie', 'FOLLOWERS': '76.5M', 'ER': '5.26%', 'COUNTRY': '', 'TOPIC OF INFLUENCE': 'Entertainment and Music Singer Artist', 'POTENTIAL REACH': '23M'}\n",
      "{'_id': ObjectId('6615258d2104659b995cea31'), '#': 51, 'NAME': 'Karim Benzema @karimbenzema', 'FOLLOWERS': '76.1M', 'ER': '1.42%', 'COUNTRY': 'France', 'TOPIC OF INFLUENCE': 'Sports Entertainment and Music Soccer', 'POTENTIAL REACH': '22.8M'}\n",
      "{'_id': ObjectId('6615258d2104659b995cea32'), '#': 52, 'NAME': 'Ronaldo de Assis Moreira @ronaldinho', 'FOLLOWERS': '75.8M', 'ER': '0.35%', 'COUNTRY': 'Brazil', 'TOPIC OF INFLUENCE': 'Sports Automotive Soccer', 'POTENTIAL REACH': '22.7M'}\n",
      "{'_id': ObjectId('6615258d2104659b995cea33'), '#': 53, 'NAME': 'Emma Watson @emmawatson', 'FOLLOWERS': '75.4M', 'ER': '1.41%', 'COUNTRY': 'United Kingdom', 'TOPIC OF INFLUENCE': 'Entertainment and Music Fashion and Accessories Education Celebrity', 'POTENTIAL REACH': '22.6M'}\n",
      "{'_id': ObjectId('6615258d2104659b995cea34'), '#': 54, 'NAME': 'Raffi Ahmad and Nagita Slavina @raffinagita1717', 'FOLLOWERS': '75.3M', 'ER': '0.21%', 'COUNTRY': 'Indonesia', 'TOPIC OF INFLUENCE': 'Entertainment and Music family Celebrity Marketing and Advertising', 'POTENTIAL REACH': '22.6M'}\n",
      "{'_id': ObjectId('6615258d2104659b995cea35'), '#': 55, 'NAME': 'BTS official @bts.bighitofficial', 'FOLLOWERS': '74.4M', 'ER': '2.32%', 'COUNTRY': 'South Korea', 'TOPIC OF INFLUENCE': 'Entertainment and Music Music Band Singer', 'POTENTIAL REACH': '22.3M'}\n",
      "{'_id': ObjectId('6615258d2104659b995cea36'), '#': 56, 'NAME': 'Shawn Mendes @shawnmendes', 'FOLLOWERS': '73M', 'ER': '0.03%', 'COUNTRY': 'Brazil', 'TOPIC OF INFLUENCE': 'Music Singer Songwriting Musician', 'POTENTIAL REACH': '21.9M'}\n",
      "{'_id': ObjectId('6615258d2104659b995cea37'), '#': 57, 'NAME': 'Justin Timberlake @justintimberlake', 'FOLLOWERS': '72.5M', 'ER': '0.08%', 'COUNTRY': 'United States', 'TOPIC OF INFLUENCE': 'Art Actors Entertainment Songwriting', 'POTENTIAL REACH': '21.8M'}\n",
      "{'_id': ObjectId('6615258d2104659b995cea38'), '#': 58, 'NAME': 'Abel Tesfaye @theweeknd', 'FOLLOWERS': '71.8M', 'ER': '1.95%', 'COUNTRY': 'United States', 'TOPIC OF INFLUENCE': 'Art Singer Artist', 'POTENTIAL REACH': '21.5M'}\n",
      "{'_id': ObjectId('6615258d2104659b995cea39'), '#': 59, 'NAME': 'Urvashi Rautela @urvashirautela', 'FOLLOWERS': '70.3M', 'ER': '0.34%', 'COUNTRY': 'France', 'TOPIC OF INFLUENCE': 'Art Beauty Acting and Drama Beauty and Self Care', 'POTENTIAL REACH': '21.1M'}\n",
      "{'_id': ObjectId('6615258d2104659b995cea3a'), '#': 61, 'NAME': 'Akshay Kumar @akshaykumar', 'FOLLOWERS': '68.3M', 'ER': '0.02%', 'COUNTRY': 'India', 'TOPIC OF INFLUENCE': 'Entertainment and Music Celebrity Actors Actor', 'POTENTIAL REACH': '20.5M'}\n",
      "{'_id': ObjectId('6615258d2104659b995cea3b'), '#': 60, 'NAME': 'Salman Khan @beingsalmankhan', 'FOLLOWERS': '69.2M', 'ER': '1.59%', 'COUNTRY': 'India', 'TOPIC OF INFLUENCE': 'Entertainment and Music Celebrity Actor', 'POTENTIAL REACH': '20.8M'}\n",
      "{'_id': ObjectId('6615258d2104659b995cea3c'), '#': 63, 'NAME': 'Marcelo Vieira @marcelotwelve', 'FOLLOWERS': '67.6M', 'ER': '0.49%', 'COUNTRY': 'Brazil', 'TOPIC OF INFLUENCE': 'Sports Soccer', 'POTENTIAL REACH': '20.3M'}\n",
      "{'_id': ObjectId('6615258d2104659b995cea3d'), '#': 62, 'NAME': 'KAROL G @karolg', 'FOLLOWERS': '68.3M', 'ER': '5.59%', 'COUNTRY': 'Colombia', 'TOPIC OF INFLUENCE': 'Entertainment and Music Humor Film, Music & Books Celebrities', 'POTENTIAL REACH': '20.5M'}\n",
      "{'_id': ObjectId('6615258d2104659b995cea3e'), '#': 66, 'NAME': 'AnushkaSharma1588 @anushkasharma', 'FOLLOWERS': '65.2M', 'ER': '2.27%', 'COUNTRY': '', 'TOPIC OF INFLUENCE': 'Entertainment and Music Actors Artist', 'POTENTIAL REACH': '19.5M'}\n",
      "{'_id': ObjectId('6615258d2104659b995cea3f'), '#': 64, 'NAME': 'camila @camila_cabello', 'FOLLOWERS': '66.5M', 'ER': '1.42%', 'COUNTRY': 'United States', 'TOPIC OF INFLUENCE': 'Entertainment and Music Celebrity Singer Music', 'POTENTIAL REACH': '20M'}\n",
      "{'_id': ObjectId('6615258d2104659b995cea40'), '#': 65, 'NAME': 'Tom Holland @tomholland2013', 'FOLLOWERS': '66.5M', 'ER': '4.52%', 'COUNTRY': 'United Kingdom', 'TOPIC OF INFLUENCE': 'Entertainment and Music Acting and Drama Actors', 'POTENTIAL REACH': '19.9M'}\n",
      "{'_id': ObjectId('6615258d2104659b995cea41'), '#': 67, 'NAME': 'Anitta 🎤 @anitta', 'FOLLOWERS': '65.1M', 'ER': '0.6%', 'COUNTRY': 'Brazil', 'TOPIC OF INFLUENCE': 'Art Entertainment and Music Music Singer', 'POTENTIAL REACH': '19.5M'}\n",
      "{'_id': ObjectId('6615258d2104659b995cea42'), '#': 68, 'NAME': 'Will Smith @willsmith', 'FOLLOWERS': '64.7M', 'ER': '0.28%', 'COUNTRY': 'United States', 'TOPIC OF INFLUENCE': 'Entertainment and Music Producers Hip hop music Artist', 'POTENTIAL REACH': '19.4M'}\n",
      "{'_id': ObjectId('6615258d2104659b995cea43'), '#': 69, 'NAME': 'V @thv', 'FOLLOWERS': '64.7M', 'ER': '18.09%', 'COUNTRY': '', 'TOPIC OF INFLUENCE': 'Art Artist', 'POTENTIAL REACH': '19.4M'}\n",
      "{'_id': ObjectId('6615258d2104659b995cea44'), '#': 71, 'NAME': 'MALUMA @maluma', 'FOLLOWERS': '63.9M', 'ER': '1.27%', 'COUNTRY': 'Colombia', 'TOPIC OF INFLUENCE': 'Entertainment and Music Music Singer', 'POTENTIAL REACH': '19.2M'}\n",
      "{'_id': ObjectId('6615258d2104659b995cea45'), '#': 70, 'NAME': 'Zlatan Ibrahimović @iamzlatanibrahimovic', 'FOLLOWERS': '64.3M', 'ER': '0.46%', 'COUNTRY': 'Sweden', 'TOPIC OF INFLUENCE': 'Fashion and Accessories Auto and Vehicles Soccer', 'POTENTIAL REACH': '19.3M'}\n",
      "{'_id': ObjectId('6615258d2104659b995cea46'), '#': 73, 'NAME': 'Millie Bobby Brown @milliebobbybrown', 'FOLLOWERS': '63.3M', 'ER': '0.02%', 'COUNTRY': 'United Kingdom', 'TOPIC OF INFLUENCE': 'Celebrity Actors', 'POTENTIAL REACH': '19M'}\n",
      "{'_id': ObjectId('6615258d2104659b995cea47'), '#': 72, 'NAME': 'Mohamed Salah @mosalah', 'FOLLOWERS': '63.5M', 'ER': '1.37%', 'COUNTRY': 'Egypt', 'TOPIC OF INFLUENCE': 'Sports', 'POTENTIAL REACH': '19M'}\n",
      "{'_id': ObjectId('6615258d2104659b995cea48'), '#': 75, 'NAME': 'Sergio Ramos @sergioramos', 'FOLLOWERS': '62.8M', 'ER': '1.14%', 'COUNTRY': 'Spain', 'TOPIC OF INFLUENCE': 'Sports Soccer', 'POTENTIAL REACH': '18.8M'}\n",
      "{'_id': ObjectId('6615258d2104659b995cea49'), '#': 74, 'NAME': 'Manchester United @manchesterunited', 'FOLLOWERS': '63M', 'ER': '0.37%', 'COUNTRY': '', 'TOPIC OF INFLUENCE': 'Sports Fashion and Accessories Soccer', 'POTENTIAL REACH': '18.9M'}\n",
      "{'_id': ObjectId('6615258d2104659b995cea4a'), '#': 77, 'NAME': 'Zac Efron @zacefron', 'FOLLOWERS': '62M', 'ER': '0.02%', 'COUNTRY': 'United States', 'TOPIC OF INFLUENCE': 'Actors', 'POTENTIAL REACH': '18.6M'}\n",
      "{'_id': ObjectId('6615258d2104659b995cea4b'), '#': 76, 'NAME': 'Leonardo DiCaprio @leonardodicaprio', 'FOLLOWERS': '62.1M', 'ER': '0.2%', 'COUNTRY': 'United States', 'TOPIC OF INFLUENCE': 'Entertainment and Music Celebrity Actors Producers', 'POTENTIAL REACH': '18.6M'}\n",
      "{'_id': ObjectId('6615258d2104659b995cea4c'), '#': 79, 'NAME': 'disha patani (paatni) 🦋 @dishapatani', 'FOLLOWERS': '61M', 'ER': '0.61%', 'COUNTRY': 'India', 'TOPIC OF INFLUENCE': 'Celebrity Actors', 'POTENTIAL REACH': '18.3M'}\n",
      "{'_id': ObjectId('6615258d2104659b995cea4d'), '#': 78, 'NAME': 'Paul Labile Pogba @paulpogba', 'FOLLOWERS': '61.1M', 'ER': '0.89%', 'COUNTRY': 'France', 'TOPIC OF INFLUENCE': 'Sports', 'POTENTIAL REACH': '18.3M'}\n",
      "{'_id': ObjectId('6615258d2104659b995cea4e'), '#': 81, 'NAME': 'Juventus @juventus', 'FOLLOWERS': '60.4M', 'ER': '0.2%', 'COUNTRY': 'Italy', 'TOPIC OF INFLUENCE': 'Sports Soccer Sports Team Creators & Celebrities', 'POTENTIAL REACH': '18.1M'}\n",
      "{'_id': ObjectId('6615258d2104659b995cea4f'), '#': 80, 'NAME': 'Bella 🦋 @bellahadid', 'FOLLOWERS': '60.9M', 'ER': '1.83%', 'COUNTRY': 'United States', 'TOPIC OF INFLUENCE': 'Technology Modeling Scientist', 'POTENTIAL REACH': '18.3M'}\n",
      "{'_id': ObjectId('6615258d2104659b995cea50'), '#': 82, 'NAME': 'Whindersson Nunes @whinderssonnunes', 'FOLLOWERS': '59.7M', 'ER': '1.02%', 'COUNTRY': 'Brazil', 'TOPIC OF INFLUENCE': 'Entertainment and Music Funny Celebrity Comedy', 'POTENTIAL REACH': '17.9M'}\n",
      "{'_id': ObjectId('6615258d2104659b995cea51'), '#': 83, 'NAME': 'Chris Hemsworth @chrishemsworth', 'FOLLOWERS': '58.5M', 'ER': '1.6%', 'COUNTRY': 'Australia', 'TOPIC OF INFLUENCE': 'Actors', 'POTENTIAL REACH': '17.5M'}\n",
      "{'_id': ObjectId('6615258d2104659b995cea52'), '#': 84, 'NAME': 'Georgina Rodríguez @georginagio', 'FOLLOWERS': '58.1M', 'ER': '0.03%', 'COUNTRY': 'Spain', 'TOPIC OF INFLUENCE': 'Books Lifestyle Modeling', 'POTENTIAL REACH': '17.4M'}\n",
      "{'_id': ObjectId('6615258d2104659b995cea53'), '#': 85, 'NAME': 'BLΛƆKPIИK @blackpinkofficial', 'FOLLOWERS': '57.9M', 'ER': '0.02%', 'COUNTRY': '', 'TOPIC OF INFLUENCE': 'Entertainment and Music Music Band Musician Band', 'POTENTIAL REACH': '17.4M'}\n",
      "{'_id': ObjectId('6615258d2104659b995cea54'), '#': 86, 'NAME': 'Paulo Dybala @paulodybala', 'FOLLOWERS': '57.6M', 'ER': '2.07%', 'COUNTRY': 'Argentina', 'TOPIC OF INFLUENCE': 'Sports Soccer', 'POTENTIAL REACH': '17.3M'}\n",
      "{'_id': ObjectId('6615258d2104659b995cea55'), '#': 87, 'NAME': 'Tata Werneck @tatawerneck', 'FOLLOWERS': '57.2M', 'ER': '0.02%', 'COUNTRY': 'Brazil', 'TOPIC OF INFLUENCE': 'Entertainment and Music Actors Artist', 'POTENTIAL REACH': '17.2M'}\n",
      "{'_id': ObjectId('6615258d2104659b995cea56'), '#': 88, 'NAME': 'Robert Downey Jr. @robertdowneyjr', 'FOLLOWERS': '57.2M', 'ER': '0.62%', 'COUNTRY': 'United States', 'TOPIC OF INFLUENCE': 'Actors', 'POTENTIAL REACH': '17.1M'}\n",
      "{'_id': ObjectId('6615258d2104659b995cea57'), '#': 89, 'NAME': 'Michelle Obama @michelleobama', 'FOLLOWERS': '57.1M', 'ER': '0.25%', 'COUNTRY': '', 'TOPIC OF INFLUENCE': 'Books Pets Author Creators & Celebrities', 'POTENTIAL REACH': '17.1M'}\n",
      "{'_id': ObjectId('6615258d2104659b995cea58'), '#': 93, 'NAME': 'Adele @adele', 'FOLLOWERS': '55.9M', 'ER': '4.14%', 'COUNTRY': 'United Kingdom', 'TOPIC OF INFLUENCE': 'Singer Music', 'POTENTIAL REACH': '16.8M'}\n",
      "{'_id': ObjectId('6615258d2104659b995cea59'), '#': 90, 'NAME': 'Ayu Tingting @ayutingting92', 'FOLLOWERS': '56.8M', 'ER': '0.02%', 'COUNTRY': 'Indonesia', 'TOPIC OF INFLUENCE': 'Beauty and Self Care Celebrity Music Lifestyle', 'POTENTIAL REACH': '17M'}\n",
      "{'_id': ObjectId('6615258d2104659b995cea5a'), '#': 91, 'NAME': 'Lady Gaga @ladygaga', 'FOLLOWERS': '56.4M', 'ER': '0.96%', 'COUNTRY': 'United States', 'TOPIC OF INFLUENCE': 'Shopping Music Singer Songwriting', 'POTENTIAL REACH': '16.9M'}\n",
      "{'_id': ObjectId('6615258d2104659b995cea5b'), '#': 92, 'NAME': 'Wardell Curry @stephencurry30', 'FOLLOWERS': '56.4M', 'ER': '0.9%', 'COUNTRY': 'United States', 'TOPIC OF INFLUENCE': 'Sports Basketball Athlete Creators & Celebrities', 'POTENTIAL REACH': '16.9M'}\n",
      "{'_id': ObjectId('6615258d2104659b995cea5c'), '#': 96, 'NAME': 'Sunny Leone @sunnyleone', 'FOLLOWERS': '55.3M', 'ER': '0.27%', 'COUNTRY': 'India', 'TOPIC OF INFLUENCE': 'Beauty and Self Care Modeling Actors Actor', 'POTENTIAL REACH': '16.6M'}\n",
      "{'_id': ObjectId('6615258d2104659b995cea5d'), '#': 97, 'NAME': 'Burak Özdemir @cznburak', 'FOLLOWERS': '54.6M', 'ER': '0.03%', 'COUNTRY': 'Turkey', 'TOPIC OF INFLUENCE': 'Food Music Chef', 'POTENTIAL REACH': '16.4M'}\n",
      "{'_id': ObjectId('6615258d2104659b995cea5e'), '#': 98, 'NAME': 'Larissa Manoela @larissamanoela', 'FOLLOWERS': '54.3M', 'ER': '0.21%', 'COUNTRY': 'Brazil', 'TOPIC OF INFLUENCE': 'Art Acting and Drama Fashion and Accessories Entertainment and Music', 'POTENTIAL REACH': '16.3M'}\n",
      "{'_id': ObjectId('6615258d2104659b995cea5f'), '#': 94, 'NAME': 'Prilly Latuconsina @prillylatuconsina96', 'FOLLOWERS': '55.7M', 'ER': '0.02%', 'COUNTRY': 'Indonesia', 'TOPIC OF INFLUENCE': 'Entertainment and Music Fashion and Accessories Celebrity Actors', 'POTENTIAL REACH': '16.7M'}\n",
      "{'_id': ObjectId('6615258d2104659b995cea60'), '#': 99, 'NAME': 'HUDA BEAUTY @hudabeauty', 'FOLLOWERS': '54.1M', 'ER': '0.05%', 'COUNTRY': 'United Arab Emirates', 'TOPIC OF INFLUENCE': 'Beauty and Self Care Blogger Creators & Celebrities', 'POTENTIAL REACH': '16.2M'}\n",
      "{'_id': ObjectId('6615258d2104659b995cea61'), '#': 95, 'NAME': 'Kriti @kritisanon', 'FOLLOWERS': '55.5M', 'ER': '0.87%', 'COUNTRY': '', 'TOPIC OF INFLUENCE': 'Art Modeling Artist', 'POTENTIAL REACH': '16.6M'}\n",
      "{'_id': ObjectId('6615258d2104659b995cea62'), '#': 100, 'NAME': 'Nusr_et#Saltbae @nusr_et', 'FOLLOWERS': '54M', 'ER': '0.16%', 'COUNTRY': 'United States', 'TOPIC OF INFLUENCE': 'Food Business and Finance Chef', 'POTENTIAL REACH': '16.2M'}\n"
     ]
    }
   ],
   "source": [
    "# Perform operations on the collections\n",
    "for document in instagram_collection.find():\n",
    "    print(document)"
   ]
  },
  {
   "cell_type": "code",
   "execution_count": 36,
   "id": "54937442",
   "metadata": {},
   "outputs": [
    {
     "name": "stdout",
     "output_type": "stream",
     "text": [
      "{'_id': ObjectId('661525944c72517267b68a5f'), '#': 1, 'NAME': 'National Geographic @natgeo', 'FOLLOWERS': '4.9M', 'ER': '0.37%', 'COUNTRY': '', 'TOPIC OF INFLUENCE': 'Nature', 'POTENTIAL REACH': '1.5M'}\n",
      "{'_id': ObjectId('661525944c72517267b68a60'), '#': 2, 'NAME': 'Jennifer Lopez @jlo', 'FOLLOWERS': '3.9M', 'ER': '0.33%', 'COUNTRY': '', 'TOPIC OF INFLUENCE': 'Entertainment & Music', 'POTENTIAL REACH': '1.2M'}\n",
      "{'_id': ObjectId('661525944c72517267b68a61'), '#': 4, 'NAME': 'Ronaldo de Assis Moreira @ronaldinho', 'FOLLOWERS': '3M', 'ER': '0.6%', 'COUNTRY': 'Brazil', 'TOPIC OF INFLUENCE': 'Sports', 'POTENTIAL REACH': '898.1K'}\n",
      "{'_id': ObjectId('661525944c72517267b68a62'), '#': 5, 'NAME': 'Pubity @pubity', 'FOLLOWERS': '2.8M', 'ER': '0.24%', 'COUNTRY': '', 'TOPIC OF INFLUENCE': 'Entertainment & Music', 'POTENTIAL REACH': '830.9K'}\n",
      "{'_id': ObjectId('661525944c72517267b68a63'), '#': 10, 'NAME': 'Vogue @voguemagazine', 'FOLLOWERS': '2.2M', 'ER': '0.14%', 'COUNTRY': '', 'TOPIC OF INFLUENCE': 'Fashion & Accessories Arts & Crafts', 'POTENTIAL REACH': '652.1K'}\n",
      "{'_id': ObjectId('661525944c72517267b68a64'), '#': 17, 'NAME': 'KATY PERRY @katyperry', 'FOLLOWERS': '1.7M', 'ER': '-', 'COUNTRY': 'United States', 'TOPIC OF INFLUENCE': 'Entertainment & Music', 'POTENTIAL REACH': '509.1K'}\n",
      "{'_id': ObjectId('661525944c72517267b68a65'), '#': 18, 'NAME': 'MEMEZAR • MEMES & MEME-CULTURE @memezar', 'FOLLOWERS': '1.7M', 'ER': '0.62%', 'COUNTRY': '', 'TOPIC OF INFLUENCE': 'Funny', 'POTENTIAL REACH': '504.4K'}\n",
      "{'_id': ObjectId('661525944c72517267b68a66'), '#': 16, 'NAME': \"DR. SHAQUILLE O'NEAL Ed.D. @shaq\", 'FOLLOWERS': '1.7M', 'ER': '0.22%', 'COUNTRY': 'United States', 'TOPIC OF INFLUENCE': 'Sports', 'POTENTIAL REACH': '519.6K'}\n",
      "{'_id': ObjectId('661525944c72517267b68a67'), '#': 20, 'NAME': 'MEL MAIA 🍯 @melissamelmaia', 'FOLLOWERS': '1.6M', 'ER': '0.57%', 'COUNTRY': 'Brazil', 'TOPIC OF INFLUENCE': 'Entertainment & Music', 'POTENTIAL REACH': '487.5K'}\n",
      "{'_id': ObjectId('661525944c72517267b68a68'), '#': 21, 'NAME': 'House of Highlights @houseofhighlights', 'FOLLOWERS': '1.6M', 'ER': '0.15%', 'COUNTRY': '', 'TOPIC OF INFLUENCE': 'Sports', 'POTENTIAL REACH': '482.6K'}\n",
      "{'_id': ObjectId('661525944c72517267b68a69'), '#': 22, 'NAME': 'The Shade Room @theshaderoom', 'FOLLOWERS': '1.6M', 'ER': '0.08%', 'COUNTRY': 'Brazil', 'TOPIC OF INFLUENCE': 'Entertainment & Music Funny Romance & Wedding Life & Society', 'POTENTIAL REACH': '475.7K'}\n",
      "{'_id': ObjectId('661525944c72517267b68a6a'), '#': 23, 'NAME': 'Alok Petrillo @alok', 'FOLLOWERS': '1.5M', 'ER': '0.15%', 'COUNTRY': '', 'TOPIC OF INFLUENCE': 'Entertainment & Music', 'POTENTIAL REACH': '460.7K'}\n",
      "{'_id': ObjectId('661525944c72517267b68a6b'), '#': 24, 'NAME': 'Luisillo El Pillo @luisitocomunica', 'FOLLOWERS': '1.5M', 'ER': '3.79%', 'COUNTRY': 'Mexico', 'TOPIC OF INFLUENCE': 'Entertainment & Music Funny', 'POTENTIAL REACH': '459.1K'}\n",
      "{'_id': ObjectId('661525944c72517267b68a6c'), '#': 25, 'NAME': 'JoJo @jojotodynho', 'FOLLOWERS': '1.5M', 'ER': '0.49%', 'COUNTRY': 'Brazil', 'TOPIC OF INFLUENCE': 'Entertainment & Music', 'POTENTIAL REACH': '449.9K'}\n",
      "{'_id': ObjectId('661525944c72517267b68a6d'), '#': 26, 'NAME': 'Carlinhos Maia @carlinhosmaiaof', 'FOLLOWERS': '1.5M', 'ER': '0.3%', 'COUNTRY': '', 'TOPIC OF INFLUENCE': 'Entertainment & Music', 'POTENTIAL REACH': '449.9K'}\n",
      "{'_id': ObjectId('661525944c72517267b68a6e'), '#': 27, 'NAME': 'CNN @cnn', 'FOLLOWERS': '1.5M', 'ER': '0.11%', 'COUNTRY': '', 'TOPIC OF INFLUENCE': 'News', 'POTENTIAL REACH': '447.2K'}\n",
      "{'_id': ObjectId('661525944c72517267b68a6f'), '#': 28, 'NAME': 'Zach King @zachking', 'FOLLOWERS': '1.5M', 'ER': '0.3%', 'COUNTRY': '', 'TOPIC OF INFLUENCE': 'Entertainment & Music Arts & Crafts Animation & Cosplay', 'POTENTIAL REACH': '443.4K'}\n",
      "{'_id': ObjectId('661525944c72517267b68a70'), '#': 19, 'NAME': 'BZRP @bizarrap', 'FOLLOWERS': '1.7M', 'ER': '3.26%', 'COUNTRY': '', 'TOPIC OF INFLUENCE': 'Entertainment & Music', 'POTENTIAL REACH': '496.2K'}\n",
      "{'_id': ObjectId('661525944c72517267b68a71'), '#': 29, 'NAME': 'BEAUTIFUL DESTINATIONS @beautifuldestinations', 'FOLLOWERS': '1.5M', 'ER': '0.32%', 'COUNTRY': '', 'TOPIC OF INFLUENCE': 'Travel', 'POTENTIAL REACH': '441.7K'}\n",
      "{'_id': ObjectId('661525944c72517267b68a72'), '#': 31, 'NAME': 'Lele Pons @lelepons', 'FOLLOWERS': '1.4M', 'ER': '0.38%', 'COUNTRY': 'Venezuela', 'TOPIC OF INFLUENCE': 'Entertainment & Music', 'POTENTIAL REACH': '433.3K'}\n",
      "{'_id': ObjectId('661525944c72517267b68a73'), '#': 30, 'NAME': 'Burak Özdemir @cznburak', 'FOLLOWERS': '1.5M', 'ER': '0.37%', 'COUNTRY': '', 'TOPIC OF INFLUENCE': 'Food', 'POTENTIAL REACH': '436K'}\n",
      "{'_id': ObjectId('661525944c72517267b68a74'), '#': 32, 'NAME': '🏛 Gusttavo Lima 🏛 @gusttavolima', 'FOLLOWERS': '1.4M', 'ER': '0.28%', 'COUNTRY': 'Brazil', 'TOPIC OF INFLUENCE': 'Entertainment & Music Romance & Wedding', 'POTENTIAL REACH': '432.4K'}\n",
      "{'_id': ObjectId('661525944c72517267b68a75'), '#': 3, 'NAME': '433 @433', 'FOLLOWERS': '3.8M', 'ER': '0.3%', 'COUNTRY': '', 'TOPIC OF INFLUENCE': 'Sports', 'POTENTIAL REACH': '1.1M'}\n",
      "{'_id': ObjectId('661525944c72517267b68a76'), '#': 33, 'NAME': 'Sou Eu Na Vida @soueunavida', 'FOLLOWERS': '1.4M', 'ER': '0.53%', 'COUNTRY': '', 'TOPIC OF INFLUENCE': 'Entertainment & Music Funny', 'POTENTIAL REACH': '432K'}\n",
      "{'_id': ObjectId('661525944c72517267b68a77'), '#': 14, 'NAME': 'CHOQUEI @choquei', 'FOLLOWERS': '1.8M', 'ER': '0.15%', 'COUNTRY': '', 'TOPIC OF INFLUENCE': 'Entertainment & Music', 'POTENTIAL REACH': '534.7K'}\n",
      "{'_id': ObjectId('661525944c72517267b68a78'), '#': 13, 'NAME': 'Netflix Latinoamérica @netflixlat', 'FOLLOWERS': '1.8M', 'ER': '0.21%', 'COUNTRY': 'Chile', 'TOPIC OF INFLUENCE': 'Entertainment & Music', 'POTENTIAL REACH': '543.2K'}\n",
      "{'_id': ObjectId('661525944c72517267b68a79'), '#': 15, 'NAME': 'Iran Ferreira @luvadepedreiro', 'FOLLOWERS': '1.8M', 'ER': '0.3%', 'COUNTRY': 'Brazil', 'TOPIC OF INFLUENCE': 'Funny', 'POTENTIAL REACH': '525.2K'}\n",
      "{'_id': ObjectId('661525944c72517267b68a7a'), '#': 11, 'NAME': 'camila @camila_cabello', 'FOLLOWERS': '2.1M', 'ER': '-', 'COUNTRY': '', 'TOPIC OF INFLUENCE': 'Entertainment & Music', 'POTENTIAL REACH': '617.7K'}\n",
      "{'_id': ObjectId('661525944c72517267b68a7b'), '#': 12, 'NAME': 'Richarlison @richarlison', 'FOLLOWERS': '2M', 'ER': '0.54%', 'COUNTRY': 'Brazil', 'TOPIC OF INFLUENCE': 'Sports', 'POTENTIAL REACH': '589.1K'}\n",
      "{'_id': ObjectId('661525944c72517267b68a7c'), '#': 9, 'NAME': 'Virginia Fonseca Costa @virginia', 'FOLLOWERS': '2.3M', 'ER': '0.11%', 'COUNTRY': '', 'TOPIC OF INFLUENCE': 'Romance & Wedding', 'POTENTIAL REACH': '677.3K'}\n",
      "{'_id': ObjectId('661525944c72517267b68a7d'), '#': 34, 'NAME': 'Wiz Khalifa @wizkhalifa', 'FOLLOWERS': '1.4M', 'ER': '0.2%', 'COUNTRY': 'Brazil', 'TOPIC OF INFLUENCE': 'Entertainment & Music', 'POTENTIAL REACH': '431.3K'}\n",
      "{'_id': ObjectId('661525944c72517267b68a7e'), '#': 6, 'NAME': 'Anitta 🎤 @anitta', 'FOLLOWERS': '2.5M', 'ER': '0.8%', 'COUNTRY': 'Brazil', 'TOPIC OF INFLUENCE': 'Entertainment & Music', 'POTENTIAL REACH': '764.9K'}\n",
      "{'_id': ObjectId('661525944c72517267b68a7f'), '#': 7, 'NAME': 'Fabrizio Romano @fabriziorom', 'FOLLOWERS': '2.5M', 'ER': '0.15%', 'COUNTRY': '', 'TOPIC OF INFLUENCE': 'Photography', 'POTENTIAL REACH': '763.8K'}\n",
      "{'_id': ObjectId('661525944c72517267b68a80'), '#': 35, 'NAME': \"Victoria's Secret @victoriassecret\", 'FOLLOWERS': '1.4M', 'ER': '0.05%', 'COUNTRY': '', 'TOPIC OF INFLUENCE': '', 'POTENTIAL REACH': '421.5K'}\n",
      "{'_id': ObjectId('661525944c72517267b68a81'), '#': 8, 'NAME': 'Manchester City @mancity', 'FOLLOWERS': '2.5M', 'ER': '0.52%', 'COUNTRY': '', 'TOPIC OF INFLUENCE': 'Sports', 'POTENTIAL REACH': '735.1K'}\n",
      "{'_id': ObjectId('661525944c72517267b68a82'), '#': 36, 'NAME': 'Mirella Santos @eumirellasantos', 'FOLLOWERS': '1.4M', 'ER': '0.69%', 'COUNTRY': 'Brazil', 'TOPIC OF INFLUENCE': 'Fitness & Health', 'POTENTIAL REACH': '420.3K'}\n",
      "{'_id': ObjectId('661525944c72517267b68a83'), '#': 37, 'NAME': '+A @maisa', 'FOLLOWERS': '1.4M', 'ER': '0.33%', 'COUNTRY': 'Brazil', 'TOPIC OF INFLUENCE': 'Acting & Drama Business & Entrepreneurship', 'POTENTIAL REACH': '417.3K'}\n",
      "{'_id': ObjectId('661525944c72517267b68a84'), '#': 38, 'NAME': 'James Rodríguez @jamesrodriguez10', 'FOLLOWERS': '1.4M', 'ER': '0.43%', 'COUNTRY': 'Colombia', 'TOPIC OF INFLUENCE': 'Sports', 'POTENTIAL REACH': '411.9K'}\n",
      "{'_id': ObjectId('661525944c72517267b68a85'), '#': 39, 'NAME': '@6ix9ine', 'FOLLOWERS': '1.4M', 'ER': '-', 'COUNTRY': '', 'TOPIC OF INFLUENCE': '', 'POTENTIAL REACH': '408.2K'}\n",
      "{'_id': ObjectId('661525944c72517267b68a86'), '#': 40, 'NAME': 'Zé @zefelipecantor', 'FOLLOWERS': '1.4M', 'ER': '0.17%', 'COUNTRY': '', 'TOPIC OF INFLUENCE': '', 'POTENTIAL REACH': '407.7K'}\n",
      "{'_id': ObjectId('661525944c72517267b68a87'), '#': 41, 'NAME': 'LUÍSA SONZA @luisasonza', 'FOLLOWERS': '1.3M', 'ER': '0.59%', 'COUNTRY': 'Brazil', 'TOPIC OF INFLUENCE': 'Entertainment & Music', 'POTENTIAL REACH': '404.1K'}\n",
      "{'_id': ObjectId('661525944c72517267b68a88'), '#': 42, 'NAME': 'Hande Erçel @handemiyy', 'FOLLOWERS': '1.3M', 'ER': '2.71%', 'COUNTRY': '', 'TOPIC OF INFLUENCE': 'Animation & Cosplay', 'POTENTIAL REACH': '398.7K'}\n",
      "{'_id': ObjectId('661525944c72517267b68a89'), '#': 43, 'NAME': 'Mia K. @miakhalifa', 'FOLLOWERS': '1.3M', 'ER': '0.15%', 'COUNTRY': 'United States', 'TOPIC OF INFLUENCE': 'Entertainment & Music', 'POTENTIAL REACH': '393.9K'}\n",
      "{'_id': ObjectId('661525944c72517267b68a8a'), '#': 44, 'NAME': 'DOVE @dovecameron', 'FOLLOWERS': '1.3M', 'ER': '-', 'COUNTRY': '', 'TOPIC OF INFLUENCE': 'Entertainment & Music', 'POTENTIAL REACH': '386.2K'}\n",
      "{'_id': ObjectId('661525944c72517267b68a8b'), '#': 45, 'NAME': 'EarthPix 🌎 Travel @earthpix', 'FOLLOWERS': '1.2M', 'ER': '0.54%', 'COUNTRY': '', 'TOPIC OF INFLUENCE': 'Nature Travel Photography', 'POTENTIAL REACH': '372.6K'}\n",
      "{'_id': ObjectId('661525944c72517267b68a8c'), '#': 46, 'NAME': 'WorldStar Hip Hop / WSHH @worldstar', 'FOLLOWERS': '1.2M', 'ER': '0.1%', 'COUNTRY': '', 'TOPIC OF INFLUENCE': 'Entertainment & Music', 'POTENTIAL REACH': '372.5K'}\n",
      "{'_id': ObjectId('661525944c72517267b68a8d'), '#': 47, 'NAME': 'Alfinetadas Dos Famosos 📌 @alfinetei', 'FOLLOWERS': '1.2M', 'ER': '0.14%', 'COUNTRY': 'United States', 'TOPIC OF INFLUENCE': 'Fashion & Accessories Entertainment & Music', 'POTENTIAL REACH': '359.4K'}\n",
      "{'_id': ObjectId('661525944c72517267b68a8e'), '#': 48, 'NAME': 'Sincero Oficial @sincerooficial', 'FOLLOWERS': '1.2M', 'ER': '0.31%', 'COUNTRY': '', 'TOPIC OF INFLUENCE': 'Funny', 'POTENTIAL REACH': '359.3K'}\n",
      "{'_id': ObjectId('661525944c72517267b68a8f'), '#': 49, 'NAME': 'MALUMA @maluma', 'FOLLOWERS': '1.2M', 'ER': '0.48%', 'COUNTRY': 'Colombia', 'TOPIC OF INFLUENCE': 'Entertainment & Music', 'POTENTIAL REACH': '357.8K'}\n",
      "{'_id': ObjectId('661525944c72517267b68a90'), '#': 50, 'NAME': 'Wesley Safadão @wesleysafadao', 'FOLLOWERS': '1.2M', 'ER': '0.1%', 'COUNTRY': '', 'TOPIC OF INFLUENCE': 'Entertainment & Music', 'POTENTIAL REACH': '357K'}\n",
      "{'_id': ObjectId('661525944c72517267b68a91'), '#': 51, 'NAME': 'Hugo Gloss @hugogloss', 'FOLLOWERS': '1.2M', 'ER': '0.03%', 'COUNTRY': 'Brazil', 'TOPIC OF INFLUENCE': 'Entertainment & Music', 'POTENTIAL REACH': '353.7K'}\n",
      "{'_id': ObjectId('661525944c72517267b68a92'), '#': 52, 'NAME': 'Rockstar Games @rockstargames', 'FOLLOWERS': '1.2M', 'ER': '-', 'COUNTRY': 'Brazil', 'TOPIC OF INFLUENCE': 'Games', 'POTENTIAL REACH': '350K'}\n",
      "{'_id': ObjectId('661525944c72517267b68a93'), '#': 53, 'NAME': 'Jay Shetty @jayshetty', 'FOLLOWERS': '1.2M', 'ER': '0.49%', 'COUNTRY': 'Brazil', 'TOPIC OF INFLUENCE': 'Education Upskilling', 'POTENTIAL REACH': '346.7K'}\n",
      "{'_id': ObjectId('661525944c72517267b68a94'), '#': 54, 'NAME': 'O GIGANTE @leosantana', 'FOLLOWERS': '1.2M', 'ER': '0.23%', 'COUNTRY': '', 'TOPIC OF INFLUENCE': 'Entertainment & Music', 'POTENTIAL REACH': '346.7K'}\n",
      "{'_id': ObjectId('661525944c72517267b68a95'), '#': 56, 'NAME': 'Deive Leonardo @deiveleonardo', 'FOLLOWERS': '1.1M', 'ER': '0.5%', 'COUNTRY': '', 'TOPIC OF INFLUENCE': 'Music', 'POTENTIAL REACH': '343.3K'}\n",
      "{'_id': ObjectId('661525944c72517267b68a96'), '#': 57, 'NAME': 'The World’s Coolest Cars, Design & Technology @supercarblondie', 'FOLLOWERS': '1.1M', 'ER': '0.08%', 'COUNTRY': 'Brazil', 'TOPIC OF INFLUENCE': 'Auto and Vehicles', 'POTENTIAL REACH': '343.3K'}\n",
      "{'_id': ObjectId('661525944c72517267b68a97'), '#': 55, 'NAME': 'Larissa Manoela @larissamanoela', 'FOLLOWERS': '1.1M', 'ER': '0.18%', 'COUNTRY': 'Brazil', 'TOPIC OF INFLUENCE': 'Acting & Drama Fashion & Accessories Entertainment & Music Motherhood', 'POTENTIAL REACH': '344.5K'}\n",
      "{'_id': ObjectId('661525944c72517267b68a98'), '#': 59, 'NAME': 'Júlio Cocielo Estaniecki @cocielo', 'FOLLOWERS': '1.1M', 'ER': '0.51%', 'COUNTRY': 'Brazil', 'TOPIC OF INFLUENCE': 'Entertainment & Music Comedy', 'POTENTIAL REACH': '334.1K'}\n",
      "{'_id': ObjectId('661525944c72517267b68a99'), '#': 58, 'NAME': 'LUDMILLA @ludmilla', 'FOLLOWERS': '1.1M', 'ER': '0.46%', 'COUNTRY': 'Brazil', 'TOPIC OF INFLUENCE': 'Entertainment & Music', 'POTENTIAL REACH': '338.2K'}\n",
      "{'_id': ObjectId('661525944c72517267b68a9a'), '#': 60, 'NAME': 'Viih Tube @viihtube', 'FOLLOWERS': '1.1M', 'ER': '1.01%', 'COUNTRY': '', 'TOPIC OF INFLUENCE': 'Entertainment & Music family', 'POTENTIAL REACH': '329.8K'}\n",
      "{'_id': ObjectId('661525944c72517267b68a9b'), '#': 61, 'NAME': 'FUCKJERRY @fuckjerry', 'FOLLOWERS': '1.1M', 'ER': '0.77%', 'COUNTRY': 'United States', 'TOPIC OF INFLUENCE': 'Entertainment & Music Funny', 'POTENTIAL REACH': '327.1K'}\n",
      "{'_id': ObjectId('661525944c72517267b68a9c'), '#': 62, 'NAME': 'Rafa Kalimann @rafakalimann', 'FOLLOWERS': '1.1M', 'ER': '0.09%', 'COUNTRY': '', 'TOPIC OF INFLUENCE': 'Nature Animals Entertainment & Music Life & Society', 'POTENTIAL REACH': '319.9K'}\n",
      "{'_id': ObjectId('661525944c72517267b68a9d'), '#': 63, 'NAME': 'BIANCA @bianca', 'FOLLOWERS': '1.1M', 'ER': '0.29%', 'COUNTRY': '', 'TOPIC OF INFLUENCE': 'Beauty & Self Care', 'POTENTIAL REACH': '319.4K'}\n",
      "{'_id': ObjectId('661525944c72517267b68a9e'), '#': 64, 'NAME': 'Mari Maria @marimaria', 'FOLLOWERS': '1M', 'ER': '0.28%', 'COUNTRY': '', 'TOPIC OF INFLUENCE': 'Beauty & Self Care', 'POTENTIAL REACH': '306.4K'}\n",
      "{'_id': ObjectId('661525944c72517267b68a9f'), '#': 65, 'NAME': 'IZA @iza', 'FOLLOWERS': '1M', 'ER': '0.49%', 'COUNTRY': 'Brazil', 'TOPIC OF INFLUENCE': 'Entertainment & Music', 'POTENTIAL REACH': '305.3K'}\n",
      "{'_id': ObjectId('661525944c72517267b68aa0'), '#': 66, 'NAME': 'GKAY @gessicakayane', 'FOLLOWERS': '1M', 'ER': '0.19%', 'COUNTRY': '', 'TOPIC OF INFLUENCE': 'Entertainment & Music', 'POTENTIAL REACH': '304.9K'}\n",
      "{'_id': ObjectId('661525944c72517267b68aa1'), '#': 67, 'NAME': 'Sunny Leone @sunnyleone', 'FOLLOWERS': '1M', 'ER': '1.08%', 'COUNTRY': '', 'TOPIC OF INFLUENCE': 'Beauty & Self Care', 'POTENTIAL REACH': '304.3K'}\n",
      "{'_id': ObjectId('661525944c72517267b68aa2'), '#': 68, 'NAME': '@mccabelinho', 'FOLLOWERS': '1M', 'ER': '0.59%', 'COUNTRY': '', 'TOPIC OF INFLUENCE': 'Beauty & Self Care', 'POTENTIAL REACH': '303.9K'}\n",
      "{'_id': ObjectId('661525944c72517267b68aa3'), '#': 69, 'NAME': 'Sabrina Sato @sabrinasato', 'FOLLOWERS': '1M', 'ER': '0.19%', 'COUNTRY': 'Brazil', 'TOPIC OF INFLUENCE': 'Entertainment & Music Acting & Drama', 'POTENTIAL REACH': '303.7K'}\n",
      "{'_id': ObjectId('661525944c72517267b68aa4'), '#': 70, 'NAME': 'Sarcasm @sarcastic_us', 'FOLLOWERS': '984.8K', 'ER': '0.39%', 'COUNTRY': 'Brazil', 'TOPIC OF INFLUENCE': 'Funny', 'POTENTIAL REACH': '295.4K'}\n",
      "{'_id': ObjectId('661525944c72517267b68aa5'), '#': 71, 'NAME': 'Arsenal @arsenal', 'FOLLOWERS': '976.2K', 'ER': '-', 'COUNTRY': 'United Kingdom', 'TOPIC OF INFLUENCE': 'Sports', 'POTENTIAL REACH': '292.9K'}\n",
      "{'_id': ObjectId('661525944c72517267b68aa6'), '#': 72, 'NAME': 'Nazaré Amarga @nazareamarga', 'FOLLOWERS': '975.7K', 'ER': '0.18%', 'COUNTRY': 'United Kingdom', 'TOPIC OF INFLUENCE': 'Entertainment & Music', 'POTENTIAL REACH': '292.7K'}\n",
      "{'_id': ObjectId('661525944c72517267b68aa7'), '#': 73, 'NAME': 'Gary Vay-Ner-Chuk @garyvee', 'FOLLOWERS': '974.1K', 'ER': '0.54%', 'COUNTRY': '', 'TOPIC OF INFLUENCE': 'Finance Upskilling Entertainment & Music', 'POTENTIAL REACH': '292.2K'}\n",
      "{'_id': ObjectId('661525944c72517267b68aa8'), '#': 74, 'NAME': 'The Daily Show @thedailyshow', 'FOLLOWERS': '972.1K', 'ER': '0.33%', 'COUNTRY': '', 'TOPIC OF INFLUENCE': 'Entertainment & Music Education', 'POTENTIAL REACH': '291.6K'}\n",
      "{'_id': ObjectId('661525944c72517267b68aa9'), '#': 75, 'NAME': 'Gina Indelicada @ginaindelicada', 'FOLLOWERS': '970.7K', 'ER': '0.46%', 'COUNTRY': 'United Kingdom', 'TOPIC OF INFLUENCE': 'Entertainment & Music', 'POTENTIAL REACH': '291.2K'}\n",
      "{'_id': ObjectId('661525944c72517267b68aaa'), '#': 76, 'NAME': 'RapTV @rap', 'FOLLOWERS': '966.9K', 'ER': '0.2%', 'COUNTRY': 'United Kingdom', 'TOPIC OF INFLUENCE': '', 'POTENTIAL REACH': '290.1K'}\n",
      "{'_id': ObjectId('661525944c72517267b68aab'), '#': 77, 'NAME': 'Giannis Ugo Antetokounmpo @giannis_an34', 'FOLLOWERS': '953.1K', 'ER': '0.49%', 'COUNTRY': 'Greece', 'TOPIC OF INFLUENCE': 'Sports', 'POTENTIAL REACH': '285.9K'}\n",
      "{'_id': ObjectId('661525944c72517267b68aac'), '#': 78, 'NAME': 'Simaria @simaria', 'FOLLOWERS': '951.7K', 'ER': '0.18%', 'COUNTRY': '', 'TOPIC OF INFLUENCE': 'Entertainment & Music', 'POTENTIAL REACH': '285.5K'}\n",
      "{'_id': ObjectId('661525944c72517267b68aad'), '#': 79, 'NAME': 'Giovanna Ewbank @gioewbank', 'FOLLOWERS': '949.7K', 'ER': '0.11%', 'COUNTRY': '', 'TOPIC OF INFLUENCE': 'Entertainment & Music family', 'POTENTIAL REACH': '284.9K'}\n",
      "{'_id': ObjectId('661525944c72517267b68aae'), '#': 80, 'NAME': 'isis valverde @isisvalverde', 'FOLLOWERS': '949.3K', 'ER': '0.08%', 'COUNTRY': 'Brazil', 'TOPIC OF INFLUENCE': 'Entertainment & Music', 'POTENTIAL REACH': '284.8K'}\n",
      "{'_id': ObjectId('661525944c72517267b68aaf'), '#': 82, 'NAME': 'LUCAS RANGEL @lucasranngel', 'FOLLOWERS': '940.4K', 'ER': '0.46%', 'COUNTRY': 'Brazil', 'TOPIC OF INFLUENCE': 'Beauty & Self Care', 'POTENTIAL REACH': '282.1K'}\n",
      "{'_id': ObjectId('661525944c72517267b68ab0'), '#': 83, 'NAME': 'Boca de 09 @bocade09', 'FOLLOWERS': '928.1K', 'ER': '0.28%', 'COUNTRY': 'Brazil', 'TOPIC OF INFLUENCE': '', 'POTENTIAL REACH': '278.4K'}\n",
      "{'_id': ObjectId('661525944c72517267b68ab1'), '#': 84, 'NAME': 'billboard @billboard', 'FOLLOWERS': '914.2K', 'ER': '0.3%', 'COUNTRY': 'United States', 'TOPIC OF INFLUENCE': 'Entertainment & Music', 'POTENTIAL REACH': '274.3K'}\n",
      "{'_id': ObjectId('661525944c72517267b68ab2'), '#': 81, 'NAME': 'COMPLEX @complex', 'FOLLOWERS': '948.5K', 'ER': '0.31%', 'COUNTRY': '', 'TOPIC OF INFLUENCE': 'Entertainment & Music Fashion & Accessories Product Showcase', 'POTENTIAL REACH': '284.6K'}\n",
      "{'_id': ObjectId('661525944c72517267b68ab3'), '#': 85, 'NAME': 'GIL DO VIGOR @gildovigor', 'FOLLOWERS': '911.2K', 'ER': '0.2%', 'COUNTRY': '', 'TOPIC OF INFLUENCE': 'Finance Education', 'POTENTIAL REACH': '273.4K'}\n",
      "{'_id': ObjectId('661525944c72517267b68ab4'), '#': 87, 'NAME': 'KIM LOAIZA 🖤 @kimberly.loaiza', 'FOLLOWERS': '908.8K', 'ER': '1.98%', 'COUNTRY': '', 'TOPIC OF INFLUENCE': '', 'POTENTIAL REACH': '272.6K'}\n",
      "{'_id': ObjectId('661525944c72517267b68ab5'), '#': 86, 'NAME': 'Fred Bruno @fred', 'FOLLOWERS': '909.8K', 'ER': '0.23%', 'COUNTRY': '', 'TOPIC OF INFLUENCE': 'Entertainment & Music', 'POTENTIAL REACH': '272.9K'}\n",
      "{'_id': ObjectId('661525944c72517267b68ab6'), '#': 88, 'NAME': 'Davido @davido', 'FOLLOWERS': '903.2K', 'ER': '0.84%', 'COUNTRY': 'Nigeria', 'TOPIC OF INFLUENCE': 'Music', 'POTENTIAL REACH': '271K'}\n",
      "{'_id': ObjectId('661525944c72517267b68ab7'), '#': 90, 'NAME': 'Forbes Brasil @forbesbr', 'FOLLOWERS': '896.6K', 'ER': '0.13%', 'COUNTRY': 'Brazil', 'TOPIC OF INFLUENCE': 'Finance', 'POTENTIAL REACH': '269K'}\n",
      "{'_id': ObjectId('661525944c72517267b68ab8'), '#': 89, 'NAME': 'Lorena Improta @loreimprota', 'FOLLOWERS': '901.9K', 'ER': '0.16%', 'COUNTRY': '', 'TOPIC OF INFLUENCE': 'Entertainment & Music', 'POTENTIAL REACH': '270.6K'}\n",
      "{'_id': ObjectId('661525944c72517267b68ab9'), '#': 91, 'NAME': 'disruptiv & faithfull @cleo', 'FOLLOWERS': '894.9K', 'ER': '0.27%', 'COUNTRY': '', 'TOPIC OF INFLUENCE': 'Entertainment & Music', 'POTENTIAL REACH': '268.5K'}\n",
      "{'_id': ObjectId('661525944c72517267b68aba'), '#': 93, 'NAME': 'Thiago Nigro | O Primo Rico @thiago.nigro', 'FOLLOWERS': '890.5K', 'ER': '0.26%', 'COUNTRY': '', 'TOPIC OF INFLUENCE': 'Finance', 'POTENTIAL REACH': '267.1K'}\n",
      "{'_id': ObjectId('661525944c72517267b68abb'), '#': 94, 'NAME': 'T H I A G O V E N T U R A @othiagoventura', 'FOLLOWERS': '888.1K', 'ER': '0.23%', 'COUNTRY': '', 'TOPIC OF INFLUENCE': 'Entertainment & Music Funny', 'POTENTIAL REACH': '266.4K'}\n",
      "{'_id': ObjectId('661525944c72517267b68abc'), '#': 92, 'NAME': 'ARIGAMEPLAYS @arigameplays', 'FOLLOWERS': '891K', 'ER': '3.26%', 'COUNTRY': '', 'TOPIC OF INFLUENCE': 'Games Entertainment & Music', 'POTENTIAL REACH': '267.3K'}\n",
      "{'_id': ObjectId('661525944c72517267b68abd'), '#': 95, 'NAME': 'Tata Estaniecki Cocielo @tata', 'FOLLOWERS': '887.6K', 'ER': '0.42%', 'COUNTRY': 'Brazil', 'TOPIC OF INFLUENCE': 'Product Showcase', 'POTENTIAL REACH': '266.3K'}\n",
      "{'_id': ObjectId('661525944c72517267b68abe'), '#': 97, 'NAME': 'Resiliência Humana @resiliencia_humana', 'FOLLOWERS': '871.9K', 'ER': '0.14%', 'COUNTRY': '', 'TOPIC OF INFLUENCE': 'Life & Society', 'POTENTIAL REACH': '261.6K'}\n",
      "{'_id': ObjectId('661525944c72517267b68abf'), '#': 96, 'NAME': 'Eliana Michaelichen @eliana', 'FOLLOWERS': '882.6K', 'ER': '0.36%', 'COUNTRY': 'Brazil', 'TOPIC OF INFLUENCE': 'Entertainment & Music', 'POTENTIAL REACH': '264.8K'}\n",
      "{'_id': ObjectId('661525944c72517267b68ac0'), '#': 98, 'NAME': 'Juliana Paes @julianapaes', 'FOLLOWERS': '870.8K', 'ER': '0.09%', 'COUNTRY': '', 'TOPIC OF INFLUENCE': 'Education Romance & Wedding Entertainment & Music', 'POTENTIAL REACH': '261.2K'}\n",
      "{'_id': ObjectId('661525944c72517267b68ac1'), '#': 99, 'NAME': 'NATTI NATASHA @nattinatasha', 'FOLLOWERS': '867.4K', 'ER': '0.37%', 'COUNTRY': '', 'TOPIC OF INFLUENCE': 'Music', 'POTENTIAL REACH': '260.2K'}\n",
      "{'_id': ObjectId('661525944c72517267b68ac2'), '#': 100, 'NAME': 'Leo Dias @leodias', 'FOLLOWERS': '866.3K', 'ER': '0.14%', 'COUNTRY': '', 'TOPIC OF INFLUENCE': 'Entertainment & Music Journalism', 'POTENTIAL REACH': '259.9K'}\n"
     ]
    }
   ],
   "source": [
    "# Perform operations on the collections\n",
    "for document in threads_collection.find():\n",
    "    print(document)"
   ]
  },
  {
   "cell_type": "code",
   "execution_count": 37,
   "id": "becacbce",
   "metadata": {},
   "outputs": [
    {
     "name": "stdout",
     "output_type": "stream",
     "text": [
      "{'_id': ObjectId('661525a2ae9afb9f5986b9b1'), '#': 1, 'NAME': 'T-Series @UCq-Fj5jknLsUf-MWSy4_brA', 'FOLLOWERS': '234M', 'ER': '-', 'COUNTRY': 'India', 'TOPIC OF INFLUENCE': '', 'POTENTIAL REACH': '70.2M'}\n",
      "{'_id': ObjectId('661525a2ae9afb9f5986b9b2'), '#': 3, 'NAME': 'SET India @UCpEhnqL0y41EpW2TvWAHD7Q', 'FOLLOWERS': '139M', 'ER': '-', 'COUNTRY': 'India', 'TOPIC OF INFLUENCE': '', 'POTENTIAL REACH': '41.7M'}\n",
      "{'_id': ObjectId('661525a2ae9afb9f5986b9b3'), '#': 2, 'NAME': 'Cocomelon - Nursery Rhymes @UCbCmjCuTUZos6Inko4u57UQ', 'FOLLOWERS': '144M', 'ER': '-', 'COUNTRY': 'United States', 'TOPIC OF INFLUENCE': '', 'POTENTIAL REACH': '43.2M'}\n",
      "{'_id': ObjectId('661525a2ae9afb9f5986b9b4'), '#': 5, 'NAME': 'MrBeast @UCX6OQ3DkcsbYNE6H8uQQuVA', 'FOLLOWERS': '100M', 'ER': '2.4%', 'COUNTRY': 'United States', 'TOPIC OF INFLUENCE': 'Celebrity Pets', 'POTENTIAL REACH': '30M'}\n",
      "{'_id': ObjectId('661525a2ae9afb9f5986b9b5'), '#': 6, 'NAME': 'Like Nastya @UCJplp5SjeGSdVdwsfb9Q7lQ', 'FOLLOWERS': '97.3M', 'ER': '-', 'COUNTRY': 'United States', 'TOPIC OF INFLUENCE': '', 'POTENTIAL REACH': '29.2M'}\n",
      "{'_id': ObjectId('661525a2ae9afb9f5986b9b6'), '#': 7, 'NAME': '✿ Kids Diana Show @UCk8GzjMOrta8yxDcKfylJYw', 'FOLLOWERS': '94.2M', 'ER': '-', 'COUNTRY': '', 'TOPIC OF INFLUENCE': '', 'POTENTIAL REACH': '28.3M'}\n",
      "{'_id': ObjectId('661525a2ae9afb9f5986b9b7'), '#': 8, 'NAME': 'Zee Music Company @UCFFbwnve3yF62-tVXkTyHqg', 'FOLLOWERS': '91.4M', 'ER': '-', 'COUNTRY': 'India', 'TOPIC OF INFLUENCE': '', 'POTENTIAL REACH': '27.4M'}\n",
      "{'_id': ObjectId('661525a2ae9afb9f5986b9b8'), '#': 9, 'NAME': 'WWE @UCJ5v_MCY6GNUBTO8-D3XoAg', 'FOLLOWERS': '91.2M', 'ER': '-', 'COUNTRY': '', 'TOPIC OF INFLUENCE': '', 'POTENTIAL REACH': '27.4M'}\n",
      "{'_id': ObjectId('661525a2ae9afb9f5986b9b9'), '#': 4, 'NAME': 'PewDiePie @UC-lHJZR3Gqxm24_Vd_AJ5Yw', 'FOLLOWERS': '111M', 'ER': '0.1%', 'COUNTRY': 'United States', 'TOPIC OF INFLUENCE': '', 'POTENTIAL REACH': '33.3M'}\n",
      "{'_id': ObjectId('661525a2ae9afb9f5986b9ba'), '#': 10, 'NAME': 'Vlad and Niki @UCvlE5gTbOvjiolFlEm-c_Ow', 'FOLLOWERS': '84.3M', 'ER': '-', 'COUNTRY': 'United States', 'TOPIC OF INFLUENCE': 'Marketing and Advertising Music', 'POTENTIAL REACH': '25.3M'}\n",
      "{'_id': ObjectId('661525a2ae9afb9f5986b9bb'), '#': 12, 'NAME': 'Goldmines @UCyoXW-Dse7fURq30EWl_CUA', 'FOLLOWERS': '72M', 'ER': '-', 'COUNTRY': 'India', 'TOPIC OF INFLUENCE': '', 'POTENTIAL REACH': '21.6M'}\n",
      "{'_id': ObjectId('661525a2ae9afb9f5986b9bc'), '#': 13, 'NAME': 'Justin Bieber @UCIwFjwMjI0y7PDBVEO9-bkQ', 'FOLLOWERS': '69.7M', 'ER': '-', 'COUNTRY': 'Canada', 'TOPIC OF INFLUENCE': '', 'POTENTIAL REACH': '20.9M'}\n",
      "{'_id': ObjectId('661525a2ae9afb9f5986b9bd'), '#': 11, 'NAME': 'BLACKPINK @UCOmHUn--16B90oW2L6FRR3A', 'FOLLOWERS': '82M', 'ER': '0.4%', 'COUNTRY': 'South Korea', 'TOPIC OF INFLUENCE': '', 'POTENTIAL REACH': '24.6M'}\n",
      "{'_id': ObjectId('661525a2ae9afb9f5986b9be'), '#': 14, 'NAME': 'Sony SAB @UC6-F5tO8uklgE9Zy8IvbdFw', 'FOLLOWERS': '69.2M', 'ER': '-', 'COUNTRY': 'India', 'TOPIC OF INFLUENCE': '', 'POTENTIAL REACH': '20.8M'}\n",
      "{'_id': ObjectId('661525a2ae9afb9f5986b9bf'), '#': 25, 'NAME': 'Tips Official @UCJrDMFOdv1I2k8n9oK_V21w', 'FOLLOWERS': '56.5M', 'ER': '-', 'COUNTRY': 'India', 'TOPIC OF INFLUENCE': '', 'POTENTIAL REACH': '17M'}\n",
      "{'_id': ObjectId('661525a2ae9afb9f5986b9c0'), '#': 26, 'NAME': 'Marshmello @UCEdvpU2pFRCVqU6yIPyTpMQ', 'FOLLOWERS': '55.8M', 'ER': '-', 'COUNTRY': 'United States', 'TOPIC OF INFLUENCE': '', 'POTENTIAL REACH': '16.7M'}\n",
      "{'_id': ObjectId('661525a2ae9afb9f5986b9c1'), '#': 27, 'NAME': 'Wave Music @bhojpuriwave', 'FOLLOWERS': '55.6M', 'ER': '-', 'COUNTRY': 'India', 'TOPIC OF INFLUENCE': '', 'POTENTIAL REACH': '16.7M'}\n",
      "{'_id': ObjectId('661525a2ae9afb9f5986b9c2'), '#': 28, 'NAME': 'Sony Music India @UC56gTxNs4f9xZ7Pa2i5xNzg', 'FOLLOWERS': '55.3M', 'ER': '-', 'COUNTRY': 'India', 'TOPIC OF INFLUENCE': '', 'POTENTIAL REACH': '16.6M'}\n",
      "{'_id': ObjectId('661525a2ae9afb9f5986b9c3'), '#': 29, 'NAME': 'Aaj Tak @UCt4t-jeY85JegMlZ-E5UWtA', 'FOLLOWERS': '54M', 'ER': '-', 'COUNTRY': 'India', 'TOPIC OF INFLUENCE': '', 'POTENTIAL REACH': '16.2M'}\n",
      "{'_id': ObjectId('661525a2ae9afb9f5986b9c4'), '#': 30, 'NAME': 'El Reino Infantil @UCK1i2UviaXLUNrZlAFpw_jA', 'FOLLOWERS': '52.9M', 'ER': '-', 'COUNTRY': '', 'TOPIC OF INFLUENCE': '', 'POTENTIAL REACH': '15.9M'}\n",
      "{'_id': ObjectId('661525a2ae9afb9f5986b9c5'), '#': 32, 'NAME': 'Ariana Grande @UC9CoOnJkIBMdeijd9qYoT_g', 'FOLLOWERS': '52.2M', 'ER': '-', 'COUNTRY': '', 'TOPIC OF INFLUENCE': '', 'POTENTIAL REACH': '15.7M'}\n",
      "{'_id': ObjectId('661525a2ae9afb9f5986b9c6'), '#': 31, 'NAME': 'Ed Sheeran @UC0C-w0YjGpqDXGB8IHb662A', 'FOLLOWERS': '52.3M', 'ER': '-', 'COUNTRY': '', 'TOPIC OF INFLUENCE': '', 'POTENTIAL REACH': '15.7M'}\n",
      "{'_id': ObjectId('661525a2ae9afb9f5986b9c7'), '#': 33, 'NAME': 'EminemMusic @UCfM3zsQsOnfWNUppiycmBuw', 'FOLLOWERS': '51.7M', 'ER': '1%', 'COUNTRY': '', 'TOPIC OF INFLUENCE': '', 'POTENTIAL REACH': '15.5M'}\n",
      "{'_id': ObjectId('661525a2ae9afb9f5986b9c8'), '#': 34, 'NAME': 'T-Series Bhakti Sagar @UCaayLD9i5x4MmIoVZxXSv_g', 'FOLLOWERS': '49.9M', 'ER': '-', 'COUNTRY': '', 'TOPIC OF INFLUENCE': '', 'POTENTIAL REACH': '15M'}\n",
      "{'_id': ObjectId('661525a2ae9afb9f5986b9c9'), '#': 35, 'NAME': \"LooLoo Kids - Nursery Rhymes and Children's Songs @UC4NALVCmcmL5ntpV0thoH6w\", 'FOLLOWERS': '49.4M', 'ER': '-', 'COUNTRY': 'United States', 'TOPIC OF INFLUENCE': '', 'POTENTIAL REACH': '14.8M'}\n",
      "{'_id': ObjectId('661525a2ae9afb9f5986b9ca'), '#': 36, 'NAME': 'YRF @UCbTLwN10NoCU4WDzLf1JMOA', 'FOLLOWERS': '48.4M', 'ER': '-', 'COUNTRY': 'India', 'TOPIC OF INFLUENCE': '', 'POTENTIAL REACH': '14.5M'}\n",
      "{'_id': ObjectId('661525a2ae9afb9f5986b9cb'), '#': 37, 'NAME': 'Taylor Swift @UCqECaJ8Gagnn7YCbPEzWH6g', 'FOLLOWERS': '47.2M', 'ER': '0.4%', 'COUNTRY': '', 'TOPIC OF INFLUENCE': '', 'POTENTIAL REACH': '14.2M'}\n",
      "{'_id': ObjectId('661525a2ae9afb9f5986b9cc'), '#': 38, 'NAME': 'Fernanfloo @fernanfloo', 'FOLLOWERS': '47.1M', 'ER': '-', 'COUNTRY': 'El Salvador', 'TOPIC OF INFLUENCE': '', 'POTENTIAL REACH': '14.1M'}\n",
      "{'_id': ObjectId('661525a2ae9afb9f5986b9cd'), '#': 22, 'NAME': 'Dude Perfect @UCRijo3ddMTht_IHyNSNXpNQ', 'FOLLOWERS': '58.6M', 'ER': '-', 'COUNTRY': 'United States', 'TOPIC OF INFLUENCE': '', 'POTENTIAL REACH': '17.6M'}\n",
      "{'_id': ObjectId('661525a2ae9afb9f5986b9ce'), '#': 20, 'NAME': 'Colors TV @UC55IWqFLDH1Xp7iu1_xknRA', 'FOLLOWERS': '59.2M', 'ER': '-', 'COUNTRY': 'India', 'TOPIC OF INFLUENCE': '', 'POTENTIAL REACH': '17.8M'}\n",
      "{'_id': ObjectId('661525a2ae9afb9f5986b9cf'), '#': 21, 'NAME': 'ChuChu TV Nursery Rhymes & Kids Songs @UCBnZ16ahKA2DZ_T5W0FPUXg', 'FOLLOWERS': '58.7M', 'ER': '-', 'COUNTRY': 'India', 'TOPIC OF INFLUENCE': '', 'POTENTIAL REACH': '17.6M'}\n",
      "{'_id': ObjectId('661525a2ae9afb9f5986b9d0'), '#': 17, 'NAME': 'Canal KondZilla @UCffDXn7ycAzwL2LDlbyWOTw', 'FOLLOWERS': '66.3M', 'ER': '-', 'COUNTRY': 'Brazil', 'TOPIC OF INFLUENCE': '', 'POTENTIAL REACH': '19.9M'}\n",
      "{'_id': ObjectId('661525a2ae9afb9f5986b9d1'), '#': 16, 'NAME': 'HYBE LABELS @UC3IZKseVpdzPSBaWxBxundA', 'FOLLOWERS': '68.1M', 'ER': '-', 'COUNTRY': 'South Korea', 'TOPIC OF INFLUENCE': 'Celebrity Music', 'POTENTIAL REACH': '20.4M'}\n",
      "{'_id': ObjectId('661525a2ae9afb9f5986b9d2'), '#': 18, 'NAME': 'Zee TV @UCppHT7SZKKvar4Oc9J4oljQ', 'FOLLOWERS': '64M', 'ER': '-', 'COUNTRY': 'India', 'TOPIC OF INFLUENCE': '', 'POTENTIAL REACH': '19.2M'}\n",
      "{'_id': ObjectId('661525a2ae9afb9f5986b9d3'), '#': 19, 'NAME': 'Shemaroo Filmi Gaane @UCP6uH_XlsxrXwZQ4DlqbqPg', 'FOLLOWERS': '61.1M', 'ER': '-', 'COUNTRY': 'India', 'TOPIC OF INFLUENCE': '', 'POTENTIAL REACH': '18.3M'}\n",
      "{'_id': ObjectId('661525a2ae9afb9f5986b9d4'), '#': 24, 'NAME': \"Pinkfong Baby Shark - Kids' Songs & Stories @UCcdwLMPsaU2ezNSJU1nFoBQ\", 'FOLLOWERS': '56.9M', 'ER': '-', 'COUNTRY': '', 'TOPIC OF INFLUENCE': '', 'POTENTIAL REACH': '17.1M'}\n",
      "{'_id': ObjectId('661525a2ae9afb9f5986b9d5'), '#': 23, 'NAME': 'Movieclips @UC3gNmTGu-TTbFPpfSs5kNkg', 'FOLLOWERS': '58.5M', 'ER': '-', 'COUNTRY': 'United States', 'TOPIC OF INFLUENCE': '', 'POTENTIAL REACH': '17.6M'}\n",
      "{'_id': ObjectId('661525a2ae9afb9f5986b9d6'), '#': 15, 'NAME': 'BANGTANTV @UCLkAepWjdylmXSltofFvsYQ', 'FOLLOWERS': '68.6M', 'ER': '0.5%', 'COUNTRY': '', 'TOPIC OF INFLUENCE': '', 'POTENTIAL REACH': '20.6M'}\n",
      "{'_id': ObjectId('661525a2ae9afb9f5986b9d7'), '#': 39, 'NAME': 'Infobells - Hindi @UC1ciY6kR3yj3kaKZ6R7ewAg', 'FOLLOWERS': '46.6M', 'ER': '-', 'COUNTRY': 'India', 'TOPIC OF INFLUENCE': '', 'POTENTIAL REACH': '14M'}\n",
      "{'_id': ObjectId('661525a2ae9afb9f5986b9d8'), '#': 40, 'NAME': 'Billie Eilish @UCiGm_E4ZwYSHV3bcW1pnSeQ', 'FOLLOWERS': '46.6M', 'ER': '0.7%', 'COUNTRY': 'United States', 'TOPIC OF INFLUENCE': '', 'POTENTIAL REACH': '14M'}\n",
      "{'_id': ObjectId('661525a2ae9afb9f5986b9d9'), '#': 41, 'NAME': 'JuegaGerman @UCYiGq8XF7YQD00x7wAd62Zg', 'FOLLOWERS': '46.4M', 'ER': '0.4%', 'COUNTRY': 'Chile', 'TOPIC OF INFLUENCE': '', 'POTENTIAL REACH': '13.9M'}\n",
      "{'_id': ObjectId('661525a2ae9afb9f5986b9da'), '#': 42, 'NAME': 'Badabun @UCYWOjHweP2V-8kGKmmAmQJQ', 'FOLLOWERS': '45.7M', 'ER': '-', 'COUNTRY': 'Mexico', 'TOPIC OF INFLUENCE': '', 'POTENTIAL REACH': '13.7M'}\n",
      "{'_id': ObjectId('661525a2ae9afb9f5986b9db'), '#': 43, 'NAME': 'Felipe Neto @UCV306eHqgo0LvBf3Mh36AHg', 'FOLLOWERS': '44.4M', 'ER': '-', 'COUNTRY': 'Brazil', 'TOPIC OF INFLUENCE': '', 'POTENTIAL REACH': '13.3M'}\n",
      "{'_id': ObjectId('661525a2ae9afb9f5986b9dc'), '#': 44, 'NAME': 'Get Movies @UClZkHt2kNIgyrTTPnSQV3SA', 'FOLLOWERS': '44.3M', 'ER': '-', 'COUNTRY': 'Russia', 'TOPIC OF INFLUENCE': '', 'POTENTIAL REACH': '13.3M'}\n",
      "{'_id': ObjectId('661525a2ae9afb9f5986b9dd'), '#': 49, 'NAME': 'Bad Bunny @UCmBA_wu8xGg1OfOkfW13Q0Q', 'FOLLOWERS': '43.1M', 'ER': '-', 'COUNTRY': 'Puerto Rico', 'TOPIC OF INFLUENCE': '', 'POTENTIAL REACH': '12.9M'}\n",
      "{'_id': ObjectId('661525a2ae9afb9f5986b9de'), '#': 50, 'NAME': 'Você Sabia? @UCj0O6W8yDuLg3iraAXKgCrQ', 'FOLLOWERS': '43M', 'ER': '-', 'COUNTRY': 'Brazil', 'TOPIC OF INFLUENCE': '', 'POTENTIAL REACH': '12.9M'}\n",
      "{'_id': ObjectId('661525a2ae9afb9f5986b9df'), '#': 51, 'NAME': 'Alan Walker @UCJrOtniJ0-NWz37R30urifQ', 'FOLLOWERS': '42.4M', 'ER': '-', 'COUNTRY': 'Norway', 'TOPIC OF INFLUENCE': '', 'POTENTIAL REACH': '12.7M'}\n",
      "{'_id': ObjectId('661525a2ae9afb9f5986b9e0'), '#': 52, 'NAME': 'Like Nastya Show @UCS94J1s6-qc8v7btCdS2pNg', 'FOLLOWERS': '41.7M', 'ER': '-', 'COUNTRY': 'United States', 'TOPIC OF INFLUENCE': '', 'POTENTIAL REACH': '12.5M'}\n",
      "{'_id': ObjectId('661525a2ae9afb9f5986b9e1'), '#': 54, 'NAME': 'ABS-CBN Entertainment @UCstEtN0pgOmCf02EdXsGChw', 'FOLLOWERS': '41.5M', 'ER': '-', 'COUNTRY': 'Philippines', 'TOPIC OF INFLUENCE': '', 'POTENTIAL REACH': '12.5M'}\n",
      "{'_id': ObjectId('661525a2ae9afb9f5986b9e2'), '#': 53, 'NAME': 'CarryMinati @carryminati', 'FOLLOWERS': '41.6M', 'ER': '9.2%', 'COUNTRY': 'India', 'TOPIC OF INFLUENCE': 'Video Gaming', 'POTENTIAL REACH': '12.5M'}\n",
      "{'_id': ObjectId('661525a2ae9afb9f5986b9e3'), '#': 55, 'NAME': 'Shemaroo @UCF1JIbMUs6uqoZEY1Haw0GQ', 'FOLLOWERS': '41.2M', 'ER': '-', 'COUNTRY': 'India', 'TOPIC OF INFLUENCE': 'Celebrity', 'POTENTIAL REACH': '12.4M'}\n",
      "{'_id': ObjectId('661525a2ae9afb9f5986b9e4'), '#': 56, 'NAME': 'Speed Records @UCOsyDsO5tIt-VZ1iwjdQmew', 'FOLLOWERS': '41.1M', 'ER': '-', 'COUNTRY': 'India', 'TOPIC OF INFLUENCE': 'Music', 'POTENTIAL REACH': '12.3M'}\n",
      "{'_id': ObjectId('661525a2ae9afb9f5986b9e5'), '#': 57, 'NAME': 'elrubiusOMG @UCXazgXDIYyWH-yXLAkcrFxw', 'FOLLOWERS': '40.4M', 'ER': '1.7%', 'COUNTRY': '', 'TOPIC OF INFLUENCE': '', 'POTENTIAL REACH': '12.1M'}\n",
      "{'_id': ObjectId('661525a2ae9afb9f5986b9e6'), '#': 58, 'NAME': 'Little Baby Bum - Nursery Rhymes & Kids Songs @UCKAqou7V9FAWXpZd9xtOg3Q', 'FOLLOWERS': '40M', 'ER': '-', 'COUNTRY': 'United States', 'TOPIC OF INFLUENCE': '', 'POTENTIAL REACH': '12M'}\n",
      "{'_id': ObjectId('661525a2ae9afb9f5986b9e7'), '#': 59, 'NAME': 'Voot Kids @UCJg19noZp7-BYIGvypu_cow', 'FOLLOWERS': '39.3M', 'ER': '-', 'COUNTRY': 'India', 'TOPIC OF INFLUENCE': '', 'POTENTIAL REACH': '11.8M'}\n",
      "{'_id': ObjectId('661525a2ae9afb9f5986b9e8'), '#': 60, 'NAME': 'Маша и Медведь @UCRv76wLBC73jiP7LX4C3l8Q', 'FOLLOWERS': '39.1M', 'ER': '-', 'COUNTRY': 'Russia', 'TOPIC OF INFLUENCE': '', 'POTENTIAL REACH': '11.7M'}\n",
      "{'_id': ObjectId('661525a2ae9afb9f5986b9e9'), '#': 62, 'NAME': 'Luisito Comunica @UCECJDeK0MNapZbpaOzxrUPA', 'FOLLOWERS': '38.5M', 'ER': '0.1%', 'COUNTRY': '', 'TOPIC OF INFLUENCE': '', 'POTENTIAL REACH': '11.6M'}\n",
      "{'_id': ObjectId('661525a2ae9afb9f5986b9ea'), '#': 63, 'NAME': 'Ishtar Music @UCWi_65E_L8tQZ34C6wVAlpQ', 'FOLLOWERS': '38.5M', 'ER': '-', 'COUNTRY': 'India', 'TOPIC OF INFLUENCE': 'Music Celebrity', 'POTENTIAL REACH': '11.6M'}\n",
      "{'_id': ObjectId('661525a2ae9afb9f5986b9eb'), '#': 64, 'NAME': 'TheEllenShow @UCp0hYYBW6IMayGgR-WeoCvQ', 'FOLLOWERS': '38.3M', 'ER': '-', 'COUNTRY': 'United States', 'TOPIC OF INFLUENCE': '', 'POTENTIAL REACH': '11.5M'}\n",
      "{'_id': ObjectId('661525a2ae9afb9f5986b9ec'), '#': 65, 'NAME': 'Toys and Colors @UCgFXm4TI8htWmCyJ6cVPG_A', 'FOLLOWERS': '38.3M', 'ER': '-', 'COUNTRY': 'United States', 'TOPIC OF INFLUENCE': '', 'POTENTIAL REACH': '11.5M'}\n",
      "{'_id': ObjectId('661525a2ae9afb9f5986b9ed'), '#': 66, 'NAME': 'Kimberly Loaiza @UCQZfFRohQ7UX-0CdXl-6pwQ', 'FOLLOWERS': '38.1M', 'ER': '0.9%', 'COUNTRY': 'Mexico', 'TOPIC OF INFLUENCE': '', 'POTENTIAL REACH': '11.4M'}\n",
      "{'_id': ObjectId('661525a2ae9afb9f5986b9ee'), '#': 61, 'NAME': 'LUCCAS NETO - LUCCAS TOON @UC_gV70G_Y51LTa3qhu8KiEA', 'FOLLOWERS': '38.6M', 'ER': '-', 'COUNTRY': 'Brazil', 'TOPIC OF INFLUENCE': '', 'POTENTIAL REACH': '11.6M'}\n",
      "{'_id': ObjectId('661525a2ae9afb9f5986b9ef'), '#': 67, 'NAME': 'WorkpointOfficial @UC3ZkCd7XtUREnjjt3cyY_gg', 'FOLLOWERS': '38.1M', 'ER': '-', 'COUNTRY': 'Thailand', 'TOPIC OF INFLUENCE': '', 'POTENTIAL REACH': '11.4M'}\n",
      "{'_id': ObjectId('661525a2ae9afb9f5986b9f0'), '#': 68, 'NAME': 'XXXTENTACION @UCM9r1xn6s30OnlJWb-jc3Sw', 'FOLLOWERS': '37.8M', 'ER': '0.1%', 'COUNTRY': 'United States', 'TOPIC OF INFLUENCE': '', 'POTENTIAL REACH': '11.3M'}\n",
      "{'_id': ObjectId('661525a2ae9afb9f5986b9f1'), '#': 69, 'NAME': 'Super Simple Songs - Kids Songs @UCLsooMJoIpl_7ux2jvdPB-Q', 'FOLLOWERS': '37.3M', 'ER': '-', 'COUNTRY': 'Canada', 'TOPIC OF INFLUENCE': 'Travel', 'POTENTIAL REACH': '11.2M'}\n",
      "{'_id': ObjectId('661525a2ae9afb9f5986b9f2'), '#': 70, 'NAME': 'Shakira @UCYLNGLIzMhRTi6ZOLjAPSmw', 'FOLLOWERS': '37.1M', 'ER': '-', 'COUNTRY': '', 'TOPIC OF INFLUENCE': '', 'POTENTIAL REACH': '11.1M'}\n",
      "{'_id': ObjectId('661525a2ae9afb9f5986b9f3'), '#': 46, 'NAME': 'SonyMusicIndiaVEVO @UC3MLnJtqc_phABBriLRhtgQ', 'FOLLOWERS': '43.6M', 'ER': '-', 'COUNTRY': '', 'TOPIC OF INFLUENCE': 'Music', 'POTENTIAL REACH': '13.1M'}\n",
      "{'_id': ObjectId('661525a2ae9afb9f5986b9f4'), '#': 71, 'NAME': 'GR6 EXPLODE @UCNUQK9mQoqi4yNXw2_Rj6SA', 'FOLLOWERS': '37.1M', 'ER': '-', 'COUNTRY': '', 'TOPIC OF INFLUENCE': '', 'POTENTIAL REACH': '11.1M'}\n",
      "{'_id': ObjectId('661525a2ae9afb9f5986b9f5'), '#': 72, 'NAME': 'Daddy Yankee @UC9TO_oo4c_LrOiKNaY6aysA', 'FOLLOWERS': '37M', 'ER': '-', 'COUNTRY': 'United States', 'TOPIC OF INFLUENCE': 'Music', 'POTENTIAL REACH': '11.1M'}\n",
      "{'_id': ObjectId('661525a2ae9afb9f5986b9f6'), '#': 74, 'NAME': 'ช่อง one31 @UC8f7MkX4MFOOJ2SerXLInCA', 'FOLLOWERS': '35.9M', 'ER': '-', 'COUNTRY': 'Thailand', 'TOPIC OF INFLUENCE': '', 'POTENTIAL REACH': '10.8M'}\n",
      "{'_id': ObjectId('661525a2ae9afb9f5986b9f7'), '#': 75, 'NAME': 'shfa2 - شفا @UCQ7x25F6YXY9DvGeHFxLhRQ', 'FOLLOWERS': '35.6M', 'ER': '-', 'COUNTRY': 'United Arab Emirates', 'TOPIC OF INFLUENCE': '', 'POTENTIAL REACH': '10.7M'}\n",
      "{'_id': ObjectId('661525a2ae9afb9f5986b9f8'), '#': 45, 'NAME': 'whinderssonnunes @UC3KQ5GWANYF8lChqjZpXsQw', 'FOLLOWERS': '43.7M', 'ER': '-', 'COUNTRY': '', 'TOPIC OF INFLUENCE': '', 'POTENTIAL REACH': '13.1M'}\n",
      "{'_id': ObjectId('661525a2ae9afb9f5986b9f9'), '#': 76, 'NAME': 'Goldmines Gaane Sune Ansune @UCtW7qWjpCZ8zps-Cf2NF26w', 'FOLLOWERS': '35.6M', 'ER': '-', 'COUNTRY': 'India', 'TOPIC OF INFLUENCE': '', 'POTENTIAL REACH': '10.7M'}\n",
      "{'_id': ObjectId('661525a2ae9afb9f5986b9fa'), '#': 47, 'NAME': 'BRIGHT SIDE @UC4rlAVgAK0SGk-yTfe48Qpw', 'FOLLOWERS': '43.4M', 'ER': '-', 'COUNTRY': '', 'TOPIC OF INFLUENCE': 'Fitness News', 'POTENTIAL REACH': '13M'}\n",
      "{'_id': ObjectId('661525a2ae9afb9f5986b9fb'), '#': 78, 'NAME': 'Ozuna @UCjIA3wwhi0QjSOXAZwOXbPA', 'FOLLOWERS': '35.2M', 'ER': '0.4%', 'COUNTRY': 'Puerto Rico', 'TOPIC OF INFLUENCE': 'Celebrity Music', 'POTENTIAL REACH': '10.6M'}\n",
      "{'_id': ObjectId('661525a2ae9afb9f5986b9fc'), '#': 79, 'NAME': 'YouTube @youtube.com', 'FOLLOWERS': '35.1M', 'ER': '-', 'COUNTRY': 'United States', 'TOPIC OF INFLUENCE': '', 'POTENTIAL REACH': '10.5M'}\n",
      "{'_id': ObjectId('661525a2ae9afb9f5986b9fd'), '#': 77, 'NAME': 'TEDx Talks @UCsT0YIqwnpJCM-mx7-gSA4Q', 'FOLLOWERS': '35.5M', 'ER': '-', 'COUNTRY': '', 'TOPIC OF INFLUENCE': '', 'POTENTIAL REACH': '10.7M'}\n",
      "{'_id': ObjectId('661525a2ae9afb9f5986b9fe'), '#': 80, 'NAME': 'Masha and The Bear @UCu59yAFE8fM0sVNTipR4edw', 'FOLLOWERS': '35.1M', 'ER': '-', 'COUNTRY': 'United States', 'TOPIC OF INFLUENCE': '', 'POTENTIAL REACH': '10.5M'}\n",
      "{'_id': ObjectId('661525a2ae9afb9f5986b9ff'), '#': 81, 'NAME': 'Bruno Mars @UCoUM-UJ7rirJYP8CQ0EIaHA', 'FOLLOWERS': '34.8M', 'ER': '0.2%', 'COUNTRY': '', 'TOPIC OF INFLUENCE': '', 'POTENTIAL REACH': '10.4M'}\n",
      "{'_id': ObjectId('661525a2ae9afb9f5986ba00'), '#': 82, 'NAME': 'Jkk Entertainment @UC5tuYcCdiKuF5Y2ZonuarwA', 'FOLLOWERS': '34.5M', 'ER': '0.2%', 'COUNTRY': '', 'TOPIC OF INFLUENCE': '', 'POTENTIAL REACH': '10.4M'}\n",
      "{'_id': ObjectId('661525a2ae9afb9f5986ba01'), '#': 84, 'NAME': 'T-Series Apna Punjab @UCcvNYxWXR_5TjVK7cSCdW-g', 'FOLLOWERS': '33.6M', 'ER': '-', 'COUNTRY': 'India', 'TOPIC OF INFLUENCE': '', 'POTENTIAL REACH': '10.1M'}\n",
      "{'_id': ObjectId('661525a2ae9afb9f5986ba02'), '#': 85, 'NAME': 'Total Gaming @UC5c9VlYTSvBSCaoMu_GI6gQ', 'FOLLOWERS': '33.6M', 'ER': '0.2%', 'COUNTRY': 'India', 'TOPIC OF INFLUENCE': 'Video Gaming', 'POTENTIAL REACH': '10.1M'}\n",
      "{'_id': ObjectId('661525a2ae9afb9f5986ba03'), '#': 86, 'NAME': 'J Balvin @UCt-k6JwNWHMXDBGm9IYHdsg', 'FOLLOWERS': '33.6M', 'ER': '-', 'COUNTRY': 'Colombia', 'TOPIC OF INFLUENCE': '', 'POTENTIAL REACH': '10.1M'}\n",
      "{'_id': ObjectId('661525a2ae9afb9f5986ba04'), '#': 87, 'NAME': 'ABP NEWS @UCRWFSbif-RFENbBrSiez1DA', 'FOLLOWERS': '33.5M', 'ER': '-', 'COUNTRY': 'India', 'TOPIC OF INFLUENCE': '', 'POTENTIAL REACH': '10.1M'}\n",
      "{'_id': ObjectId('661525a2ae9afb9f5986ba05'), '#': 83, 'NAME': 'Maria Clara & JP @UCKe6w0exI94U-RzqAyoY1VA', 'FOLLOWERS': '33.8M', 'ER': '0.1%', 'COUNTRY': 'Brazil', 'TOPIC OF INFLUENCE': '', 'POTENTIAL REACH': '10.1M'}\n",
      "{'_id': ObjectId('661525a2ae9afb9f5986ba06'), '#': 88, 'NAME': 'VEGETTA777 @UCam8T03EOFBsNdR0thrFHdQ', 'FOLLOWERS': '33.5M', 'ER': '-', 'COUNTRY': '', 'TOPIC OF INFLUENCE': '', 'POTENTIAL REACH': '10.1M'}\n",
      "{'_id': ObjectId('661525a2ae9afb9f5986ba07'), '#': 89, 'NAME': 'Markiplier @UC7_YxT-KID8kRbqZo7MyscQ', 'FOLLOWERS': '33.5M', 'ER': '0.4%', 'COUNTRY': 'United States', 'TOPIC OF INFLUENCE': '', 'POTENTIAL REACH': '10.1M'}\n",
      "{'_id': ObjectId('661525a2ae9afb9f5986ba08'), '#': 73, 'NAME': 'shfa @UCwHE1kM1CPJd_pI9FQ0-4dg', 'FOLLOWERS': '36.1M', 'ER': '0.1%', 'COUNTRY': 'United Arab Emirates', 'TOPIC OF INFLUENCE': '', 'POTENTIAL REACH': '10.8M'}\n",
      "{'_id': ObjectId('661525a2ae9afb9f5986ba09'), '#': 90, 'NAME': 'Desi Music Factory @UCLtNvbkqea8wN_kGtfgx_Mw', 'FOLLOWERS': '33M', 'ER': '1.8%', 'COUNTRY': 'India', 'TOPIC OF INFLUENCE': '', 'POTENTIAL REACH': '9.9M'}\n",
      "{'_id': ObjectId('661525a2ae9afb9f5986ba0a'), '#': 91, 'NAME': 'NoCopyrightSounds @UC_aEa8K-EOJ3D6gOs7HcyNg', 'FOLLOWERS': '32.9M', 'ER': '-', 'COUNTRY': 'United Kingdom', 'TOPIC OF INFLUENCE': 'Music', 'POTENTIAL REACH': '9.9M'}\n",
      "{'_id': ObjectId('661525a2ae9afb9f5986ba0b'), '#': 93, 'NAME': \"Ryan's World @UChGJGhZ9SOOHvBB0Y4DOO_w\", 'FOLLOWERS': '32.7M', 'ER': '-', 'COUNTRY': '', 'TOPIC OF INFLUENCE': 'Music', 'POTENTIAL REACH': '9.8M'}\n",
      "{'_id': ObjectId('661525a2ae9afb9f5986ba0c'), '#': 92, 'NAME': 'Geet MP3 @UClZF7OsrECe3t_ADrjZEh_Q', 'FOLLOWERS': '32.7M', 'ER': '-', 'COUNTRY': '', 'TOPIC OF INFLUENCE': 'Music', 'POTENTIAL REACH': '9.8M'}\n",
      "{'_id': ObjectId('661525a2ae9afb9f5986ba0d'), '#': 94, 'NAME': 'Bollywood Classics @UCRm96I5kmb_iGFofE5N691w', 'FOLLOWERS': '32.7M', 'ER': '-', 'COUNTRY': 'India', 'TOPIC OF INFLUENCE': '', 'POTENTIAL REACH': '9.8M'}\n",
      "{'_id': ObjectId('661525a2ae9afb9f5986ba0e'), '#': 48, 'NAME': 'Katy Perry @UCYvmuw-JtVrTZQ-7Y4kd63Q', 'FOLLOWERS': '43.1M', 'ER': '-', 'COUNTRY': 'United States', 'TOPIC OF INFLUENCE': '', 'POTENTIAL REACH': '12.9M'}\n",
      "{'_id': ObjectId('661525a2ae9afb9f5986ba0f'), '#': 96, 'NAME': 'Like Nastya ESP @UCpEJRZdSpdVZ8vh63T9I2KQ', 'FOLLOWERS': '32.5M', 'ER': '-', 'COUNTRY': '', 'TOPIC OF INFLUENCE': '', 'POTENTIAL REACH': '9.8M'}\n",
      "{'_id': ObjectId('661525a2ae9afb9f5986ba10'), '#': 97, 'NAME': 'La Granja de Zenón @UCwpcLKMwiuPg4aqImpGk6Ew', 'FOLLOWERS': '32.3M', 'ER': '-', 'COUNTRY': 'Argentina', 'TOPIC OF INFLUENCE': '', 'POTENTIAL REACH': '9.7M'}\n",
      "{'_id': ObjectId('661525a2ae9afb9f5986ba11'), '#': 95, 'NAME': 'Sony PAL @UCw7xjxzbMwgBSmbeYwqYRMg', 'FOLLOWERS': '32.6M', 'ER': '-', 'COUNTRY': '', 'TOPIC OF INFLUENCE': '', 'POTENTIAL REACH': '9.8M'}\n",
      "{'_id': ObjectId('661525a2ae9afb9f5986ba12'), '#': 98, 'NAME': 'Alfredo Larin @alfredolarin', 'FOLLOWERS': '32.3M', 'ER': '-', 'COUNTRY': 'El Salvador', 'TOPIC OF INFLUENCE': '', 'POTENTIAL REACH': '9.7M'}\n",
      "{'_id': ObjectId('661525a2ae9afb9f5986ba13'), '#': 99, 'NAME': 'Mikecrack @UCqJ5zFEED1hWs0KNQCQuYdQ', 'FOLLOWERS': '32.2M', 'ER': '0.6%', 'COUNTRY': 'Spain', 'TOPIC OF INFLUENCE': '', 'POTENTIAL REACH': '9.7M'}\n",
      "{'_id': ObjectId('661525a2ae9afb9f5986ba14'), '#': 100, 'NAME': 'Saregama Music @UC_A7K2dXFsTMAciGmnNxy-Q', 'FOLLOWERS': '32.1M', 'ER': '-', 'COUNTRY': 'India', 'TOPIC OF INFLUENCE': '', 'POTENTIAL REACH': '9.6M'}\n"
     ]
    }
   ],
   "source": [
    "# Perform operations on the collections\n",
    "for document in youtube_collection.find():\n",
    "    print(document)"
   ]
  },
  {
   "cell_type": "code",
   "execution_count": 38,
   "id": "947302f8",
   "metadata": {},
   "outputs": [
    {
     "name": "stdout",
     "output_type": "stream",
     "text": [
      "{'_id': ObjectId('6615259adab61842f87f84a9'), '#': 1, 'NAME': 'Khabane lame @khaby.lame', 'FOLLOWERS': '161.9M', 'ER': '0.2%', 'COUNTRY': 'Italy', 'TOPIC OF INFLUENCE': 'Funny Entertainment and Music', 'POTENTIAL REACH': '48.6M'}\n",
      "{'_id': ObjectId('6615259adab61842f87f84aa'), '#': 5, 'NAME': 'Zach King @zachking', 'FOLLOWERS': '78.1M', 'ER': '2.9%', 'COUNTRY': 'United States', 'TOPIC OF INFLUENCE': 'Entertainment and Music', 'POTENTIAL REACH': '23.4M'}\n",
      "{'_id': ObjectId('6615259adab61842f87f84ab'), '#': 6, 'NAME': 'Kimberly Loaiza @kimberly.loaiza', 'FOLLOWERS': '76.1M', 'ER': '1.6%', 'COUNTRY': 'Mexico', 'TOPIC OF INFLUENCE': '', 'POTENTIAL REACH': '22.8M'}\n",
      "{'_id': ObjectId('6615259adab61842f87f84ac'), '#': 7, 'NAME': 'The Rock @therock', 'FOLLOWERS': '74.2M', 'ER': '0.9%', 'COUNTRY': 'United States', 'TOPIC OF INFLUENCE': 'Entertainment and Music Fitness and Health Business and Finance', 'POTENTIAL REACH': '22.3M'}\n",
      "{'_id': ObjectId('6615259adab61842f87f84ad'), '#': 8, 'NAME': 'Will Smith @willsmith', 'FOLLOWERS': '74.1M', 'ER': '0.7%', 'COUNTRY': 'United States', 'TOPIC OF INFLUENCE': '', 'POTENTIAL REACH': '22.2M'}\n",
      "{'_id': ObjectId('6615259adab61842f87f84ae'), '#': 9, 'NAME': 'cznburak @cznburak', 'FOLLOWERS': '72M', 'ER': '0.2%', 'COUNTRY': '', 'TOPIC OF INFLUENCE': '', 'POTENTIAL REACH': '21.6M'}\n",
      "{'_id': ObjectId('6615259adab61842f87f84af'), '#': 2, 'NAME': 'Bella Poarch @bellapoarch', 'FOLLOWERS': '92.6M', 'ER': '0.8%', 'COUNTRY': 'United States', 'TOPIC OF INFLUENCE': '', 'POTENTIAL REACH': '27.8M'}\n",
      "{'_id': ObjectId('6615259adab61842f87f84b0'), '#': 11, 'NAME': 'Kylie Jenner @kyliejenner', 'FOLLOWERS': '56M', 'ER': '3.2%', 'COUNTRY': 'United States', 'TOPIC OF INFLUENCE': 'Beauty and Self Care Fashion and Accessories', 'POTENTIAL REACH': '16.8M'}\n",
      "{'_id': ObjectId('6615259adab61842f87f84b1'), '#': 13, 'NAME': 'Michael Le @justmaiko', 'FOLLOWERS': '51.4M', 'ER': '-', 'COUNTRY': 'Vietnam', 'TOPIC OF INFLUENCE': '', 'POTENTIAL REACH': '15.4M'}\n",
      "{'_id': ObjectId('6615259adab61842f87f84b2'), '#': 12, 'NAME': 'Karol G @karolg', 'FOLLOWERS': '51.9M', 'ER': '3.8%', 'COUNTRY': 'Colombia', 'TOPIC OF INFLUENCE': 'Entertainment and Music', 'POTENTIAL REACH': '15.6M'}\n",
      "{'_id': ObjectId('6615259adab61842f87f84b3'), '#': 14, 'NAME': 'BTS @bts_official_bighit', 'FOLLOWERS': '51M', 'ER': '1%', 'COUNTRY': '', 'TOPIC OF INFLUENCE': 'Entertainment and Music', 'POTENTIAL REACH': '15.3M'}\n",
      "{'_id': ObjectId('6615259adab61842f87f84b4'), '#': 15, 'NAME': 'BILLIE EILISH @billieeilish', 'FOLLOWERS': '51M', 'ER': '-', 'COUNTRY': '', 'TOPIC OF INFLUENCE': '', 'POTENTIAL REACH': '15.3M'}\n",
      "{'_id': ObjectId('6615259adab61842f87f84b5'), '#': 4, 'NAME': 'MrBeast @mrbeast', 'FOLLOWERS': '85.4M', 'ER': '4%', 'COUNTRY': '', 'TOPIC OF INFLUENCE': 'Entertainment and Music', 'POTENTIAL REACH': '25.6M'}\n",
      "{'_id': ObjectId('6615259adab61842f87f84b6'), '#': 16, 'NAME': 'JoJo Siwa @itsjojosiwa', 'FOLLOWERS': '45.6M', 'ER': '0.3%', 'COUNTRY': 'United States', 'TOPIC OF INFLUENCE': 'Entertainment and Music', 'POTENTIAL REACH': '13.7M'}\n",
      "{'_id': ObjectId('6615259adab61842f87f84b7'), '#': 3, 'NAME': 'Addison\\u2002Rae @addisonre', 'FOLLOWERS': '88.5M', 'ER': '1%', 'COUNTRY': 'United States', 'TOPIC OF INFLUENCE': 'Beauty and Self Care', 'POTENTIAL REACH': '26.6M'}\n",
      "{'_id': ObjectId('6615259adab61842f87f84b8'), '#': 10, 'NAME': 'Jason Derulo @jasonderulo', 'FOLLOWERS': '58.9M', 'ER': '0.4%', 'COUNTRY': 'United States', 'TOPIC OF INFLUENCE': 'Entertainment and Music', 'POTENTIAL REACH': '17.7M'}\n",
      "{'_id': ObjectId('6615259adab61842f87f84b9'), '#': 17, 'NAME': 'ESPN @espn', 'FOLLOWERS': '44M', 'ER': '-', 'COUNTRY': '', 'TOPIC OF INFLUENCE': 'Entertainment and Music', 'POTENTIAL REACH': '13.2M'}\n",
      "{'_id': ObjectId('6615259adab61842f87f84ba'), '#': 18, 'NAME': 'Junya/じゅんや @junya1gou', 'FOLLOWERS': '42.8M', 'ER': '-', 'COUNTRY': '', 'TOPIC OF INFLUENCE': '', 'POTENTIAL REACH': '12.8M'}\n",
      "{'_id': ObjectId('6615259adab61842f87f84bb'), '#': 20, 'NAME': 'XO Team @xoteam', 'FOLLOWERS': '41.4M', 'ER': '-', 'COUNTRY': '', 'TOPIC OF INFLUENCE': 'Entertainment and Music', 'POTENTIAL REACH': '12.4M'}\n",
      "{'_id': ObjectId('6615259adab61842f87f84bc'), '#': 19, 'NAME': 'ХОМЯК @homm9k', 'FOLLOWERS': '42.1M', 'ER': '-', 'COUNTRY': '', 'TOPIC OF INFLUENCE': 'Fashion and Accessories', 'POTENTIAL REACH': '12.6M'}\n",
      "{'_id': ObjectId('6615259adab61842f87f84bd'), '#': 21, 'NAME': 'ROD\\U0001fae0 @elrodcontreras', 'FOLLOWERS': '41.1M', 'ER': '-', 'COUNTRY': '', 'TOPIC OF INFLUENCE': 'Entertainment and Music', 'POTENTIAL REACH': '12.3M'}\n",
      "{'_id': ObjectId('6615259adab61842f87f84be'), '#': 22, 'NAME': 'Joe @joealbanese', 'FOLLOWERS': '40.8M', 'ER': '-', 'COUNTRY': '', 'TOPIC OF INFLUENCE': 'family Entertainment and Music', 'POTENTIAL REACH': '12.2M'}\n",
      "{'_id': ObjectId('6615259adab61842f87f84bf'), '#': 24, 'NAME': 'Carlos Feria @carlosferiag', 'FOLLOWERS': '39.2M', 'ER': '-', 'COUNTRY': '', 'TOPIC OF INFLUENCE': '', 'POTENTIAL REACH': '11.8M'}\n",
      "{'_id': ObjectId('6615259adab61842f87f84c0'), '#': 25, 'NAME': 'ondy mikula @ondymikula', 'FOLLOWERS': '38.8M', 'ER': '-', 'COUNTRY': '', 'TOPIC OF INFLUENCE': '', 'POTENTIAL REACH': '11.6M'}\n",
      "{'_id': ObjectId('6615259adab61842f87f84c1'), '#': 23, 'NAME': 'Gordon Ramsay @gordonramsayofficial', 'FOLLOWERS': '40M', 'ER': '1.1%', 'COUNTRY': 'United Kingdom', 'TOPIC OF INFLUENCE': 'Food', 'POTENTIAL REACH': '12M'}\n",
      "{'_id': ObjectId('6615259adab61842f87f84c2'), '#': 26, 'NAME': 'Scott 🔥 @scottsreality', 'FOLLOWERS': '38.4M', 'ER': '0.2%', 'COUNTRY': '', 'TOPIC OF INFLUENCE': 'Entertainment and Music', 'POTENTIAL REACH': '11.5M'}\n",
      "{'_id': ObjectId('6615259adab61842f87f84c3'), '#': 29, 'NAME': 'James Charles @jamescharles', 'FOLLOWERS': '36.2M', 'ER': '-', 'COUNTRY': 'United States', 'TOPIC OF INFLUENCE': 'Beauty and Self Care Arts and Crafts', 'POTENTIAL REACH': '10.9M'}\n",
      "{'_id': ObjectId('6615259adab61842f87f84c4'), '#': 27, 'NAME': 'Shakira @shakira', 'FOLLOWERS': '38.2M', 'ER': '2%', 'COUNTRY': '', 'TOPIC OF INFLUENCE': '', 'POTENTIAL REACH': '11.5M'}\n",
      "{'_id': ObjectId('6615259adab61842f87f84c5'), '#': 28, 'NAME': 'Barstool Sports @barstoolsports', 'FOLLOWERS': '36.9M', 'ER': '0.1%', 'COUNTRY': 'United States', 'TOPIC OF INFLUENCE': 'Entertainment and Music Sports', 'POTENTIAL REACH': '11.1M'}\n",
      "{'_id': ObjectId('6615259adab61842f87f84c6'), '#': 30, 'NAME': 'kyle thomas 🌿 @kylethomas', 'FOLLOWERS': '35.4M', 'ER': '0.1%', 'COUNTRY': '', 'TOPIC OF INFLUENCE': '', 'POTENTIAL REACH': '10.6M'}\n",
      "{'_id': ObjectId('6615259adab61842f87f84c7'), '#': 31, 'NAME': 'Q Park @qpark', 'FOLLOWERS': '35.2M', 'ER': '-', 'COUNTRY': '', 'TOPIC OF INFLUENCE': '', 'POTENTIAL REACH': '10.6M'}\n",
      "{'_id': ObjectId('6615259adab61842f87f84c8'), '#': 32, 'NAME': 'GIL CROES @gilmhercroes', 'FOLLOWERS': '35.1M', 'ER': '-', 'COUNTRY': '', 'TOPIC OF INFLUENCE': 'Entertainment and Music', 'POTENTIAL REACH': '10.5M'}\n",
      "{'_id': ObjectId('6615259adab61842f87f84c9'), '#': 33, 'NAME': 'Kevin Hart @imkevinhart', 'FOLLOWERS': '34.8M', 'ER': '1.7%', 'COUNTRY': 'United States', 'TOPIC OF INFLUENCE': 'Entertainment and Music', 'POTENTIAL REACH': '10.4M'}\n",
      "{'_id': ObjectId('6615259adab61842f87f84ca'), '#': 34, 'NAME': 'Kirya Kolesnikov @thekiryalife', 'FOLLOWERS': '34.7M', 'ER': '-', 'COUNTRY': '', 'TOPIC OF INFLUENCE': 'Entertainment and Music Funny', 'POTENTIAL REACH': '10.4M'}\n",
      "{'_id': ObjectId('6615259adab61842f87f84cb'), '#': 35, 'NAME': 'arianagrande @arianagrande', 'FOLLOWERS': '34.4M', 'ER': '-', 'COUNTRY': '', 'TOPIC OF INFLUENCE': 'Entertainment and Music', 'POTENTIAL REACH': '10.3M'}\n",
      "{'_id': ObjectId('6615259adab61842f87f84cc'), '#': 36, 'NAME': 'Pongámoslo a Prueba @pongamoslo_a_prueba', 'FOLLOWERS': '34.2M', 'ER': '-', 'COUNTRY': '', 'TOPIC OF INFLUENCE': '', 'POTENTIAL REACH': '10.3M'}\n",
      "{'_id': ObjectId('6615259adab61842f87f84cd'), '#': 37, 'NAME': 'ThatLittlePuff @thatlittlepuff', 'FOLLOWERS': '33.5M', 'ER': '0.6%', 'COUNTRY': '', 'TOPIC OF INFLUENCE': 'Pets', 'POTENTIAL REACH': '10.1M'}\n",
      "{'_id': ObjectId('6615259adab61842f87f84ce'), '#': 38, 'NAME': 'Montpantoja @montpantoja', 'FOLLOWERS': '33.3M', 'ER': '-', 'COUNTRY': '', 'TOPIC OF INFLUENCE': '', 'POTENTIAL REACH': '10M'}\n",
      "{'_id': ObjectId('6615259adab61842f87f84cf'), '#': 39, 'NAME': 'Devon Rodriguez @devonrodriguezart', 'FOLLOWERS': '32.1M', 'ER': '0.2%', 'COUNTRY': 'United States', 'TOPIC OF INFLUENCE': 'Arts and Crafts Education Upskilling', 'POTENTIAL REACH': '9.6M'}\n",
      "{'_id': ObjectId('6615259adab61842f87f84d0'), '#': 40, 'NAME': 'Bad Bunny @badbunny', 'FOLLOWERS': '31.8M', 'ER': '18.4%', 'COUNTRY': 'Puerto Rico', 'TOPIC OF INFLUENCE': '', 'POTENTIAL REACH': '9.5M'}\n",
      "{'_id': ObjectId('6615259adab61842f87f84d1'), '#': 42, 'NAME': 'Indi skovar @indiskovar3.0', 'FOLLOWERS': '31.6M', 'ER': '0.4%', 'COUNTRY': '', 'TOPIC OF INFLUENCE': 'Entertainment and Music', 'POTENTIAL REACH': '9.5M'}\n",
      "{'_id': ObjectId('6615259adab61842f87f84d2'), '#': 41, 'NAME': 'Brooke Monk @brookemonk_', 'FOLLOWERS': '31.7M', 'ER': '2.1%', 'COUNTRY': 'United States', 'TOPIC OF INFLUENCE': 'Entertainment and Music Funny', 'POTENTIAL REACH': '9.5M'}\n",
      "{'_id': ObjectId('6615259adab61842f87f84d3'), '#': 43, 'NAME': 'Lele Pons @lelepons', 'FOLLOWERS': '31.5M', 'ER': '0.9%', 'COUNTRY': 'United States', 'TOPIC OF INFLUENCE': '', 'POTENTIAL REACH': '9.5M'}\n",
      "{'_id': ObjectId('6615259adab61842f87f84d4'), '#': 44, 'NAME': 'Stokes Twins @stokestwins', 'FOLLOWERS': '31.2M', 'ER': '-', 'COUNTRY': 'United States', 'TOPIC OF INFLUENCE': 'Entertainment and Music', 'POTENTIAL REACH': '9.4M'}\n",
      "{'_id': ObjectId('6615259adab61842f87f84d5'), '#': 45, 'NAME': 'Kira Kosarin @kirakosarin', 'FOLLOWERS': '31.1M', 'ER': '0.7%', 'COUNTRY': '', 'TOPIC OF INFLUENCE': 'Entertainment and Music', 'POTENTIAL REACH': '9.3M'}\n",
      "{'_id': ObjectId('6615259adab61842f87f84d6'), '#': 51, 'NAME': 'Topper Guild @topperguild', 'FOLLOWERS': '29M', 'ER': '-', 'COUNTRY': 'United States', 'TOPIC OF INFLUENCE': 'Entertainment and Music Celebrity', 'POTENTIAL REACH': '8.7M'}\n",
      "{'_id': ObjectId('6615259adab61842f87f84d7'), '#': 58, 'NAME': 'psg @psg', 'FOLLOWERS': '26.7M', 'ER': '-', 'COUNTRY': '', 'TOPIC OF INFLUENCE': 'Sports', 'POTENTIAL REACH': '8M'}\n",
      "{'_id': ObjectId('6615259adab61842f87f84d8'), '#': 59, 'NAME': 'JeisonGiraldo @jeison_giraldo', 'FOLLOWERS': '26.3M', 'ER': '-', 'COUNTRY': '', 'TOPIC OF INFLUENCE': 'family Romance and Wedding', 'POTENTIAL REACH': '7.9M'}\n",
      "{'_id': ObjectId('6615259adab61842f87f84d9'), '#': 60, 'NAME': 'JeanCarlo Leon @jashlem', 'FOLLOWERS': '26.3M', 'ER': '-', 'COUNTRY': '', 'TOPIC OF INFLUENCE': '', 'POTENTIAL REACH': '7.9M'}\n",
      "{'_id': ObjectId('6615259adab61842f87f84da'), '#': 61, 'NAME': 'Jimena @jimena.jimenezr', 'FOLLOWERS': '26.1M', 'ER': '1.2%', 'COUNTRY': '', 'TOPIC OF INFLUENCE': 'Funny', 'POTENTIAL REACH': '7.8M'}\n",
      "{'_id': ObjectId('6615259adab61842f87f84db'), '#': 62, 'NAME': 'Doja Cat @dojacat', 'FOLLOWERS': '26M', 'ER': '0.1%', 'COUNTRY': 'United States', 'TOPIC OF INFLUENCE': 'Entertainment and Music', 'POTENTIAL REACH': '7.8M'}\n",
      "{'_id': ObjectId('6615259adab61842f87f84dc'), '#': 63, 'NAME': 'Bader Al Safar @baderalsafar', 'FOLLOWERS': '26M', 'ER': '-', 'COUNTRY': 'Kuwait', 'TOPIC OF INFLUENCE': 'Fashion and Accessories', 'POTENTIAL REACH': '7.8M'}\n",
      "{'_id': ObjectId('6615259adab61842f87f84dd'), '#': 64, 'NAME': 'DAVID DOBRIK @daviddobrik', 'FOLLOWERS': '26M', 'ER': '-', 'COUNTRY': 'United States', 'TOPIC OF INFLUENCE': 'Entertainment and Music Funny', 'POTENTIAL REACH': '7.8M'}\n",
      "{'_id': ObjectId('6615259adab61842f87f84de'), '#': 65, 'NAME': 'LARRAY @larrayeeee', 'FOLLOWERS': '25.9M', 'ER': '-', 'COUNTRY': '', 'TOPIC OF INFLUENCE': 'Entertainment and Music', 'POTENTIAL REACH': '7.8M'}\n",
      "{'_id': ObjectId('6615259adab61842f87f84df'), '#': 46, 'NAME': 'La Rosalia @rosalia', 'FOLLOWERS': '30.9M', 'ER': '-', 'COUNTRY': 'Spain', 'TOPIC OF INFLUENCE': '', 'POTENTIAL REACH': '9.3M'}\n",
      "{'_id': ObjectId('6615259adab61842f87f84e0'), '#': 66, 'NAME': 'Era Ays @era_ays', 'FOLLOWERS': '25.9M', 'ER': '-', 'COUNTRY': '', 'TOPIC OF INFLUENCE': '', 'POTENTIAL REACH': '7.8M'}\n",
      "{'_id': ObjectId('6615259adab61842f87f84e1'), '#': 68, 'NAME': 'BORREGO @lagranjadelborrego', 'FOLLOWERS': '25.7M', 'ER': '4.6%', 'COUNTRY': '', 'TOPIC OF INFLUENCE': '', 'POTENTIAL REACH': '7.7M'}\n",
      "{'_id': ObjectId('6615259adab61842f87f84e2'), '#': 67, 'NAME': 'Karla Bustillos ❤️ @karla.bustillos', 'FOLLOWERS': '25.7M', 'ER': '0.1%', 'COUNTRY': '', 'TOPIC OF INFLUENCE': '', 'POTENTIAL REACH': '7.7M'}\n",
      "{'_id': ObjectId('6615259adab61842f87f84e3'), '#': 69, 'NAME': 'Arnaldo Mangini @arnaldomangini', 'FOLLOWERS': '25.4M', 'ER': '-', 'COUNTRY': '', 'TOPIC OF INFLUENCE': 'Beauty and Self Care Funny', 'POTENTIAL REACH': '7.6M'}\n",
      "{'_id': ObjectId('6615259adab61842f87f84e4'), '#': 71, 'NAME': 'Malu Trevejo @malutrevejo', 'FOLLOWERS': '25.2M', 'ER': '-', 'COUNTRY': '', 'TOPIC OF INFLUENCE': '', 'POTENTIAL REACH': '7.6M'}\n",
      "{'_id': ObjectId('6615259adab61842f87f84e5'), '#': 72, 'NAME': 'AriGameplays @arigameplays', 'FOLLOWERS': '25.1M', 'ER': '1%', 'COUNTRY': '', 'TOPIC OF INFLUENCE': 'Games', 'POTENTIAL REACH': '7.5M'}\n",
      "{'_id': ObjectId('6615259adab61842f87f84e6'), '#': 52, 'NAME': 'Ignacia Antonia👑 @ignaciaa_antonia', 'FOLLOWERS': '28.2M', 'ER': '-', 'COUNTRY': 'Chile', 'TOPIC OF INFLUENCE': 'Beauty and Self Care', 'POTENTIAL REACH': '8.5M'}\n",
      "{'_id': ObjectId('6615259adab61842f87f84e7'), '#': 73, 'NAME': 'Dina @dina', 'FOLLOWERS': '24.9M', 'ER': '0.6%', 'COUNTRY': '', 'TOPIC OF INFLUENCE': '', 'POTENTIAL REACH': '7.5M'}\n",
      "{'_id': ObjectId('6615259adab61842f87f84e8'), '#': 74, 'NAME': 'DonaldDucc 🦆 @donaldducc', 'FOLLOWERS': '24.7M', 'ER': '-', 'COUNTRY': '', 'TOPIC OF INFLUENCE': 'Animals', 'POTENTIAL REACH': '7.4M'}\n",
      "{'_id': ObjectId('6615259adab61842f87f84e9'), '#': 75, 'NAME': 'adrilatinatv @adrilatinatv', 'FOLLOWERS': '24.5M', 'ER': '-', 'COUNTRY': '', 'TOPIC OF INFLUENCE': '', 'POTENTIAL REACH': '7.4M'}\n",
      "{'_id': ObjectId('6615259adab61842f87f84ea'), '#': 76, 'NAME': 'Victor Melo @victormelo', 'FOLLOWERS': '24.5M', 'ER': '-', 'COUNTRY': '', 'TOPIC OF INFLUENCE': '', 'POTENTIAL REACH': '7.4M'}\n",
      "{'_id': ObjectId('6615259adab61842f87f84eb'), '#': 70, 'NAME': 'Jaykindafunny @jaykindafunny8', 'FOLLOWERS': '25.4M', 'ER': '-', 'COUNTRY': '', 'TOPIC OF INFLUENCE': 'Funny', 'POTENTIAL REACH': '7.6M'}\n",
      "{'_id': ObjectId('6615259adab61842f87f84ec'), '#': 47, 'NAME': 'Alejandro Nieto @soybans', 'FOLLOWERS': '30.4M', 'ER': '-', 'COUNTRY': 'Colombia', 'TOPIC OF INFLUENCE': '', 'POTENTIAL REACH': '9.1M'}\n",
      "{'_id': ObjectId('6615259adab61842f87f84ed'), '#': 50, 'NAME': 'beca @beca', 'FOLLOWERS': '29.2M', 'ER': '1%', 'COUNTRY': 'Brazil', 'TOPIC OF INFLUENCE': 'Travel', 'POTENTIAL REACH': '8.8M'}\n",
      "{'_id': ObjectId('6615259adab61842f87f84ee'), '#': 56, 'NAME': 'Lexi Rivera @lexibrookerivera', 'FOLLOWERS': '27.1M', 'ER': '4.5%', 'COUNTRY': '', 'TOPIC OF INFLUENCE': '', 'POTENTIAL REACH': '8.1M'}\n",
      "{'_id': ObjectId('6615259adab61842f87f84ef'), '#': 55, 'NAME': '시아지우 sia_jiwoo @sia_jiwoo', 'FOLLOWERS': '27.5M', 'ER': '0.2%', 'COUNTRY': 'South Korea', 'TOPIC OF INFLUENCE': '', 'POTENTIAL REACH': '8.3M'}\n",
      "{'_id': ObjectId('6615259adab61842f87f84f0'), '#': 57, 'NAME': 'KEEMOKAZI @keemokazi', 'FOLLOWERS': '27M', 'ER': '-', 'COUNTRY': '', 'TOPIC OF INFLUENCE': 'Entertainment and Music', 'POTENTIAL REACH': '8.1M'}\n",
      "{'_id': ObjectId('6615259adab61842f87f84f1'), '#': 48, 'NAME': 'Michel Chavez @its.michhh', 'FOLLOWERS': '30.2M', 'ER': '-', 'COUNTRY': 'Mexico', 'TOPIC OF INFLUENCE': '', 'POTENTIAL REACH': '9.1M'}\n",
      "{'_id': ObjectId('6615259adab61842f87f84f2'), '#': 53, 'NAME': 'Camilo @camilo', 'FOLLOWERS': '28M', 'ER': '-', 'COUNTRY': '', 'TOPIC OF INFLUENCE': 'Entertainment and Music', 'POTENTIAL REACH': '8.4M'}\n",
      "{'_id': ObjectId('6615259adab61842f87f84f3'), '#': 77, 'NAME': 'Chingu Amiga @chinguamiga', 'FOLLOWERS': '24.1M', 'ER': '-', 'COUNTRY': '', 'TOPIC OF INFLUENCE': 'Food Beauty and Self Care', 'POTENTIAL REACH': '7.2M'}\n",
      "{'_id': ObjectId('6615259adab61842f87f84f4'), '#': 79, 'NAME': 'Terry Crews @terrycrews', 'FOLLOWERS': '23.9M', 'ER': '0.4%', 'COUNTRY': 'United States', 'TOPIC OF INFLUENCE': 'Entertainment and Music Celebrity', 'POTENTIAL REACH': '7.2M'}\n",
      "{'_id': ObjectId('6615259adab61842f87f84f5'), '#': 78, 'NAME': 'The Mannii Show @the_mannii', 'FOLLOWERS': '24M', 'ER': '0.8%', 'COUNTRY': '', 'TOPIC OF INFLUENCE': 'Entertainment and Music Funny', 'POTENTIAL REACH': '7.2M'}\n",
      "{'_id': ObjectId('6615259adab61842f87f84f6'), '#': 82, 'NAME': 'Nicolle Figueroa @nicollefigueroaa', 'FOLLOWERS': '23.4M', 'ER': '5.1%', 'COUNTRY': '', 'TOPIC OF INFLUENCE': '', 'POTENTIAL REACH': '7M'}\n",
      "{'_id': ObjectId('6615259adab61842f87f84f7'), '#': 80, 'NAME': 'Jacob Sartorius @jacobsartorius', 'FOLLOWERS': '23.7M', 'ER': '-', 'COUNTRY': 'United States', 'TOPIC OF INFLUENCE': 'Entertainment and Music', 'POTENTIAL REACH': '7.1M'}\n",
      "{'_id': ObjectId('6615259adab61842f87f84f8'), '#': 81, 'NAME': 'Luara @luara', 'FOLLOWERS': '23.6M', 'ER': '0.6%', 'COUNTRY': '', 'TOPIC OF INFLUENCE': '', 'POTENTIAL REACH': '7.1M'}\n",
      "{'_id': ObjectId('6615259adab61842f87f84f9'), '#': 86, 'NAME': 'Cardi B @iamcardib', 'FOLLOWERS': '22.4M', 'ER': '8%', 'COUNTRY': '', 'TOPIC OF INFLUENCE': '', 'POTENTIAL REACH': '6.7M'}\n",
      "{'_id': ObjectId('6615259adab61842f87f84fa'), '#': 83, 'NAME': 'Ryan Reynolds @vancityreynolds', 'FOLLOWERS': '22.9M', 'ER': '8.5%', 'COUNTRY': 'Canada', 'TOPIC OF INFLUENCE': '', 'POTENTIAL REACH': '6.9M'}\n",
      "{'_id': ObjectId('6615259adab61842f87f84fb'), '#': 84, 'NAME': 'Lauren Godwin @laurengodwin', 'FOLLOWERS': '22.6M', 'ER': '0.3%', 'COUNTRY': 'United States', 'TOPIC OF INFLUENCE': 'Entertainment and Music family', 'POTENTIAL REACH': '6.8M'}\n",
      "{'_id': ObjectId('6615259adab61842f87f84fc'), '#': 85, 'NAME': 'mingweirocks @mingweirocks', 'FOLLOWERS': '22.5M', 'ER': '-', 'COUNTRY': '', 'TOPIC OF INFLUENCE': '', 'POTENTIAL REACH': '6.8M'}\n",
      "{'_id': ObjectId('6615259adab61842f87f84fd'), '#': 89, 'NAME': 'Lance Stewart @lance210', 'FOLLOWERS': '22.1M', 'ER': '-', 'COUNTRY': 'United States', 'TOPIC OF INFLUENCE': 'Entertainment and Music', 'POTENTIAL REACH': '6.6M'}\n",
      "{'_id': ObjectId('6615259adab61842f87f84fe'), '#': 88, 'NAME': 'Mackenzie Ziegler @mackenzieziegler', 'FOLLOWERS': '22.1M', 'ER': '-', 'COUNTRY': '', 'TOPIC OF INFLUENCE': '', 'POTENTIAL REACH': '6.6M'}\n",
      "{'_id': ObjectId('6615259adab61842f87f84ff'), '#': 87, 'NAME': 'Latiktokeuse869 @latiktokeuse869', 'FOLLOWERS': '22.2M', 'ER': '-', 'COUNTRY': '', 'TOPIC OF INFLUENCE': 'Funny Entertainment and Music', 'POTENTIAL REACH': '6.7M'}\n",
      "{'_id': ObjectId('6615259adab61842f87f8500'), '#': 90, 'NAME': 'Anitta @anitta', 'FOLLOWERS': '22.1M', 'ER': '0.8%', 'COUNTRY': '', 'TOPIC OF INFLUENCE': '', 'POTENTIAL REACH': '6.6M'}\n",
      "{'_id': ObjectId('6615259adab61842f87f8501'), '#': 91, 'NAME': 'Marrkadams @marrkadams', 'FOLLOWERS': '22.1M', 'ER': '-', 'COUNTRY': '', 'TOPIC OF INFLUENCE': '', 'POTENTIAL REACH': '6.6M'}\n",
      "{'_id': ObjectId('6615259adab61842f87f8502'), '#': 92, 'NAME': 'ROMINA @rominagafur', 'FOLLOWERS': '22M', 'ER': '0.2%', 'COUNTRY': 'United States', 'TOPIC OF INFLUENCE': 'Entertainment and Music', 'POTENTIAL REACH': '6.6M'}\n",
      "{'_id': ObjectId('6615259adab61842f87f8503'), '#': 93, 'NAME': '창하CHANGHA @chang._.a', 'FOLLOWERS': '22M', 'ER': '-', 'COUNTRY': '', 'TOPIC OF INFLUENCE': '', 'POTENTIAL REACH': '6.6M'}\n",
      "{'_id': ObjectId('6615259adab61842f87f8504'), '#': 96, 'NAME': 'Bryce Hall @brycehall', 'FOLLOWERS': '21.5M', 'ER': '-', 'COUNTRY': 'United States', 'TOPIC OF INFLUENCE': 'Entertainment and Music', 'POTENTIAL REACH': '6.5M'}\n",
      "{'_id': ObjectId('6615259adab61842f87f8505'), '#': 94, 'NAME': 'josi @jmartineze_', 'FOLLOWERS': '21.9M', 'ER': '-', 'COUNTRY': '', 'TOPIC OF INFLUENCE': 'Funny', 'POTENTIAL REACH': '6.6M'}\n",
      "{'_id': ObjectId('6615259adab61842f87f8506'), '#': 97, 'NAME': '온오빠 On Oppa @korea.on', 'FOLLOWERS': '21.5M', 'ER': '-', 'COUNTRY': '', 'TOPIC OF INFLUENCE': 'Entertainment and Music', 'POTENTIAL REACH': '6.5M'}\n",
      "{'_id': ObjectId('6615259adab61842f87f8507'), '#': 95, 'NAME': 'Caín Guzmán @cainguzman', 'FOLLOWERS': '21.9M', 'ER': '-', 'COUNTRY': '', 'TOPIC OF INFLUENCE': 'Entertainment and Music', 'POTENTIAL REACH': '6.6M'}\n",
      "{'_id': ObjectId('6615259adab61842f87f8508'), '#': 98, 'NAME': 'Seany @seandoesmagic', 'FOLLOWERS': '21.3M', 'ER': '-', 'COUNTRY': '', 'TOPIC OF INFLUENCE': '', 'POTENTIAL REACH': '6.4M'}\n",
      "{'_id': ObjectId('6615259adab61842f87f8509'), '#': 99, 'NAME': 'Pk @pkllipe', 'FOLLOWERS': '21.3M', 'ER': '2.6%', 'COUNTRY': '', 'TOPIC OF INFLUENCE': '', 'POTENTIAL REACH': '6.4M'}\n",
      "{'_id': ObjectId('6615259adab61842f87f850a'), '#': 100, 'NAME': 'The Hype House @thehypehouse', 'FOLLOWERS': '21.1M', 'ER': '-', 'COUNTRY': '', 'TOPIC OF INFLUENCE': 'Entertainment and Music', 'POTENTIAL REACH': '6.3M'}\n",
      "{'_id': ObjectId('6615259adab61842f87f850b'), '#': 49, 'NAME': 'Liza Koshy @lizzza', 'FOLLOWERS': '30.2M', 'ER': '-', 'COUNTRY': 'United States', 'TOPIC OF INFLUENCE': '', 'POTENTIAL REACH': '9.1M'}\n",
      "{'_id': ObjectId('6615259adab61842f87f850c'), '#': 54, 'NAME': 'Daniel Ibarra @juandaniel.ibarra', 'FOLLOWERS': '27.6M', 'ER': '-', 'COUNTRY': '', 'TOPIC OF INFLUENCE': 'Entertainment and Music', 'POTENTIAL REACH': '8.3M'}\n"
     ]
    }
   ],
   "source": [
    "# Perform operations on the collections\n",
    "for document in tiktok_collection.find():\n",
    "    print(document)"
   ]
  },
  {
   "cell_type": "code",
   "execution_count": 39,
   "id": "2808bdf1",
   "metadata": {},
   "outputs": [],
   "source": [
    "# Get the follower count for each social media platform\n",
    "def get_followers_total(collection):\n",
    "    total_followers = 0\n",
    "    for document in collection.find():\n",
    "        followers_str = document['FOLLOWERS']\n",
    "        if 'M' in followers_str:\n",
    "            followers_number = float(followers_str.replace('M', ''))\n",
    "            followers_number *= 1e6  \n",
    "        elif 'K' in followers_str:\n",
    "            followers_number = float(followers_str.replace('K', ''))\n",
    "            followers_number *= 1e3  \n",
    "        else:\n",
    "            followers_number = float(followers_str)\n",
    "        total_followers += followers_number\n",
    "    return total_followers"
   ]
  },
  {
   "cell_type": "code",
   "execution_count": 40,
   "id": "97fb1cae",
   "metadata": {},
   "outputs": [],
   "source": [
    "# Get the total followers for each social media platform.\n",
    "instagram_followers = get_followers_total(instagram_collection)\n",
    "threads_followers = get_followers_total(threads_collection)\n",
    "youtube_followers = get_followers_total(youtube_collection)\n",
    "tiktok_followers = get_followers_total(tiktok_collection)"
   ]
  },
  {
   "cell_type": "code",
   "execution_count": 41,
   "id": "7581bb8a",
   "metadata": {},
   "outputs": [],
   "source": [
    "# Sort the dictionary by values in descending order.\n",
    "\n",
    "total_followers = {\n",
    "    'Instagram': instagram_followers,\n",
    "    'Threads': threads_followers,\n",
    "    'YouTube': youtube_followers,\n",
    "    'TikTok': tiktok_followers\n",
    "}\n",
    "total_followers_sorted = dict(sorted(total_followers.items(), key=lambda item: item[1], reverse=True))"
   ]
  },
  {
   "cell_type": "code",
   "execution_count": 42,
   "id": "95a4f1b2",
   "metadata": {},
   "outputs": [
    {
     "data": {
      "image/png": "[encoded data removed]",
      "text/plain": [
       "<Figure size 640x480 with 1 Axes>"
      ]
     },
     "metadata": {},
     "output_type": "display_data"
    }
   ],
   "source": [
    "# Create the bar plot\n",
    "bars = plt.bar(total_followers_sorted.keys(), total_followers_sorted.values(), color='skyblue')\n",
    "# Add labels and title\n",
    "plt.xlabel('Social Media Platform')\n",
    "plt.ylabel('Number of Followers')\n",
    "plt.title('Number of Followers per Social Media Platform')\n",
    "plt.gca().yaxis.set_major_formatter(ticker.FuncFormatter(lambda x, _: '{:.0f}M'.format(x * 1e-6) if x >= 1e6 else '{:.0f}K'.format(x * 1e-3)))\n",
    "for bar in bars:\n",
    "    yval = bar.get_height()\n",
    "    plt.text(bar.get_x() + bar.get_width() / 2, yval, '{:.1f}M'.format(yval * 1e-6), va='bottom', ha='center')\n",
    "# Show the plot\n",
    "plt.show()"
   ]
  },
  {
   "cell_type": "code",
   "execution_count": 43,
   "id": "69f15565",
   "metadata": {},
   "outputs": [],
   "source": [
    "# Close the database connection\n",
    "client.close()"
   ]
  }
 ],
 "metadata": {
  "kernelspec": {
   "display_name": "Python 3 (ipykernel)",
   "language": "python",
   "name": "python3"
  },
  "language_info": {
   "codemirror_mode": {
    "name": "ipython",
    "version": 3
   },
   "file_extension": ".py",
   "mimetype": "text/x-python",
   "name": "python",
   "nbconvert_exporter": "python",
   "pygments_lexer": "ipython3",
   "version": "3.7.13"
  }
 },
 "nbformat": 4,
 "nbformat_minor": 5
}
