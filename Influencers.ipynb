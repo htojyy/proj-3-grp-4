{
 "cells": [
  {
   "cell_type": "code",
   "execution_count": null,
   "metadata": {},
   "outputs": [],
   "source": [
    " Import the data first:\n",
    "\n",
    "mongoimport --host localhost --port 27017 --db influencers --collection Instagram --type csv --headerline \n",
    "mongoimport --host localhost --port 27017 --db influencers --collection Threads --type csv --headerline\n",
    "mongoimport --host localhost --port 27017 --db influencers --collection You_Tube --type csv --headerline\n",
    "mongoimport --host localhost --port 27017 --db influencers --collection Tik_Tok --type csv --headerline\n"
   ]
  },
  {
   "cell_type": "code",
   "execution_count": 10,
   "metadata": {},
   "outputs": [],
   "source": [
    "from pymongo import MongoClient\n",
    "import pandas as pd\n"
   ]
  },
  {
   "cell_type": "code",
   "execution_count": 11,
   "metadata": {},
   "outputs": [],
   "source": [
    "client = MongoClient(port=27017)  \n",
    "db = client['influencers']"
   ]
  },
  {
   "cell_type": "code",
   "execution_count": 3,
   "metadata": {},
   "outputs": [],
   "source": [
    "collections = ['instagram_influencers', 'threads_influencers', 'youtube_influencers', 'tiktok_influencers']"
   ]
  },
  {
   "cell_type": "code",
   "execution_count": 4,
   "metadata": {},
   "outputs": [],
   "source": [
    "for collection_name in collections:\n",
    "    \n",
    "    collection = db[collection_name]\n",
    "    \n",
    "    \n",
    "    cursor = collection.find()\n",
    "    df = pd.DataFrame(list(cursor))"
   ]
  }
 ],
 "metadata": {
  "kernelspec": {
   "display_name": "base",
   "language": "python",
   "name": "python3"
  },
  "language_info": {
   "codemirror_mode": {
    "name": "ipython",
    "version": 3
   },
   "file_extension": ".py",
   "mimetype": "text/x-python",
   "name": "python",
   "nbconvert_exporter": "python",
   "pygments_lexer": "ipython3",
   "version": "3.11.5"
  }
 },
 "nbformat": 4,
 "nbformat_minor": 2
}
